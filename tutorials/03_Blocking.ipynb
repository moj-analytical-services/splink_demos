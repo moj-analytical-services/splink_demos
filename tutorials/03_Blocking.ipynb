{
 "cells": [
  {
   "cell_type": "markdown",
   "metadata": {},
   "source": [
    "# Choosing blocking rules to optimise runtime\n",
    "\n",
    "\n",
    "To link records, we need to compare pairs of records, and decide which pairs are matches and non matches.\n",
    "\n",
    "For most large datasets, it is computationally intractable to compare every row with every other row, since the number of comparisons rises quadratically with the number of records.  \n",
    "\n",
    "Instead we rely on blocking rules, which specify which pairwise comparisons to generate.  For example, we could generate the subset of pairwise comparisons where either first name or surname matches.\n",
    "\n",
    "This is part of a two step process to link data:\n",
    "\n",
    "1.  Use blocking rules to generate candidate pairwise record comparisons\n",
    "\n",
    "2.  Use a probabilistic linkage model to score these candidate pairs, to determine which ones should be linked\n",
    "\n",
    "**Blocking rules are the most important determinant of the performance of your linkage job**.  \n",
    "\n",
    "When deciding on your blocking rules, you're trading off accuracy for performance:\n",
    "\n",
    "- If your rules are too loose, your linkage job may fail.  \n",
    "- If they're too tight, you may miss some valid links. \n",
    "\n",
    "This tutorial clarifies what blocking rules are, and how to choose good rules.\n",
    "\n",
    "\n",
    "## Blocking rules in Splink\n",
    "\n",
    "In Splink, blocking rules are specified as SQL expressions. \n",
    "\n",
    "For example, to generate the subset of record comparisons where the first name matches, we can specify the following blocking rule:\n",
    "\n",
    "`l.first_name = r.first_name`\n",
    "\n",
    "Since blocking rules are SQL expressions, they can be arbitrarily complex.  For example, you could create record comparisons where the initial of the first name and the surname match with the following rule:\n",
    "\n",
    "`substr(l.first_name, 1,1) = substr(r.first_name, 1,1) and l.surname = r.surname`\n",
    "\n"
   ]
  },
  {
   "cell_type": "markdown",
   "metadata": {},
   "source": [
    "## Devising effective blocking rules \n",
    "\n",
    "\n",
    "The aims of your blocking rules are twofold:\n",
    "1. Eliminate enough non-matching comparison pairs so your record linkage job is small enough to compute\n",
    "2. Eliminate as few truly matching pairs as possible (ideally none)\n",
    "\n",
    "It is usually impossible to find a single blocking rule which achieves both aims, so we recommend using multiple blocking rules.  \n",
    "\n",
    "When we specify multiple blocking rules, Splink will generate all comparison pairs that meet any one of the rules.\n",
    "\n",
    "For example, consider the following blocking rule:\n",
    "\n",
    "`l.first_name = r.first_name and l.dob = r.dob`\n",
    "\n",
    "This rule is likely to be effective in reducing the number of comparison pairs.  It will retain all truly matching pairs, except those with errors or nulls in either the `first_name` or `dob` fields.\n",
    "\n",
    "Now consider a second blocking rule:\n",
    "\n",
    "`l.email and r.email`.\n",
    "\n",
    "This will retain all truly matching pairs, except those with errors or nulls in the `email` column.\n",
    "\n",
    "\n",
    "Individually, these blocking rules are problematic because they exclude true matches where the records contain typos of certain types.  But between them, they might do quite a good job.  \n",
    "\n",
    "For a true match to be eliminated by the use of these two blocking rules, it would have to have an error in _both_  email AND (first name or date of birth).  \n",
    "\n",
    "This is not completely implausible, but it is significantly less likely than if we'd just used a single rule.\n",
    "\n",
    "More generally, we can often specify multiple blocking rules such that it becomes highly implausible that a true match would not meet at least one of these blocking critera.  This is the recommended approach in Splink.  Generally we would recommend between about 3 and 10, though even more is possible.\n",
    "\n",
    "The question then becomes how to choose what to put in this list.\n"
   ]
  },
  {
   "cell_type": "markdown",
   "metadata": {},
   "source": [
    "## Splink tools to help choose your blocking rules\n",
    "\n",
    "Splink contains a number of tools to help you choose effective blocking rules.  Let's try them out, using our small test dataset:"
   ]
  },
  {
   "cell_type": "code",
   "execution_count": 1,
   "metadata": {},
   "outputs": [],
   "source": [
    "import pandas as pd \n",
    "import altair as alt\n",
    "alt.renderers.enable('mimetype')\n",
    "\n",
    "df = pd.read_csv(\"../data/fake_1000.csv\")"
   ]
  },
  {
   "cell_type": "markdown",
   "metadata": {},
   "source": [
    "### Counting the number of comparisons created by a single blocking rule\n",
    "\n",
    "On large datasets, some blocking rules imply the creation of trillions of record comparisons, which would cause a linkage job to fail.\n",
    "\n",
    "Before using a blocking rule in a linkage job, it's therefore a good idea to count the number of records it generates to ensure it is not too loose:\n",
    "\n"
   ]
  },
  {
   "cell_type": "code",
   "execution_count": 2,
   "metadata": {},
   "outputs": [
    {
     "name": "stdout",
     "output_type": "stream",
     "text": [
      "Number of comparisons generated by 'substr(l.first_name,1,1) = substr(r.first_name,1,1) and l.surname = r.surname': 473\n",
      "Number of comparisons generated by 'l.surname = r.surname': 1,638\n",
      "Number of comparisons generated by 'l.email = r.email': 682\n",
      "Number of comparisons generated by 'l.city = r.city and l.first_name = r.first_name': 315\n"
     ]
    }
   ],
   "source": [
    "from splink.duckdb.linker import DuckDBLinker\n",
    "settings = {\"link_type\": \"dedupe_only\"}\n",
    "linker = DuckDBLinker(df, settings)\n",
    "\n",
    "blocking_rule_1 = \"substr(l.first_name,1,1) = substr(r.first_name,1,1) and l.surname = r.surname\"\n",
    "count = linker.count_num_comparisons_from_blocking_rule(blocking_rule_1)\n",
    "print(f\"Number of comparisons generated by '{blocking_rule_1}': {count:,.0f}\")\n",
    "\n",
    "blocking_rule_2 = \"l.surname = r.surname\"\n",
    "count = linker.count_num_comparisons_from_blocking_rule(blocking_rule_2)\n",
    "print(f\"Number of comparisons generated by '{blocking_rule_2}': {count:,.0f}\")\n",
    "\n",
    "blocking_rule_3 = \"l.email = r.email\"\n",
    "count = linker.count_num_comparisons_from_blocking_rule(blocking_rule_3)\n",
    "print(f\"Number of comparisons generated by '{blocking_rule_3}': {count:,.0f}\")\n",
    "\n",
    "blocking_rule_3 = \"l.city = r.city and l.first_name = r.first_name\"\n",
    "count = linker.count_num_comparisons_from_blocking_rule(blocking_rule_3)\n",
    "print(f\"Number of comparisons generated by '{blocking_rule_3}': {count:,.0f}\")\n"
   ]
  },
  {
   "cell_type": "markdown",
   "metadata": {},
   "source": [
    "The maximum number of comparisons that you can compute will be affected by your choice of SQL backend, and how powerful your computer is.\n",
    "\n",
    "For linkages in DuckDB on a standard laptop, we suggest using blocking rules that create no more than about 20 million comparisons.  For Spark and Athena, try starting with fewer than a a billion comparisons, before scaling up."
   ]
  },
  {
   "cell_type": "markdown",
   "metadata": {},
   "source": [
    "### Counting the number of comparisons created by a list of blocking rules\n",
    "\n",
    "As noted above, it's usually a good idea to use multiple blocking rules.  It's therefore useful to know how many record comparisons will be generated when these rules are applied.\n",
    "\n",
    "Since the same record comparison may be created by several blocking rules, and Splink automatically deduplicates these comparisons, we cannot simply total the number of comparisons generated by each rule individually.  \n",
    "\n",
    "Splink provides a chart that shows the marginal (additional) comparisons generated by each blocking rule, after deduplication:\n"
   ]
  },
  {
   "cell_type": "code",
   "execution_count": 3,
   "metadata": {},
   "outputs": [
    {
     "data": {
      "application/vnd.vegalite.v5+json": {
       "$schema": "https://vega.github.io/schema/vega-lite/v5.9.3.json",
       "config": {
        "view": {
         "continuousHeight": 300,
         "continuousWidth": 300
        }
       },
       "data": {
        "name": "data-ab518a358db74696ff20ab70fa6b73fc"
       },
       "datasets": {
        "data-ab518a358db74696ff20ab70fa6b73fc": [
         {
          "cartesian": 499500,
          "cumulative_rows": 473,
          "reduction_ratio": "The rolling reduction ratio with your given blocking rule(s) is 0.999053. This represents the reduction in the total number of comparisons due to your rule(s).",
          "row_count": 473,
          "rule": "substr(l.first_name,1,1) = substr(r.first_name,1,1) and l.surname = r.surname",
          "start": 0
         },
         {
          "cartesian": 499500,
          "cumulative_rows": 1638,
          "reduction_ratio": "The rolling reduction ratio with your given blocking rule(s) is 0.996721. This represents the reduction in the total number of comparisons due to your rule(s).",
          "row_count": 1165,
          "rule": "l.surname = r.surname",
          "start": 473
         },
         {
          "cartesian": 499500,
          "cumulative_rows": 1841,
          "reduction_ratio": "The rolling reduction ratio with your given blocking rule(s) is 0.996314. This represents the reduction in the total number of comparisons due to your rule(s).",
          "row_count": 203,
          "rule": "l.city = r.city and l.first_name = r.first_name",
          "start": 1638
         }
        ]
       },
       "encoding": {
        "color": {
         "field": "rule",
         "legend": null,
         "scale": {
          "scheme": "category20c"
         }
        },
        "order": {
         "field": "cumulative_rows"
        },
        "tooltip": [
         {
          "field": "rule",
          "title": "SQL Condition",
          "type": "nominal"
         },
         {
          "field": "row_count",
          "format": ",",
          "title": "Comparisons Generated",
          "type": "quantitative"
         },
         {
          "field": "cumulative_rows",
          "format": ",",
          "title": "Cumulative Comparisons",
          "type": "quantitative"
         },
         {
          "field": "cartesian",
          "format": ",",
          "title": "Cartesian Product of Input Data",
          "type": "quantitative"
         },
         {
          "field": "reduction_ratio",
          "title": "Reduction Ratio (cumulative rows/cartesian product)",
          "type": "nominal"
         }
        ],
        "x": {
         "field": "start",
         "title": "Comparisons Generated by Rule(s)",
         "type": "quantitative"
        },
        "x2": {
         "field": "cumulative_rows"
        },
        "y": {
         "field": "rule",
         "sort": [
          "-x2"
         ],
         "title": "SQL Blocking Rule"
        }
       },
       "height": {
        "step": 20
       },
       "mark": "bar",
       "title": {
        "subtitle": "(Counts exclude comparisons already generated by previous rules)",
        "text": "Count of Additional Comparisons Generated by Each Blocking Rule"
       },
       "width": 450
      },
      "text/plain": [
       "<VegaLite 5 object>\n",
       "\n",
       "If you see this message, it means the renderer has not been properly enabled\n",
       "for the frontend that you are using. For more information, see\n",
       "https://altair-viz.github.io/user_guide/display_frontends.html#troubleshooting\n"
      ]
     },
     "execution_count": 3,
     "metadata": {},
     "output_type": "execute_result"
    }
   ],
   "source": [
    "blocking_rules = [blocking_rule_1, blocking_rule_2, blocking_rule_3]\n",
    "linker.cumulative_num_comparisons_from_blocking_rules_chart(blocking_rules)"
   ]
  },
  {
   "cell_type": "markdown",
   "metadata": {},
   "source": [
    "### Understanding why certain blocking rules create large numbers of comparisons\n",
    "\n",
    "Finally, we can use the `profile_columns` function we saw in the previous tutorial to understand a specific blocking rule in more depth.\n",
    "\n",
    "Suppose we're interested in blocking on city and first initial.  \n",
    "\n",
    "Within each distinct value of `(city, first initial)`, all possible pairwise comparisons will be generated.\n",
    "\n",
    "So for instance, if there are 15 distinct records with `London,J` then these records will result in `n(n-1)/2 = 105` pairwise comparisons being generated.\n",
    "\n",
    "In a larger dataset, we might observe 10,000 `London,J` records, which would then be responsible for `49,995,000` comparisons.  \n",
    "\n",
    "These high-frequency values therefore have a disproportionate influence on the overall number of pairwise comparisons, and so it can be useful to analyse skew, as follows:"
   ]
  },
  {
   "cell_type": "code",
   "execution_count": 4,
   "metadata": {},
   "outputs": [
    {
     "data": {
      "application/vnd.vegalite.v5+json": {
       "$schema": "https://vega.github.io/schema/vega-lite/v5.9.3.json",
       "config": {
        "view": {
         "continuousHeight": 300,
         "continuousWidth": 400
        }
       },
       "vconcat": [
        {
         "hconcat": [
          {
           "data": {
            "values": [
             {
              "distinct_value_count": 352,
              "group_name": "city_left_first_name_1_",
              "percentile_ex_nulls": 0.9777448177337646,
              "percentile_inc_nulls": 0.9850000143051147,
              "sum_tokens_in_value_count_group": 15,
              "total_non_null_rows": 674,
              "total_rows_inc_nulls": 1000,
              "value_count": 15
             },
             {
              "distinct_value_count": 352,
              "group_name": "city_left_first_name_1_",
              "percentile_ex_nulls": 0.924332320690155,
              "percentile_inc_nulls": 0.9490000009536743,
              "sum_tokens_in_value_count_group": 36,
              "total_non_null_rows": 674,
              "total_rows_inc_nulls": 1000,
              "value_count": 12
             },
             {
              "distinct_value_count": 352,
              "group_name": "city_left_first_name_1_",
              "percentile_ex_nulls": 0.9094955325126648,
              "percentile_inc_nulls": 0.9390000104904175,
              "sum_tokens_in_value_count_group": 10,
              "total_non_null_rows": 674,
              "total_rows_inc_nulls": 1000,
              "value_count": 10
             },
             {
              "distinct_value_count": 352,
              "group_name": "city_left_first_name_1_",
              "percentile_ex_nulls": 0.8694362044334412,
              "percentile_inc_nulls": 0.9120000004768372,
              "sum_tokens_in_value_count_group": 27,
              "total_non_null_rows": 674,
              "total_rows_inc_nulls": 1000,
              "value_count": 9
             },
             {
              "distinct_value_count": 352,
              "group_name": "city_left_first_name_1_",
              "percentile_ex_nulls": 0.8456973433494568,
              "percentile_inc_nulls": 0.8960000276565552,
              "sum_tokens_in_value_count_group": 16,
              "total_non_null_rows": 674,
              "total_rows_inc_nulls": 1000,
              "value_count": 8
             },
             {
              "distinct_value_count": 352,
              "group_name": "city_left_first_name_1_",
              "percentile_ex_nulls": 0.7937685251235962,
              "percentile_inc_nulls": 0.8610000014305115,
              "sum_tokens_in_value_count_group": 35,
              "total_non_null_rows": 674,
              "total_rows_inc_nulls": 1000,
              "value_count": 7
             },
             {
              "distinct_value_count": 352,
              "group_name": "city_left_first_name_1_",
              "percentile_ex_nulls": 0.7670623064041138,
              "percentile_inc_nulls": 0.8429999947547913,
              "sum_tokens_in_value_count_group": 18,
              "total_non_null_rows": 674,
              "total_rows_inc_nulls": 1000,
              "value_count": 6
             },
             {
              "distinct_value_count": 352,
              "group_name": "city_left_first_name_1_",
              "percentile_ex_nulls": 0.7225519418716431,
              "percentile_inc_nulls": 0.812999963760376,
              "sum_tokens_in_value_count_group": 30,
              "total_non_null_rows": 674,
              "total_rows_inc_nulls": 1000,
              "value_count": 5
             },
             {
              "distinct_value_count": 352,
              "group_name": "city_left_first_name_1_",
              "percentile_ex_nulls": 0.5979228615760803,
              "percentile_inc_nulls": 0.7289999723434448,
              "sum_tokens_in_value_count_group": 84,
              "total_non_null_rows": 674,
              "total_rows_inc_nulls": 1000,
              "value_count": 4
             },
             {
              "distinct_value_count": 352,
              "group_name": "city_left_first_name_1_",
              "percentile_ex_nulls": 0.46439170837402344,
              "percentile_inc_nulls": 0.6389999985694885,
              "sum_tokens_in_value_count_group": 90,
              "total_non_null_rows": 674,
              "total_rows_inc_nulls": 1000,
              "value_count": 3
             },
             {
              "distinct_value_count": 352,
              "group_name": "city_left_first_name_1_",
              "percentile_ex_nulls": 0.357566773891449,
              "percentile_inc_nulls": 0.5670000314712524,
              "sum_tokens_in_value_count_group": 72,
              "total_non_null_rows": 674,
              "total_rows_inc_nulls": 1000,
              "value_count": 2
             },
             {
              "distinct_value_count": 352,
              "group_name": "city_left_first_name_1_",
              "percentile_ex_nulls": 0,
              "percentile_inc_nulls": 0.3259999752044678,
              "sum_tokens_in_value_count_group": 241,
              "total_non_null_rows": 674,
              "total_rows_inc_nulls": 1000,
              "value_count": 1
             },
             {
              "distinct_value_count": 352,
              "group_name": "city_left_first_name_1_",
              "percentile_ex_nulls": 1,
              "percentile_inc_nulls": 1,
              "sum_tokens_in_value_count_group": 15,
              "total_non_null_rows": 674,
              "total_rows_inc_nulls": 1000,
              "value_count": 15
             }
            ]
           },
           "encoding": {
            "tooltip": [
             {
              "field": "value_count",
              "type": "quantitative"
             },
             {
              "field": "percentile_ex_nulls",
              "type": "quantitative"
             },
             {
              "field": "percentile_inc_nulls",
              "type": "quantitative"
             },
             {
              "field": "total_non_null_rows",
              "type": "quantitative"
             },
             {
              "field": "total_rows_inc_nulls",
              "type": "quantitative"
             }
            ],
            "x": {
             "field": "percentile_ex_nulls",
             "sort": "descending",
             "title": "Percentile",
             "type": "quantitative"
            },
            "y": {
             "field": "value_count",
             "title": "Count of values",
             "type": "quantitative"
            }
           },
           "mark": {
            "interpolate": "step-after",
            "type": "line"
           },
           "title": {
            "subtitle": "In this col, 326 values (32.6%) are null and there are 352 distinct values",
            "text": "Distribution of counts of values in column city || left(first_name,1) "
           }
          },
          {
           "data": {
            "values": [
             {
              "distinct_value_count": 352,
              "group_name": "city_left_first_name_1_",
              "total_non_null_rows": 674,
              "total_rows_inc_nulls": 1000,
              "value": "LondonJ",
              "value_count": 15
             },
             {
              "distinct_value_count": 352,
              "group_name": "city_left_first_name_1_",
              "total_non_null_rows": 674,
              "total_rows_inc_nulls": 1000,
              "value": "LondonH",
              "value_count": 12
             },
             {
              "distinct_value_count": 352,
              "group_name": "city_left_first_name_1_",
              "total_non_null_rows": 674,
              "total_rows_inc_nulls": 1000,
              "value": "LondonE",
              "value_count": 12
             },
             {
              "distinct_value_count": 352,
              "group_name": "city_left_first_name_1_",
              "total_non_null_rows": 674,
              "total_rows_inc_nulls": 1000,
              "value": "LondonF",
              "value_count": 12
             },
             {
              "distinct_value_count": 352,
              "group_name": "city_left_first_name_1_",
              "total_non_null_rows": 674,
              "total_rows_inc_nulls": 1000,
              "value": "LondonO",
              "value_count": 10
             },
             {
              "distinct_value_count": 352,
              "group_name": "city_left_first_name_1_",
              "total_non_null_rows": 674,
              "total_rows_inc_nulls": 1000,
              "value": "LondonL",
              "value_count": 9
             },
             {
              "distinct_value_count": 352,
              "group_name": "city_left_first_name_1_",
              "total_non_null_rows": 674,
              "total_rows_inc_nulls": 1000,
              "value": "LondonT",
              "value_count": 9
             },
             {
              "distinct_value_count": 352,
              "group_name": "city_left_first_name_1_",
              "total_non_null_rows": 674,
              "total_rows_inc_nulls": 1000,
              "value": "BirminghamT",
              "value_count": 9
             },
             {
              "distinct_value_count": 352,
              "group_name": "city_left_first_name_1_",
              "total_non_null_rows": 674,
              "total_rows_inc_nulls": 1000,
              "value": "CoventryL",
              "value_count": 8
             },
             {
              "distinct_value_count": 352,
              "group_name": "city_left_first_name_1_",
              "total_non_null_rows": 674,
              "total_rows_inc_nulls": 1000,
              "value": "SalfordL",
              "value_count": 8
             }
            ]
           },
           "encoding": {
            "tooltip": [
             {
              "field": "value",
              "type": "nominal"
             },
             {
              "field": "value_count",
              "type": "quantitative"
             },
             {
              "field": "total_non_null_rows",
              "type": "quantitative"
             },
             {
              "field": "total_rows_inc_nulls",
              "type": "quantitative"
             }
            ],
            "x": {
             "field": "value",
             "sort": "-y",
             "title": null,
             "type": "nominal"
            },
            "y": {
             "field": "value_count",
             "title": "Value count",
             "type": "quantitative"
            }
           },
           "mark": "bar",
           "title": "Top 10 values by value count"
          },
          {
           "data": {
            "values": [
             {
              "distinct_value_count": 352,
              "group_name": "city_left_first_name_1_",
              "total_non_null_rows": 674,
              "total_rows_inc_nulls": 1000,
              "value": "LononR",
              "value_count": 1
             },
             {
              "distinct_value_count": 352,
              "group_name": "city_left_first_name_1_",
              "total_non_null_rows": 674,
              "total_rows_inc_nulls": 1000,
              "value": "HullG",
              "value_count": 1
             },
             {
              "distinct_value_count": 352,
              "group_name": "city_left_first_name_1_",
              "total_non_null_rows": 674,
              "total_rows_inc_nulls": 1000,
              "value": "PootsmruthE",
              "value_count": 1
             },
             {
              "distinct_value_count": 352,
              "group_name": "city_left_first_name_1_",
              "total_non_null_rows": 674,
              "total_rows_inc_nulls": 1000,
              "value": "LuntonO",
              "value_count": 1
             },
             {
              "distinct_value_count": 352,
              "group_name": "city_left_first_name_1_",
              "total_non_null_rows": 674,
              "total_rows_inc_nulls": 1000,
              "value": "LvpreoolR",
              "value_count": 1
             },
             {
              "distinct_value_count": 352,
              "group_name": "city_left_first_name_1_",
              "total_non_null_rows": 674,
              "total_rows_inc_nulls": 1000,
              "value": "SouthamptonD",
              "value_count": 1
             },
             {
              "distinct_value_count": 352,
              "group_name": "city_left_first_name_1_",
              "total_non_null_rows": 674,
              "total_rows_inc_nulls": 1000,
              "value": "LoodonT",
              "value_count": 1
             },
             {
              "distinct_value_count": 352,
              "group_name": "city_left_first_name_1_",
              "total_non_null_rows": 674,
              "total_rows_inc_nulls": 1000,
              "value": "BradfordL",
              "value_count": 1
             },
             {
              "distinct_value_count": 352,
              "group_name": "city_left_first_name_1_",
              "total_non_null_rows": 674,
              "total_rows_inc_nulls": 1000,
              "value": "BradfofrdL",
              "value_count": 1
             },
             {
              "distinct_value_count": 352,
              "group_name": "city_left_first_name_1_",
              "total_non_null_rows": 674,
              "total_rows_inc_nulls": 1000,
              "value": "BiminghamT",
              "value_count": 1
             }
            ]
           },
           "encoding": {
            "tooltip": [
             {
              "field": "value",
              "type": "nominal"
             },
             {
              "field": "value_count",
              "type": "quantitative"
             },
             {
              "field": "total_non_null_rows",
              "type": "quantitative"
             },
             {
              "field": "total_rows_inc_nulls",
              "type": "quantitative"
             }
            ],
            "x": {
             "field": "value",
             "sort": "-y",
             "title": null,
             "type": "nominal"
            },
            "y": {
             "field": "value_count",
             "scale": {
              "domain": [
               0,
               15
              ]
             },
             "title": "Value count",
             "type": "quantitative"
            }
           },
           "mark": "bar",
           "title": "Bottom 10 values by value count"
          }
         ]
        }
       ]
      },
      "text/plain": [
       "<VegaLite 5 object>\n",
       "\n",
       "If you see this message, it means the renderer has not been properly enabled\n",
       "for the frontend that you are using. For more information, see\n",
       "https://altair-viz.github.io/user_guide/display_frontends.html#troubleshooting\n"
      ]
     },
     "execution_count": 4,
     "metadata": {},
     "output_type": "execute_result"
    }
   ],
   "source": [
    "linker.profile_columns(\"city || left(first_name,1) \")"
   ]
  }
 ],
 "metadata": {
  "kernelspec": {
   "display_name": "base",
   "language": "python",
   "name": "python3"
  },
  "language_info": {
   "codemirror_mode": {
    "name": "ipython",
    "version": 3
   },
   "file_extension": ".py",
   "mimetype": "text/x-python",
   "name": "python",
   "nbconvert_exporter": "python",
   "pygments_lexer": "ipython3",
   "version": "3.9.12"
  }
 },
 "nbformat": 4,
 "nbformat_minor": 4
}

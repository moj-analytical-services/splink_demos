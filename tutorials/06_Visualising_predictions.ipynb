{
 "cells": [
  {
   "cell_type": "markdown",
   "id": "f110e018",
   "metadata": {},
   "source": [
    "# Visualising predictions\n",
    "\n",
    "Splink contains a variety of tools to help you visualise your predictions.\n",
    "\n",
    "The idea is that, by developing an understanding of how your model works, you can gain confidence that the predictions it makes are sensible, or alternatively find examples of where your model isn't working, which may help you improve the model specification and fix these problems.\n",
    "\n"
   ]
  },
  {
   "cell_type": "code",
   "execution_count": 2,
   "id": "fb29d421",
   "metadata": {},
   "outputs": [
    {
     "name": "stderr",
     "output_type": "stream",
     "text": [
      "\n",
      " -- WARNING --\n",
      "You have called predict(), but there are some parameter estimates which have neither been estimated or specified in your settings dictionary.  To produce predictions the following untrained trained parameters will use default values.\n",
      "Comparison: 'email':\n",
      "    m values not fully trained\n"
     ]
    }
   ],
   "source": [
    "# Rerun our predictions to we're ready to view the charts\n",
    "from splink.duckdb.linker import DuckDBLinker\n",
    "import pandas as pd \n",
    "import altair as alt\n",
    "alt.renderers.enable('mimetype')\n",
    "\n",
    "df = pd.read_csv(\"../data/fake_1000.csv\")\n",
    "linker = DuckDBLinker(df)\n",
    "linker.load_model(\"../demo_settings/saved_model_from_demo.json\")\n",
    "df_predictions = linker.predict(threshold_match_probability=0.2)"
   ]
  },
  {
   "cell_type": "markdown",
   "id": "7b0dedd9",
   "metadata": {},
   "source": [
    "## Waterfall chart\n",
    "\n",
    "The waterfall chart provides a means of visualising individual predictions to understand how Splink computed the final matchweight for a particular pairwise record comparison.\n",
    "\n",
    "To plot a waterfall chart, the user chooses one or more records from the results of `linker.predict()`, and provides these records to the [`linker.waterfall_chart()`](https://moj-analytical-services.github.io/splink/linkerqa.html#splink.linker.Linker.waterfall_chart) function.\n",
    "\n",
    "For an introduction to waterfall charts and how to interpret them, please see [this](https://www.youtube.com/watch?v=msz3T741KQI&t=507s) video."
   ]
  },
  {
   "cell_type": "code",
   "execution_count": 3,
   "id": "bbfdc70c",
   "metadata": {},
   "outputs": [
    {
     "data": {
      "application/vnd.vegalite.v5+json": {
       "$schema": "https://vega.github.io/schema/vega-lite/v5.9.3.json",
       "config": {
        "view": {
         "continuousHeight": 300,
         "continuousWidth": 400
        }
       },
       "data": {
        "name": "data-0d025096938f8e04c0c357c15a9d939e"
       },
       "datasets": {
        "data-0d025096938f8e04c0c357c15a9d939e": [
         {
          "bar_sort_order": 0,
          "bayes_factor": 0.0033430420247643373,
          "bayes_factor_description": null,
          "column_name": "Prior",
          "comparison_vector_value": null,
          "label_for_charts": "Starting match weight (prior)",
          "log2_bayes_factor": -8.224622793739668,
          "m_probability": null,
          "record_number": 0,
          "sql_condition": null,
          "term_frequency_adjustment": null,
          "u_probability": null,
          "value_l": "",
          "value_r": ""
         },
         {
          "bar_sort_order": 1,
          "bayes_factor": 84.39154389812991,
          "bayes_factor_description": "If comparison level is `exact match first_name` then comparison is 84.39 times more likely to be a match",
          "column_name": "first_name",
          "comparison_vector_value": 4,
          "label_for_charts": "Exact match first_name",
          "log2_bayes_factor": 6.399026541836214,
          "m_probability": 0.48892843491935556,
          "record_number": 0,
          "sql_condition": "\"first_name_l\" = \"first_name_r\"",
          "term_frequency_adjustment": false,
          "u_probability": 0.0057935713975033705,
          "value_l": "Grace",
          "value_r": "Grace"
         },
         {
          "bar_sort_order": 2,
          "bayes_factor": 1,
          "bayes_factor_description": "If comparison level is `null` then comparison is 1.00 times more likely to be a match",
          "column_name": "surname",
          "comparison_vector_value": -1,
          "label_for_charts": "Null",
          "log2_bayes_factor": 0,
          "m_probability": null,
          "record_number": 0,
          "sql_condition": "\"surname_l\" IS NULL OR \"surname_r\" IS NULL",
          "term_frequency_adjustment": false,
          "u_probability": null,
          "value_l": "nan",
          "value_r": "Kelly"
         },
         {
          "bar_sort_order": 3,
          "bayes_factor": 90.5974145786953,
          "bayes_factor_description": "If comparison level is `damerau_levenshtein <= 1` then comparison is 90.60 times more likely to be a match",
          "column_name": "dob",
          "comparison_vector_value": 4,
          "label_for_charts": "Damerau_levenshtein <= 1",
          "log2_bayes_factor": 6.501397974875027,
          "m_probability": 0.1489098646028205,
          "record_number": 0,
          "sql_condition": "damerau_levenshtein(\"dob_l\", \"dob_r\") <= 1",
          "term_frequency_adjustment": false,
          "u_probability": 0.0016436436436436436,
          "value_l": "1997-04-26",
          "value_r": "1991-04-26"
         },
         {
          "bar_sort_order": 4,
          "bayes_factor": 1,
          "bayes_factor_description": "If comparison level is `null` then comparison is 1.00 times more likely to be a match",
          "column_name": "city",
          "comparison_vector_value": -1,
          "label_for_charts": "Null",
          "log2_bayes_factor": 0,
          "m_probability": null,
          "record_number": 0,
          "sql_condition": "\"city_l\" IS NULL OR \"city_r\" IS NULL",
          "term_frequency_adjustment": false,
          "u_probability": null,
          "value_l": "Hull",
          "value_r": "nan"
         },
         {
          "bar_sort_order": 5,
          "bayes_factor": 1,
          "bayes_factor_description": "If comparison level is `null` then comparison is 1.00 times more likely to be a match",
          "column_name": "tf_city",
          "comparison_vector_value": -1,
          "label_for_charts": "Null",
          "log2_bayes_factor": 0,
          "m_probability": null,
          "record_number": 0,
          "sql_condition": "\"city_l\" IS NULL OR \"city_r\" IS NULL",
          "term_frequency_adjustment": true,
          "u_probability": null,
          "value_l": "",
          "value_r": ""
         },
         {
          "bar_sort_order": 6,
          "bayes_factor": 252.360882631193,
          "bayes_factor_description": "If comparison level is `exact match email` then comparison is 252.36 times more likely to be a match",
          "column_name": "email",
          "comparison_vector_value": 4,
          "label_for_charts": "Exact match email",
          "log2_bayes_factor": 7.979344491507257,
          "m_probability": 0.5536473012631604,
          "record_number": 0,
          "sql_condition": "\"email_l\" = \"email_r\"",
          "term_frequency_adjustment": false,
          "u_probability": 0.0021938713143283602,
          "value_l": "grace.kelly52@jones.com",
          "value_r": "grace.kelly52@jones.com"
         },
         {
          "bar_sort_order": 7,
          "bayes_factor": 6450.280634962744,
          "bayes_factor_description": null,
          "column_name": "Final score",
          "comparison_vector_value": null,
          "label_for_charts": "Final score",
          "log2_bayes_factor": 12.65514621447883,
          "m_probability": null,
          "record_number": 0,
          "sql_condition": null,
          "term_frequency_adjustment": null,
          "u_probability": null,
          "value_l": "",
          "value_r": ""
         },
         {
          "bar_sort_order": 0,
          "bayes_factor": 0.0033430420247643373,
          "bayes_factor_description": null,
          "column_name": "Prior",
          "comparison_vector_value": null,
          "label_for_charts": "Starting match weight (prior)",
          "log2_bayes_factor": -8.224622793739668,
          "m_probability": null,
          "record_number": 1,
          "sql_condition": null,
          "term_frequency_adjustment": null,
          "u_probability": null,
          "value_l": "",
          "value_r": ""
         },
         {
          "bar_sort_order": 1,
          "bayes_factor": 84.39154389812991,
          "bayes_factor_description": "If comparison level is `exact match first_name` then comparison is 84.39 times more likely to be a match",
          "column_name": "first_name",
          "comparison_vector_value": 4,
          "label_for_charts": "Exact match first_name",
          "log2_bayes_factor": 6.399026541836214,
          "m_probability": 0.48892843491935556,
          "record_number": 1,
          "sql_condition": "\"first_name_l\" = \"first_name_r\"",
          "term_frequency_adjustment": false,
          "u_probability": 0.0057935713975033705,
          "value_l": "Thomas",
          "value_r": "Thomas"
         },
         {
          "bar_sort_order": 2,
          "bayes_factor": 88.44144042790552,
          "bayes_factor_description": "If comparison level is `exact match surname` then comparison is 88.44 times more likely to be a match",
          "column_name": "surname",
          "comparison_vector_value": 4,
          "label_for_charts": "Exact match surname",
          "log2_bayes_factor": 6.466650617116051,
          "m_probability": 0.43247648131005145,
          "record_number": 1,
          "sql_condition": "\"surname_l\" = \"surname_r\"",
          "term_frequency_adjustment": false,
          "u_probability": 0.004889975550122249,
          "value_l": "Gabriel",
          "value_r": "Gabriel"
         },
         {
          "bar_sort_order": 3,
          "bayes_factor": 90.5974145786953,
          "bayes_factor_description": "If comparison level is `damerau_levenshtein <= 1` then comparison is 90.60 times more likely to be a match",
          "column_name": "dob",
          "comparison_vector_value": 4,
          "label_for_charts": "Damerau_levenshtein <= 1",
          "log2_bayes_factor": 6.501397974875027,
          "m_probability": 0.1489098646028205,
          "record_number": 1,
          "sql_condition": "damerau_levenshtein(\"dob_l\", \"dob_r\") <= 1",
          "term_frequency_adjustment": false,
          "u_probability": 0.0016436436436436436,
          "value_l": "1976-09-15",
          "value_r": "1976-08-15"
         },
         {
          "bar_sort_order": 4,
          "bayes_factor": 1,
          "bayes_factor_description": "If comparison level is `null` then comparison is 1.00 times more likely to be a match",
          "column_name": "city",
          "comparison_vector_value": -1,
          "label_for_charts": "Null",
          "log2_bayes_factor": 0,
          "m_probability": null,
          "record_number": 1,
          "sql_condition": "\"city_l\" IS NULL OR \"city_r\" IS NULL",
          "term_frequency_adjustment": false,
          "u_probability": null,
          "value_l": "Loodon",
          "value_r": "nan"
         },
         {
          "bar_sort_order": 5,
          "bayes_factor": 1,
          "bayes_factor_description": "If comparison level is `null` then comparison is 1.00 times more likely to be a match",
          "column_name": "tf_city",
          "comparison_vector_value": -1,
          "label_for_charts": "Null",
          "log2_bayes_factor": 0,
          "m_probability": null,
          "record_number": 1,
          "sql_condition": "\"city_l\" IS NULL OR \"city_r\" IS NULL",
          "term_frequency_adjustment": true,
          "u_probability": null,
          "value_l": "",
          "value_r": ""
         },
         {
          "bar_sort_order": 6,
          "bayes_factor": 1,
          "bayes_factor_description": "If comparison level is `null` then comparison is 1.00 times more likely to be a match",
          "column_name": "email",
          "comparison_vector_value": -1,
          "label_for_charts": "Null",
          "log2_bayes_factor": 0,
          "m_probability": null,
          "record_number": 1,
          "sql_condition": "\"email_l\" IS NULL OR \"email_r\" IS NULL",
          "term_frequency_adjustment": false,
          "u_probability": null,
          "value_l": "gabriel.t54@nnichls.info",
          "value_r": "nan"
         },
         {
          "bar_sort_order": 7,
          "bayes_factor": 2260.540954574303,
          "bayes_factor_description": null,
          "column_name": "Final score",
          "comparison_vector_value": null,
          "label_for_charts": "Final score",
          "log2_bayes_factor": 11.142452340087624,
          "m_probability": null,
          "record_number": 1,
          "sql_condition": null,
          "term_frequency_adjustment": null,
          "u_probability": null,
          "value_l": "",
          "value_r": ""
         },
         {
          "bar_sort_order": 0,
          "bayes_factor": 0.0033430420247643373,
          "bayes_factor_description": null,
          "column_name": "Prior",
          "comparison_vector_value": null,
          "label_for_charts": "Starting match weight (prior)",
          "log2_bayes_factor": -8.224622793739668,
          "m_probability": null,
          "record_number": 2,
          "sql_condition": null,
          "term_frequency_adjustment": null,
          "u_probability": null,
          "value_l": "",
          "value_r": ""
         },
         {
          "bar_sort_order": 1,
          "bayes_factor": 84.39154389812991,
          "bayes_factor_description": "If comparison level is `exact match first_name` then comparison is 84.39 times more likely to be a match",
          "column_name": "first_name",
          "comparison_vector_value": 4,
          "label_for_charts": "Exact match first_name",
          "log2_bayes_factor": 6.399026541836214,
          "m_probability": 0.48892843491935556,
          "record_number": 2,
          "sql_condition": "\"first_name_l\" = \"first_name_r\"",
          "term_frequency_adjustment": false,
          "u_probability": 0.0057935713975033705,
          "value_l": "Thomas",
          "value_r": "Thomas"
         },
         {
          "bar_sort_order": 2,
          "bayes_factor": 88.44144042790552,
          "bayes_factor_description": "If comparison level is `exact match surname` then comparison is 88.44 times more likely to be a match",
          "column_name": "surname",
          "comparison_vector_value": 4,
          "label_for_charts": "Exact match surname",
          "log2_bayes_factor": 6.466650617116051,
          "m_probability": 0.43247648131005145,
          "record_number": 2,
          "sql_condition": "\"surname_l\" = \"surname_r\"",
          "term_frequency_adjustment": false,
          "u_probability": 0.004889975550122249,
          "value_l": "Gabriel",
          "value_r": "Gabriel"
         },
         {
          "bar_sort_order": 3,
          "bayes_factor": 90.5974145786953,
          "bayes_factor_description": "If comparison level is `damerau_levenshtein <= 1` then comparison is 90.60 times more likely to be a match",
          "column_name": "dob",
          "comparison_vector_value": 4,
          "label_for_charts": "Damerau_levenshtein <= 1",
          "log2_bayes_factor": 6.501397974875027,
          "m_probability": 0.1489098646028205,
          "record_number": 2,
          "sql_condition": "damerau_levenshtein(\"dob_l\", \"dob_r\") <= 1",
          "term_frequency_adjustment": false,
          "u_probability": 0.0016436436436436436,
          "value_l": "1976-09-15",
          "value_r": "1976-08-15"
         },
         {
          "bar_sort_order": 4,
          "bayes_factor": 1,
          "bayes_factor_description": "If comparison level is `null` then comparison is 1.00 times more likely to be a match",
          "column_name": "city",
          "comparison_vector_value": -1,
          "label_for_charts": "Null",
          "log2_bayes_factor": 0,
          "m_probability": null,
          "record_number": 2,
          "sql_condition": "\"city_l\" IS NULL OR \"city_r\" IS NULL",
          "term_frequency_adjustment": false,
          "u_probability": null,
          "value_l": "London",
          "value_r": "nan"
         },
         {
          "bar_sort_order": 5,
          "bayes_factor": 1,
          "bayes_factor_description": "If comparison level is `null` then comparison is 1.00 times more likely to be a match",
          "column_name": "tf_city",
          "comparison_vector_value": -1,
          "label_for_charts": "Null",
          "log2_bayes_factor": 0,
          "m_probability": null,
          "record_number": 2,
          "sql_condition": "\"city_l\" IS NULL OR \"city_r\" IS NULL",
          "term_frequency_adjustment": true,
          "u_probability": null,
          "value_l": "",
          "value_r": ""
         },
         {
          "bar_sort_order": 6,
          "bayes_factor": 1,
          "bayes_factor_description": "If comparison level is `null` then comparison is 1.00 times more likely to be a match",
          "column_name": "email",
          "comparison_vector_value": -1,
          "label_for_charts": "Null",
          "log2_bayes_factor": 0,
          "m_probability": null,
          "record_number": 2,
          "sql_condition": "\"email_l\" IS NULL OR \"email_r\" IS NULL",
          "term_frequency_adjustment": false,
          "u_probability": null,
          "value_l": "gabriel.t54@nichols.info",
          "value_r": "nan"
         },
         {
          "bar_sort_order": 7,
          "bayes_factor": 2260.540954574303,
          "bayes_factor_description": null,
          "column_name": "Final score",
          "comparison_vector_value": null,
          "label_for_charts": "Final score",
          "log2_bayes_factor": 11.142452340087624,
          "m_probability": null,
          "record_number": 2,
          "sql_condition": null,
          "term_frequency_adjustment": null,
          "u_probability": null,
          "value_l": "",
          "value_r": ""
         },
         {
          "bar_sort_order": 0,
          "bayes_factor": 0.0033430420247643373,
          "bayes_factor_description": null,
          "column_name": "Prior",
          "comparison_vector_value": null,
          "label_for_charts": "Starting match weight (prior)",
          "log2_bayes_factor": -8.224622793739668,
          "m_probability": null,
          "record_number": 3,
          "sql_condition": null,
          "term_frequency_adjustment": null,
          "u_probability": null,
          "value_l": "",
          "value_r": ""
         },
         {
          "bar_sort_order": 1,
          "bayes_factor": 84.39154389812991,
          "bayes_factor_description": "If comparison level is `exact match first_name` then comparison is 84.39 times more likely to be a match",
          "column_name": "first_name",
          "comparison_vector_value": 4,
          "label_for_charts": "Exact match first_name",
          "log2_bayes_factor": 6.399026541836214,
          "m_probability": 0.48892843491935556,
          "record_number": 3,
          "sql_condition": "\"first_name_l\" = \"first_name_r\"",
          "term_frequency_adjustment": false,
          "u_probability": 0.0057935713975033705,
          "value_l": "Theodore",
          "value_r": "Theodore"
         },
         {
          "bar_sort_order": 2,
          "bayes_factor": 0.2377718626553972,
          "bayes_factor_description": "If comparison level is `all other comparisons` then comparison is  4.21 times less likely to be a match",
          "column_name": "surname",
          "comparison_vector_value": 0,
          "label_for_charts": "All other comparisons",
          "log2_bayes_factor": -2.0723500947293694,
          "m_probability": 0.23483175424267297,
          "record_number": 3,
          "sql_condition": "ELSE",
          "term_frequency_adjustment": false,
          "u_probability": 0.9876347504709363,
          "value_l": "Morris",
          "value_r": "Marshall"
         },
         {
          "bar_sort_order": 3,
          "bayes_factor": 0.5880676877564707,
          "bayes_factor_description": "If comparison level is `within 10 years` then comparison is  1.70 times less likely to be a match",
          "column_name": "dob",
          "comparison_vector_value": 1,
          "label_for_charts": "Within 10 years",
          "log2_bayes_factor": -0.7659458732094665,
          "m_probability": 0.1785983348001133,
          "record_number": 3,
          "sql_condition": "\n            abs(date_diff('year',strptime(\"dob_l\",\n              '%Y-%m-%d'),strptime(\"dob_r\",\n              '%Y-%m-%d'))) <= 10\n        ",
          "term_frequency_adjustment": false,
          "u_probability": 0.3037037037037037,
          "value_l": "1978-08-19",
          "value_r": "1972-07-25"
         },
         {
          "bar_sort_order": 4,
          "bayes_factor": 10.167005600226613,
          "bayes_factor_description": "If comparison level is `exact match` then comparison is 10.17 times more likely to be a match",
          "column_name": "city",
          "comparison_vector_value": 1,
          "label_for_charts": "Exact match",
          "log2_bayes_factor": 3.3458229322137565,
          "m_probability": 0.560685665027433,
          "record_number": 3,
          "sql_condition": "\"city_l\" = \"city_r\"",
          "term_frequency_adjustment": false,
          "u_probability": 0.0551475711801453,
          "value_l": "Birmingham",
          "value_r": "Birmingham"
         },
         {
          "bar_sort_order": 5,
          "bayes_factor": 1.1208743842364532,
          "bayes_factor_description": "Term frequency adjustment on city makes comparison 1.12 times more likely to be a match",
          "column_name": "tf_city",
          "comparison_vector_value": 1,
          "label_for_charts": "Term freq adjustment on city with weight {cl.tf_adjustment_weight}",
          "log2_bayes_factor": 0.16462460517844008,
          "m_probability": null,
          "record_number": 3,
          "sql_condition": "\"city_l\" = \"city_r\"",
          "term_frequency_adjustment": true,
          "u_probability": null,
          "value_l": "Birmingham",
          "value_r": "Birmingham"
         },
         {
          "bar_sort_order": 6,
          "bayes_factor": 1,
          "bayes_factor_description": "If comparison level is `null` then comparison is 1.00 times more likely to be a match",
          "column_name": "email",
          "comparison_vector_value": -1,
          "label_for_charts": "Null",
          "log2_bayes_factor": 0,
          "m_probability": null,
          "record_number": 3,
          "sql_condition": "\"email_l\" IS NULL OR \"email_r\" IS NULL",
          "term_frequency_adjustment": false,
          "u_probability": null,
          "value_l": "t.m39@brooks-sawyer.com",
          "value_r": "nan"
         },
         {
          "bar_sort_order": 7,
          "bayes_factor": 0.4495505695708653,
          "bayes_factor_description": null,
          "column_name": "Final score",
          "comparison_vector_value": null,
          "label_for_charts": "Final score",
          "log2_bayes_factor": -1.1534446824500935,
          "m_probability": null,
          "record_number": 3,
          "sql_condition": null,
          "term_frequency_adjustment": null,
          "u_probability": null,
          "value_l": "",
          "value_r": ""
         },
         {
          "bar_sort_order": 0,
          "bayes_factor": 0.0033430420247643373,
          "bayes_factor_description": null,
          "column_name": "Prior",
          "comparison_vector_value": null,
          "label_for_charts": "Starting match weight (prior)",
          "log2_bayes_factor": -8.224622793739668,
          "m_probability": null,
          "record_number": 4,
          "sql_condition": null,
          "term_frequency_adjustment": null,
          "u_probability": null,
          "value_l": "",
          "value_r": ""
         },
         {
          "bar_sort_order": 1,
          "bayes_factor": 84.39154389812991,
          "bayes_factor_description": "If comparison level is `exact match first_name` then comparison is 84.39 times more likely to be a match",
          "column_name": "first_name",
          "comparison_vector_value": 4,
          "label_for_charts": "Exact match first_name",
          "log2_bayes_factor": 6.399026541836214,
          "m_probability": 0.48892843491935556,
          "record_number": 4,
          "sql_condition": "\"first_name_l\" = \"first_name_r\"",
          "term_frequency_adjustment": false,
          "u_probability": 0.0057935713975033705,
          "value_l": "Theodore",
          "value_r": "Theodore"
         },
         {
          "bar_sort_order": 2,
          "bayes_factor": 0.2377718626553972,
          "bayes_factor_description": "If comparison level is `all other comparisons` then comparison is  4.21 times less likely to be a match",
          "column_name": "surname",
          "comparison_vector_value": 0,
          "label_for_charts": "All other comparisons",
          "log2_bayes_factor": -2.0723500947293694,
          "m_probability": 0.23483175424267297,
          "record_number": 4,
          "sql_condition": "ELSE",
          "term_frequency_adjustment": false,
          "u_probability": 0.9876347504709363,
          "value_l": "Morris",
          "value_r": "Marshall"
         },
         {
          "bar_sort_order": 3,
          "bayes_factor": 0.5880676877564707,
          "bayes_factor_description": "If comparison level is `within 10 years` then comparison is  1.70 times less likely to be a match",
          "column_name": "dob",
          "comparison_vector_value": 1,
          "label_for_charts": "Within 10 years",
          "log2_bayes_factor": -0.7659458732094665,
          "m_probability": 0.1785983348001133,
          "record_number": 4,
          "sql_condition": "\n            abs(date_diff('year',strptime(\"dob_l\",\n              '%Y-%m-%d'),strptime(\"dob_r\",\n              '%Y-%m-%d'))) <= 10\n        ",
          "term_frequency_adjustment": false,
          "u_probability": 0.3037037037037037,
          "value_l": "1978-08-19",
          "value_r": "1972-07-25"
         },
         {
          "bar_sort_order": 4,
          "bayes_factor": 10.167005600226613,
          "bayes_factor_description": "If comparison level is `exact match` then comparison is 10.17 times more likely to be a match",
          "column_name": "city",
          "comparison_vector_value": 1,
          "label_for_charts": "Exact match",
          "log2_bayes_factor": 3.3458229322137565,
          "m_probability": 0.560685665027433,
          "record_number": 4,
          "sql_condition": "\"city_l\" = \"city_r\"",
          "term_frequency_adjustment": false,
          "u_probability": 0.0551475711801453,
          "value_l": "Birmingham",
          "value_r": "Birmingham"
         },
         {
          "bar_sort_order": 5,
          "bayes_factor": 1.1208743842364532,
          "bayes_factor_description": "Term frequency adjustment on city makes comparison 1.12 times more likely to be a match",
          "column_name": "tf_city",
          "comparison_vector_value": 1,
          "label_for_charts": "Term freq adjustment on city with weight {cl.tf_adjustment_weight}",
          "log2_bayes_factor": 0.16462460517844008,
          "m_probability": null,
          "record_number": 4,
          "sql_condition": "\"city_l\" = \"city_r\"",
          "term_frequency_adjustment": true,
          "u_probability": null,
          "value_l": "Birmingham",
          "value_r": "Birmingham"
         },
         {
          "bar_sort_order": 6,
          "bayes_factor": 1,
          "bayes_factor_description": "If comparison level is `null` then comparison is 1.00 times more likely to be a match",
          "column_name": "email",
          "comparison_vector_value": -1,
          "label_for_charts": "Null",
          "log2_bayes_factor": 0,
          "m_probability": null,
          "record_number": 4,
          "sql_condition": "\"email_l\" IS NULL OR \"email_r\" IS NULL",
          "term_frequency_adjustment": false,
          "u_probability": null,
          "value_l": "t.m39@brooks-sawyer.com",
          "value_r": "nan"
         },
         {
          "bar_sort_order": 7,
          "bayes_factor": 0.4495505695708653,
          "bayes_factor_description": null,
          "column_name": "Final score",
          "comparison_vector_value": null,
          "label_for_charts": "Final score",
          "log2_bayes_factor": -1.1534446824500935,
          "m_probability": null,
          "record_number": 4,
          "sql_condition": null,
          "term_frequency_adjustment": null,
          "u_probability": null,
          "value_l": "",
          "value_r": ""
         }
        ]
       },
       "height": 450,
       "layer": [
        {
         "layer": [
          {
           "encoding": {
            "color": {
             "value": "black"
            },
            "size": {
             "value": 0.5
            },
            "y": {
             "field": "zero",
             "type": "quantitative"
            }
           },
           "mark": "rule"
          },
          {
           "encoding": {
            "color": {
             "condition": {
              "test": "(datum.log2_bayes_factor < 0)",
              "value": "red"
             },
             "value": "green"
            },
            "opacity": {
             "condition": {
              "test": "datum.column_name == 'Prior match weight' || datum.column_name == 'Final score'",
              "value": 1
             },
             "value": 0.5
            },
            "tooltip": [
             {
              "field": "column_name",
              "title": "Comparison column",
              "type": "nominal"
             },
             {
              "field": "value_l",
              "title": "Value (L)",
              "type": "nominal"
             },
             {
              "field": "value_r",
              "title": "Value (R)",
              "type": "nominal"
             },
             {
              "field": "label_for_charts",
              "title": "Label",
              "type": "ordinal"
             },
             {
              "field": "sql_condition",
              "title": "SQL condition",
              "type": "nominal"
             },
             {
              "field": "comparison_vector_value",
              "title": "Comparison vector value",
              "type": "nominal"
             },
             {
              "field": "bayes_factor",
              "format": ",.4f",
              "title": "Bayes factor = m/u",
              "type": "quantitative"
             },
             {
              "field": "log2_bayes_factor",
              "format": ",.4f",
              "title": "Match weight = log2(m/u)",
              "type": "quantitative"
             },
             {
              "field": "prob",
              "format": ".4f",
              "title": "Adjusted match score",
              "type": "quantitative"
             },
             {
              "field": "bayes_factor_description",
              "title": "Match weight description",
              "type": "nominal"
             }
            ],
            "x": {
             "axis": {
              "grid": true,
              "labelAlign": "center",
              "labelAngle": -20,
              "labelExpr": "datum.value == 'Prior' || datum.value == 'Final score' ? '' : datum.value",
              "labelPadding": 10,
              "tickBand": "extent",
              "title": "Column"
             },
             "field": "column_name",
             "sort": {
              "field": "bar_sort_order",
              "order": "ascending"
             },
             "type": "nominal"
            },
            "y": {
             "axis": {
              "grid": false,
              "orient": "left",
              "title": "log2(Bayes factor)"
             },
             "field": "previous_sum",
             "type": "quantitative"
            },
            "y2": {
             "field": "sum"
            }
           },
           "mark": {
            "type": "bar",
            "width": 60
           }
          },
          {
           "encoding": {
            "color": {
             "value": "white"
            },
            "text": {
             "condition": {
              "field": "log2_bayes_factor",
              "format": ".2f",
              "test": "abs(datum.log2_bayes_factor) > 1",
              "type": "nominal"
             },
             "value": ""
            },
            "x": {
             "axis": {
              "labelAngle": -20,
              "title": "Column"
             },
             "field": "column_name",
             "sort": {
              "field": "bar_sort_order",
              "order": "ascending"
             },
             "type": "nominal"
            },
            "y": {
             "axis": {
              "orient": "left"
             },
             "field": "center",
             "type": "quantitative"
            }
           },
           "mark": {
            "fontWeight": "bold",
            "type": "text"
           }
          },
          {
           "encoding": {
            "color": {
             "value": "black"
            },
            "text": {
             "field": "column_name",
             "type": "nominal"
            },
            "x": {
             "axis": {
              "labelAngle": -20,
              "title": "Column"
             },
             "field": "column_name",
             "sort": {
              "field": "bar_sort_order",
              "order": "ascending"
             },
             "type": "nominal"
            },
            "y": {
             "field": "sum_top",
             "type": "quantitative"
            }
           },
           "mark": {
            "baseline": "bottom",
            "dy": -25,
            "fontWeight": "bold",
            "type": "text"
           }
          },
          {
           "encoding": {
            "color": {
             "value": "grey"
            },
            "text": {
             "field": "value_l",
             "type": "nominal"
            },
            "x": {
             "axis": {
              "labelAngle": -20,
              "title": "Column"
             },
             "field": "column_name",
             "sort": {
              "field": "bar_sort_order",
              "order": "ascending"
             },
             "type": "nominal"
            },
            "y": {
             "field": "sum_top",
             "type": "quantitative"
            }
           },
           "mark": {
            "baseline": "bottom",
            "dy": -13,
            "fontSize": 8,
            "type": "text"
           }
          },
          {
           "encoding": {
            "color": {
             "value": "grey"
            },
            "text": {
             "field": "value_r",
             "type": "nominal"
            },
            "x": {
             "axis": {
              "labelAngle": -20,
              "title": "Column"
             },
             "field": "column_name",
             "sort": {
              "field": "bar_sort_order",
              "order": "ascending"
             },
             "type": "nominal"
            },
            "y": {
             "field": "sum_top",
             "type": "quantitative"
            }
           },
           "mark": {
            "baseline": "bottom",
            "dy": -5,
            "fontSize": 8,
            "type": "text"
           }
          }
         ]
        },
        {
         "encoding": {
          "x": {
           "axis": {
            "labelAngle": -20,
            "title": "Column"
           },
           "field": "column_name",
           "sort": {
            "field": "bar_sort_order",
            "order": "ascending"
           },
           "type": "nominal"
          },
          "x2": {
           "field": "lead"
          },
          "y": {
           "axis": {
            "labelExpr": "format(1 / (1 + pow(2, -1*datum.value)), '.2r')",
            "orient": "right",
            "title": "Probability"
           },
           "field": "sum",
           "scale": {
            "zero": false
           },
           "type": "quantitative"
          }
         },
         "mark": {
          "color": "black",
          "strokeWidth": 2,
          "type": "rule",
          "x2Offset": 30,
          "xOffset": -30
         }
        }
       ],
       "params": [
        {
         "bind": {
          "input": "range",
          "max": 4,
          "min": 0,
          "step": 1
         },
         "name": "record_number",
         "value": 0
        }
       ],
       "resolve": {
        "axis": {
         "y": "independent"
        }
       },
       "title": {
        "subtitle": "How each comparison contributes to the final match score",
        "text": "Match weights waterfall chart"
       },
       "transform": [
        {
         "filter": "(datum.record_number == record_number)"
        },
        {
         "frame": [
          null,
          0
         ],
         "window": [
          {
           "as": "sum",
           "field": "log2_bayes_factor",
           "op": "sum"
          },
          {
           "as": "lead",
           "field": "column_name",
           "op": "lead"
          }
         ]
        },
        {
         "as": "sum",
         "calculate": "datum.column_name === \"Final score\" ? datum.sum - datum.log2_bayes_factor : datum.sum"
        },
        {
         "as": "lead",
         "calculate": "datum.lead === null ? datum.column_name : datum.lead"
        },
        {
         "as": "previous_sum",
         "calculate": "datum.column_name === \"Final score\" || datum.column_name === \"Prior match weight\" ? 0 : datum.sum - datum.log2_bayes_factor"
        },
        {
         "as": "top_label",
         "calculate": "datum.sum > datum.previous_sum ? datum.column_name : \"\""
        },
        {
         "as": "bottom_label",
         "calculate": "datum.sum < datum.previous_sum ? datum.column_name : \"\""
        },
        {
         "as": "sum_top",
         "calculate": "datum.sum > datum.previous_sum ? datum.sum : datum.previous_sum"
        },
        {
         "as": "sum_bottom",
         "calculate": "datum.sum < datum.previous_sum ? datum.sum : datum.previous_sum"
        },
        {
         "as": "center",
         "calculate": "(datum.sum + datum.previous_sum) / 2"
        },
        {
         "as": "text_log2_bayes_factor",
         "calculate": "(datum.log2_bayes_factor > 0 ? \"+\" : \"\") + datum.log2_bayes_factor"
        },
        {
         "as": "dy",
         "calculate": "datum.sum < datum.previous_sum ? 4 : -4"
        },
        {
         "as": "baseline",
         "calculate": "datum.sum < datum.previous_sum ? \"top\" : \"bottom\""
        },
        {
         "as": "prob",
         "calculate": "1. / (1 + pow(2, -1.*datum.sum))"
        },
        {
         "as": "zero",
         "calculate": "0*datum.sum"
        }
       ],
       "width": {
        "step": 75
       }
      },
      "text/plain": [
       "<VegaLite 5 object>\n",
       "\n",
       "If you see this message, it means the renderer has not been properly enabled\n",
       "for the frontend that you are using. For more information, see\n",
       "https://altair-viz.github.io/user_guide/display_frontends.html#troubleshooting\n"
      ]
     },
     "execution_count": 3,
     "metadata": {},
     "output_type": "execute_result"
    }
   ],
   "source": [
    "records_to_view  = df_predictions.as_record_dict(limit=5)\n",
    "linker.waterfall_chart(records_to_view, filter_nulls=False)\n"
   ]
  },
  {
   "cell_type": "markdown",
   "id": "48b76176",
   "metadata": {},
   "source": [
    "## Comparison viewer dashboard\n",
    "\n",
    "The [comparison viewer dashboard](https://moj-analytical-services.github.io/splink/linkerqa.html#splink.linker.Linker.comparison_viewer_dashboard) takes this one step further by producing an interactive dashboard that contains example predictions from across the spectrum of match scores.\n",
    "\n",
    "An in-depth video describing how to interpret the dashboard can be found [here](https://www.youtube.com/watch?v=DNvCMqjipis).\n"
   ]
  },
  {
   "cell_type": "code",
   "execution_count": 4,
   "id": "da85169c",
   "metadata": {},
   "outputs": [
    {
     "data": {
      "text/html": [
       "\n",
       "        <iframe\n",
       "            width=\"100%\"\n",
       "            height=\"1200\"\n",
       "            src=\"./scv.html\"\n",
       "            frameborder=\"0\"\n",
       "            allowfullscreen\n",
       "            \n",
       "        ></iframe>\n",
       "        "
      ],
      "text/plain": [
       "<IPython.lib.display.IFrame at 0x7fb5a13da730>"
      ]
     },
     "execution_count": 4,
     "metadata": {},
     "output_type": "execute_result"
    }
   ],
   "source": [
    "linker.comparison_viewer_dashboard(df_predictions, \"scv.html\", overwrite=True)\n",
    "\n",
    "# You can view the scv.html file in your browser, or inline in a notbook as follows\n",
    "from IPython.display import IFrame\n",
    "IFrame(\n",
    "    src=\"./scv.html\", width=\"100%\", height=1200\n",
    ")  "
   ]
  },
  {
   "cell_type": "markdown",
   "id": "d34df82c",
   "metadata": {},
   "source": [
    "## Cluster studio dashboard\n",
    "\n",
    "Cluster studio is an interactive dashboards that visualises the results of clustering your predictions.\n",
    "\n",
    "It provides examples of clusters of different sizes.  The shape and size of clusters can be indicative of problems with record linkage, so it provides a tool to help you find potential false positive and negative links."
   ]
  },
  {
   "cell_type": "code",
   "execution_count": 5,
   "id": "e2153d91",
   "metadata": {},
   "outputs": [
    {
     "name": "stderr",
     "output_type": "stream",
     "text": [
      "Completed iteration 1, root rows count 11\n",
      "Completed iteration 2, root rows count 1\n",
      "Completed iteration 3, root rows count 0\n"
     ]
    },
    {
     "data": {
      "text/html": [
       "\n",
       "        <iframe\n",
       "            width=\"100%\"\n",
       "            height=\"1200\"\n",
       "            src=\"./cluster_studio.html\"\n",
       "            frameborder=\"0\"\n",
       "            allowfullscreen\n",
       "            \n",
       "        ></iframe>\n",
       "        "
      ],
      "text/plain": [
       "<IPython.lib.display.IFrame at 0x7fb5a14f48b0>"
      ]
     },
     "execution_count": 5,
     "metadata": {},
     "output_type": "execute_result"
    }
   ],
   "source": [
    "df_clusters = linker.cluster_pairwise_predictions_at_threshold(df_predictions, threshold_match_probability=0.5)\n",
    "\n",
    "linker.cluster_studio_dashboard(df_predictions, df_clusters, \"cluster_studio.html\", sampling_method=\"by_cluster_size\", overwrite=True)\n",
    "\n",
    "# You can view the scv.html file in your browser, or inline in a notbook as follows\n",
    "from IPython.display import IFrame\n",
    "IFrame(\n",
    "    src=\"./cluster_studio.html\", width=\"100%\", height=1200\n",
    ")"
   ]
  }
 ],
 "metadata": {
  "kernelspec": {
   "display_name": "base",
   "language": "python",
   "name": "python3"
  },
  "language_info": {
   "codemirror_mode": {
    "name": "ipython",
    "version": 3
   },
   "file_extension": ".py",
   "mimetype": "text/x-python",
   "name": "python",
   "nbconvert_exporter": "python",
   "pygments_lexer": "ipython3",
   "version": "3.9.12"
  }
 },
 "nbformat": 4,
 "nbformat_minor": 5
}

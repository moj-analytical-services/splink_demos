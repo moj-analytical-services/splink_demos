{
 "cells": [
  {
   "cell_type": "markdown",
   "id": "26e50a28",
   "metadata": {},
   "source": [
    "# Exploratory analysis\n",
    "\n",
    "The purpose of exploratory analysis is to understand your data and any idiosyncrasies which may be relevant to the task of data linking.\n",
    "\n",
    "Splink includes functionality to visualise and summarise your data, to identify characteristics most salient to data linking.\n",
    "\n",
    "In this notebook we perform some basic exploratory analysis, and interpret the results."
   ]
  },
  {
   "cell_type": "markdown",
   "id": "96a3d08d",
   "metadata": {},
   "source": [
    "### Read in the data\n",
    "\n",
    "For the purpose of this tutorial we will use a 1,000 row synthetic dataset that contains duplicates.\n",
    "\n",
    "The first five rows of this dataset are printed below.\n",
    "\n",
    "Note that the cluster column represents the 'ground truth' - a column which tells us with which rows refer to the same person. In most real linkage scenarios, we wouldn't have this column (this is what Splink is trying to estimate.)"
   ]
  },
  {
   "cell_type": "code",
   "execution_count": 1,
   "id": "ffceed65",
   "metadata": {},
   "outputs": [
    {
     "data": {
      "text/html": [
       "<div>\n",
       "<style scoped>\n",
       "    .dataframe tbody tr th:only-of-type {\n",
       "        vertical-align: middle;\n",
       "    }\n",
       "\n",
       "    .dataframe tbody tr th {\n",
       "        vertical-align: top;\n",
       "    }\n",
       "\n",
       "    .dataframe thead th {\n",
       "        text-align: right;\n",
       "    }\n",
       "</style>\n",
       "<table border=\"1\" class=\"dataframe\">\n",
       "  <thead>\n",
       "    <tr style=\"text-align: right;\">\n",
       "      <th></th>\n",
       "      <th>unique_id</th>\n",
       "      <th>first_name</th>\n",
       "      <th>surname</th>\n",
       "      <th>dob</th>\n",
       "      <th>city</th>\n",
       "      <th>email</th>\n",
       "      <th>cluster</th>\n",
       "    </tr>\n",
       "  </thead>\n",
       "  <tbody>\n",
       "    <tr>\n",
       "      <th>0</th>\n",
       "      <td>0</td>\n",
       "      <td>Robert</td>\n",
       "      <td>Alan</td>\n",
       "      <td>1971-06-24</td>\n",
       "      <td>NaN</td>\n",
       "      <td>robert255@smith.net</td>\n",
       "      <td>0</td>\n",
       "    </tr>\n",
       "    <tr>\n",
       "      <th>1</th>\n",
       "      <td>1</td>\n",
       "      <td>Robert</td>\n",
       "      <td>Allen</td>\n",
       "      <td>1971-05-24</td>\n",
       "      <td>NaN</td>\n",
       "      <td>roberta25@smith.net</td>\n",
       "      <td>0</td>\n",
       "    </tr>\n",
       "    <tr>\n",
       "      <th>2</th>\n",
       "      <td>2</td>\n",
       "      <td>Rob</td>\n",
       "      <td>Allen</td>\n",
       "      <td>1971-06-24</td>\n",
       "      <td>London</td>\n",
       "      <td>roberta25@smith.net</td>\n",
       "      <td>0</td>\n",
       "    </tr>\n",
       "    <tr>\n",
       "      <th>3</th>\n",
       "      <td>3</td>\n",
       "      <td>Robert</td>\n",
       "      <td>Alen</td>\n",
       "      <td>1971-06-24</td>\n",
       "      <td>Lonon</td>\n",
       "      <td>NaN</td>\n",
       "      <td>0</td>\n",
       "    </tr>\n",
       "    <tr>\n",
       "      <th>4</th>\n",
       "      <td>4</td>\n",
       "      <td>Grace</td>\n",
       "      <td>NaN</td>\n",
       "      <td>1997-04-26</td>\n",
       "      <td>Hull</td>\n",
       "      <td>grace.kelly52@jones.com</td>\n",
       "      <td>1</td>\n",
       "    </tr>\n",
       "  </tbody>\n",
       "</table>\n",
       "</div>"
      ],
      "text/plain": [
       "   unique_id first_name surname         dob    city                    email  \\\n",
       "0          0     Robert    Alan  1971-06-24     NaN      robert255@smith.net   \n",
       "1          1     Robert   Allen  1971-05-24     NaN      roberta25@smith.net   \n",
       "2          2        Rob   Allen  1971-06-24  London      roberta25@smith.net   \n",
       "3          3     Robert    Alen  1971-06-24   Lonon                      NaN   \n",
       "4          4      Grace     NaN  1997-04-26    Hull  grace.kelly52@jones.com   \n",
       "\n",
       "   cluster  \n",
       "0        0  \n",
       "1        0  \n",
       "2        0  \n",
       "3        0  \n",
       "4        1  "
      ]
     },
     "execution_count": 1,
     "metadata": {},
     "output_type": "execute_result"
    }
   ],
   "source": [
    "import pandas as pd \n",
    "import altair as alt\n",
    "alt.renderers.enable('mimetype')\n",
    "\n",
    "df = pd.read_csv(\"../data/fake_1000.csv\")\n",
    "df.head(5)"
   ]
  },
  {
   "cell_type": "markdown",
   "id": "2d53e50b",
   "metadata": {},
   "source": [
    "### Instantiate the linker\n",
    "\n",
    "Most of Splink's core functionality can be accessed as methods on a linker object.  For example, to make predictions, you would call `linker.predict()`.\n",
    "\n",
    "We therefore begin by instantiating the linker, passing in the data we wish to deduplicate."
   ]
  },
  {
   "cell_type": "code",
   "execution_count": 2,
   "id": "8a1aa029",
   "metadata": {},
   "outputs": [],
   "source": [
    "# Initialise the linker, passing in the input dataset(s)\n",
    "from splink.duckdb.linker import DuckDBLinker\n",
    "linker = DuckDBLinker(df)"
   ]
  },
  {
   "cell_type": "markdown",
   "id": "3d982939",
   "metadata": {},
   "source": [
    "## Analyse missingness"
   ]
  },
  {
   "cell_type": "markdown",
   "id": "bfab11e8",
   "metadata": {},
   "source": [
    "It's important to understand the level of missingness in your data, because columns with higher levels of missingness are less useful for data linking."
   ]
  },
  {
   "cell_type": "code",
   "execution_count": 3,
   "id": "6dae307c",
   "metadata": {},
   "outputs": [
    {
     "data": {
      "application/vnd.vegalite.v5+json": {
       "$schema": "https://vega.github.io/schema/vega-lite/v5.9.3.json",
       "config": {
        "axis": {
         "labelFontSize": 11
        },
        "view": {
         "continuousHeight": 300,
         "continuousWidth": 400
        }
       },
       "data": {
        "name": "data-0e7bce5a1d2f132e282789d6ef7780fe",
        "values": [
         {
          "column_name": "None",
          "null_count": 0,
          "null_proportion": 0,
          "total_record_count": 1000
         },
         {
          "column_name": "unique_id",
          "null_count": 0,
          "null_proportion": 0,
          "total_record_count": 1000
         },
         {
          "column_name": "first_name",
          "null_count": 169,
          "null_proportion": 0.1690000295639038,
          "total_record_count": 1000
         },
         {
          "column_name": "surname",
          "null_count": 181,
          "null_proportion": 0.1809999942779541,
          "total_record_count": 1000
         },
         {
          "column_name": "dob",
          "null_count": 0,
          "null_proportion": 0,
          "total_record_count": 1000
         },
         {
          "column_name": "city",
          "null_count": 187,
          "null_proportion": 0.18699997663497925,
          "total_record_count": 1000
         },
         {
          "column_name": "email",
          "null_count": 211,
          "null_proportion": 0.21100002527236938,
          "total_record_count": 1000
         },
         {
          "column_name": "cluster",
          "null_count": 0,
          "null_proportion": 0,
          "total_record_count": 1000
         }
        ]
       },
       "layer": [
        {
         "encoding": {
          "color": {
           "field": "null_proportion",
           "legend": {
            "format": ".0%"
           },
           "scale": {
            "range": "heatmap"
           },
           "title": "Missingness",
           "type": "quantitative"
          },
          "tooltip": [
           {
            "field": "column_name",
            "title": "Column",
            "type": "nominal"
           },
           {
            "field": "null_count",
            "format": ",.0f",
            "title": "Count of nulls",
            "type": "quantitative"
           },
           {
            "field": "null_proportion",
            "format": ".2%",
            "title": "Percentage of nulls",
            "type": "quantitative"
           },
           {
            "field": "total_record_count",
            "format": ",.0f",
            "title": "Total record count",
            "type": "quantitative"
           }
          ],
          "x": {
           "axis": {
            "format": "%",
            "title": "Percentage of nulls"
           },
           "field": "null_proportion",
           "type": "quantitative"
          },
          "y": {
           "axis": {
            "title": ""
           },
           "field": "column_name",
           "sort": "-x",
           "type": "nominal"
          }
         },
         "mark": "bar",
         "title": "Missingness per column out of 1,000 records"
        }
       ],
       "title": ""
      },
      "text/plain": [
       "<VegaLite 5 object>\n",
       "\n",
       "If you see this message, it means the renderer has not been properly enabled\n",
       "for the frontend that you are using. For more information, see\n",
       "https://altair-viz.github.io/user_guide/display_frontends.html#troubleshooting\n"
      ]
     },
     "execution_count": 3,
     "metadata": {},
     "output_type": "execute_result"
    }
   ],
   "source": [
    "linker.missingness_chart()"
   ]
  },
  {
   "cell_type": "markdown",
   "id": "2c35a4e0",
   "metadata": {},
   "source": [
    "The above summary chart shows that in this dataset, the `email`, `city`, `surname` and `forename` columns contain nulls, but the level of missingness is relatively low (less than 22%)."
   ]
  },
  {
   "cell_type": "markdown",
   "id": "f11cc6b6",
   "metadata": {},
   "source": [
    "## Analyse the distribution of values in your data"
   ]
  },
  {
   "cell_type": "markdown",
   "id": "973cb505",
   "metadata": {},
   "source": [
    "The distribution of values in your data is important for two main reasons:\n",
    "\n",
    "1. Columns with higher cardinality (number of distinct values) are usually more useful for data linking.  For instance, date of birth is a much stronger linkage variable than gender.\n",
    "\n",
    "2. The skew of values is important.  If you have a `city` column that has 1,000 distinct values, but 75% of them are `London`, this is much less useful for linkage than if the 1,000 values were equally distributed\n",
    "\n",
    "The `linker.profile_columns()` method creates summary charts to help you understand these aspects of your data. \n",
    "\n",
    "You may input column names (e.g. `first_name`), or arbitrary sql expressions like `concat(first_name, surname)`."
   ]
  },
  {
   "cell_type": "code",
   "execution_count": 4,
   "id": "897d183c",
   "metadata": {},
   "outputs": [
    {
     "data": {
      "application/vnd.vegalite.v5+json": {
       "$schema": "https://vega.github.io/schema/vega-lite/v5.9.3.json",
       "config": {
        "view": {
         "continuousHeight": 300,
         "continuousWidth": 400
        }
       },
       "vconcat": [
        {
         "hconcat": [
          {
           "data": {
            "values": [
             {
              "distinct_value_count": 335,
              "group_name": "first_name",
              "percentile_ex_nulls": 0.966305673122406,
              "percentile_inc_nulls": 0.972000002861023,
              "sum_tokens_in_value_count_group": 28,
              "total_non_null_rows": 831,
              "total_rows_inc_nulls": 1000,
              "value_count": 28
             },
             {
              "distinct_value_count": 335,
              "group_name": "first_name",
              "percentile_ex_nulls": 0.9470517635345459,
              "percentile_inc_nulls": 0.9559999704360962,
              "sum_tokens_in_value_count_group": 16,
              "total_non_null_rows": 831,
              "total_rows_inc_nulls": 1000,
              "value_count": 16
             },
             {
              "distinct_value_count": 335,
              "group_name": "first_name",
              "percentile_ex_nulls": 0.9290012121200562,
              "percentile_inc_nulls": 0.9409999847412109,
              "sum_tokens_in_value_count_group": 15,
              "total_non_null_rows": 831,
              "total_rows_inc_nulls": 1000,
              "value_count": 15
             },
             {
              "distinct_value_count": 335,
              "group_name": "first_name",
              "percentile_ex_nulls": 0.9121540188789368,
              "percentile_inc_nulls": 0.9269999861717224,
              "sum_tokens_in_value_count_group": 14,
              "total_non_null_rows": 831,
              "total_rows_inc_nulls": 1000,
              "value_count": 14
             },
             {
              "distinct_value_count": 335,
              "group_name": "first_name",
              "percentile_ex_nulls": 0.8965102434158325,
              "percentile_inc_nulls": 0.9139999747276306,
              "sum_tokens_in_value_count_group": 13,
              "total_non_null_rows": 831,
              "total_rows_inc_nulls": 1000,
              "value_count": 13
             },
             {
              "distinct_value_count": 335,
              "group_name": "first_name",
              "percentile_ex_nulls": 0.8820698261260986,
              "percentile_inc_nulls": 0.9020000100135803,
              "sum_tokens_in_value_count_group": 12,
              "total_non_null_rows": 831,
              "total_rows_inc_nulls": 1000,
              "value_count": 12
             },
             {
              "distinct_value_count": 335,
              "group_name": "first_name",
              "percentile_ex_nulls": 0.8423585891723633,
              "percentile_inc_nulls": 0.8690000176429749,
              "sum_tokens_in_value_count_group": 33,
              "total_non_null_rows": 831,
              "total_rows_inc_nulls": 1000,
              "value_count": 11
             },
             {
              "distinct_value_count": 335,
              "group_name": "first_name",
              "percentile_ex_nulls": 0.818291187286377,
              "percentile_inc_nulls": 0.8489999771118164,
              "sum_tokens_in_value_count_group": 20,
              "total_non_null_rows": 831,
              "total_rows_inc_nulls": 1000,
              "value_count": 10
             },
             {
              "distinct_value_count": 335,
              "group_name": "first_name",
              "percentile_ex_nulls": 0.7641395926475525,
              "percentile_inc_nulls": 0.8040000200271606,
              "sum_tokens_in_value_count_group": 45,
              "total_non_null_rows": 831,
              "total_rows_inc_nulls": 1000,
              "value_count": 9
             },
             {
              "distinct_value_count": 335,
              "group_name": "first_name",
              "percentile_ex_nulls": 0.7352586984634399,
              "percentile_inc_nulls": 0.7799999713897705,
              "sum_tokens_in_value_count_group": 24,
              "total_non_null_rows": 831,
              "total_rows_inc_nulls": 1000,
              "value_count": 8
             },
             {
              "distinct_value_count": 335,
              "group_name": "first_name",
              "percentile_ex_nulls": 0.701564371585846,
              "percentile_inc_nulls": 0.7519999742507935,
              "sum_tokens_in_value_count_group": 28,
              "total_non_null_rows": 831,
              "total_rows_inc_nulls": 1000,
              "value_count": 7
             },
             {
              "distinct_value_count": 335,
              "group_name": "first_name",
              "percentile_ex_nulls": 0.6293622255325317,
              "percentile_inc_nulls": 0.6920000314712524,
              "sum_tokens_in_value_count_group": 60,
              "total_non_null_rows": 831,
              "total_rows_inc_nulls": 1000,
              "value_count": 6
             },
             {
              "distinct_value_count": 335,
              "group_name": "first_name",
              "percentile_ex_nulls": 0.539109468460083,
              "percentile_inc_nulls": 0.6169999837875366,
              "sum_tokens_in_value_count_group": 75,
              "total_non_null_rows": 831,
              "total_rows_inc_nulls": 1000,
              "value_count": 5
             },
             {
              "distinct_value_count": 335,
              "group_name": "first_name",
              "percentile_ex_nulls": 0.42358607053756714,
              "percentile_inc_nulls": 0.5210000276565552,
              "sum_tokens_in_value_count_group": 96,
              "total_non_null_rows": 831,
              "total_rows_inc_nulls": 1000,
              "value_count": 4
             },
             {
              "distinct_value_count": 335,
              "group_name": "first_name",
              "percentile_ex_nulls": 0.33694344758987427,
              "percentile_inc_nulls": 0.4490000009536743,
              "sum_tokens_in_value_count_group": 72,
              "total_non_null_rows": 831,
              "total_rows_inc_nulls": 1000,
              "value_count": 3
             },
             {
              "distinct_value_count": 335,
              "group_name": "first_name",
              "percentile_ex_nulls": 0.23826712369918823,
              "percentile_inc_nulls": 0.3669999837875366,
              "sum_tokens_in_value_count_group": 82,
              "total_non_null_rows": 831,
              "total_rows_inc_nulls": 1000,
              "value_count": 2
             },
             {
              "distinct_value_count": 335,
              "group_name": "first_name",
              "percentile_ex_nulls": 0,
              "percentile_inc_nulls": 0.1690000295639038,
              "sum_tokens_in_value_count_group": 198,
              "total_non_null_rows": 831,
              "total_rows_inc_nulls": 1000,
              "value_count": 1
             },
             {
              "distinct_value_count": 335,
              "group_name": "first_name",
              "percentile_ex_nulls": 1,
              "percentile_inc_nulls": 1,
              "sum_tokens_in_value_count_group": 28,
              "total_non_null_rows": 831,
              "total_rows_inc_nulls": 1000,
              "value_count": 28
             }
            ]
           },
           "encoding": {
            "tooltip": [
             {
              "field": "value_count",
              "type": "quantitative"
             },
             {
              "field": "percentile_ex_nulls",
              "type": "quantitative"
             },
             {
              "field": "percentile_inc_nulls",
              "type": "quantitative"
             },
             {
              "field": "total_non_null_rows",
              "type": "quantitative"
             },
             {
              "field": "total_rows_inc_nulls",
              "type": "quantitative"
             }
            ],
            "x": {
             "field": "percentile_ex_nulls",
             "sort": "descending",
             "title": "Percentile",
             "type": "quantitative"
            },
            "y": {
             "field": "value_count",
             "title": "Count of values",
             "type": "quantitative"
            }
           },
           "mark": {
            "interpolate": "step-after",
            "type": "line"
           },
           "title": {
            "subtitle": "In this col, 169 values (16.9%) are null and there are 335 distinct values",
            "text": "Distribution of counts of values in column first_name"
           }
          },
          {
           "data": {
            "values": [
             {
              "distinct_value_count": 335,
              "group_name": "first_name",
              "total_non_null_rows": 831,
              "total_rows_inc_nulls": 1000,
              "value": "Oliver",
              "value_count": 28
             },
             {
              "distinct_value_count": 335,
              "group_name": "first_name",
              "total_non_null_rows": 831,
              "total_rows_inc_nulls": 1000,
              "value": "Jacob",
              "value_count": 16
             },
             {
              "distinct_value_count": 335,
              "group_name": "first_name",
              "total_non_null_rows": 831,
              "total_rows_inc_nulls": 1000,
              "value": "Freddie",
              "value_count": 15
             },
             {
              "distinct_value_count": 335,
              "group_name": "first_name",
              "total_non_null_rows": 831,
              "total_rows_inc_nulls": 1000,
              "value": "Olivia",
              "value_count": 14
             },
             {
              "distinct_value_count": 335,
              "group_name": "first_name",
              "total_non_null_rows": 831,
              "total_rows_inc_nulls": 1000,
              "value": "James",
              "value_count": 13
             },
             {
              "distinct_value_count": 335,
              "group_name": "first_name",
              "total_non_null_rows": 831,
              "total_rows_inc_nulls": 1000,
              "value": "George",
              "value_count": 12
             },
             {
              "distinct_value_count": 335,
              "group_name": "first_name",
              "total_non_null_rows": 831,
              "total_rows_inc_nulls": 1000,
              "value": "Elizabeth",
              "value_count": 11
             },
             {
              "distinct_value_count": 335,
              "group_name": "first_name",
              "total_non_null_rows": 831,
              "total_rows_inc_nulls": 1000,
              "value": "Alfie",
              "value_count": 11
             },
             {
              "distinct_value_count": 335,
              "group_name": "first_name",
              "total_non_null_rows": 831,
              "total_rows_inc_nulls": 1000,
              "value": "Jessica",
              "value_count": 11
             },
             {
              "distinct_value_count": 335,
              "group_name": "first_name",
              "total_non_null_rows": 831,
              "total_rows_inc_nulls": 1000,
              "value": "Logan",
              "value_count": 10
             }
            ]
           },
           "encoding": {
            "tooltip": [
             {
              "field": "value",
              "type": "nominal"
             },
             {
              "field": "value_count",
              "type": "quantitative"
             },
             {
              "field": "total_non_null_rows",
              "type": "quantitative"
             },
             {
              "field": "total_rows_inc_nulls",
              "type": "quantitative"
             }
            ],
            "x": {
             "field": "value",
             "sort": "-y",
             "title": null,
             "type": "nominal"
            },
            "y": {
             "field": "value_count",
             "title": "Value count",
             "type": "quantitative"
            }
           },
           "mark": "bar",
           "title": "Top 10 values by value count"
          },
          {
           "data": {
            "values": [
             {
              "distinct_value_count": 335,
              "group_name": "first_name",
              "total_non_null_rows": 831,
              "total_rows_inc_nulls": 1000,
              "value": "Rob",
              "value_count": 1
             },
             {
              "distinct_value_count": 335,
              "group_name": "first_name",
              "total_non_null_rows": 831,
              "total_rows_inc_nulls": 1000,
              "value": "Hall",
              "value_count": 1
             },
             {
              "distinct_value_count": 335,
              "group_name": "first_name",
              "total_non_null_rows": 831,
              "total_rows_inc_nulls": 1000,
              "value": "Lucas",
              "value_count": 1
             },
             {
              "distinct_value_count": 335,
              "group_name": "first_name",
              "total_non_null_rows": 831,
              "total_rows_inc_nulls": 1000,
              "value": "Luas",
              "value_count": 1
             },
             {
              "distinct_value_count": 335,
              "group_name": "first_name",
              "total_non_null_rows": 831,
              "total_rows_inc_nulls": 1000,
              "value": "Rowe",
              "value_count": 1
             }
            ]
           },
           "encoding": {
            "tooltip": [
             {
              "field": "value",
              "type": "nominal"
             },
             {
              "field": "value_count",
              "type": "quantitative"
             },
             {
              "field": "total_non_null_rows",
              "type": "quantitative"
             },
             {
              "field": "total_rows_inc_nulls",
              "type": "quantitative"
             }
            ],
            "x": {
             "field": "value",
             "sort": "-y",
             "title": null,
             "type": "nominal"
            },
            "y": {
             "field": "value_count",
             "scale": {
              "domain": [
               0,
               28
              ]
             },
             "title": "Value count",
             "type": "quantitative"
            }
           },
           "mark": "bar",
           "title": "Bottom 5 values by value count"
          }
         ]
        },
        {
         "hconcat": [
          {
           "data": {
            "values": [
             {
              "distinct_value_count": 218,
              "group_name": "city",
              "percentile_ex_nulls": 0.787207841873169,
              "percentile_inc_nulls": 0.8270000219345093,
              "sum_tokens_in_value_count_group": 173,
              "total_non_null_rows": 813,
              "total_rows_inc_nulls": 1000,
              "value_count": 173
             },
             {
              "distinct_value_count": 218,
              "group_name": "city",
              "percentile_ex_nulls": 0.7380073666572571,
              "percentile_inc_nulls": 0.7870000004768372,
              "sum_tokens_in_value_count_group": 40,
              "total_non_null_rows": 813,
              "total_rows_inc_nulls": 1000,
              "value_count": 40
             },
             {
              "distinct_value_count": 218,
              "group_name": "city",
              "percentile_ex_nulls": 0.6974169611930847,
              "percentile_inc_nulls": 0.7540000081062317,
              "sum_tokens_in_value_count_group": 33,
              "total_non_null_rows": 813,
              "total_rows_inc_nulls": 1000,
              "value_count": 33
             },
             {
              "distinct_value_count": 218,
              "group_name": "city",
              "percentile_ex_nulls": 0.6715867519378662,
              "percentile_inc_nulls": 0.7330000400543213,
              "sum_tokens_in_value_count_group": 21,
              "total_non_null_rows": 813,
              "total_rows_inc_nulls": 1000,
              "value_count": 21
             },
             {
              "distinct_value_count": 218,
              "group_name": "city",
              "percentile_ex_nulls": 0.6494464874267578,
              "percentile_inc_nulls": 0.7150000333786011,
              "sum_tokens_in_value_count_group": 18,
              "total_non_null_rows": 813,
              "total_rows_inc_nulls": 1000,
              "value_count": 18
             },
             {
              "distinct_value_count": 218,
              "group_name": "city",
              "percentile_ex_nulls": 0.6076260805130005,
              "percentile_inc_nulls": 0.6809999942779541,
              "sum_tokens_in_value_count_group": 34,
              "total_non_null_rows": 813,
              "total_rows_inc_nulls": 1000,
              "value_count": 17
             },
             {
              "distinct_value_count": 218,
              "group_name": "city",
              "percentile_ex_nulls": 0.5682656764984131,
              "percentile_inc_nulls": 0.6489999890327454,
              "sum_tokens_in_value_count_group": 32,
              "total_non_null_rows": 813,
              "total_rows_inc_nulls": 1000,
              "value_count": 16
             },
             {
              "distinct_value_count": 218,
              "group_name": "city",
              "percentile_ex_nulls": 0.5166051387786865,
              "percentile_inc_nulls": 0.6069999933242798,
              "sum_tokens_in_value_count_group": 42,
              "total_non_null_rows": 813,
              "total_rows_inc_nulls": 1000,
              "value_count": 14
             },
             {
              "distinct_value_count": 218,
              "group_name": "city",
              "percentile_ex_nulls": 0.48462486267089844,
              "percentile_inc_nulls": 0.5809999704360962,
              "sum_tokens_in_value_count_group": 26,
              "total_non_null_rows": 813,
              "total_rows_inc_nulls": 1000,
              "value_count": 13
             },
             {
              "distinct_value_count": 218,
              "group_name": "city",
              "percentile_ex_nulls": 0.4403443932533264,
              "percentile_inc_nulls": 0.5449999570846558,
              "sum_tokens_in_value_count_group": 36,
              "total_non_null_rows": 813,
              "total_rows_inc_nulls": 1000,
              "value_count": 12
             },
             {
              "distinct_value_count": 218,
              "group_name": "city",
              "percentile_ex_nulls": 0.41574418544769287,
              "percentile_inc_nulls": 0.5249999761581421,
              "sum_tokens_in_value_count_group": 20,
              "total_non_null_rows": 813,
              "total_rows_inc_nulls": 1000,
              "value_count": 10
             },
             {
              "distinct_value_count": 218,
              "group_name": "city",
              "percentile_ex_nulls": 0.3936039209365845,
              "percentile_inc_nulls": 0.5069999694824219,
              "sum_tokens_in_value_count_group": 18,
              "total_non_null_rows": 813,
              "total_rows_inc_nulls": 1000,
              "value_count": 9
             },
             {
              "distinct_value_count": 218,
              "group_name": "city",
              "percentile_ex_nulls": 0.3640836477279663,
              "percentile_inc_nulls": 0.4829999804496765,
              "sum_tokens_in_value_count_group": 24,
              "total_non_null_rows": 813,
              "total_rows_inc_nulls": 1000,
              "value_count": 8
             },
             {
              "distinct_value_count": 218,
              "group_name": "city",
              "percentile_ex_nulls": 0.31242311000823975,
              "percentile_inc_nulls": 0.44099998474121094,
              "sum_tokens_in_value_count_group": 42,
              "total_non_null_rows": 813,
              "total_rows_inc_nulls": 1000,
              "value_count": 7
             },
             {
              "distinct_value_count": 218,
              "group_name": "city",
              "percentile_ex_nulls": 0.2829028367996216,
              "percentile_inc_nulls": 0.4169999957084656,
              "sum_tokens_in_value_count_group": 24,
              "total_non_null_rows": 813,
              "total_rows_inc_nulls": 1000,
              "value_count": 6
             },
             {
              "distinct_value_count": 218,
              "group_name": "city",
              "percentile_ex_nulls": 0.25830256938934326,
              "percentile_inc_nulls": 0.3970000147819519,
              "sum_tokens_in_value_count_group": 20,
              "total_non_null_rows": 813,
              "total_rows_inc_nulls": 1000,
              "value_count": 5
             },
             {
              "distinct_value_count": 218,
              "group_name": "city",
              "percentile_ex_nulls": 0.24354243278503418,
              "percentile_inc_nulls": 0.38499999046325684,
              "sum_tokens_in_value_count_group": 12,
              "total_non_null_rows": 813,
              "total_rows_inc_nulls": 1000,
              "value_count": 4
             },
             {
              "distinct_value_count": 218,
              "group_name": "city",
              "percentile_ex_nulls": 0.2287822961807251,
              "percentile_inc_nulls": 0.37300002574920654,
              "sum_tokens_in_value_count_group": 12,
              "total_non_null_rows": 813,
              "total_rows_inc_nulls": 1000,
              "value_count": 3
             },
             {
              "distinct_value_count": 218,
              "group_name": "city",
              "percentile_ex_nulls": 0.19680196046829224,
              "percentile_inc_nulls": 0.34700000286102295,
              "sum_tokens_in_value_count_group": 26,
              "total_non_null_rows": 813,
              "total_rows_inc_nulls": 1000,
              "value_count": 2
             },
             {
              "distinct_value_count": 218,
              "group_name": "city",
              "percentile_ex_nulls": 0,
              "percentile_inc_nulls": 0.18699997663497925,
              "sum_tokens_in_value_count_group": 160,
              "total_non_null_rows": 813,
              "total_rows_inc_nulls": 1000,
              "value_count": 1
             },
             {
              "distinct_value_count": 218,
              "group_name": "city",
              "percentile_ex_nulls": 1,
              "percentile_inc_nulls": 1,
              "sum_tokens_in_value_count_group": 173,
              "total_non_null_rows": 813,
              "total_rows_inc_nulls": 1000,
              "value_count": 173
             }
            ]
           },
           "encoding": {
            "tooltip": [
             {
              "field": "value_count",
              "type": "quantitative"
             },
             {
              "field": "percentile_ex_nulls",
              "type": "quantitative"
             },
             {
              "field": "percentile_inc_nulls",
              "type": "quantitative"
             },
             {
              "field": "total_non_null_rows",
              "type": "quantitative"
             },
             {
              "field": "total_rows_inc_nulls",
              "type": "quantitative"
             }
            ],
            "x": {
             "field": "percentile_ex_nulls",
             "sort": "descending",
             "title": "Percentile",
             "type": "quantitative"
            },
            "y": {
             "field": "value_count",
             "title": "Count of values",
             "type": "quantitative"
            }
           },
           "mark": {
            "interpolate": "step-after",
            "type": "line"
           },
           "title": {
            "subtitle": "In this col, 187 values (18.7%) are null and there are 218 distinct values",
            "text": "Distribution of counts of values in column city"
           }
          },
          {
           "data": {
            "values": [
             {
              "distinct_value_count": 218,
              "group_name": "city",
              "total_non_null_rows": 813,
              "total_rows_inc_nulls": 1000,
              "value": "London",
              "value_count": 173
             },
             {
              "distinct_value_count": 218,
              "group_name": "city",
              "total_non_null_rows": 813,
              "total_rows_inc_nulls": 1000,
              "value": "Birmingham",
              "value_count": 40
             },
             {
              "distinct_value_count": 218,
              "group_name": "city",
              "total_non_null_rows": 813,
              "total_rows_inc_nulls": 1000,
              "value": "Liverpool",
              "value_count": 33
             },
             {
              "distinct_value_count": 218,
              "group_name": "city",
              "total_non_null_rows": 813,
              "total_rows_inc_nulls": 1000,
              "value": "Coventry",
              "value_count": 21
             },
             {
              "distinct_value_count": 218,
              "group_name": "city",
              "total_non_null_rows": 813,
              "total_rows_inc_nulls": 1000,
              "value": "Newcastle-upon-Tyne",
              "value_count": 18
             },
             {
              "distinct_value_count": 218,
              "group_name": "city",
              "total_non_null_rows": 813,
              "total_rows_inc_nulls": 1000,
              "value": "Leeds",
              "value_count": 17
             },
             {
              "distinct_value_count": 218,
              "group_name": "city",
              "total_non_null_rows": 813,
              "total_rows_inc_nulls": 1000,
              "value": "Manchester",
              "value_count": 17
             },
             {
              "distinct_value_count": 218,
              "group_name": "city",
              "total_non_null_rows": 813,
              "total_rows_inc_nulls": 1000,
              "value": "Bristol",
              "value_count": 16
             },
             {
              "distinct_value_count": 218,
              "group_name": "city",
              "total_non_null_rows": 813,
              "total_rows_inc_nulls": 1000,
              "value": "Aberdeen",
              "value_count": 16
             },
             {
              "distinct_value_count": 218,
              "group_name": "city",
              "total_non_null_rows": 813,
              "total_rows_inc_nulls": 1000,
              "value": "Portsmouth",
              "value_count": 14
             }
            ]
           },
           "encoding": {
            "tooltip": [
             {
              "field": "value",
              "type": "nominal"
             },
             {
              "field": "value_count",
              "type": "quantitative"
             },
             {
              "field": "total_non_null_rows",
              "type": "quantitative"
             },
             {
              "field": "total_rows_inc_nulls",
              "type": "quantitative"
             }
            ],
            "x": {
             "field": "value",
             "sort": "-y",
             "title": null,
             "type": "nominal"
            },
            "y": {
             "field": "value_count",
             "title": "Value count",
             "type": "quantitative"
            }
           },
           "mark": "bar",
           "title": "Top 10 values by value count"
          },
          {
           "data": {
            "values": [
             {
              "distinct_value_count": 218,
              "group_name": "city",
              "total_non_null_rows": 813,
              "total_rows_inc_nulls": 1000,
              "value": "Hull",
              "value_count": 1
             },
             {
              "distinct_value_count": 218,
              "group_name": "city",
              "total_non_null_rows": 813,
              "total_rows_inc_nulls": 1000,
              "value": "Pootsmruth",
              "value_count": 1
             },
             {
              "distinct_value_count": 218,
              "group_name": "city",
              "total_non_null_rows": 813,
              "total_rows_inc_nulls": 1000,
              "value": "Lunton",
              "value_count": 1
             },
             {
              "distinct_value_count": 218,
              "group_name": "city",
              "total_non_null_rows": 813,
              "total_rows_inc_nulls": 1000,
              "value": "Lvpreool",
              "value_count": 1
             },
             {
              "distinct_value_count": 218,
              "group_name": "city",
              "total_non_null_rows": 813,
              "total_rows_inc_nulls": 1000,
              "value": "Loodon",
              "value_count": 1
             }
            ]
           },
           "encoding": {
            "tooltip": [
             {
              "field": "value",
              "type": "nominal"
             },
             {
              "field": "value_count",
              "type": "quantitative"
             },
             {
              "field": "total_non_null_rows",
              "type": "quantitative"
             },
             {
              "field": "total_rows_inc_nulls",
              "type": "quantitative"
             }
            ],
            "x": {
             "field": "value",
             "sort": "-y",
             "title": null,
             "type": "nominal"
            },
            "y": {
             "field": "value_count",
             "scale": {
              "domain": [
               0,
               173
              ]
             },
             "title": "Value count",
             "type": "quantitative"
            }
           },
           "mark": "bar",
           "title": "Bottom 5 values by value count"
          }
         ]
        },
        {
         "hconcat": [
          {
           "data": {
            "values": [
             {
              "distinct_value_count": 371,
              "group_name": "surname",
              "percentile_ex_nulls": 0.9719169735908508,
              "percentile_inc_nulls": 0.9769999980926514,
              "sum_tokens_in_value_count_group": 23,
              "total_non_null_rows": 819,
              "total_rows_inc_nulls": 1000,
              "value_count": 23
             },
             {
              "distinct_value_count": 371,
              "group_name": "surname",
              "percentile_ex_nulls": 0.9377289414405823,
              "percentile_inc_nulls": 0.9490000009536743,
              "sum_tokens_in_value_count_group": 28,
              "total_non_null_rows": 819,
              "total_rows_inc_nulls": 1000,
              "value_count": 14
             },
             {
              "distinct_value_count": 371,
              "group_name": "surname",
              "percentile_ex_nulls": 0.9059829115867615,
              "percentile_inc_nulls": 0.9229999780654907,
              "sum_tokens_in_value_count_group": 26,
              "total_non_null_rows": 819,
              "total_rows_inc_nulls": 1000,
              "value_count": 13
             },
             {
              "distinct_value_count": 371,
              "group_name": "surname",
              "percentile_ex_nulls": 0.891330897808075,
              "percentile_inc_nulls": 0.9110000133514404,
              "sum_tokens_in_value_count_group": 12,
              "total_non_null_rows": 819,
              "total_rows_inc_nulls": 1000,
              "value_count": 12
             },
             {
              "distinct_value_count": 371,
              "group_name": "surname",
              "percentile_ex_nulls": 0.8778998851776123,
              "percentile_inc_nulls": 0.8999999761581421,
              "sum_tokens_in_value_count_group": 11,
              "total_non_null_rows": 819,
              "total_rows_inc_nulls": 1000,
              "value_count": 11
             },
             {
              "distinct_value_count": 371,
              "group_name": "surname",
              "percentile_ex_nulls": 0.8534798622131348,
              "percentile_inc_nulls": 0.8799999952316284,
              "sum_tokens_in_value_count_group": 20,
              "total_non_null_rows": 819,
              "total_rows_inc_nulls": 1000,
              "value_count": 10
             },
             {
              "distinct_value_count": 371,
              "group_name": "surname",
              "percentile_ex_nulls": 0.831501841545105,
              "percentile_inc_nulls": 0.8619999885559082,
              "sum_tokens_in_value_count_group": 18,
              "total_non_null_rows": 819,
              "total_rows_inc_nulls": 1000,
              "value_count": 9
             },
             {
              "distinct_value_count": 371,
              "group_name": "surname",
              "percentile_ex_nulls": 0.7728937864303589,
              "percentile_inc_nulls": 0.8140000104904175,
              "sum_tokens_in_value_count_group": 48,
              "total_non_null_rows": 819,
              "total_rows_inc_nulls": 1000,
              "value_count": 8
             },
             {
              "distinct_value_count": 371,
              "group_name": "surname",
              "percentile_ex_nulls": 0.721611738204956,
              "percentile_inc_nulls": 0.7720000147819519,
              "sum_tokens_in_value_count_group": 42,
              "total_non_null_rows": 819,
              "total_rows_inc_nulls": 1000,
              "value_count": 7
             },
             {
              "distinct_value_count": 371,
              "group_name": "surname",
              "percentile_ex_nulls": 0.66300368309021,
              "percentile_inc_nulls": 0.7239999771118164,
              "sum_tokens_in_value_count_group": 48,
              "total_non_null_rows": 819,
              "total_rows_inc_nulls": 1000,
              "value_count": 6
             },
             {
              "distinct_value_count": 371,
              "group_name": "surname",
              "percentile_ex_nulls": 0.6080585718154907,
              "percentile_inc_nulls": 0.6790000200271606,
              "sum_tokens_in_value_count_group": 45,
              "total_non_null_rows": 819,
              "total_rows_inc_nulls": 1000,
              "value_count": 5
             },
             {
              "distinct_value_count": 371,
              "group_name": "surname",
              "percentile_ex_nulls": 0.5054944753646851,
              "percentile_inc_nulls": 0.5950000286102295,
              "sum_tokens_in_value_count_group": 84,
              "total_non_null_rows": 819,
              "total_rows_inc_nulls": 1000,
              "value_count": 4
             },
             {
              "distinct_value_count": 371,
              "group_name": "surname",
              "percentile_ex_nulls": 0.39560437202453613,
              "percentile_inc_nulls": 0.5049999952316284,
              "sum_tokens_in_value_count_group": 90,
              "total_non_null_rows": 819,
              "total_rows_inc_nulls": 1000,
              "value_count": 3
             },
             {
              "distinct_value_count": 371,
              "group_name": "surname",
              "percentile_ex_nulls": 0.28815627098083496,
              "percentile_inc_nulls": 0.4169999957084656,
              "sum_tokens_in_value_count_group": 88,
              "total_non_null_rows": 819,
              "total_rows_inc_nulls": 1000,
              "value_count": 2
             },
             {
              "distinct_value_count": 371,
              "group_name": "surname",
              "percentile_ex_nulls": 0,
              "percentile_inc_nulls": 0.1809999942779541,
              "sum_tokens_in_value_count_group": 236,
              "total_non_null_rows": 819,
              "total_rows_inc_nulls": 1000,
              "value_count": 1
             },
             {
              "distinct_value_count": 371,
              "group_name": "surname",
              "percentile_ex_nulls": 1,
              "percentile_inc_nulls": 1,
              "sum_tokens_in_value_count_group": 23,
              "total_non_null_rows": 819,
              "total_rows_inc_nulls": 1000,
              "value_count": 23
             }
            ]
           },
           "encoding": {
            "tooltip": [
             {
              "field": "value_count",
              "type": "quantitative"
             },
             {
              "field": "percentile_ex_nulls",
              "type": "quantitative"
             },
             {
              "field": "percentile_inc_nulls",
              "type": "quantitative"
             },
             {
              "field": "total_non_null_rows",
              "type": "quantitative"
             },
             {
              "field": "total_rows_inc_nulls",
              "type": "quantitative"
             }
            ],
            "x": {
             "field": "percentile_ex_nulls",
             "sort": "descending",
             "title": "Percentile",
             "type": "quantitative"
            },
            "y": {
             "field": "value_count",
             "title": "Count of values",
             "type": "quantitative"
            }
           },
           "mark": {
            "interpolate": "step-after",
            "type": "line"
           },
           "title": {
            "subtitle": "In this col, 181 values (18.1%) are null and there are 371 distinct values",
            "text": "Distribution of counts of values in column surname"
           }
          },
          {
           "data": {
            "values": [
             {
              "distinct_value_count": 371,
              "group_name": "surname",
              "total_non_null_rows": 819,
              "total_rows_inc_nulls": 1000,
              "value": "Jones",
              "value_count": 23
             },
             {
              "distinct_value_count": 371,
              "group_name": "surname",
              "total_non_null_rows": 819,
              "total_rows_inc_nulls": 1000,
              "value": "Davies",
              "value_count": 14
             },
             {
              "distinct_value_count": 371,
              "group_name": "surname",
              "total_non_null_rows": 819,
              "total_rows_inc_nulls": 1000,
              "value": "Taylor",
              "value_count": 14
             },
             {
              "distinct_value_count": 371,
              "group_name": "surname",
              "total_non_null_rows": 819,
              "total_rows_inc_nulls": 1000,
              "value": "Hall",
              "value_count": 13
             },
             {
              "distinct_value_count": 371,
              "group_name": "surname",
              "total_non_null_rows": 819,
              "total_rows_inc_nulls": 1000,
              "value": "Campbell",
              "value_count": 13
             },
             {
              "distinct_value_count": 371,
              "group_name": "surname",
              "total_non_null_rows": 819,
              "total_rows_inc_nulls": 1000,
              "value": "Morgan",
              "value_count": 12
             },
             {
              "distinct_value_count": 371,
              "group_name": "surname",
              "total_non_null_rows": 819,
              "total_rows_inc_nulls": 1000,
              "value": "Smith",
              "value_count": 11
             },
             {
              "distinct_value_count": 371,
              "group_name": "surname",
              "total_non_null_rows": 819,
              "total_rows_inc_nulls": 1000,
              "value": "King",
              "value_count": 10
             },
             {
              "distinct_value_count": 371,
              "group_name": "surname",
              "total_non_null_rows": 819,
              "total_rows_inc_nulls": 1000,
              "value": "Russell",
              "value_count": 10
             },
             {
              "distinct_value_count": 371,
              "group_name": "surname",
              "total_non_null_rows": 819,
              "total_rows_inc_nulls": 1000,
              "value": "Wright",
              "value_count": 9
             }
            ]
           },
           "encoding": {
            "tooltip": [
             {
              "field": "value",
              "type": "nominal"
             },
             {
              "field": "value_count",
              "type": "quantitative"
             },
             {
              "field": "total_non_null_rows",
              "type": "quantitative"
             },
             {
              "field": "total_rows_inc_nulls",
              "type": "quantitative"
             }
            ],
            "x": {
             "field": "value",
             "sort": "-y",
             "title": null,
             "type": "nominal"
            },
            "y": {
             "field": "value_count",
             "title": "Value count",
             "type": "quantitative"
            }
           },
           "mark": "bar",
           "title": "Top 10 values by value count"
          },
          {
           "data": {
            "values": [
             {
              "distinct_value_count": 371,
              "group_name": "surname",
              "total_non_null_rows": 819,
              "total_rows_inc_nulls": 1000,
              "value": "Alan",
              "value_count": 1
             },
             {
              "distinct_value_count": 371,
              "group_name": "surname",
              "total_non_null_rows": 819,
              "total_rows_inc_nulls": 1000,
              "value": "Alen",
              "value_count": 1
             },
             {
              "distinct_value_count": 371,
              "group_name": "surname",
              "total_non_null_rows": 819,
              "total_rows_inc_nulls": 1000,
              "value": "pMurphy",
              "value_count": 1
             },
             {
              "distinct_value_count": 371,
              "group_name": "surname",
              "total_non_null_rows": 819,
              "total_rows_inc_nulls": 1000,
              "value": "Isla",
              "value_count": 1
             },
             {
              "distinct_value_count": 371,
              "group_name": "surname",
              "total_non_null_rows": 819,
              "total_rows_inc_nulls": 1000,
              "value": "Coox",
              "value_count": 1
             }
            ]
           },
           "encoding": {
            "tooltip": [
             {
              "field": "value",
              "type": "nominal"
             },
             {
              "field": "value_count",
              "type": "quantitative"
             },
             {
              "field": "total_non_null_rows",
              "type": "quantitative"
             },
             {
              "field": "total_rows_inc_nulls",
              "type": "quantitative"
             }
            ],
            "x": {
             "field": "value",
             "sort": "-y",
             "title": null,
             "type": "nominal"
            },
            "y": {
             "field": "value_count",
             "scale": {
              "domain": [
               0,
               23
              ]
             },
             "title": "Value count",
             "type": "quantitative"
            }
           },
           "mark": "bar",
           "title": "Bottom 5 values by value count"
          }
         ]
        },
        {
         "hconcat": [
          {
           "data": {
            "values": [
             {
              "distinct_value_count": 424,
              "group_name": "email",
              "percentile_ex_nulls": 0.9619771838188171,
              "percentile_inc_nulls": 0.9700000286102295,
              "sum_tokens_in_value_count_group": 30,
              "total_non_null_rows": 789,
              "total_rows_inc_nulls": 1000,
              "value_count": 6
             },
             {
              "distinct_value_count": 424,
              "group_name": "email",
              "percentile_ex_nulls": 0.8479087352752686,
              "percentile_inc_nulls": 0.8799999952316284,
              "sum_tokens_in_value_count_group": 90,
              "total_non_null_rows": 789,
              "total_rows_inc_nulls": 1000,
              "value_count": 5
             },
             {
              "distinct_value_count": 424,
              "group_name": "email",
              "percentile_ex_nulls": 0.6653992533683777,
              "percentile_inc_nulls": 0.7360000014305115,
              "sum_tokens_in_value_count_group": 144,
              "total_non_null_rows": 789,
              "total_rows_inc_nulls": 1000,
              "value_count": 4
             },
             {
              "distinct_value_count": 424,
              "group_name": "email",
              "percentile_ex_nulls": 0.47148287296295166,
              "percentile_inc_nulls": 0.5830000042915344,
              "sum_tokens_in_value_count_group": 153,
              "total_non_null_rows": 789,
              "total_rows_inc_nulls": 1000,
              "value_count": 3
             },
             {
              "distinct_value_count": 424,
              "group_name": "email",
              "percentile_ex_nulls": 0.32446134090423584,
              "percentile_inc_nulls": 0.46700000762939453,
              "sum_tokens_in_value_count_group": 116,
              "total_non_null_rows": 789,
              "total_rows_inc_nulls": 1000,
              "value_count": 2
             },
             {
              "distinct_value_count": 424,
              "group_name": "email",
              "percentile_ex_nulls": 0,
              "percentile_inc_nulls": 0.21100002527236938,
              "sum_tokens_in_value_count_group": 256,
              "total_non_null_rows": 789,
              "total_rows_inc_nulls": 1000,
              "value_count": 1
             },
             {
              "distinct_value_count": 424,
              "group_name": "email",
              "percentile_ex_nulls": 1,
              "percentile_inc_nulls": 1,
              "sum_tokens_in_value_count_group": 30,
              "total_non_null_rows": 789,
              "total_rows_inc_nulls": 1000,
              "value_count": 6
             }
            ]
           },
           "encoding": {
            "tooltip": [
             {
              "field": "value_count",
              "type": "quantitative"
             },
             {
              "field": "percentile_ex_nulls",
              "type": "quantitative"
             },
             {
              "field": "percentile_inc_nulls",
              "type": "quantitative"
             },
             {
              "field": "total_non_null_rows",
              "type": "quantitative"
             },
             {
              "field": "total_rows_inc_nulls",
              "type": "quantitative"
             }
            ],
            "x": {
             "field": "percentile_ex_nulls",
             "sort": "descending",
             "title": "Percentile",
             "type": "quantitative"
            },
            "y": {
             "field": "value_count",
             "title": "Count of values",
             "type": "quantitative"
            }
           },
           "mark": {
            "interpolate": "step-after",
            "type": "line"
           },
           "title": {
            "subtitle": "In this col, 211 values (21.1%) are null and there are 424 distinct values",
            "text": "Distribution of counts of values in column email"
           }
          },
          {
           "data": {
            "values": [
             {
              "distinct_value_count": 424,
              "group_name": "email",
              "total_non_null_rows": 789,
              "total_rows_inc_nulls": 1000,
              "value": "omoore64@randall.com",
              "value_count": 6
             },
             {
              "distinct_value_count": 424,
              "group_name": "email",
              "total_non_null_rows": 789,
              "total_rows_inc_nulls": 1000,
              "value": "j.williams@levine-johnson.com",
              "value_count": 6
             },
             {
              "distinct_value_count": 424,
              "group_name": "email",
              "total_non_null_rows": 789,
              "total_rows_inc_nulls": 1000,
              "value": "iwilkinson@bush.com",
              "value_count": 6
             },
             {
              "distinct_value_count": 424,
              "group_name": "email",
              "total_non_null_rows": 789,
              "total_rows_inc_nulls": 1000,
              "value": "fb@nelson.com",
              "value_count": 6
             },
             {
              "distinct_value_count": 424,
              "group_name": "email",
              "total_non_null_rows": 789,
              "total_rows_inc_nulls": 1000,
              "value": "jessica.miller@johnson.com",
              "value_count": 6
             },
             {
              "distinct_value_count": 424,
              "group_name": "email",
              "total_non_null_rows": 789,
              "total_rows_inc_nulls": 1000,
              "value": "t.m39@brooks-sawyer.com",
              "value_count": 5
             },
             {
              "distinct_value_count": 424,
              "group_name": "email",
              "total_non_null_rows": 789,
              "total_rows_inc_nulls": 1000,
              "value": "r.cole1@ramirez-anthony.com",
              "value_count": 5
             },
             {
              "distinct_value_count": 424,
              "group_name": "email",
              "total_non_null_rows": 789,
              "total_rows_inc_nulls": 1000,
              "value": "oliver.atkinson@moran-smith.com",
              "value_count": 5
             },
             {
              "distinct_value_count": 424,
              "group_name": "email",
              "total_non_null_rows": 789,
              "total_rows_inc_nulls": 1000,
              "value": "hollythomson3@levine-jones.com",
              "value_count": 5
             },
             {
              "distinct_value_count": 424,
              "group_name": "email",
              "total_non_null_rows": 789,
              "total_rows_inc_nulls": 1000,
              "value": "leahrussell@charles.net",
              "value_count": 5
             }
            ]
           },
           "encoding": {
            "tooltip": [
             {
              "field": "value",
              "type": "nominal"
             },
             {
              "field": "value_count",
              "type": "quantitative"
             },
             {
              "field": "total_non_null_rows",
              "type": "quantitative"
             },
             {
              "field": "total_rows_inc_nulls",
              "type": "quantitative"
             }
            ],
            "x": {
             "field": "value",
             "sort": "-y",
             "title": null,
             "type": "nominal"
            },
            "y": {
             "field": "value_count",
             "title": "Value count",
             "type": "quantitative"
            }
           },
           "mark": "bar",
           "title": "Top 10 values by value count"
          },
          {
           "data": {
            "values": [
             {
              "distinct_value_count": 424,
              "group_name": "email",
              "total_non_null_rows": 789,
              "total_rows_inc_nulls": 1000,
              "value": "robert255@smith.net",
              "value_count": 1
             },
             {
              "distinct_value_count": 424,
              "group_name": "email",
              "total_non_null_rows": 789,
              "total_rows_inc_nulls": 1000,
              "value": "evihd56@earris-bailey.net",
              "value_count": 1
             },
             {
              "distinct_value_count": 424,
              "group_name": "email",
              "total_non_null_rows": 789,
              "total_rows_inc_nulls": 1000,
              "value": "o.griffiths90@reyes-coleman.com",
              "value_count": 1
             },
             {
              "distinct_value_count": 424,
              "group_name": "email",
              "total_non_null_rows": 789,
              "total_rows_inc_nulls": 1000,
              "value": "muhammadsmith@brooks.com",
              "value_count": 1
             },
             {
              "distinct_value_count": 424,
              "group_name": "email",
              "total_non_null_rows": 789,
              "total_rows_inc_nulls": 1000,
              "value": "l.c91@perez-gonzalez.com",
              "value_count": 1
             }
            ]
           },
           "encoding": {
            "tooltip": [
             {
              "field": "value",
              "type": "nominal"
             },
             {
              "field": "value_count",
              "type": "quantitative"
             },
             {
              "field": "total_non_null_rows",
              "type": "quantitative"
             },
             {
              "field": "total_rows_inc_nulls",
              "type": "quantitative"
             }
            ],
            "x": {
             "field": "value",
             "sort": "-y",
             "title": null,
             "type": "nominal"
            },
            "y": {
             "field": "value_count",
             "scale": {
              "domain": [
               0,
               6
              ]
             },
             "title": "Value count",
             "type": "quantitative"
            }
           },
           "mark": "bar",
           "title": "Bottom 5 values by value count"
          }
         ]
        },
        {
         "hconcat": [
          {
           "data": {
            "values": [
             {
              "distinct_value_count": 61,
              "group_name": "substr_dob_1_4_",
              "percentile_ex_nulls": 0.9399999976158142,
              "percentile_inc_nulls": 0.9399999976158142,
              "sum_tokens_in_value_count_group": 60,
              "total_non_null_rows": 1000,
              "total_rows_inc_nulls": 1000,
              "value_count": 30
             },
             {
              "distinct_value_count": 61,
              "group_name": "substr_dob_1_4_",
              "percentile_ex_nulls": 0.9110000133514404,
              "percentile_inc_nulls": 0.9110000133514404,
              "sum_tokens_in_value_count_group": 29,
              "total_non_null_rows": 1000,
              "total_rows_inc_nulls": 1000,
              "value_count": 29
             },
             {
              "distinct_value_count": 61,
              "group_name": "substr_dob_1_4_",
              "percentile_ex_nulls": 0.8830000162124634,
              "percentile_inc_nulls": 0.8830000162124634,
              "sum_tokens_in_value_count_group": 28,
              "total_non_null_rows": 1000,
              "total_rows_inc_nulls": 1000,
              "value_count": 28
             },
             {
              "distinct_value_count": 61,
              "group_name": "substr_dob_1_4_",
              "percentile_ex_nulls": 0.8289999961853027,
              "percentile_inc_nulls": 0.8289999961853027,
              "sum_tokens_in_value_count_group": 54,
              "total_non_null_rows": 1000,
              "total_rows_inc_nulls": 1000,
              "value_count": 27
             },
             {
              "distinct_value_count": 61,
              "group_name": "substr_dob_1_4_",
              "percentile_ex_nulls": 0.7789999842643738,
              "percentile_inc_nulls": 0.7789999842643738,
              "sum_tokens_in_value_count_group": 50,
              "total_non_null_rows": 1000,
              "total_rows_inc_nulls": 1000,
              "value_count": 25
             },
             {
              "distinct_value_count": 61,
              "group_name": "substr_dob_1_4_",
              "percentile_ex_nulls": 0.7070000171661377,
              "percentile_inc_nulls": 0.7070000171661377,
              "sum_tokens_in_value_count_group": 72,
              "total_non_null_rows": 1000,
              "total_rows_inc_nulls": 1000,
              "value_count": 24
             },
             {
              "distinct_value_count": 61,
              "group_name": "substr_dob_1_4_",
              "percentile_ex_nulls": 0.5690000057220459,
              "percentile_inc_nulls": 0.5690000057220459,
              "sum_tokens_in_value_count_group": 138,
              "total_non_null_rows": 1000,
              "total_rows_inc_nulls": 1000,
              "value_count": 23
             },
             {
              "distinct_value_count": 61,
              "group_name": "substr_dob_1_4_",
              "percentile_ex_nulls": 0.48100000619888306,
              "percentile_inc_nulls": 0.48100000619888306,
              "sum_tokens_in_value_count_group": 88,
              "total_non_null_rows": 1000,
              "total_rows_inc_nulls": 1000,
              "value_count": 22
             },
             {
              "distinct_value_count": 61,
              "group_name": "substr_dob_1_4_",
              "percentile_ex_nulls": 0.4599999785423279,
              "percentile_inc_nulls": 0.4599999785423279,
              "sum_tokens_in_value_count_group": 21,
              "total_non_null_rows": 1000,
              "total_rows_inc_nulls": 1000,
              "value_count": 21
             },
             {
              "distinct_value_count": 61,
              "group_name": "substr_dob_1_4_",
              "percentile_ex_nulls": 0.3799999952316284,
              "percentile_inc_nulls": 0.3799999952316284,
              "sum_tokens_in_value_count_group": 80,
              "total_non_null_rows": 1000,
              "total_rows_inc_nulls": 1000,
              "value_count": 20
             },
             {
              "distinct_value_count": 61,
              "group_name": "substr_dob_1_4_",
              "percentile_ex_nulls": 0.3230000138282776,
              "percentile_inc_nulls": 0.3230000138282776,
              "sum_tokens_in_value_count_group": 57,
              "total_non_null_rows": 1000,
              "total_rows_inc_nulls": 1000,
              "value_count": 19
             },
             {
              "distinct_value_count": 61,
              "group_name": "substr_dob_1_4_",
              "percentile_ex_nulls": 0.26899999380111694,
              "percentile_inc_nulls": 0.26899999380111694,
              "sum_tokens_in_value_count_group": 54,
              "total_non_null_rows": 1000,
              "total_rows_inc_nulls": 1000,
              "value_count": 18
             },
             {
              "distinct_value_count": 61,
              "group_name": "substr_dob_1_4_",
              "percentile_ex_nulls": 0.23500001430511475,
              "percentile_inc_nulls": 0.23500001430511475,
              "sum_tokens_in_value_count_group": 34,
              "total_non_null_rows": 1000,
              "total_rows_inc_nulls": 1000,
              "value_count": 17
             },
             {
              "distinct_value_count": 61,
              "group_name": "substr_dob_1_4_",
              "percentile_ex_nulls": 0.203000009059906,
              "percentile_inc_nulls": 0.203000009059906,
              "sum_tokens_in_value_count_group": 32,
              "total_non_null_rows": 1000,
              "total_rows_inc_nulls": 1000,
              "value_count": 16
             },
             {
              "distinct_value_count": 61,
              "group_name": "substr_dob_1_4_",
              "percentile_ex_nulls": 0.15799999237060547,
              "percentile_inc_nulls": 0.15799999237060547,
              "sum_tokens_in_value_count_group": 45,
              "total_non_null_rows": 1000,
              "total_rows_inc_nulls": 1000,
              "value_count": 15
             },
             {
              "distinct_value_count": 61,
              "group_name": "substr_dob_1_4_",
              "percentile_ex_nulls": 0.14399999380111694,
              "percentile_inc_nulls": 0.14399999380111694,
              "sum_tokens_in_value_count_group": 14,
              "total_non_null_rows": 1000,
              "total_rows_inc_nulls": 1000,
              "value_count": 14
             },
             {
              "distinct_value_count": 61,
              "group_name": "substr_dob_1_4_",
              "percentile_ex_nulls": 0.07899999618530273,
              "percentile_inc_nulls": 0.07899999618530273,
              "sum_tokens_in_value_count_group": 65,
              "total_non_null_rows": 1000,
              "total_rows_inc_nulls": 1000,
              "value_count": 13
             },
             {
              "distinct_value_count": 61,
              "group_name": "substr_dob_1_4_",
              "percentile_ex_nulls": 0.05699998140335083,
              "percentile_inc_nulls": 0.05699998140335083,
              "sum_tokens_in_value_count_group": 22,
              "total_non_null_rows": 1000,
              "total_rows_inc_nulls": 1000,
              "value_count": 11
             },
             {
              "distinct_value_count": 61,
              "group_name": "substr_dob_1_4_",
              "percentile_ex_nulls": 0.04799997806549072,
              "percentile_inc_nulls": 0.04799997806549072,
              "sum_tokens_in_value_count_group": 9,
              "total_non_null_rows": 1000,
              "total_rows_inc_nulls": 1000,
              "value_count": 9
             },
             {
              "distinct_value_count": 61,
              "group_name": "substr_dob_1_4_",
              "percentile_ex_nulls": 0.04000002145767212,
              "percentile_inc_nulls": 0.04000002145767212,
              "sum_tokens_in_value_count_group": 8,
              "total_non_null_rows": 1000,
              "total_rows_inc_nulls": 1000,
              "value_count": 8
             },
             {
              "distinct_value_count": 61,
              "group_name": "substr_dob_1_4_",
              "percentile_ex_nulls": 0.03299999237060547,
              "percentile_inc_nulls": 0.03299999237060547,
              "sum_tokens_in_value_count_group": 7,
              "total_non_null_rows": 1000,
              "total_rows_inc_nulls": 1000,
              "value_count": 7
             },
             {
              "distinct_value_count": 61,
              "group_name": "substr_dob_1_4_",
              "percentile_ex_nulls": 0.027000010013580322,
              "percentile_inc_nulls": 0.027000010013580322,
              "sum_tokens_in_value_count_group": 6,
              "total_non_null_rows": 1000,
              "total_rows_inc_nulls": 1000,
              "value_count": 6
             },
             {
              "distinct_value_count": 61,
              "group_name": "substr_dob_1_4_",
              "percentile_ex_nulls": 0.017000019550323486,
              "percentile_inc_nulls": 0.017000019550323486,
              "sum_tokens_in_value_count_group": 10,
              "total_non_null_rows": 1000,
              "total_rows_inc_nulls": 1000,
              "value_count": 5
             },
             {
              "distinct_value_count": 61,
              "group_name": "substr_dob_1_4_",
              "percentile_ex_nulls": 0.013000011444091797,
              "percentile_inc_nulls": 0.013000011444091797,
              "sum_tokens_in_value_count_group": 4,
              "total_non_null_rows": 1000,
              "total_rows_inc_nulls": 1000,
              "value_count": 4
             },
             {
              "distinct_value_count": 61,
              "group_name": "substr_dob_1_4_",
              "percentile_ex_nulls": 0.009999990463256836,
              "percentile_inc_nulls": 0.009999990463256836,
              "sum_tokens_in_value_count_group": 3,
              "total_non_null_rows": 1000,
              "total_rows_inc_nulls": 1000,
              "value_count": 3
             },
             {
              "distinct_value_count": 61,
              "group_name": "substr_dob_1_4_",
              "percentile_ex_nulls": 0.001999974250793457,
              "percentile_inc_nulls": 0.001999974250793457,
              "sum_tokens_in_value_count_group": 8,
              "total_non_null_rows": 1000,
              "total_rows_inc_nulls": 1000,
              "value_count": 2
             },
             {
              "distinct_value_count": 61,
              "group_name": "substr_dob_1_4_",
              "percentile_ex_nulls": 0,
              "percentile_inc_nulls": 0,
              "sum_tokens_in_value_count_group": 2,
              "total_non_null_rows": 1000,
              "total_rows_inc_nulls": 1000,
              "value_count": 1
             },
             {
              "distinct_value_count": 61,
              "group_name": "substr_dob_1_4_",
              "percentile_ex_nulls": 1,
              "percentile_inc_nulls": 1,
              "sum_tokens_in_value_count_group": 60,
              "total_non_null_rows": 1000,
              "total_rows_inc_nulls": 1000,
              "value_count": 30
             }
            ]
           },
           "encoding": {
            "tooltip": [
             {
              "field": "value_count",
              "type": "quantitative"
             },
             {
              "field": "percentile_ex_nulls",
              "type": "quantitative"
             },
             {
              "field": "percentile_inc_nulls",
              "type": "quantitative"
             },
             {
              "field": "total_non_null_rows",
              "type": "quantitative"
             },
             {
              "field": "total_rows_inc_nulls",
              "type": "quantitative"
             }
            ],
            "x": {
             "field": "percentile_ex_nulls",
             "sort": "descending",
             "title": "Percentile",
             "type": "quantitative"
            },
            "y": {
             "field": "value_count",
             "title": "Count of values",
             "type": "quantitative"
            }
           },
           "mark": {
            "interpolate": "step-after",
            "type": "line"
           },
           "title": {
            "subtitle": "In this col, 0 values (0.0%) are null and there are 61 distinct values",
            "text": "Distribution of counts of values in column substr(dob, 1,4)"
           }
          },
          {
           "data": {
            "values": [
             {
              "distinct_value_count": 61,
              "group_name": "substr_dob_1_4_",
              "total_non_null_rows": 1000,
              "total_rows_inc_nulls": 1000,
              "value": "2011",
              "value_count": 30
             },
             {
              "distinct_value_count": 61,
              "group_name": "substr_dob_1_4_",
              "total_non_null_rows": 1000,
              "total_rows_inc_nulls": 1000,
              "value": "2000",
              "value_count": 30
             },
             {
              "distinct_value_count": 61,
              "group_name": "substr_dob_1_4_",
              "total_non_null_rows": 1000,
              "total_rows_inc_nulls": 1000,
              "value": "1983",
              "value_count": 29
             },
             {
              "distinct_value_count": 61,
              "group_name": "substr_dob_1_4_",
              "total_non_null_rows": 1000,
              "total_rows_inc_nulls": 1000,
              "value": "1984",
              "value_count": 28
             },
             {
              "distinct_value_count": 61,
              "group_name": "substr_dob_1_4_",
              "total_non_null_rows": 1000,
              "total_rows_inc_nulls": 1000,
              "value": "1991",
              "value_count": 27
             },
             {
              "distinct_value_count": 61,
              "group_name": "substr_dob_1_4_",
              "total_non_null_rows": 1000,
              "total_rows_inc_nulls": 1000,
              "value": "1972",
              "value_count": 27
             },
             {
              "distinct_value_count": 61,
              "group_name": "substr_dob_1_4_",
              "total_non_null_rows": 1000,
              "total_rows_inc_nulls": 1000,
              "value": "2017",
              "value_count": 25
             },
             {
              "distinct_value_count": 61,
              "group_name": "substr_dob_1_4_",
              "total_non_null_rows": 1000,
              "total_rows_inc_nulls": 1000,
              "value": "2002",
              "value_count": 25
             },
             {
              "distinct_value_count": 61,
              "group_name": "substr_dob_1_4_",
              "total_non_null_rows": 1000,
              "total_rows_inc_nulls": 1000,
              "value": "1974",
              "value_count": 24
             },
             {
              "distinct_value_count": 61,
              "group_name": "substr_dob_1_4_",
              "total_non_null_rows": 1000,
              "total_rows_inc_nulls": 1000,
              "value": "2010",
              "value_count": 24
             }
            ]
           },
           "encoding": {
            "tooltip": [
             {
              "field": "value",
              "type": "nominal"
             },
             {
              "field": "value_count",
              "type": "quantitative"
             },
             {
              "field": "total_non_null_rows",
              "type": "quantitative"
             },
             {
              "field": "total_rows_inc_nulls",
              "type": "quantitative"
             }
            ],
            "x": {
             "field": "value",
             "sort": "-y",
             "title": null,
             "type": "nominal"
            },
            "y": {
             "field": "value_count",
             "title": "Value count",
             "type": "quantitative"
            }
           },
           "mark": "bar",
           "title": "Top 10 values by value count"
          },
          {
           "data": {
            "values": [
             {
              "distinct_value_count": 61,
              "group_name": "substr_dob_1_4_",
              "total_non_null_rows": 1000,
              "total_rows_inc_nulls": 1000,
              "value": "2031",
              "value_count": 1
             },
             {
              "distinct_value_count": 61,
              "group_name": "substr_dob_1_4_",
              "total_non_null_rows": 1000,
              "total_rows_inc_nulls": 1000,
              "value": "2027",
              "value_count": 1
             },
             {
              "distinct_value_count": 61,
              "group_name": "substr_dob_1_4_",
              "total_non_null_rows": 1000,
              "total_rows_inc_nulls": 1000,
              "value": "2026",
              "value_count": 2
             },
             {
              "distinct_value_count": 61,
              "group_name": "substr_dob_1_4_",
              "total_non_null_rows": 1000,
              "total_rows_inc_nulls": 1000,
              "value": "2030",
              "value_count": 2
             },
             {
              "distinct_value_count": 61,
              "group_name": "substr_dob_1_4_",
              "total_non_null_rows": 1000,
              "total_rows_inc_nulls": 1000,
              "value": "2028",
              "value_count": 2
             }
            ]
           },
           "encoding": {
            "tooltip": [
             {
              "field": "value",
              "type": "nominal"
             },
             {
              "field": "value_count",
              "type": "quantitative"
             },
             {
              "field": "total_non_null_rows",
              "type": "quantitative"
             },
             {
              "field": "total_rows_inc_nulls",
              "type": "quantitative"
             }
            ],
            "x": {
             "field": "value",
             "sort": "-y",
             "title": null,
             "type": "nominal"
            },
            "y": {
             "field": "value_count",
             "scale": {
              "domain": [
               0,
               30
              ]
             },
             "title": "Value count",
             "type": "quantitative"
            }
           },
           "mark": "bar",
           "title": "Bottom 5 values by value count"
          }
         ]
        }
       ]
      },
      "text/plain": [
       "<VegaLite 5 object>\n",
       "\n",
       "If you see this message, it means the renderer has not been properly enabled\n",
       "for the frontend that you are using. For more information, see\n",
       "https://altair-viz.github.io/user_guide/display_frontends.html#troubleshooting\n"
      ]
     },
     "execution_count": 4,
     "metadata": {},
     "output_type": "execute_result"
    }
   ],
   "source": [
    "linker.profile_columns([\"first_name\", \"city\", \"surname\", \"email\", \"substr(dob, 1,4)\"], top_n=10, bottom_n=5)"
   ]
  },
  {
   "cell_type": "markdown",
   "id": "6c5d3a2d",
   "metadata": {},
   "source": [
    "This chart is very information-dense, but here are some key takehomes relevant to our linkage:\n",
    "\n",
    "- There is strong skew in the `city` field with around 20% of the values being `London`.  We therefore will probably want to use `term_frequency_adjustments` in our linkage model, so that it can weight a match on London differently to a match on, say, `Norwich`.\n",
    "\n",
    "- Looking at the \"Bottom 5 values by value count\", we can see typos in the data in most fields.  This tells us this information was possibly entered by hand, or using Optical Character Recognition, giving us an insight into the type of data entry errors we may see.\n",
    "\n",
    "- Email is a much more uniquely-identifying field than any others, with a maximum value count of 6.  It's likely to be a strong linking variable."
   ]
  },
  {
   "cell_type": "markdown",
   "id": "1f37cb1e",
   "metadata": {},
   "source": [
    "## Next steps\n",
    "\n",
    "At this point, we have begin to develop a strong understanding of our data.  It's time to move on to estimating a linkage model\n"
   ]
  },
  {
   "cell_type": "markdown",
   "id": "c537f065-f61f-402a-ad2c-a8575b6207ab",
   "metadata": {},
   "source": [
    "## Further reading\n",
    "\n",
    "You can find the documentation for the exploratory analysis tools in Splink [here](https://moj-analytical-services.github.io/splink/linkerexp.html)"
   ]
  }
 ],
 "metadata": {
  "kernelspec": {
   "display_name": "Python 3 (ipykernel)",
   "language": "python",
   "name": "python3"
  },
  "language_info": {
   "codemirror_mode": {
    "name": "ipython",
    "version": 3
   },
   "file_extension": ".py",
   "mimetype": "text/x-python",
   "name": "python",
   "nbconvert_exporter": "python",
   "pygments_lexer": "ipython3",
   "version": "3.9.6"
  }
 },
 "nbformat": 4,
 "nbformat_minor": 5
}

{
 "cells": [
  {
   "cell_type": "markdown",
   "metadata": {},
   "source": [
    "## Estimating m from a sample of pairwise labels\n",
    "\n",
    "In this example, we estimate the m probabilities of the model from a table containing pairwise record comparisons which we know are 'true' matches.  For example, these may be the result of work by a clerical team who have manually labelled a sample of matches.\n",
    "\n",
    "The table must be in the following format:\n",
    "\n",
    "|source_dataset_l|unique_id_l|source_dataset_r|unique_id_r|\n",
    "|----------------|-----------|----------------|-----------|\n",
    "|df_1            |1          |df_2            |2          |\n",
    "|df_1            |1          |df_2            |3          |\n",
    "\n",
    "It is assumed that every record in the table represents a certain match.\n",
    "\n",
    "Note that the column names above are the defaults.  They should correspond to the values you've set for [`unique_id_column_name`](https://moj-analytical-services.github.io/splink/settings_dict_guide.html#unique_id_column_name) and  [`source_dataset_column_name`](https://moj-analytical-services.github.io/splink/settings_dict_guide.html#source_dataset_column_name), if you've chosen custom values.\n",
    "\n"
   ]
  },
  {
   "cell_type": "code",
   "execution_count": 1,
   "metadata": {},
   "outputs": [
    {
     "data": {
      "text/plain": [
       "RendererRegistry.enable('mimetype')"
      ]
     },
     "execution_count": 1,
     "metadata": {},
     "output_type": "execute_result"
    }
   ],
   "source": [
    "import pandas as pd \n",
    "import altair as alt\n",
    "alt.renderers.enable(\"mimetype\")"
   ]
  },
  {
   "cell_type": "code",
   "execution_count": 2,
   "metadata": {},
   "outputs": [
    {
     "data": {
      "text/html": [
       "<div>\n",
       "<style scoped>\n",
       "    .dataframe tbody tr th:only-of-type {\n",
       "        vertical-align: middle;\n",
       "    }\n",
       "\n",
       "    .dataframe tbody tr th {\n",
       "        vertical-align: top;\n",
       "    }\n",
       "\n",
       "    .dataframe thead th {\n",
       "        text-align: right;\n",
       "    }\n",
       "</style>\n",
       "<table border=\"1\" class=\"dataframe\">\n",
       "  <thead>\n",
       "    <tr style=\"text-align: right;\">\n",
       "      <th></th>\n",
       "      <th>unique_id_l</th>\n",
       "      <th>source_dataset_l</th>\n",
       "      <th>unique_id_r</th>\n",
       "      <th>source_dataset_r</th>\n",
       "    </tr>\n",
       "  </thead>\n",
       "  <tbody>\n",
       "    <tr>\n",
       "      <th>0</th>\n",
       "      <td>0</td>\n",
       "      <td>fake_1000</td>\n",
       "      <td>3</td>\n",
       "      <td>fake_1000</td>\n",
       "    </tr>\n",
       "    <tr>\n",
       "      <th>1</th>\n",
       "      <td>1</td>\n",
       "      <td>fake_1000</td>\n",
       "      <td>3</td>\n",
       "      <td>fake_1000</td>\n",
       "    </tr>\n",
       "    <tr>\n",
       "      <th>2</th>\n",
       "      <td>2</td>\n",
       "      <td>fake_1000</td>\n",
       "      <td>3</td>\n",
       "      <td>fake_1000</td>\n",
       "    </tr>\n",
       "    <tr>\n",
       "      <th>3</th>\n",
       "      <td>4</td>\n",
       "      <td>fake_1000</td>\n",
       "      <td>5</td>\n",
       "      <td>fake_1000</td>\n",
       "    </tr>\n",
       "    <tr>\n",
       "      <th>4</th>\n",
       "      <td>7</td>\n",
       "      <td>fake_1000</td>\n",
       "      <td>10</td>\n",
       "      <td>fake_1000</td>\n",
       "    </tr>\n",
       "    <tr>\n",
       "      <th>...</th>\n",
       "      <td>...</td>\n",
       "      <td>...</td>\n",
       "      <td>...</td>\n",
       "      <td>...</td>\n",
       "    </tr>\n",
       "    <tr>\n",
       "      <th>2026</th>\n",
       "      <td>978</td>\n",
       "      <td>fake_1000</td>\n",
       "      <td>979</td>\n",
       "      <td>fake_1000</td>\n",
       "    </tr>\n",
       "    <tr>\n",
       "      <th>2027</th>\n",
       "      <td>985</td>\n",
       "      <td>fake_1000</td>\n",
       "      <td>986</td>\n",
       "      <td>fake_1000</td>\n",
       "    </tr>\n",
       "    <tr>\n",
       "      <th>2028</th>\n",
       "      <td>624</td>\n",
       "      <td>fake_1000</td>\n",
       "      <td>626</td>\n",
       "      <td>fake_1000</td>\n",
       "    </tr>\n",
       "    <tr>\n",
       "      <th>2029</th>\n",
       "      <td>625</td>\n",
       "      <td>fake_1000</td>\n",
       "      <td>626</td>\n",
       "      <td>fake_1000</td>\n",
       "    </tr>\n",
       "    <tr>\n",
       "      <th>2030</th>\n",
       "      <td>624</td>\n",
       "      <td>fake_1000</td>\n",
       "      <td>625</td>\n",
       "      <td>fake_1000</td>\n",
       "    </tr>\n",
       "  </tbody>\n",
       "</table>\n",
       "<p>2031 rows × 4 columns</p>\n",
       "</div>"
      ],
      "text/plain": [
       "      unique_id_l source_dataset_l  unique_id_r source_dataset_r\n",
       "0               0        fake_1000            3        fake_1000\n",
       "1               1        fake_1000            3        fake_1000\n",
       "2               2        fake_1000            3        fake_1000\n",
       "3               4        fake_1000            5        fake_1000\n",
       "4               7        fake_1000           10        fake_1000\n",
       "...           ...              ...          ...              ...\n",
       "2026          978        fake_1000          979        fake_1000\n",
       "2027          985        fake_1000          986        fake_1000\n",
       "2028          624        fake_1000          626        fake_1000\n",
       "2029          625        fake_1000          626        fake_1000\n",
       "2030          624        fake_1000          625        fake_1000\n",
       "\n",
       "[2031 rows x 4 columns]"
      ]
     },
     "execution_count": 2,
     "metadata": {},
     "output_type": "execute_result"
    }
   ],
   "source": [
    "pairwise_labels = pd.read_csv(\"../../data/pairwise_labels_to_estimate_m.csv\")\n",
    "pairwise_labels"
   ]
  },
  {
   "cell_type": "markdown",
   "metadata": {},
   "source": [
    "We now proceed to estimate the Fellegi Sunter model:"
   ]
  },
  {
   "cell_type": "code",
   "execution_count": 3,
   "metadata": {},
   "outputs": [
    {
     "data": {
      "text/html": [
       "<div>\n",
       "<style scoped>\n",
       "    .dataframe tbody tr th:only-of-type {\n",
       "        vertical-align: middle;\n",
       "    }\n",
       "\n",
       "    .dataframe tbody tr th {\n",
       "        vertical-align: top;\n",
       "    }\n",
       "\n",
       "    .dataframe thead th {\n",
       "        text-align: right;\n",
       "    }\n",
       "</style>\n",
       "<table border=\"1\" class=\"dataframe\">\n",
       "  <thead>\n",
       "    <tr style=\"text-align: right;\">\n",
       "      <th></th>\n",
       "      <th>unique_id</th>\n",
       "      <th>first_name</th>\n",
       "      <th>surname</th>\n",
       "      <th>dob</th>\n",
       "      <th>city</th>\n",
       "      <th>email</th>\n",
       "      <th>cluster</th>\n",
       "    </tr>\n",
       "  </thead>\n",
       "  <tbody>\n",
       "    <tr>\n",
       "      <th>0</th>\n",
       "      <td>0</td>\n",
       "      <td>Robert</td>\n",
       "      <td>Alan</td>\n",
       "      <td>1971-06-24</td>\n",
       "      <td>NaN</td>\n",
       "      <td>robert255@smith.net</td>\n",
       "      <td>0</td>\n",
       "    </tr>\n",
       "    <tr>\n",
       "      <th>1</th>\n",
       "      <td>1</td>\n",
       "      <td>Robert</td>\n",
       "      <td>Allen</td>\n",
       "      <td>1971-05-24</td>\n",
       "      <td>NaN</td>\n",
       "      <td>roberta25@smith.net</td>\n",
       "      <td>0</td>\n",
       "    </tr>\n",
       "  </tbody>\n",
       "</table>\n",
       "</div>"
      ],
      "text/plain": [
       "   unique_id first_name surname         dob city                email  cluster\n",
       "0          0     Robert    Alan  1971-06-24  NaN  robert255@smith.net        0\n",
       "1          1     Robert   Allen  1971-05-24  NaN  roberta25@smith.net        0"
      ]
     },
     "execution_count": 3,
     "metadata": {},
     "output_type": "execute_result"
    }
   ],
   "source": [
    "df = pd.read_csv(\"../../data/fake_1000.csv\")\n",
    "df.head(2)"
   ]
  },
  {
   "cell_type": "code",
   "execution_count": 4,
   "metadata": {},
   "outputs": [],
   "source": [
    "from splink.duckdb.linker import DuckDBLinker\n",
    "import splink.duckdb.comparison_library as cl\n",
    "import splink.duckdb.comparison_template_library as ctl\n",
    "\n",
    "settings = {\n",
    "    \"link_type\": \"dedupe_only\",\n",
    "    \"blocking_rules_to_generate_predictions\": [\n",
    "        \"l.first_name = r.first_name\",\n",
    "        \"l.surname = r.surname\",\n",
    "    ],\n",
    "    \"comparisons\": [\n",
    "        ctl.name_comparison(\"first_name\"),\n",
    "        ctl.name_comparison(\"surname\"),\n",
    "        ctl.date_comparison(\"dob\", cast_strings_to_date=True),\n",
    "        cl.exact_match(\"city\", term_frequency_adjustments=True),\n",
    "        ctl.email_comparison(\"email\"),\n",
    "    ],\n",
    "    \"retain_matching_columns\": True,\n",
    "    \"retain_intermediate_calculation_columns\": True,\n",
    "}"
   ]
  },
  {
   "cell_type": "code",
   "execution_count": 5,
   "metadata": {},
   "outputs": [],
   "source": [
    "linker = DuckDBLinker(df, settings, set_up_basic_logging=False)\n",
    "deterministic_rules = [\n",
    "    \"l.first_name = r.first_name and levenshtein(r.dob, l.dob) <= 1\",\n",
    "    \"l.surname = r.surname and levenshtein(r.dob, l.dob) <= 1\",\n",
    "    \"l.first_name = r.first_name and levenshtein(r.surname, l.surname) <= 2\",\n",
    "    \"l.email = r.email\"\n",
    "]\n",
    "\n",
    "linker.estimate_probability_two_random_records_match(deterministic_rules, recall=0.7)\n"
   ]
  },
  {
   "cell_type": "code",
   "execution_count": 6,
   "metadata": {},
   "outputs": [
    {
     "data": {
      "application/vnd.jupyter.widget-view+json": {
       "model_id": "b8fbb014f55542cdbe405ad993d1bef3",
       "version_major": 2,
       "version_minor": 0
      },
      "text/plain": [
       "FloatProgress(value=0.0, layout=Layout(width='auto'), style=ProgressStyle(bar_color='black'))"
      ]
     },
     "metadata": {},
     "output_type": "display_data"
    }
   ],
   "source": [
    "linker.estimate_u_using_random_sampling(max_pairs=1e6)"
   ]
  },
  {
   "cell_type": "code",
   "execution_count": 7,
   "metadata": {},
   "outputs": [],
   "source": [
    "# Register the pairwise labels table with the database, and then use it to estimate the m values\n",
    "labels_df = linker.register_labels_table(pairwise_labels, overwrite=True)\n",
    "linker.estimate_m_from_pairwise_labels(labels_df)\n",
    "\n",
    "\n",
    "# Not if the labels table already existing in the dataset you could run\n",
    "# linker.estimate_m_from_pairwise_labels(\"labels_tablename_here\")\n"
   ]
  },
  {
   "cell_type": "code",
   "execution_count": 8,
   "metadata": {},
   "outputs": [
    {
     "data": {
      "text/plain": [
       "<EMTrainingSession, blocking on l.first_name = r.first_name, deactivating comparisons first_name>"
      ]
     },
     "execution_count": 8,
     "metadata": {},
     "output_type": "execute_result"
    }
   ],
   "source": [
    "training_blocking_rule = \"l.first_name = r.first_name\"\n",
    "linker.estimate_parameters_using_expectation_maximisation(training_blocking_rule)"
   ]
  },
  {
   "cell_type": "code",
   "execution_count": 9,
   "metadata": {},
   "outputs": [
    {
     "data": {
      "application/vnd.vegalite.v5+json": {
       "$schema": "https://vega.github.io/schema/vega-lite/v5.9.3.json",
       "config": {
        "title": {
         "anchor": "middle",
         "fontSize": 18,
         "subtitleFontSize": 14
        },
        "view": {
         "continuousHeight": 300,
         "continuousWidth": 400
        }
       },
       "data": {
        "name": "data-3662623d53087b6bec38bd64c62bb6f3"
       },
       "datasets": {
        "data-3662623d53087b6bec38bd64c62bb6f3": [
         {
          "comparison_level_label": "Exact match first_name",
          "comparison_name": "first_name",
          "comparison_sort_order": 0,
          "comparison_vector_value": 4,
          "estimate_description": "estimate u by random sampling",
          "estimated_probability": 0.0057935713975033705,
          "estimated_probability_as_log_odds": -7.422948662194144,
          "m_or_u": "u",
          "sql_condition": "\"first_name_l\" = \"first_name_r\""
         },
         {
          "comparison_level_label": "Exact match first_name",
          "comparison_name": "first_name",
          "comparison_sort_order": 0,
          "comparison_vector_value": 4,
          "estimate_description": "estimate m from pairwise labels",
          "estimated_probability": 0.4953998584571833,
          "estimated_probability_as_log_odds": -0.026547154611559317,
          "m_or_u": "m",
          "sql_condition": "\"first_name_l\" = \"first_name_r\""
         },
         {
          "comparison_level_label": "Damerau_levenshtein <= 1",
          "comparison_name": "first_name",
          "comparison_sort_order": 0,
          "comparison_vector_value": 3,
          "estimate_description": "estimate u by random sampling",
          "estimated_probability": 0.00236614327345483,
          "estimated_probability_as_log_odds": -8.719829182923874,
          "m_or_u": "u",
          "sql_condition": "damerau_levenshtein(\"first_name_l\", \"first_name_r\") <= 1"
         },
         {
          "comparison_level_label": "Damerau_levenshtein <= 1",
          "comparison_name": "first_name",
          "comparison_sort_order": 0,
          "comparison_vector_value": 3,
          "estimate_description": "estimate m from pairwise labels",
          "estimated_probability": 0.17763623496107572,
          "estimated_probability_as_log_odds": -2.2108507994537567,
          "m_or_u": "m",
          "sql_condition": "damerau_levenshtein(\"first_name_l\", \"first_name_r\") <= 1"
         },
         {
          "comparison_level_label": "Jaro_winkler_similarity >= 0.9",
          "comparison_name": "first_name",
          "comparison_sort_order": 0,
          "comparison_vector_value": 2,
          "estimate_description": "estimate u by random sampling",
          "estimated_probability": 0.001296159366708712,
          "estimated_probability_as_log_odds": -9.589669996197717,
          "m_or_u": "u",
          "sql_condition": "jaro_winkler_similarity(\"first_name_l\", \"first_name_r\") >= 0.9"
         },
         {
          "comparison_level_label": "Jaro_winkler_similarity >= 0.9",
          "comparison_name": "first_name",
          "comparison_sort_order": 0,
          "comparison_vector_value": 2,
          "estimate_description": "estimate m from pairwise labels",
          "estimated_probability": 0.03255484784147204,
          "estimated_probability_as_log_odds": -4.893235571549048,
          "m_or_u": "m",
          "sql_condition": "jaro_winkler_similarity(\"first_name_l\", \"first_name_r\") >= 0.9"
         },
         {
          "comparison_level_label": "Jaro_winkler_similarity >= 0.8",
          "comparison_name": "first_name",
          "comparison_sort_order": 0,
          "comparison_vector_value": 1,
          "estimate_description": "estimate u by random sampling",
          "estimated_probability": 0.005677583982137938,
          "estimated_probability_as_log_odds": -7.45229278014839,
          "m_or_u": "u",
          "sql_condition": "jaro_winkler_similarity(\"first_name_l\", \"first_name_r\") >= 0.8"
         },
         {
          "comparison_level_label": "Jaro_winkler_similarity >= 0.8",
          "comparison_name": "first_name",
          "comparison_sort_order": 0,
          "comparison_vector_value": 1,
          "estimate_description": "estimate m from pairwise labels",
          "estimated_probability": 0.06652512384996462,
          "estimated_probability_as_log_odds": -3.810639997573907,
          "m_or_u": "m",
          "sql_condition": "jaro_winkler_similarity(\"first_name_l\", \"first_name_r\") >= 0.8"
         },
         {
          "comparison_level_label": "All other comparisons",
          "comparison_name": "first_name",
          "comparison_sort_order": 0,
          "comparison_vector_value": 0,
          "estimate_description": "estimate u by random sampling",
          "estimated_probability": 0.9848665419801952,
          "estimated_probability_as_log_odds": 6.024114651529602,
          "m_or_u": "u",
          "sql_condition": "ELSE"
         },
         {
          "comparison_level_label": "All other comparisons",
          "comparison_name": "first_name",
          "comparison_sort_order": 0,
          "comparison_vector_value": 0,
          "estimate_description": "estimate m from pairwise labels",
          "estimated_probability": 0.2278839348903043,
          "estimated_probability_as_log_odds": -1.7605185082089903,
          "m_or_u": "m",
          "sql_condition": "ELSE"
         },
         {
          "comparison_level_label": "Exact match surname",
          "comparison_name": "surname",
          "comparison_sort_order": 1,
          "comparison_vector_value": 4,
          "estimate_description": "estimate u by random sampling",
          "estimated_probability": 0.004889975550122249,
          "estimated_probability_as_log_odds": -7.668884984266247,
          "m_or_u": "u",
          "sql_condition": "\"surname_l\" = \"surname_r\""
         },
         {
          "comparison_level_label": "Exact match surname",
          "comparison_name": "surname",
          "comparison_sort_order": 1,
          "comparison_vector_value": 4,
          "estimate_description": "estimate m from pairwise labels",
          "estimated_probability": 0.4485294117647059,
          "estimated_probability_as_log_odds": -0.2980813529329946,
          "m_or_u": "m",
          "sql_condition": "\"surname_l\" = \"surname_r\""
         },
         {
          "comparison_level_label": "Exact match surname",
          "comparison_name": "surname",
          "comparison_sort_order": 1,
          "comparison_vector_value": 4,
          "estimate_description": "EM, blocked on: l.first_name = r.first_name",
          "estimated_probability": 0.6278962230809132,
          "estimated_probability_as_log_odds": 0.7548211000992998,
          "m_or_u": "m",
          "sql_condition": "\"surname_l\" = \"surname_r\""
         },
         {
          "comparison_level_label": "Damerau_levenshtein <= 1",
          "comparison_name": "surname",
          "comparison_sort_order": 1,
          "comparison_vector_value": 3,
          "estimate_description": "estimate u by random sampling",
          "estimated_probability": 0.0027554624131641246,
          "estimated_probability_as_log_odds": -8.499509058012633,
          "m_or_u": "u",
          "sql_condition": "damerau_levenshtein(\"surname_l\", \"surname_r\") <= 1"
         },
         {
          "comparison_level_label": "Damerau_levenshtein <= 1",
          "comparison_name": "surname",
          "comparison_sort_order": 1,
          "comparison_vector_value": 3,
          "estimate_description": "estimate m from pairwise labels",
          "estimated_probability": 0.2088235294117647,
          "estimated_probability_as_log_odds": -1.921715243051942,
          "m_or_u": "m",
          "sql_condition": "damerau_levenshtein(\"surname_l\", \"surname_r\") <= 1"
         },
         {
          "comparison_level_label": "Damerau_levenshtein <= 1",
          "comparison_name": "surname",
          "comparison_sort_order": 1,
          "comparison_vector_value": 3,
          "estimate_description": "EM, blocked on: l.first_name = r.first_name",
          "estimated_probability": 0.2203741655452524,
          "estimated_probability_as_log_odds": -1.8228267912225393,
          "m_or_u": "m",
          "sql_condition": "damerau_levenshtein(\"surname_l\", \"surname_r\") <= 1"
         },
         {
          "comparison_level_label": "Jaro_winkler_similarity >= 0.9",
          "comparison_name": "surname",
          "comparison_sort_order": 1,
          "comparison_vector_value": 2,
          "estimate_description": "estimate u by random sampling",
          "estimated_probability": 0.0010090425738347498,
          "estimated_probability_as_log_odds": -9.95134076263664,
          "m_or_u": "u",
          "sql_condition": "jaro_winkler_similarity(\"surname_l\", \"surname_r\") >= 0.9"
         },
         {
          "comparison_level_label": "Jaro_winkler_similarity >= 0.9",
          "comparison_name": "surname",
          "comparison_sort_order": 1,
          "comparison_vector_value": 2,
          "estimate_description": "estimate m from pairwise labels",
          "estimated_probability": 0.047058823529411764,
          "estimated_probability_as_log_odds": -4.339850002884624,
          "m_or_u": "m",
          "sql_condition": "jaro_winkler_similarity(\"surname_l\", \"surname_r\") >= 0.9"
         },
         {
          "comparison_level_label": "Jaro_winkler_similarity >= 0.9",
          "comparison_name": "surname",
          "comparison_sort_order": 1,
          "comparison_vector_value": 2,
          "estimate_description": "EM, blocked on: l.first_name = r.first_name",
          "estimated_probability": 0.05338154770349846,
          "estimated_probability_as_log_odds": -4.1483700050077665,
          "m_or_u": "m",
          "sql_condition": "jaro_winkler_similarity(\"surname_l\", \"surname_r\") >= 0.9"
         },
         {
          "comparison_level_label": "Jaro_winkler_similarity >= 0.8",
          "comparison_name": "surname",
          "comparison_sort_order": 1,
          "comparison_vector_value": 1,
          "estimate_description": "estimate u by random sampling",
          "estimated_probability": 0.003710768991942586,
          "estimated_probability_as_log_odds": -8.068702628051081,
          "m_or_u": "u",
          "sql_condition": "jaro_winkler_similarity(\"surname_l\", \"surname_r\") >= 0.8"
         },
         {
          "comparison_level_label": "Jaro_winkler_similarity >= 0.8",
          "comparison_name": "surname",
          "comparison_sort_order": 1,
          "comparison_vector_value": 1,
          "estimate_description": "estimate m from pairwise labels",
          "estimated_probability": 0.05588235294117647,
          "estimated_probability_as_log_odds": -4.078501973678717,
          "m_or_u": "m",
          "sql_condition": "jaro_winkler_similarity(\"surname_l\", \"surname_r\") >= 0.8"
         },
         {
          "comparison_level_label": "Jaro_winkler_similarity >= 0.8",
          "comparison_name": "surname",
          "comparison_sort_order": 1,
          "comparison_vector_value": 1,
          "estimate_description": "EM, blocked on: l.first_name = r.first_name",
          "estimated_probability": 0.0530466896096876,
          "estimated_probability_as_log_odds": -4.157958667890329,
          "m_or_u": "m",
          "sql_condition": "jaro_winkler_similarity(\"surname_l\", \"surname_r\") >= 0.8"
         },
         {
          "comparison_level_label": "All other comparisons",
          "comparison_name": "surname",
          "comparison_sort_order": 1,
          "comparison_vector_value": 0,
          "estimate_description": "estimate u by random sampling",
          "estimated_probability": 0.9876347504709363,
          "estimated_probability_as_log_odds": 6.319614340865741,
          "m_or_u": "u",
          "sql_condition": "ELSE"
         },
         {
          "comparison_level_label": "All other comparisons",
          "comparison_name": "surname",
          "comparison_sort_order": 1,
          "comparison_vector_value": 0,
          "estimate_description": "estimate m from pairwise labels",
          "estimated_probability": 0.23970588235294119,
          "estimated_probability_as_log_odds": -1.6652923160838569,
          "m_or_u": "m",
          "sql_condition": "ELSE"
         },
         {
          "comparison_level_label": "All other comparisons",
          "comparison_name": "surname",
          "comparison_sort_order": 1,
          "comparison_vector_value": 0,
          "estimate_description": "EM, blocked on: l.first_name = r.first_name",
          "estimated_probability": 0.04530137406064829,
          "estimated_probability_as_log_odds": -4.397418667688935,
          "m_or_u": "m",
          "sql_condition": "ELSE"
         },
         {
          "comparison_level_label": "Exact match",
          "comparison_name": "dob",
          "comparison_sort_order": 2,
          "comparison_vector_value": 5,
          "estimate_description": "estimate u by random sampling",
          "estimated_probability": 0.0017477477477477479,
          "estimated_probability_as_log_odds": -9.157763635801777,
          "m_or_u": "u",
          "sql_condition": "\"dob_l\" = \"dob_r\""
         },
         {
          "comparison_level_label": "Exact match",
          "comparison_name": "dob",
          "comparison_sort_order": 2,
          "comparison_vector_value": 5,
          "estimate_description": "estimate m from pairwise labels",
          "estimated_probability": 0.42146725750861647,
          "estimated_probability_as_log_odds": -0.4569780550512149,
          "m_or_u": "m",
          "sql_condition": "\"dob_l\" = \"dob_r\""
         },
         {
          "comparison_level_label": "Exact match",
          "comparison_name": "dob",
          "comparison_sort_order": 2,
          "comparison_vector_value": 5,
          "estimate_description": "EM, blocked on: l.first_name = r.first_name",
          "estimated_probability": 0.3949410756302649,
          "estimated_probability_as_log_odds": -0.6154382254606962,
          "m_or_u": "m",
          "sql_condition": "\"dob_l\" = \"dob_r\""
         },
         {
          "comparison_level_label": "Damerau_levenshtein <= 1",
          "comparison_name": "dob",
          "comparison_sort_order": 2,
          "comparison_vector_value": 4,
          "estimate_description": "estimate u by random sampling",
          "estimated_probability": 0.0016436436436436436,
          "estimated_probability_as_log_odds": -9.246513513238204,
          "m_or_u": "u",
          "sql_condition": "damerau_levenshtein(\"dob_l\", \"dob_r\") <= 1"
         },
         {
          "comparison_level_label": "Damerau_levenshtein <= 1",
          "comparison_name": "dob",
          "comparison_sort_order": 2,
          "comparison_vector_value": 4,
          "estimate_description": "estimate m from pairwise labels",
          "estimated_probability": 0.08862629246676514,
          "estimated_probability_as_log_odds": -3.3622360835408993,
          "m_or_u": "m",
          "sql_condition": "damerau_levenshtein(\"dob_l\", \"dob_r\") <= 1"
         },
         {
          "comparison_level_label": "Damerau_levenshtein <= 1",
          "comparison_name": "dob",
          "comparison_sort_order": 2,
          "comparison_vector_value": 4,
          "estimate_description": "EM, blocked on: l.first_name = r.first_name",
          "estimated_probability": 0.1288860961098869,
          "estimated_probability_as_log_odds": -2.7567647350729656,
          "m_or_u": "m",
          "sql_condition": "damerau_levenshtein(\"dob_l\", \"dob_r\") <= 1"
         },
         {
          "comparison_level_label": "Within 1 month",
          "comparison_name": "dob",
          "comparison_sort_order": 2,
          "comparison_vector_value": 3,
          "estimate_description": "estimate u by random sampling",
          "estimated_probability": 0.003833833833833834,
          "estimated_probability_as_log_odds": -8.021454792836192,
          "m_or_u": "u",
          "sql_condition": "\n            abs(date_diff('month',strptime(\"dob_l\",\n              '%Y-%m-%d'),strptime(\"dob_r\",\n              '%Y-%m-%d'))) <= 1\n        "
         },
         {
          "comparison_level_label": "Within 1 month",
          "comparison_name": "dob",
          "comparison_sort_order": 2,
          "comparison_vector_value": 3,
          "estimate_description": "estimate m from pairwise labels",
          "estimated_probability": 0.11964549483013294,
          "estimated_probability_as_log_odds": -2.879318517577537,
          "m_or_u": "m",
          "sql_condition": "\n            abs(date_diff('month',strptime(\"dob_l\",\n              '%Y-%m-%d'),strptime(\"dob_r\",\n              '%Y-%m-%d'))) <= 1\n        "
         },
         {
          "comparison_level_label": "Within 1 month",
          "comparison_name": "dob",
          "comparison_sort_order": 2,
          "comparison_vector_value": 3,
          "estimate_description": "EM, blocked on: l.first_name = r.first_name",
          "estimated_probability": 0.09701901827620037,
          "estimated_probability_as_log_odds": -3.2183561162159386,
          "m_or_u": "m",
          "sql_condition": "\n            abs(date_diff('month',strptime(\"dob_l\",\n              '%Y-%m-%d'),strptime(\"dob_r\",\n              '%Y-%m-%d'))) <= 1\n        "
         },
         {
          "comparison_level_label": "Within 1 year",
          "comparison_name": "dob",
          "comparison_sort_order": 2,
          "comparison_vector_value": 2,
          "estimate_description": "estimate u by random sampling",
          "estimated_probability": 0.05062662662662663,
          "estimated_probability_as_log_odds": -4.22900732541095,
          "m_or_u": "u",
          "sql_condition": "\n            abs(date_diff('year',strptime(\"dob_l\",\n              '%Y-%m-%d'),strptime(\"dob_r\",\n              '%Y-%m-%d'))) <= 1\n        "
         },
         {
          "comparison_level_label": "Within 1 year",
          "comparison_name": "dob",
          "comparison_sort_order": 2,
          "comparison_vector_value": 2,
          "estimate_description": "estimate m from pairwise labels",
          "estimated_probability": 0.16691285081240767,
          "estimated_probability_as_log_odds": -2.319372389983606,
          "m_or_u": "m",
          "sql_condition": "\n            abs(date_diff('year',strptime(\"dob_l\",\n              '%Y-%m-%d'),strptime(\"dob_r\",\n              '%Y-%m-%d'))) <= 1\n        "
         },
         {
          "comparison_level_label": "Within 1 year",
          "comparison_name": "dob",
          "comparison_sort_order": 2,
          "comparison_vector_value": 2,
          "estimate_description": "EM, blocked on: l.first_name = r.first_name",
          "estimated_probability": 0.17741698268550513,
          "estimated_probability_as_log_odds": -2.213017173184151,
          "m_or_u": "m",
          "sql_condition": "\n            abs(date_diff('year',strptime(\"dob_l\",\n              '%Y-%m-%d'),strptime(\"dob_r\",\n              '%Y-%m-%d'))) <= 1\n        "
         },
         {
          "comparison_level_label": "Within 10 years",
          "comparison_name": "dob",
          "comparison_sort_order": 2,
          "comparison_vector_value": 1,
          "estimate_description": "estimate u by random sampling",
          "estimated_probability": 0.3037037037037037,
          "estimated_probability_as_log_odds": -1.1970368470595538,
          "m_or_u": "u",
          "sql_condition": "\n            abs(date_diff('year',strptime(\"dob_l\",\n              '%Y-%m-%d'),strptime(\"dob_r\",\n              '%Y-%m-%d'))) <= 10\n        "
         },
         {
          "comparison_level_label": "Within 10 years",
          "comparison_name": "dob",
          "comparison_sort_order": 2,
          "comparison_vector_value": 1,
          "estimate_description": "estimate m from pairwise labels",
          "estimated_probability": 0.1999015263417036,
          "estimated_probability_as_log_odds": -2.0008880856180027,
          "m_or_u": "m",
          "sql_condition": "\n            abs(date_diff('year',strptime(\"dob_l\",\n              '%Y-%m-%d'),strptime(\"dob_r\",\n              '%Y-%m-%d'))) <= 10\n        "
         },
         {
          "comparison_level_label": "Within 10 years",
          "comparison_name": "dob",
          "comparison_sort_order": 2,
          "comparison_vector_value": 1,
          "estimate_description": "EM, blocked on: l.first_name = r.first_name",
          "estimated_probability": 0.19741513192864213,
          "estimated_probability_as_log_odds": -2.023421378776557,
          "m_or_u": "m",
          "sql_condition": "\n            abs(date_diff('year',strptime(\"dob_l\",\n              '%Y-%m-%d'),strptime(\"dob_r\",\n              '%Y-%m-%d'))) <= 10\n        "
         },
         {
          "comparison_level_label": "All other comparisons",
          "comparison_name": "dob",
          "comparison_sort_order": 2,
          "comparison_vector_value": 0,
          "estimate_description": "estimate u by random sampling",
          "estimated_probability": 0.6384444444444445,
          "estimated_probability_as_log_odds": 0.820343741859996,
          "m_or_u": "u",
          "sql_condition": "ELSE"
         },
         {
          "comparison_level_label": "All other comparisons",
          "comparison_name": "dob",
          "comparison_sort_order": 2,
          "comparison_vector_value": 0,
          "estimate_description": "estimate m from pairwise labels",
          "estimated_probability": 0.0034465780403741997,
          "estimated_probability_as_log_odds": -8.175638652636707,
          "m_or_u": "m",
          "sql_condition": "ELSE"
         },
         {
          "comparison_level_label": "All other comparisons",
          "comparison_name": "dob",
          "comparison_sort_order": 2,
          "comparison_vector_value": 0,
          "estimate_description": "EM, blocked on: l.first_name = r.first_name",
          "estimated_probability": 0.004321695369500436,
          "estimated_probability_as_log_odds": -7.847938502450767,
          "m_or_u": "m",
          "sql_condition": "ELSE"
         },
         {
          "comparison_level_label": "Exact match",
          "comparison_name": "city",
          "comparison_sort_order": 3,
          "comparison_vector_value": 1,
          "estimate_description": "estimate u by random sampling",
          "estimated_probability": 0.0551475711801453,
          "estimated_probability_as_log_odds": -4.098719767635731,
          "m_or_u": "u",
          "sql_condition": "\"city_l\" = \"city_r\""
         },
         {
          "comparison_level_label": "Exact match",
          "comparison_name": "city",
          "comparison_sort_order": 3,
          "comparison_vector_value": 1,
          "estimate_description": "estimate m from pairwise labels",
          "estimated_probability": 0.5661492978566149,
          "estimated_probability_as_log_odds": 0.38398388881490503,
          "m_or_u": "m",
          "sql_condition": "\"city_l\" = \"city_r\""
         },
         {
          "comparison_level_label": "Exact match",
          "comparison_name": "city",
          "comparison_sort_order": 3,
          "comparison_vector_value": 1,
          "estimate_description": "EM, blocked on: l.first_name = r.first_name",
          "estimated_probability": 0.5624835866179878,
          "estimated_probability_as_log_odds": 0.3624738583058109,
          "m_or_u": "m",
          "sql_condition": "\"city_l\" = \"city_r\""
         },
         {
          "comparison_level_label": "All other comparisons",
          "comparison_name": "city",
          "comparison_sort_order": 3,
          "comparison_vector_value": 0,
          "estimate_description": "estimate u by random sampling",
          "estimated_probability": 0.9448524288198547,
          "estimated_probability_as_log_odds": 4.09871976763573,
          "m_or_u": "u",
          "sql_condition": "ELSE"
         },
         {
          "comparison_level_label": "All other comparisons",
          "comparison_name": "city",
          "comparison_sort_order": 3,
          "comparison_vector_value": 0,
          "estimate_description": "estimate m from pairwise labels",
          "estimated_probability": 0.43385070214338506,
          "estimated_probability_as_log_odds": -0.3839838888149049,
          "m_or_u": "m",
          "sql_condition": "ELSE"
         },
         {
          "comparison_level_label": "All other comparisons",
          "comparison_name": "city",
          "comparison_sort_order": 3,
          "comparison_vector_value": 0,
          "estimate_description": "EM, blocked on: l.first_name = r.first_name",
          "estimated_probability": 0.43751641338201214,
          "estimated_probability_as_log_odds": -0.36247385830581114,
          "m_or_u": "m",
          "sql_condition": "ELSE"
         },
         {
          "comparison_level_label": "4. Exact match email",
          "comparison_name": "email",
          "comparison_sort_order": 4,
          "comparison_vector_value": 4,
          "estimate_description": "estimate u by random sampling",
          "estimated_probability": 0.0021938713143283602,
          "estimated_probability_as_log_odds": -8.829136816196753,
          "m_or_u": "u",
          "sql_condition": "\"email_l\" = \"email_r\""
         },
         {
          "comparison_level_label": "4. Exact match email",
          "comparison_name": "email",
          "comparison_sort_order": 4,
          "comparison_vector_value": 4,
          "estimate_description": "estimate m from pairwise labels",
          "estimated_probability": 0.5340642129992169,
          "estimated_probability_as_log_odds": 0.1968820708288665,
          "m_or_u": "m",
          "sql_condition": "\"email_l\" = \"email_r\""
         },
         {
          "comparison_level_label": "4. Exact match email",
          "comparison_name": "email",
          "comparison_sort_order": 4,
          "comparison_vector_value": 4,
          "estimate_description": "EM, blocked on: l.first_name = r.first_name",
          "estimated_probability": 0.5729388029157032,
          "estimated_probability_as_log_odds": 0.42393822899402117,
          "m_or_u": "m",
          "sql_condition": "\"email_l\" = \"email_r\""
         },
         {
          "comparison_level_label": "3. Exact match email",
          "comparison_name": "email",
          "comparison_sort_order": 4,
          "comparison_vector_value": 3,
          "estimate_description": "estimate u by random sampling",
          "estimated_probability": 0.0010390328952024346,
          "estimated_probability_as_log_odds": -9.909043167871717,
          "m_or_u": "u",
          "sql_condition": "\n        regexp_extract(\"email_l\", '^[^@]+')\n     = \n        regexp_extract(\"email_r\", '^[^@]+')\n    "
         },
         {
          "comparison_level_label": "3. Exact match email",
          "comparison_name": "email",
          "comparison_sort_order": 4,
          "comparison_vector_value": 3,
          "estimate_description": "estimate m from pairwise labels",
          "estimated_probability": 0.23492560689115113,
          "estimated_probability_as_log_odds": -1.7033960614725043,
          "m_or_u": "m",
          "sql_condition": "\n        regexp_extract(\"email_l\", '^[^@]+')\n     = \n        regexp_extract(\"email_r\", '^[^@]+')\n    "
         },
         {
          "comparison_level_label": "3. Exact match email",
          "comparison_name": "email",
          "comparison_sort_order": 4,
          "comparison_vector_value": 3,
          "estimate_description": "EM, blocked on: l.first_name = r.first_name",
          "estimated_probability": 0.20919220170783945,
          "estimated_probability_as_log_odds": -1.9184980261747369,
          "m_or_u": "m",
          "sql_condition": "\n        regexp_extract(\"email_l\", '^[^@]+')\n     = \n        regexp_extract(\"email_r\", '^[^@]+')\n    "
         },
         {
          "comparison_level_label": "2. Jaro_winkler_similarity email >= 0.88",
          "comparison_name": "email",
          "comparison_sort_order": 4,
          "comparison_vector_value": 2,
          "estimate_description": "estimate u by random sampling",
          "estimated_probability": 0.0009135769109519858,
          "estimated_probability_as_log_odds": -10.094867574666251,
          "m_or_u": "u",
          "sql_condition": "jaro_winkler_similarity(\"email_l\", \"email_r\") >= 0.88"
         },
         {
          "comparison_level_label": "2. Jaro_winkler_similarity email >= 0.88",
          "comparison_name": "email",
          "comparison_sort_order": 4,
          "comparison_vector_value": 2,
          "estimate_description": "estimate m from pairwise labels",
          "estimated_probability": 0.22239624119028975,
          "estimated_probability_as_log_odds": -1.8059027880236918,
          "m_or_u": "m",
          "sql_condition": "jaro_winkler_similarity(\"email_l\", \"email_r\") >= 0.88"
         },
         {
          "comparison_level_label": "2. Jaro_winkler_similarity email >= 0.88",
          "comparison_name": "email",
          "comparison_sort_order": 4,
          "comparison_vector_value": 2,
          "estimate_description": "EM, blocked on: l.first_name = r.first_name",
          "estimated_probability": 0.19110621174954814,
          "estimated_probability_as_log_odds": -2.081575609418465,
          "m_or_u": "m",
          "sql_condition": "jaro_winkler_similarity(\"email_l\", \"email_r\") >= 0.88"
         },
         {
          "comparison_level_label": "1. Jaro_winkler_similarity Username >= 0.88",
          "comparison_name": "email",
          "comparison_sort_order": 4,
          "comparison_vector_value": 1,
          "estimate_description": "estimate u by random sampling",
          "estimated_probability": 0.000501823937001795,
          "estimated_probability_as_log_odds": -10.959806929986506,
          "m_or_u": "u",
          "sql_condition": "jaro_winkler_similarity(\n        regexp_extract(\"email_l\", '^[^@]+')\n    , \n        regexp_extract(\"email_r\", '^[^@]+')\n    ) >= 0.88"
         },
         {
          "comparison_level_label": "1. Jaro_winkler_similarity Username >= 0.88",
          "comparison_name": "email",
          "comparison_sort_order": 4,
          "comparison_vector_value": 1,
          "estimate_description": "estimate m from pairwise labels",
          "estimated_probability": 0.0015661707126076742,
          "estimated_probability_as_log_odds": -9.31628153174622,
          "m_or_u": "m",
          "sql_condition": "jaro_winkler_similarity(\n        regexp_extract(\"email_l\", '^[^@]+')\n    , \n        regexp_extract(\"email_r\", '^[^@]+')\n    ) >= 0.88"
         },
         {
          "comparison_level_label": "1. Jaro_winkler_similarity Username >= 0.88",
          "comparison_name": "email",
          "comparison_sort_order": 4,
          "comparison_vector_value": 1,
          "estimate_description": "EM, blocked on: l.first_name = r.first_name",
          "estimated_probability": 0.01799338824846957,
          "estimated_probability_as_log_odds": -5.770193953839624,
          "m_or_u": "m",
          "sql_condition": "jaro_winkler_similarity(\n        regexp_extract(\"email_l\", '^[^@]+')\n    , \n        regexp_extract(\"email_r\", '^[^@]+')\n    ) >= 0.88"
         },
         {
          "comparison_level_label": "0. All other comparisons",
          "comparison_name": "email",
          "comparison_sort_order": 4,
          "comparison_vector_value": 0,
          "estimate_description": "estimate u by random sampling",
          "estimated_probability": 0.9953516949425154,
          "estimated_probability_as_log_odds": 7.74235781099066,
          "m_or_u": "u",
          "sql_condition": "ELSE"
         },
         {
          "comparison_level_label": "0. All other comparisons",
          "comparison_name": "email",
          "comparison_sort_order": 4,
          "comparison_vector_value": 0,
          "estimate_description": "estimate m from pairwise labels",
          "estimated_probability": 0.007047768206734534,
          "estimated_probability_as_log_odds": -7.1384140286970945,
          "m_or_u": "m",
          "sql_condition": "ELSE"
         },
         {
          "comparison_level_label": "0. All other comparisons",
          "comparison_name": "email",
          "comparison_sort_order": 4,
          "comparison_vector_value": 0,
          "estimate_description": "EM, blocked on: l.first_name = r.first_name",
          "estimated_probability": 0.00876939537843954,
          "estimated_probability_as_log_odds": -6.820599544774973,
          "m_or_u": "m",
          "sql_condition": "ELSE"
         }
        ]
       },
       "encoding": {
        "color": {
         "field": "estimate_description",
         "type": "nominal"
        },
        "column": {
         "align": "each",
         "field": "col_header",
         "header": {
          "labelFontSize": 14,
          "labelFontWeight": "bold"
         },
         "title": null,
         "type": "nominal"
        },
        "row": {
         "align": "each",
         "field": "comparison_name",
         "header": {
          "labelAlign": "left",
          "labelAnchor": "middle",
          "labelAngle": 0,
          "labelFontSize": 12,
          "labelFontWeight": "bold"
         },
         "sort": {
          "field": "comparison_sort_order"
         },
         "title": null,
         "type": "nominal"
        },
        "shape": {
         "field": "estimate_description",
         "scale": {
          "range": [
           "circle",
           "square",
           "triangle",
           "diamond"
          ]
         },
         "type": "nominal"
        },
        "tooltip": [
         {
          "field": "comparison_name",
          "type": "nominal"
         },
         {
          "field": "estimate_description",
          "type": "nominal"
         },
         {
          "field": "estimated_probability",
          "type": "quantitative"
         }
        ],
        "x": {
         "axis": {
          "gridColor": {
           "condition": {
            "test": "abs(datum.value / 10)  <= 1 & datum.value % 10 === 0",
            "value": "#aaa"
           },
           "value": "#ddd"
          },
          "gridDash": {
           "condition": {
            "test": "abs(datum.value / 10) == 1",
            "value": [
             3
            ]
           },
           "value": null
          },
          "gridWidth": {
           "condition": {
            "test": "abs(datum.value / 10)  <= 1 & datum.value % 10 === 0",
            "value": 2
           },
           "value": 1
          }
         },
         "field": "estimated_probability_as_log_odds",
         "title": "Estimated probability as log odds",
         "type": "quantitative"
        },
        "y": {
         "axis": {
          "grid": true,
          "title": null
         },
         "field": "comparison_level_label",
         "sort": {
          "field": "comparison_vector_value",
          "order": "descending"
         },
         "type": "nominal"
        }
       },
       "mark": {
        "filled": false,
        "opacity": 0.7,
        "size": 100,
        "type": "point"
       },
       "params": [
        {
         "bind": "scales",
         "name": "mouse_zoom",
         "select": {
          "encodings": [
           "x"
          ],
          "type": "interval"
         }
        }
       ],
       "resolve": {
        "scale": {
         "y": "independent"
        }
       },
       "title": {
        "subtitle": "Use mousewheel to zoom",
        "text": "Comparison of parameter estimates across training sessions"
       },
       "transform": [
        {
         "as": "col_header",
         "calculate": "datum.m_or_u + '-probability (as log odds)'"
        }
       ]
      },
      "text/plain": [
       "<VegaLite 5 object>\n",
       "\n",
       "If you see this message, it means the renderer has not been properly enabled\n",
       "for the frontend that you are using. For more information, see\n",
       "https://altair-viz.github.io/user_guide/display_frontends.html#troubleshooting\n"
      ]
     },
     "execution_count": 9,
     "metadata": {},
     "output_type": "execute_result"
    }
   ],
   "source": [
    "linker.parameter_estimate_comparisons_chart()"
   ]
  },
  {
   "cell_type": "code",
   "execution_count": 10,
   "metadata": {},
   "outputs": [
    {
     "data": {
      "application/vnd.vegalite.v5+json": {
       "$schema": "https://vega.github.io/schema/vega-lite/v5.9.3.json",
       "config": {
        "header": {
         "title": null
        },
        "mark": {
         "tooltip": null
        },
        "title": {
         "anchor": "middle"
        },
        "view": {
         "continuousHeight": 300,
         "continuousWidth": 300,
         "discreteHeight": 60,
         "discreteWidth": 400
        }
       },
       "data": {
        "name": "data-fb48b1d860a86299cff958b838a20582"
       },
       "datasets": {
        "data-fb48b1d860a86299cff958b838a20582": [
         {
          "bayes_factor": 0.0033430420247643373,
          "bayes_factor_description": "The probability that two random records drawn at random match is 0.003 or one in  300.1 records.This is equivalent to a starting match weight of -8.225.",
          "comparison_name": "probability_two_random_records_match",
          "comparison_sort_order": -1,
          "comparison_vector_value": 0,
          "has_tf_adjustments": false,
          "is_null_level": false,
          "label_for_charts": "",
          "log2_bayes_factor": -8.224622793739668,
          "m_probability": null,
          "m_probability_description": null,
          "max_comparison_vector_value": 0,
          "probability_two_random_records_match": 0.0033319033319033323,
          "sql_condition": null,
          "tf_adjustment_column": null,
          "tf_adjustment_weight": null,
          "u_probability": null,
          "u_probability_description": null
         },
         {
          "bayes_factor": 85.50854463805632,
          "bayes_factor_description": "If comparison level is `exact match first_name` then comparison is 85.51 times more likely to be a match",
          "comparison_name": "first_name",
          "comparison_sort_order": 0,
          "comparison_vector_value": 4,
          "has_tf_adjustments": false,
          "is_null_level": false,
          "label_for_charts": "Exact match first_name",
          "log2_bayes_factor": 6.417996686710603,
          "m_probability": 0.4953998584571833,
          "m_probability_description": "Amongst matching record comparisons, 49.54% of records are in the exact match first_name comparison level",
          "max_comparison_vector_value": 4,
          "probability_two_random_records_match": 0.0033319033319033323,
          "sql_condition": "\"first_name_l\" = \"first_name_r\"",
          "tf_adjustment_column": null,
          "tf_adjustment_weight": 1,
          "u_probability": 0.0057935713975033705,
          "u_probability_description": "Amongst non-matching record comparisons, 0.58% of records are in the exact match first_name comparison level"
         },
         {
          "bayes_factor": 75.07416687481786,
          "bayes_factor_description": "If comparison level is `damerau_levenshtein <= 1` then comparison is 75.07 times more likely to be a match",
          "comparison_name": "first_name",
          "comparison_sort_order": 0,
          "comparison_vector_value": 3,
          "has_tf_adjustments": false,
          "is_null_level": false,
          "label_for_charts": "Damerau_levenshtein <= 1",
          "log2_bayes_factor": 6.230244654649969,
          "m_probability": 0.17763623496107572,
          "m_probability_description": "Amongst matching record comparisons, 17.76% of records are in the damerau_levenshtein <= 1 comparison level",
          "max_comparison_vector_value": 4,
          "probability_two_random_records_match": 0.0033319033319033323,
          "sql_condition": "damerau_levenshtein(\"first_name_l\", \"first_name_r\") <= 1",
          "tf_adjustment_column": null,
          "tf_adjustment_weight": 1,
          "u_probability": 0.00236614327345483,
          "u_probability_description": "Amongst non-matching record comparisons, 0.24% of records are in the damerau_levenshtein <= 1 comparison level"
         },
         {
          "bayes_factor": 25.116392843063213,
          "bayes_factor_description": "If comparison level is `jaro_winkler_similarity >= 0.9` then comparison is 25.12 times more likely to be a match",
          "comparison_name": "first_name",
          "comparison_sort_order": 0,
          "comparison_vector_value": 2,
          "has_tf_adjustments": false,
          "is_null_level": false,
          "label_for_charts": "Jaro_winkler_similarity >= 0.9",
          "log2_bayes_factor": 4.650557377544387,
          "m_probability": 0.03255484784147204,
          "m_probability_description": "Amongst matching record comparisons, 3.26% of records are in the jaro_winkler_similarity >= 0.9 comparison level",
          "max_comparison_vector_value": 4,
          "probability_two_random_records_match": 0.0033319033319033323,
          "sql_condition": "jaro_winkler_similarity(\"first_name_l\", \"first_name_r\") >= 0.9",
          "tf_adjustment_column": null,
          "tf_adjustment_weight": 1,
          "u_probability": 0.001296159366708712,
          "u_probability_description": "Amongst non-matching record comparisons, 0.13% of records are in the jaro_winkler_similarity >= 0.9 comparison level"
         },
         {
          "bayes_factor": 11.71715364479982,
          "bayes_factor_description": "If comparison level is `jaro_winkler_similarity >= 0.8` then comparison is 11.72 times more likely to be a match",
          "comparison_name": "first_name",
          "comparison_sort_order": 0,
          "comparison_vector_value": 1,
          "has_tf_adjustments": false,
          "is_null_level": false,
          "label_for_charts": "Jaro_winkler_similarity >= 0.8",
          "log2_bayes_factor": 3.5505502447446347,
          "m_probability": 0.06652512384996462,
          "m_probability_description": "Amongst matching record comparisons, 6.65% of records are in the jaro_winkler_similarity >= 0.8 comparison level",
          "max_comparison_vector_value": 4,
          "probability_two_random_records_match": 0.0033319033319033323,
          "sql_condition": "jaro_winkler_similarity(\"first_name_l\", \"first_name_r\") >= 0.8",
          "tf_adjustment_column": null,
          "tf_adjustment_weight": 1,
          "u_probability": 0.005677583982137938,
          "u_probability_description": "Amongst non-matching record comparisons, 0.57% of records are in the jaro_winkler_similarity >= 0.8 comparison level"
         },
         {
          "bayes_factor": 0.2313855991412965,
          "bayes_factor_description": "If comparison level is `all other comparisons` then comparison is  4.32 times less likely to be a match",
          "comparison_name": "first_name",
          "comparison_sort_order": 0,
          "comparison_vector_value": 0,
          "has_tf_adjustments": false,
          "is_null_level": false,
          "label_for_charts": "All other comparisons",
          "log2_bayes_factor": -2.111629017364808,
          "m_probability": 0.2278839348903043,
          "m_probability_description": "Amongst matching record comparisons, 22.79% of records are in the all other comparisons comparison level",
          "max_comparison_vector_value": 4,
          "probability_two_random_records_match": 0.0033319033319033323,
          "sql_condition": "ELSE",
          "tf_adjustment_column": null,
          "tf_adjustment_weight": 1,
          "u_probability": 0.9848665419801952,
          "u_probability_description": "Amongst non-matching record comparisons, 98.49% of records are in the all other comparisons comparison level"
         },
         {
          "bayes_factor": 110.06452116296455,
          "bayes_factor_description": "If comparison level is `exact match surname` then comparison is 110.06 times more likely to be a match",
          "comparison_name": "surname",
          "comparison_sort_order": 1,
          "comparison_vector_value": 4,
          "has_tf_adjustments": false,
          "is_null_level": false,
          "label_for_charts": "Exact match surname",
          "log2_bayes_factor": 6.782205686914796,
          "m_probability": 0.5382128174228096,
          "m_probability_description": "Amongst matching record comparisons, 53.82% of records are in the exact match surname comparison level",
          "max_comparison_vector_value": 4,
          "probability_two_random_records_match": 0.0033319033319033323,
          "sql_condition": "\"surname_l\" = \"surname_r\"",
          "tf_adjustment_column": null,
          "tf_adjustment_weight": 1,
          "u_probability": 0.004889975550122249,
          "u_probability_description": "Amongst non-matching record comparisons, 0.49% of records are in the exact match surname comparison level"
         },
         {
          "bayes_factor": 77.88124652082718,
          "bayes_factor_description": "If comparison level is `damerau_levenshtein <= 1` then comparison is 77.88 times more likely to be a match",
          "comparison_name": "surname",
          "comparison_sort_order": 1,
          "comparison_vector_value": 3,
          "has_tf_adjustments": false,
          "is_null_level": false,
          "label_for_charts": "Damerau_levenshtein <= 1",
          "log2_bayes_factor": 6.283204070047573,
          "m_probability": 0.21459884747850855,
          "m_probability_description": "Amongst matching record comparisons, 21.46% of records are in the damerau_levenshtein <= 1 comparison level",
          "max_comparison_vector_value": 4,
          "probability_two_random_records_match": 0.0033319033319033323,
          "sql_condition": "damerau_levenshtein(\"surname_l\", \"surname_r\") <= 1",
          "tf_adjustment_column": null,
          "tf_adjustment_weight": 1,
          "u_probability": 0.0027554624131641246,
          "u_probability_description": "Amongst non-matching record comparisons, 0.28% of records are in the damerau_levenshtein <= 1 comparison level"
         },
         {
          "bayes_factor": 49.77013549150765,
          "bayes_factor_description": "If comparison level is `jaro_winkler_similarity >= 0.9` then comparison is 49.77 times more likely to be a match",
          "comparison_name": "surname",
          "comparison_sort_order": 1,
          "comparison_vector_value": 2,
          "has_tf_adjustments": false,
          "is_null_level": false,
          "label_for_charts": "Jaro_winkler_similarity >= 0.9",
          "log2_bayes_factor": 5.637208409422088,
          "m_probability": 0.05022018561645511,
          "m_probability_description": "Amongst matching record comparisons, 5.02% of records are in the jaro_winkler_similarity >= 0.9 comparison level",
          "max_comparison_vector_value": 4,
          "probability_two_random_records_match": 0.0033319033319033323,
          "sql_condition": "jaro_winkler_similarity(\"surname_l\", \"surname_r\") >= 0.9",
          "tf_adjustment_column": null,
          "tf_adjustment_weight": 1,
          "u_probability": 0.0010090425738347498,
          "u_probability_description": "Amongst non-matching record comparisons, 0.10% of records are in the jaro_winkler_similarity >= 0.9 comparison level"
         },
         {
          "bayes_factor": 14.677421686365847,
          "bayes_factor_description": "If comparison level is `jaro_winkler_similarity >= 0.8` then comparison is 14.68 times more likely to be a match",
          "comparison_name": "surname",
          "comparison_sort_order": 1,
          "comparison_vector_value": 1,
          "has_tf_adjustments": false,
          "is_null_level": false,
          "label_for_charts": "Jaro_winkler_similarity >= 0.8",
          "log2_bayes_factor": 3.875526653873147,
          "m_probability": 0.05446452127543204,
          "m_probability_description": "Amongst matching record comparisons, 5.45% of records are in the jaro_winkler_similarity >= 0.8 comparison level",
          "max_comparison_vector_value": 4,
          "probability_two_random_records_match": 0.0033319033319033323,
          "sql_condition": "jaro_winkler_similarity(\"surname_l\", \"surname_r\") >= 0.8",
          "tf_adjustment_column": null,
          "tf_adjustment_weight": 1,
          "u_probability": 0.003710768991942586,
          "u_probability_description": "Amongst non-matching record comparisons, 0.37% of records are in the jaro_winkler_similarity >= 0.8 comparison level"
         },
         {
          "bayes_factor": 0.14428778264317288,
          "bayes_factor_description": "If comparison level is `all other comparisons` then comparison is  6.93 times less likely to be a match",
          "comparison_name": "surname",
          "comparison_sort_order": 1,
          "comparison_vector_value": 0,
          "has_tf_adjustments": false,
          "is_null_level": false,
          "label_for_charts": "All other comparisons",
          "log2_bayes_factor": -2.792978947977937,
          "m_probability": 0.14250362820679474,
          "m_probability_description": "Amongst matching record comparisons, 14.25% of records are in the all other comparisons comparison level",
          "max_comparison_vector_value": 4,
          "probability_two_random_records_match": 0.0033319033319033323,
          "sql_condition": "ELSE",
          "tf_adjustment_column": null,
          "tf_adjustment_weight": 1,
          "u_probability": 0.9876347504709363,
          "u_probability_description": "Amongst non-matching record comparisons, 98.76% of records are in the all other comparisons comparison level"
         },
         {
          "bayes_factor": 233.56011592375214,
          "bayes_factor_description": "If comparison level is `exact match` then comparison is 233.56 times more likely to be a match",
          "comparison_name": "dob",
          "comparison_sort_order": 2,
          "comparison_vector_value": 5,
          "has_tf_adjustments": false,
          "is_null_level": false,
          "label_for_charts": "Exact match",
          "log2_bayes_factor": 7.867650122076076,
          "m_probability": 0.4082041665694407,
          "m_probability_description": "Amongst matching record comparisons, 40.82% of records are in the exact match comparison level",
          "max_comparison_vector_value": 5,
          "probability_two_random_records_match": 0.0033319033319033323,
          "sql_condition": "\"dob_l\" = \"dob_r\"",
          "tf_adjustment_column": null,
          "tf_adjustment_weight": 1,
          "u_probability": 0.0017477477477477479,
          "u_probability_description": "Amongst non-matching record comparisons, 0.17% of records are in the exact match comparison level"
         },
         {
          "bayes_factor": 66.16774548966974,
          "bayes_factor_description": "If comparison level is `damerau_levenshtein <= 1` then comparison is 66.17 times more likely to be a match",
          "comparison_name": "dob",
          "comparison_sort_order": 2,
          "comparison_vector_value": 4,
          "has_tf_adjustments": false,
          "is_null_level": false,
          "label_for_charts": "Damerau_levenshtein <= 1",
          "log2_bayes_factor": 6.048056218838552,
          "m_probability": 0.10875619428832603,
          "m_probability_description": "Amongst matching record comparisons, 10.88% of records are in the damerau_levenshtein <= 1 comparison level",
          "max_comparison_vector_value": 5,
          "probability_two_random_records_match": 0.0033319033319033323,
          "sql_condition": "damerau_levenshtein(\"dob_l\", \"dob_r\") <= 1",
          "tf_adjustment_column": null,
          "tf_adjustment_weight": 1,
          "u_probability": 0.0016436436436436436,
          "u_probability_description": "Amongst non-matching record comparisons, 0.16% of records are in the damerau_levenshtein <= 1 comparison level"
         },
         {
          "bayes_factor": 28.256899294154955,
          "bayes_factor_description": "If comparison level is `within 1 month` then comparison is 28.26 times more likely to be a match",
          "comparison_name": "dob",
          "comparison_sort_order": 2,
          "comparison_vector_value": 3,
          "has_tf_adjustments": false,
          "is_null_level": false,
          "label_for_charts": "Within 1 month",
          "log2_bayes_factor": 4.820531258422818,
          "m_probability": 0.10833225655316665,
          "m_probability_description": "Amongst matching record comparisons, 10.83% of records are in the within 1 month comparison level",
          "max_comparison_vector_value": 5,
          "probability_two_random_records_match": 0.0033319033319033323,
          "sql_condition": "\n            abs(date_diff('month',strptime(\"dob_l\",\n              '%Y-%m-%d'),strptime(\"dob_r\",\n              '%Y-%m-%d'))) <= 1\n        ",
          "tf_adjustment_column": null,
          "tf_adjustment_weight": 1,
          "u_probability": 0.003833833833833834,
          "u_probability_description": "Amongst non-matching record comparisons, 0.38% of records are in the within 1 month comparison level"
         },
         {
          "bayes_factor": 3.4006792121205205,
          "bayes_factor_description": "If comparison level is `within 1 year` then comparison is 3.40 times more likely to be a match",
          "comparison_name": "dob",
          "comparison_sort_order": 2,
          "comparison_vector_value": 2,
          "has_tf_adjustments": false,
          "is_null_level": false,
          "label_for_charts": "Within 1 year",
          "log2_bayes_factor": 1.765822922273259,
          "m_probability": 0.1721649167489564,
          "m_probability_description": "Amongst matching record comparisons, 17.22% of records are in the within 1 year comparison level",
          "max_comparison_vector_value": 5,
          "probability_two_random_records_match": 0.0033319033319033323,
          "sql_condition": "\n            abs(date_diff('year',strptime(\"dob_l\",\n              '%Y-%m-%d'),strptime(\"dob_r\",\n              '%Y-%m-%d'))) <= 1\n        ",
          "tf_adjustment_column": null,
          "tf_adjustment_weight": 1,
          "u_probability": 0.05062662662662663,
          "u_probability_description": "Amongst non-matching record comparisons, 5.06% of records are in the within 1 year comparison level"
         },
         {
          "bayes_factor": 0.6541188886158131,
          "bayes_factor_description": "If comparison level is `within 10 years` then comparison is  1.53 times less likely to be a match",
          "comparison_name": "dob",
          "comparison_sort_order": 2,
          "comparison_vector_value": 1,
          "has_tf_adjustments": false,
          "is_null_level": false,
          "label_for_charts": "Within 10 years",
          "log2_bayes_factor": -0.612375219977006,
          "m_probability": 0.19865832913517287,
          "m_probability_description": "Amongst matching record comparisons, 19.87% of records are in the within 10 years comparison level",
          "max_comparison_vector_value": 5,
          "probability_two_random_records_match": 0.0033319033319033323,
          "sql_condition": "\n            abs(date_diff('year',strptime(\"dob_l\",\n              '%Y-%m-%d'),strptime(\"dob_r\",\n              '%Y-%m-%d'))) <= 10\n        ",
          "tf_adjustment_column": null,
          "tf_adjustment_weight": 1,
          "u_probability": 0.3037037037037037,
          "u_probability_description": "Amongst non-matching record comparisons, 30.37% of records are in the within 10 years comparison level"
         },
         {
          "bayes_factor": 0.006083750495028865,
          "bayes_factor_description": "If comparison level is `all other comparisons` then comparison is  164.37 times less likely to be a match",
          "comparison_name": "dob",
          "comparison_sort_order": 2,
          "comparison_vector_value": 0,
          "has_tf_adjustments": false,
          "is_null_level": false,
          "label_for_charts": "All other comparisons",
          "log2_bayes_factor": -7.360823297767611,
          "m_probability": 0.0038841367049373176,
          "m_probability_description": "Amongst matching record comparisons, 0.39% of records are in the all other comparisons comparison level",
          "max_comparison_vector_value": 5,
          "probability_two_random_records_match": 0.0033319033319033323,
          "sql_condition": "ELSE",
          "tf_adjustment_column": null,
          "tf_adjustment_weight": 1,
          "u_probability": 0.6384444444444445,
          "u_probability_description": "Amongst non-matching record comparisons, 63.84% of records are in the all other comparisons comparison level"
         },
         {
          "bayes_factor": 10.232843081953742,
          "bayes_factor_description": "If comparison level is `exact match` then comparison is 10.23 times more likely to be a match",
          "comparison_name": "city",
          "comparison_sort_order": 3,
          "comparison_vector_value": 1,
          "has_tf_adjustments": true,
          "is_null_level": false,
          "label_for_charts": "Exact match",
          "log2_bayes_factor": 3.355135132480552,
          "m_probability": 0.5643164422373014,
          "m_probability_description": "Amongst matching record comparisons, 56.43% of records are in the exact match comparison level",
          "max_comparison_vector_value": 1,
          "probability_two_random_records_match": 0.0033319033319033323,
          "sql_condition": "\"city_l\" = \"city_r\"",
          "tf_adjustment_column": "city",
          "tf_adjustment_weight": 1,
          "u_probability": 0.0551475711801453,
          "u_probability_description": "Amongst non-matching record comparisons, 5.51% of records are in the exact match comparison level"
         },
         {
          "bayes_factor": 0.46111280923189113,
          "bayes_factor_description": "If comparison level is `all other comparisons` then comparison is  2.17 times less likely to be a match",
          "comparison_name": "city",
          "comparison_sort_order": 3,
          "comparison_vector_value": 0,
          "has_tf_adjustments": false,
          "is_null_level": false,
          "label_for_charts": "All other comparisons",
          "log2_bayes_factor": -1.11680835202052,
          "m_probability": 0.4356835577626986,
          "m_probability_description": "Amongst matching record comparisons, 43.57% of records are in the all other comparisons comparison level",
          "max_comparison_vector_value": 1,
          "probability_two_random_records_match": 0.0033319033319033323,
          "sql_condition": "ELSE",
          "tf_adjustment_column": null,
          "tf_adjustment_weight": 1,
          "u_probability": 0.9448524288198547,
          "u_probability_description": "Amongst non-matching record comparisons, 94.49% of records are in the all other comparisons comparison level"
         },
         {
          "bayes_factor": 252.29442781921375,
          "bayes_factor_description": "If comparison level is `exact match email` then comparison is 252.29 times more likely to be a match",
          "comparison_name": "email",
          "comparison_sort_order": 4,
          "comparison_vector_value": 4,
          "has_tf_adjustments": false,
          "is_null_level": false,
          "label_for_charts": "4. Exact match email",
          "log2_bayes_factor": 7.978964533043512,
          "m_probability": 0.5535015079574601,
          "m_probability_description": "Amongst matching record comparisons, 55.35% of records are in the exact match email comparison level",
          "max_comparison_vector_value": 4,
          "probability_two_random_records_match": 0.0033319033319033323,
          "sql_condition": "\"email_l\" = \"email_r\"",
          "tf_adjustment_column": null,
          "tf_adjustment_weight": 1,
          "u_probability": 0.0021938713143283602,
          "u_probability_description": "Amongst non-matching record comparisons, 0.22% of records are in the exact match email comparison level"
         },
         {
          "bayes_factor": 213.71691437760649,
          "bayes_factor_description": "If comparison level is `exact match email` then comparison is 213.72 times more likely to be a match",
          "comparison_name": "email",
          "comparison_sort_order": 4,
          "comparison_vector_value": 3,
          "has_tf_adjustments": false,
          "is_null_level": false,
          "label_for_charts": "3. Exact match email",
          "log2_bayes_factor": 7.739557282718736,
          "m_probability": 0.2220589042994953,
          "m_probability_description": "Amongst matching record comparisons, 22.21% of records are in the exact match email comparison level",
          "max_comparison_vector_value": 4,
          "probability_two_random_records_match": 0.0033319033319033323,
          "sql_condition": "\n        regexp_extract(\"email_l\", '^[^@]+')\n     = \n        regexp_extract(\"email_r\", '^[^@]+')\n    ",
          "tf_adjustment_column": null,
          "tf_adjustment_weight": 1,
          "u_probability": 0.0010390328952024346,
          "u_probability_description": "Amongst non-matching record comparisons, 0.10% of records are in the exact match email comparison level"
         },
         {
          "bayes_factor": 226.30960129506275,
          "bayes_factor_description": "If comparison level is `jaro_winkler_similarity email >= 0.88` then comparison is 226.31 times more likely to be a match",
          "comparison_name": "email",
          "comparison_sort_order": 4,
          "comparison_vector_value": 2,
          "has_tf_adjustments": false,
          "is_null_level": false,
          "label_for_charts": "2. Jaro_winkler_similarity email >= 0.88",
          "log2_bayes_factor": 7.822153982717734,
          "m_probability": 0.20675122646991895,
          "m_probability_description": "Amongst matching record comparisons, 20.68% of records are in the jaro_winkler_similarity email >= 0.88 comparison level",
          "max_comparison_vector_value": 4,
          "probability_two_random_records_match": 0.0033319033319033323,
          "sql_condition": "jaro_winkler_similarity(\"email_l\", \"email_r\") >= 0.88",
          "tf_adjustment_column": null,
          "tf_adjustment_weight": 1,
          "u_probability": 0.0009135769109519858,
          "u_probability_description": "Amongst non-matching record comparisons, 0.09% of records are in the jaro_winkler_similarity email >= 0.88 comparison level"
         },
         {
          "bayes_factor": 19.488467487161017,
          "bayes_factor_description": "If comparison level is `jaro_winkler_similarity username >= 0.88` then comparison is 19.49 times more likely to be a match",
          "comparison_name": "email",
          "comparison_sort_order": 4,
          "comparison_vector_value": 1,
          "has_tf_adjustments": false,
          "is_null_level": false,
          "label_for_charts": "1. Jaro_winkler_similarity Username >= 0.88",
          "log2_bayes_factor": 4.284548740865325,
          "m_probability": 0.009779779480538622,
          "m_probability_description": "Amongst matching record comparisons, 0.98% of records are in the jaro_winkler_similarity username >= 0.88 comparison level",
          "max_comparison_vector_value": 4,
          "probability_two_random_records_match": 0.0033319033319033323,
          "sql_condition": "jaro_winkler_similarity(\n        regexp_extract(\"email_l\", '^[^@]+')\n    , \n        regexp_extract(\"email_r\", '^[^@]+')\n    ) >= 0.88",
          "tf_adjustment_column": null,
          "tf_adjustment_weight": 1,
          "u_probability": 0.000501823937001795,
          "u_probability_description": "Amongst non-matching record comparisons, 0.05% of records are in the jaro_winkler_similarity username >= 0.88 comparison level"
         },
         {
          "bayes_factor": 0.007945514970006437,
          "bayes_factor_description": "If comparison level is `all other comparisons` then comparison is  125.86 times less likely to be a match",
          "comparison_name": "email",
          "comparison_sort_order": 4,
          "comparison_vector_value": 0,
          "has_tf_adjustments": false,
          "is_null_level": false,
          "label_for_charts": "0. All other comparisons",
          "log2_bayes_factor": -6.97564355714646,
          "m_probability": 0.007908581792587037,
          "m_probability_description": "Amongst matching record comparisons, 0.79% of records are in the all other comparisons comparison level",
          "max_comparison_vector_value": 4,
          "probability_two_random_records_match": 0.0033319033319033323,
          "sql_condition": "ELSE",
          "tf_adjustment_column": null,
          "tf_adjustment_weight": 1,
          "u_probability": 0.9953516949425154,
          "u_probability_description": "Amongst non-matching record comparisons, 99.54% of records are in the all other comparisons comparison level"
         }
        ]
       },
       "params": [
        {
         "bind": "scales",
         "name": "mouse_zoom",
         "select": {
          "encodings": [
           "x"
          ],
          "type": "interval"
         },
         "views": []
        }
       ],
       "resolve": {
        "axis": {
         "y": "independent"
        },
        "scale": {
         "y": "independent"
        }
       },
       "title": {
        "subtitle": "Use mousewheel to zoom",
        "text": "Model parameters (components of final match weight)"
       },
       "vconcat": [
        {
         "encoding": {
          "color": {
           "field": "log2_bayes_factor",
           "scale": {
            "domain": [
             -10,
             0,
             10
            ],
            "range": [
             "red",
             "orange",
             "green"
            ]
           },
           "title": "Match weight",
           "type": "quantitative"
          },
          "tooltip": [
           {
            "field": "comparison_name",
            "title": "Comparison name",
            "type": "nominal"
           },
           {
            "field": "probability_two_random_records_match",
            "format": ".4f",
            "title": "Probability two random records match",
            "type": "nominal"
           },
           {
            "field": "log2_bayes_factor",
            "format": ",.4f",
            "title": "Equivalent match weight",
            "type": "quantitative"
           },
           {
            "field": "bayes_factor_description",
            "title": "Match weight description",
            "type": "nominal"
           }
          ],
          "x": {
           "axis": {
            "domain": false,
            "labels": false,
            "ticks": false,
            "title": ""
           },
           "field": "log2_bayes_factor",
           "scale": {
            "domain": [
             -10,
             10
            ]
           },
           "type": "quantitative"
          },
          "y": {
           "axis": {
            "title": "Prior (starting) match weight",
            "titleAlign": "right",
            "titleAngle": 0,
            "titleFontWeight": "normal"
           },
           "field": "label_for_charts",
           "sort": {
            "field": "comparison_vector_value",
            "order": "descending"
           },
           "type": "nominal"
          }
         },
         "height": 20,
         "mark": {
          "clip": true,
          "height": 15,
          "type": "bar"
         },
         "transform": [
          {
           "filter": "(datum.comparison_name == 'probability_two_random_records_match')"
          }
         ]
        },
        {
         "encoding": {
          "color": {
           "field": "log2_bayes_factor",
           "scale": {
            "domain": [
             -10,
             0,
             10
            ],
            "range": [
             "red",
             "orange",
             "green"
            ]
           },
           "title": "Match weight",
           "type": "quantitative"
          },
          "row": {
           "field": "comparison_name",
           "header": {
            "labelAlign": "left",
            "labelAnchor": "middle",
            "labelAngle": 0
           },
           "sort": {
            "field": "comparison_sort_order"
           },
           "type": "nominal"
          },
          "tooltip": [
           {
            "field": "comparison_name",
            "title": "Comparison name",
            "type": "nominal"
           },
           {
            "field": "label_for_charts",
            "title": "Label",
            "type": "ordinal"
           },
           {
            "field": "sql_condition",
            "title": "SQL condition",
            "type": "nominal"
           },
           {
            "field": "m_probability",
            "format": ".4f",
            "title": "M probability",
            "type": "quantitative"
           },
           {
            "field": "u_probability",
            "format": ".4f",
            "title": "U probability",
            "type": "quantitative"
           },
           {
            "field": "bayes_factor",
            "format": ",.4f",
            "title": "Bayes factor = m/u",
            "type": "quantitative"
           },
           {
            "field": "log2_bayes_factor",
            "format": ",.4f",
            "title": "Match weight = log2(m/u)",
            "type": "quantitative"
           },
           {
            "field": "bayes_factor_description",
            "title": "Match weight description",
            "type": "nominal"
           }
          ],
          "x": {
           "axis": {
            "title": "Comparison level match weight = log2(m/u)"
           },
           "field": "log2_bayes_factor",
           "scale": {
            "domain": [
             -10,
             10
            ]
           },
           "type": "quantitative"
          },
          "y": {
           "axis": {
            "title": null
           },
           "field": "label_for_charts",
           "sort": {
            "field": "comparison_vector_value",
            "order": "descending"
           },
           "type": "nominal"
          }
         },
         "height": {
          "step": 12
         },
         "mark": {
          "clip": true,
          "type": "bar"
         },
         "resolve": {
          "axis": {
           "y": "independent"
          },
          "scale": {
           "y": "independent"
          }
         },
         "transform": [
          {
           "filter": "(datum.comparison_name != 'probability_two_random_records_match')"
          }
         ]
        }
       ]
      },
      "text/plain": [
       "<VegaLite 5 object>\n",
       "\n",
       "If you see this message, it means the renderer has not been properly enabled\n",
       "for the frontend that you are using. For more information, see\n",
       "https://altair-viz.github.io/user_guide/display_frontends.html#troubleshooting\n"
      ]
     },
     "execution_count": 10,
     "metadata": {},
     "output_type": "execute_result"
    }
   ],
   "source": [
    "linker.match_weights_chart()"
   ]
  }
 ],
 "metadata": {
  "kernelspec": {
   "display_name": "Python 3 (ipykernel)",
   "language": "python",
   "name": "python3"
  },
  "language_info": {
   "codemirror_mode": {
    "name": "ipython",
    "version": 3
   },
   "file_extension": ".py",
   "mimetype": "text/x-python",
   "name": "python",
   "nbconvert_exporter": "python",
   "pygments_lexer": "ipython3",
   "version": "3.9.2"
  }
 },
 "nbformat": 4,
 "nbformat_minor": 4
}

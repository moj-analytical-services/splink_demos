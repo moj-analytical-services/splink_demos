{
 "cells": [
  {
   "cell_type": "markdown",
   "metadata": {},
   "source": [
    "## Linking banking transactions\n",
    "\n",
    "This example shows how to perform a one-to-one link on banking transactions.  \n",
    "\n",
    "The data is fake data, and was generated has the following features:\n",
    "\n",
    "- Money shows up in the destination account with some time delay\n",
    "- The amount sent and the amount received are not always the same - there are hidden fees and foreign exchange effects\n",
    "- The memo is sometimes truncated and content is sometimes missing\n",
    "\n",
    "Since each origin payment should end up in the destination account, the `probability_two_random_records_match` of the model is known."
   ]
  },
  {
   "cell_type": "code",
   "execution_count": 1,
   "metadata": {},
   "outputs": [
    {
     "data": {
      "text/plain": [
       "'There are 1,000 records to match'"
      ]
     },
     "execution_count": 1,
     "metadata": {},
     "output_type": "execute_result"
    }
   ],
   "source": [
    "# Use arrow to read in data to ensure date types are correct\n",
    "from pyarrow import parquet as pq\n",
    "from splink.duckdb.linker import DuckDBLinker\n",
    "import altair as alt\n",
    "alt.renderers.enable('mimetype')\n",
    "\n",
    "df_origin = pq.read_table(\"../../data/transactions_left.parquet\")\n",
    "df_origin = df_origin.slice(length=1_000)\n",
    "df_destination = pq.read_table(\"../../data/transactions_right.parquet\")\n",
    "df_destination = df_destination.slice(length=1_000)\n",
    "f\"There are {df_origin.num_rows:,.0f} records to match\""
   ]
  },
  {
   "cell_type": "code",
   "execution_count": 2,
   "metadata": {},
   "outputs": [
    {
     "data": {
      "text/html": [
       "<div>\n",
       "<style scoped>\n",
       "    .dataframe tbody tr th:only-of-type {\n",
       "        vertical-align: middle;\n",
       "    }\n",
       "\n",
       "    .dataframe tbody tr th {\n",
       "        vertical-align: top;\n",
       "    }\n",
       "\n",
       "    .dataframe thead th {\n",
       "        text-align: right;\n",
       "    }\n",
       "</style>\n",
       "<table border=\"1\" class=\"dataframe\">\n",
       "  <thead>\n",
       "    <tr style=\"text-align: right;\">\n",
       "      <th></th>\n",
       "      <th>ground_truth</th>\n",
       "      <th>memo</th>\n",
       "      <th>transaction_date</th>\n",
       "      <th>amount</th>\n",
       "      <th>unique_id</th>\n",
       "    </tr>\n",
       "  </thead>\n",
       "  <tbody>\n",
       "    <tr>\n",
       "      <th>0</th>\n",
       "      <td>0</td>\n",
       "      <td>MATTHIAS C paym</td>\n",
       "      <td>2022-03-28</td>\n",
       "      <td>36.36</td>\n",
       "      <td>0</td>\n",
       "    </tr>\n",
       "    <tr>\n",
       "      <th>1</th>\n",
       "      <td>1</td>\n",
       "      <td>M CORVINUS dona</td>\n",
       "      <td>2022-02-14</td>\n",
       "      <td>221.91</td>\n",
       "      <td>1</td>\n",
       "    </tr>\n",
       "  </tbody>\n",
       "</table>\n",
       "</div>"
      ],
      "text/plain": [
       "   ground_truth             memo transaction_date  amount  unique_id\n",
       "0             0  MATTHIAS C paym       2022-03-28   36.36          0\n",
       "1             1  M CORVINUS dona       2022-02-14  221.91          1"
      ]
     },
     "execution_count": 2,
     "metadata": {},
     "output_type": "execute_result"
    }
   ],
   "source": [
    "# Some sample records\n",
    "df_origin.to_pandas().head(2)"
   ]
  },
  {
   "cell_type": "markdown",
   "metadata": {},
   "source": [
    "In the following chart, we can see this is a challenging dataset to link:\n",
    "- There are only 151 distinct transaction dates, with strong skew\n",
    "- Some 'memos' are used multiple times (up to 48 times)\n",
    "- There is strong skew in the 'amount' column, with 1,400 transactions of around 60.00"
   ]
  },
  {
   "cell_type": "code",
   "execution_count": 3,
   "metadata": {},
   "outputs": [
    {
     "data": {
      "application/vnd.vegalite.v5+json": {
       "$schema": "https://vega.github.io/schema/vega-lite/v5.9.3.json",
       "config": {
        "view": {
         "continuousHeight": 300,
         "continuousWidth": 400
        }
       },
       "vconcat": [
        {
         "hconcat": [
          {
           "data": {
            "values": [
             {
              "distinct_value_count": 138,
              "group_name": "transaction_date",
              "percentile_ex_nulls": 0.9794999957084656,
              "percentile_inc_nulls": 0.9794999957084656,
              "sum_tokens_in_value_count_group": 41,
              "total_non_null_rows": 2000,
              "total_rows_inc_nulls": 2000,
              "value_count": 41
             },
             {
              "distinct_value_count": 138,
              "group_name": "transaction_date",
              "percentile_ex_nulls": 0.9605000019073486,
              "percentile_inc_nulls": 0.9605000019073486,
              "sum_tokens_in_value_count_group": 38,
              "total_non_null_rows": 2000,
              "total_rows_inc_nulls": 2000,
              "value_count": 38
             },
             {
              "distinct_value_count": 138,
              "group_name": "transaction_date",
              "percentile_ex_nulls": 0.9420000314712524,
              "percentile_inc_nulls": 0.9420000314712524,
              "sum_tokens_in_value_count_group": 37,
              "total_non_null_rows": 2000,
              "total_rows_inc_nulls": 2000,
              "value_count": 37
             },
             {
              "distinct_value_count": 138,
              "group_name": "transaction_date",
              "percentile_ex_nulls": 0.9244999885559082,
              "percentile_inc_nulls": 0.9244999885559082,
              "sum_tokens_in_value_count_group": 35,
              "total_non_null_rows": 2000,
              "total_rows_inc_nulls": 2000,
              "value_count": 35
             },
             {
              "distinct_value_count": 138,
              "group_name": "transaction_date",
              "percentile_ex_nulls": 0.890500009059906,
              "percentile_inc_nulls": 0.890500009059906,
              "sum_tokens_in_value_count_group": 68,
              "total_non_null_rows": 2000,
              "total_rows_inc_nulls": 2000,
              "value_count": 34
             },
             {
              "distinct_value_count": 138,
              "group_name": "transaction_date",
              "percentile_ex_nulls": 0.8740000128746033,
              "percentile_inc_nulls": 0.8740000128746033,
              "sum_tokens_in_value_count_group": 33,
              "total_non_null_rows": 2000,
              "total_rows_inc_nulls": 2000,
              "value_count": 33
             },
             {
              "distinct_value_count": 138,
              "group_name": "transaction_date",
              "percentile_ex_nulls": 0.8579999804496765,
              "percentile_inc_nulls": 0.8579999804496765,
              "sum_tokens_in_value_count_group": 32,
              "total_non_null_rows": 2000,
              "total_rows_inc_nulls": 2000,
              "value_count": 32
             },
             {
              "distinct_value_count": 138,
              "group_name": "transaction_date",
              "percentile_ex_nulls": 0.8270000219345093,
              "percentile_inc_nulls": 0.8270000219345093,
              "sum_tokens_in_value_count_group": 62,
              "total_non_null_rows": 2000,
              "total_rows_inc_nulls": 2000,
              "value_count": 31
             },
             {
              "distinct_value_count": 138,
              "group_name": "transaction_date",
              "percentile_ex_nulls": 0.7670000195503235,
              "percentile_inc_nulls": 0.7670000195503235,
              "sum_tokens_in_value_count_group": 120,
              "total_non_null_rows": 2000,
              "total_rows_inc_nulls": 2000,
              "value_count": 30
             },
             {
              "distinct_value_count": 138,
              "group_name": "transaction_date",
              "percentile_ex_nulls": 0.6970000267028809,
              "percentile_inc_nulls": 0.6970000267028809,
              "sum_tokens_in_value_count_group": 140,
              "total_non_null_rows": 2000,
              "total_rows_inc_nulls": 2000,
              "value_count": 28
             },
             {
              "distinct_value_count": 138,
              "group_name": "transaction_date",
              "percentile_ex_nulls": 0.6699999570846558,
              "percentile_inc_nulls": 0.6699999570846558,
              "sum_tokens_in_value_count_group": 54,
              "total_non_null_rows": 2000,
              "total_rows_inc_nulls": 2000,
              "value_count": 27
             },
             {
              "distinct_value_count": 138,
              "group_name": "transaction_date",
              "percentile_ex_nulls": 0.6180000305175781,
              "percentile_inc_nulls": 0.6180000305175781,
              "sum_tokens_in_value_count_group": 104,
              "total_non_null_rows": 2000,
              "total_rows_inc_nulls": 2000,
              "value_count": 26
             },
             {
              "distinct_value_count": 138,
              "group_name": "transaction_date",
              "percentile_ex_nulls": 0.5805000066757202,
              "percentile_inc_nulls": 0.5805000066757202,
              "sum_tokens_in_value_count_group": 75,
              "total_non_null_rows": 2000,
              "total_rows_inc_nulls": 2000,
              "value_count": 25
             },
             {
              "distinct_value_count": 138,
              "group_name": "transaction_date",
              "percentile_ex_nulls": 0.5564999580383301,
              "percentile_inc_nulls": 0.5564999580383301,
              "sum_tokens_in_value_count_group": 48,
              "total_non_null_rows": 2000,
              "total_rows_inc_nulls": 2000,
              "value_count": 24
             },
             {
              "distinct_value_count": 138,
              "group_name": "transaction_date",
              "percentile_ex_nulls": 0.49900001287460327,
              "percentile_inc_nulls": 0.49900001287460327,
              "sum_tokens_in_value_count_group": 115,
              "total_non_null_rows": 2000,
              "total_rows_inc_nulls": 2000,
              "value_count": 23
             },
             {
              "distinct_value_count": 138,
              "group_name": "transaction_date",
              "percentile_ex_nulls": 0.4660000205039978,
              "percentile_inc_nulls": 0.4660000205039978,
              "sum_tokens_in_value_count_group": 66,
              "total_non_null_rows": 2000,
              "total_rows_inc_nulls": 2000,
              "value_count": 22
             },
             {
              "distinct_value_count": 138,
              "group_name": "transaction_date",
              "percentile_ex_nulls": 0.4240000247955322,
              "percentile_inc_nulls": 0.4240000247955322,
              "sum_tokens_in_value_count_group": 84,
              "total_non_null_rows": 2000,
              "total_rows_inc_nulls": 2000,
              "value_count": 21
             },
             {
              "distinct_value_count": 138,
              "group_name": "transaction_date",
              "percentile_ex_nulls": 0.39399999380111694,
              "percentile_inc_nulls": 0.39399999380111694,
              "sum_tokens_in_value_count_group": 60,
              "total_non_null_rows": 2000,
              "total_rows_inc_nulls": 2000,
              "value_count": 20
             },
             {
              "distinct_value_count": 138,
              "group_name": "transaction_date",
              "percentile_ex_nulls": 0.35600000619888306,
              "percentile_inc_nulls": 0.35600000619888306,
              "sum_tokens_in_value_count_group": 76,
              "total_non_null_rows": 2000,
              "total_rows_inc_nulls": 2000,
              "value_count": 19
             },
             {
              "distinct_value_count": 138,
              "group_name": "transaction_date",
              "percentile_ex_nulls": 0.2929999828338623,
              "percentile_inc_nulls": 0.2929999828338623,
              "sum_tokens_in_value_count_group": 126,
              "total_non_null_rows": 2000,
              "total_rows_inc_nulls": 2000,
              "value_count": 18
             },
             {
              "distinct_value_count": 138,
              "group_name": "transaction_date",
              "percentile_ex_nulls": 0.2760000228881836,
              "percentile_inc_nulls": 0.2760000228881836,
              "sum_tokens_in_value_count_group": 34,
              "total_non_null_rows": 2000,
              "total_rows_inc_nulls": 2000,
              "value_count": 17
             },
             {
              "distinct_value_count": 138,
              "group_name": "transaction_date",
              "percentile_ex_nulls": 0.25999999046325684,
              "percentile_inc_nulls": 0.25999999046325684,
              "sum_tokens_in_value_count_group": 32,
              "total_non_null_rows": 2000,
              "total_rows_inc_nulls": 2000,
              "value_count": 16
             },
             {
              "distinct_value_count": 138,
              "group_name": "transaction_date",
              "percentile_ex_nulls": 0.19999998807907104,
              "percentile_inc_nulls": 0.19999998807907104,
              "sum_tokens_in_value_count_group": 120,
              "total_non_null_rows": 2000,
              "total_rows_inc_nulls": 2000,
              "value_count": 15
             },
             {
              "distinct_value_count": 138,
              "group_name": "transaction_date",
              "percentile_ex_nulls": 0.17900002002716064,
              "percentile_inc_nulls": 0.17900002002716064,
              "sum_tokens_in_value_count_group": 42,
              "total_non_null_rows": 2000,
              "total_rows_inc_nulls": 2000,
              "value_count": 14
             },
             {
              "distinct_value_count": 138,
              "group_name": "transaction_date",
              "percentile_ex_nulls": 0.15950000286102295,
              "percentile_inc_nulls": 0.15950000286102295,
              "sum_tokens_in_value_count_group": 39,
              "total_non_null_rows": 2000,
              "total_rows_inc_nulls": 2000,
              "value_count": 13
             },
             {
              "distinct_value_count": 138,
              "group_name": "transaction_date",
              "percentile_ex_nulls": 0.14149999618530273,
              "percentile_inc_nulls": 0.14149999618530273,
              "sum_tokens_in_value_count_group": 36,
              "total_non_null_rows": 2000,
              "total_rows_inc_nulls": 2000,
              "value_count": 12
             },
             {
              "distinct_value_count": 138,
              "group_name": "transaction_date",
              "percentile_ex_nulls": 0.125,
              "percentile_inc_nulls": 0.125,
              "sum_tokens_in_value_count_group": 33,
              "total_non_null_rows": 2000,
              "total_rows_inc_nulls": 2000,
              "value_count": 11
             },
             {
              "distinct_value_count": 138,
              "group_name": "transaction_date",
              "percentile_ex_nulls": 0.10000002384185791,
              "percentile_inc_nulls": 0.10000002384185791,
              "sum_tokens_in_value_count_group": 50,
              "total_non_null_rows": 2000,
              "total_rows_inc_nulls": 2000,
              "value_count": 10
             },
             {
              "distinct_value_count": 138,
              "group_name": "transaction_date",
              "percentile_ex_nulls": 0.08649998903274536,
              "percentile_inc_nulls": 0.08649998903274536,
              "sum_tokens_in_value_count_group": 27,
              "total_non_null_rows": 2000,
              "total_rows_inc_nulls": 2000,
              "value_count": 9
             },
             {
              "distinct_value_count": 138,
              "group_name": "transaction_date",
              "percentile_ex_nulls": 0.07849997282028198,
              "percentile_inc_nulls": 0.07849997282028198,
              "sum_tokens_in_value_count_group": 16,
              "total_non_null_rows": 2000,
              "total_rows_inc_nulls": 2000,
              "value_count": 8
             },
             {
              "distinct_value_count": 138,
              "group_name": "transaction_date",
              "percentile_ex_nulls": 0.054000020027160645,
              "percentile_inc_nulls": 0.054000020027160645,
              "sum_tokens_in_value_count_group": 49,
              "total_non_null_rows": 2000,
              "total_rows_inc_nulls": 2000,
              "value_count": 7
             },
             {
              "distinct_value_count": 138,
              "group_name": "transaction_date",
              "percentile_ex_nulls": 0.041999995708465576,
              "percentile_inc_nulls": 0.041999995708465576,
              "sum_tokens_in_value_count_group": 24,
              "total_non_null_rows": 2000,
              "total_rows_inc_nulls": 2000,
              "value_count": 6
             },
             {
              "distinct_value_count": 138,
              "group_name": "transaction_date",
              "percentile_ex_nulls": 0.03949999809265137,
              "percentile_inc_nulls": 0.03949999809265137,
              "sum_tokens_in_value_count_group": 5,
              "total_non_null_rows": 2000,
              "total_rows_inc_nulls": 2000,
              "value_count": 5
             },
             {
              "distinct_value_count": 138,
              "group_name": "transaction_date",
              "percentile_ex_nulls": 0.025499999523162842,
              "percentile_inc_nulls": 0.025499999523162842,
              "sum_tokens_in_value_count_group": 28,
              "total_non_null_rows": 2000,
              "total_rows_inc_nulls": 2000,
              "value_count": 4
             },
             {
              "distinct_value_count": 138,
              "group_name": "transaction_date",
              "percentile_ex_nulls": 0.016499996185302734,
              "percentile_inc_nulls": 0.016499996185302734,
              "sum_tokens_in_value_count_group": 18,
              "total_non_null_rows": 2000,
              "total_rows_inc_nulls": 2000,
              "value_count": 3
             },
             {
              "distinct_value_count": 138,
              "group_name": "transaction_date",
              "percentile_ex_nulls": 0.0065000057220458984,
              "percentile_inc_nulls": 0.0065000057220458984,
              "sum_tokens_in_value_count_group": 20,
              "total_non_null_rows": 2000,
              "total_rows_inc_nulls": 2000,
              "value_count": 2
             },
             {
              "distinct_value_count": 138,
              "group_name": "transaction_date",
              "percentile_ex_nulls": 0,
              "percentile_inc_nulls": 0,
              "sum_tokens_in_value_count_group": 13,
              "total_non_null_rows": 2000,
              "total_rows_inc_nulls": 2000,
              "value_count": 1
             },
             {
              "distinct_value_count": 138,
              "group_name": "transaction_date",
              "percentile_ex_nulls": 1,
              "percentile_inc_nulls": 1,
              "sum_tokens_in_value_count_group": 41,
              "total_non_null_rows": 2000,
              "total_rows_inc_nulls": 2000,
              "value_count": 41
             }
            ]
           },
           "encoding": {
            "tooltip": [
             {
              "field": "value_count",
              "type": "quantitative"
             },
             {
              "field": "percentile_ex_nulls",
              "type": "quantitative"
             },
             {
              "field": "percentile_inc_nulls",
              "type": "quantitative"
             },
             {
              "field": "total_non_null_rows",
              "type": "quantitative"
             },
             {
              "field": "total_rows_inc_nulls",
              "type": "quantitative"
             }
            ],
            "x": {
             "field": "percentile_ex_nulls",
             "sort": "descending",
             "title": "Percentile",
             "type": "quantitative"
            },
            "y": {
             "field": "value_count",
             "title": "Count of values",
             "type": "quantitative"
            }
           },
           "mark": {
            "interpolate": "step-after",
            "type": "line"
           },
           "title": {
            "subtitle": "In this col, 0 values (0.0%) are null and there are 138 distinct values",
            "text": "Distribution of counts of values in column transaction_date"
           }
          },
          {
           "data": {
            "values": [
             {
              "distinct_value_count": 138,
              "group_name": "transaction_date",
              "total_non_null_rows": 2000,
              "total_rows_inc_nulls": 2000,
              "value": "2022-05-07",
              "value_count": 41
             },
             {
              "distinct_value_count": 138,
              "group_name": "transaction_date",
              "total_non_null_rows": 2000,
              "total_rows_inc_nulls": 2000,
              "value": "2022-05-09",
              "value_count": 38
             },
             {
              "distinct_value_count": 138,
              "group_name": "transaction_date",
              "total_non_null_rows": 2000,
              "total_rows_inc_nulls": 2000,
              "value": "2022-05-06",
              "value_count": 37
             },
             {
              "distinct_value_count": 138,
              "group_name": "transaction_date",
              "total_non_null_rows": 2000,
              "total_rows_inc_nulls": 2000,
              "value": "2022-04-30",
              "value_count": 35
             },
             {
              "distinct_value_count": 138,
              "group_name": "transaction_date",
              "total_non_null_rows": 2000,
              "total_rows_inc_nulls": 2000,
              "value": "2022-04-27",
              "value_count": 34
             },
             {
              "distinct_value_count": 138,
              "group_name": "transaction_date",
              "total_non_null_rows": 2000,
              "total_rows_inc_nulls": 2000,
              "value": "2022-03-29",
              "value_count": 34
             },
             {
              "distinct_value_count": 138,
              "group_name": "transaction_date",
              "total_non_null_rows": 2000,
              "total_rows_inc_nulls": 2000,
              "value": "2022-05-10",
              "value_count": 33
             },
             {
              "distinct_value_count": 138,
              "group_name": "transaction_date",
              "total_non_null_rows": 2000,
              "total_rows_inc_nulls": 2000,
              "value": "2022-05-01",
              "value_count": 32
             },
             {
              "distinct_value_count": 138,
              "group_name": "transaction_date",
              "total_non_null_rows": 2000,
              "total_rows_inc_nulls": 2000,
              "value": "2022-04-24",
              "value_count": 31
             },
             {
              "distinct_value_count": 138,
              "group_name": "transaction_date",
              "total_non_null_rows": 2000,
              "total_rows_inc_nulls": 2000,
              "value": "2022-05-08",
              "value_count": 31
             }
            ]
           },
           "encoding": {
            "tooltip": [
             {
              "field": "value",
              "type": "nominal"
             },
             {
              "field": "value_count",
              "type": "quantitative"
             },
             {
              "field": "total_non_null_rows",
              "type": "quantitative"
             },
             {
              "field": "total_rows_inc_nulls",
              "type": "quantitative"
             }
            ],
            "x": {
             "field": "value",
             "sort": "-y",
             "title": null,
             "type": "nominal"
            },
            "y": {
             "field": "value_count",
             "title": "Value count",
             "type": "quantitative"
            }
           },
           "mark": "bar",
           "title": "Top 10 values by value count"
          },
          {
           "data": {
            "values": [
             {
              "distinct_value_count": 138,
              "group_name": "transaction_date",
              "total_non_null_rows": 2000,
              "total_rows_inc_nulls": 2000,
              "value": "2022-01-27",
              "value_count": 1
             },
             {
              "distinct_value_count": 138,
              "group_name": "transaction_date",
              "total_non_null_rows": 2000,
              "total_rows_inc_nulls": 2000,
              "value": "2022-01-12",
              "value_count": 1
             },
             {
              "distinct_value_count": 138,
              "group_name": "transaction_date",
              "total_non_null_rows": 2000,
              "total_rows_inc_nulls": 2000,
              "value": "2022-01-03",
              "value_count": 1
             },
             {
              "distinct_value_count": 138,
              "group_name": "transaction_date",
              "total_non_null_rows": 2000,
              "total_rows_inc_nulls": 2000,
              "value": "2022-01-14",
              "value_count": 1
             },
             {
              "distinct_value_count": 138,
              "group_name": "transaction_date",
              "total_non_null_rows": 2000,
              "total_rows_inc_nulls": 2000,
              "value": "2022-01-18",
              "value_count": 1
             },
             {
              "distinct_value_count": 138,
              "group_name": "transaction_date",
              "total_non_null_rows": 2000,
              "total_rows_inc_nulls": 2000,
              "value": "2022-05-27",
              "value_count": 1
             },
             {
              "distinct_value_count": 138,
              "group_name": "transaction_date",
              "total_non_null_rows": 2000,
              "total_rows_inc_nulls": 2000,
              "value": "2022-05-23",
              "value_count": 1
             },
             {
              "distinct_value_count": 138,
              "group_name": "transaction_date",
              "total_non_null_rows": 2000,
              "total_rows_inc_nulls": 2000,
              "value": "2022-01-09",
              "value_count": 1
             },
             {
              "distinct_value_count": 138,
              "group_name": "transaction_date",
              "total_non_null_rows": 2000,
              "total_rows_inc_nulls": 2000,
              "value": "2022-05-31",
              "value_count": 1
             },
             {
              "distinct_value_count": 138,
              "group_name": "transaction_date",
              "total_non_null_rows": 2000,
              "total_rows_inc_nulls": 2000,
              "value": "2022-05-16",
              "value_count": 1
             }
            ]
           },
           "encoding": {
            "tooltip": [
             {
              "field": "value",
              "type": "nominal"
             },
             {
              "field": "value_count",
              "type": "quantitative"
             },
             {
              "field": "total_non_null_rows",
              "type": "quantitative"
             },
             {
              "field": "total_rows_inc_nulls",
              "type": "quantitative"
             }
            ],
            "x": {
             "field": "value",
             "sort": "-y",
             "title": null,
             "type": "nominal"
            },
            "y": {
             "field": "value_count",
             "scale": {
              "domain": [
               0,
               41
              ]
             },
             "title": "Value count",
             "type": "quantitative"
            }
           },
           "mark": "bar",
           "title": "Bottom 10 values by value count"
          }
         ]
        },
        {
         "hconcat": [
          {
           "data": {
            "values": [
             {
              "distinct_value_count": 1258,
              "group_name": "memo",
              "percentile_ex_nulls": 0.9929999709129333,
              "percentile_inc_nulls": 0.9929999709129333,
              "sum_tokens_in_value_count_group": 14,
              "total_non_null_rows": 2000,
              "total_rows_inc_nulls": 2000,
              "value_count": 14
             },
             {
              "distinct_value_count": 1258,
              "group_name": "memo",
              "percentile_ex_nulls": 0.9890000224113464,
              "percentile_inc_nulls": 0.9890000224113464,
              "sum_tokens_in_value_count_group": 8,
              "total_non_null_rows": 2000,
              "total_rows_inc_nulls": 2000,
              "value_count": 8
             },
             {
              "distinct_value_count": 1258,
              "group_name": "memo",
              "percentile_ex_nulls": 0.9785000085830688,
              "percentile_inc_nulls": 0.9785000085830688,
              "sum_tokens_in_value_count_group": 21,
              "total_non_null_rows": 2000,
              "total_rows_inc_nulls": 2000,
              "value_count": 7
             },
             {
              "distinct_value_count": 1258,
              "group_name": "memo",
              "percentile_ex_nulls": 0.9605000019073486,
              "percentile_inc_nulls": 0.9605000019073486,
              "sum_tokens_in_value_count_group": 36,
              "total_non_null_rows": 2000,
              "total_rows_inc_nulls": 2000,
              "value_count": 6
             },
             {
              "distinct_value_count": 1258,
              "group_name": "memo",
              "percentile_ex_nulls": 0.9329999685287476,
              "percentile_inc_nulls": 0.9329999685287476,
              "sum_tokens_in_value_count_group": 55,
              "total_non_null_rows": 2000,
              "total_rows_inc_nulls": 2000,
              "value_count": 5
             },
             {
              "distinct_value_count": 1258,
              "group_name": "memo",
              "percentile_ex_nulls": 0.847000002861023,
              "percentile_inc_nulls": 0.847000002861023,
              "sum_tokens_in_value_count_group": 172,
              "total_non_null_rows": 2000,
              "total_rows_inc_nulls": 2000,
              "value_count": 4
             },
             {
              "distinct_value_count": 1258,
              "group_name": "memo",
              "percentile_ex_nulls": 0.749500036239624,
              "percentile_inc_nulls": 0.749500036239624,
              "sum_tokens_in_value_count_group": 195,
              "total_non_null_rows": 2000,
              "total_rows_inc_nulls": 2000,
              "value_count": 3
             },
             {
              "distinct_value_count": 1258,
              "group_name": "memo",
              "percentile_ex_nulls": 0.37849998474121094,
              "percentile_inc_nulls": 0.37849998474121094,
              "sum_tokens_in_value_count_group": 742,
              "total_non_null_rows": 2000,
              "total_rows_inc_nulls": 2000,
              "value_count": 2
             },
             {
              "distinct_value_count": 1258,
              "group_name": "memo",
              "percentile_ex_nulls": 0,
              "percentile_inc_nulls": 0,
              "sum_tokens_in_value_count_group": 757,
              "total_non_null_rows": 2000,
              "total_rows_inc_nulls": 2000,
              "value_count": 1
             },
             {
              "distinct_value_count": 1258,
              "group_name": "memo",
              "percentile_ex_nulls": 1,
              "percentile_inc_nulls": 1,
              "sum_tokens_in_value_count_group": 14,
              "total_non_null_rows": 2000,
              "total_rows_inc_nulls": 2000,
              "value_count": 14
             }
            ]
           },
           "encoding": {
            "tooltip": [
             {
              "field": "value_count",
              "type": "quantitative"
             },
             {
              "field": "percentile_ex_nulls",
              "type": "quantitative"
             },
             {
              "field": "percentile_inc_nulls",
              "type": "quantitative"
             },
             {
              "field": "total_non_null_rows",
              "type": "quantitative"
             },
             {
              "field": "total_rows_inc_nulls",
              "type": "quantitative"
             }
            ],
            "x": {
             "field": "percentile_ex_nulls",
             "sort": "descending",
             "title": "Percentile",
             "type": "quantitative"
            },
            "y": {
             "field": "value_count",
             "title": "Count of values",
             "type": "quantitative"
            }
           },
           "mark": {
            "interpolate": "step-after",
            "type": "line"
           },
           "title": {
            "subtitle": "In this col, 0 values (0.0%) are null and there are 1258 distinct values",
            "text": "Distribution of counts of values in column memo"
           }
          },
          {
           "data": {
            "values": [
             {
              "distinct_value_count": 1258,
              "group_name": "memo",
              "total_non_null_rows": 2000,
              "total_rows_inc_nulls": 2000,
              "value": "E PHILIBERT, DU",
              "value_count": 14
             },
             {
              "distinct_value_count": 1258,
              "group_name": "memo",
              "total_non_null_rows": 2000,
              "total_rows_inc_nulls": 2000,
              "value": "T H payment BGC",
              "value_count": 8
             },
             {
              "distinct_value_count": 1258,
              "group_name": "memo",
              "total_non_null_rows": 2000,
              "total_rows_inc_nulls": 2000,
              "value": "GIOVANNI DELLA ",
              "value_count": 7
             },
             {
              "distinct_value_count": 1258,
              "group_name": "memo",
              "total_non_null_rows": 2000,
              "total_rows_inc_nulls": 2000,
              "value": "THOMAS BOLEYN, ",
              "value_count": 7
             },
             {
              "distinct_value_count": 1258,
              "group_name": "memo",
              "total_non_null_rows": 2000,
              "total_rows_inc_nulls": 2000,
              "value": "T H money BGC",
              "value_count": 7
             },
             {
              "distinct_value_count": 1258,
              "group_name": "memo",
              "total_non_null_rows": 2000,
              "total_rows_inc_nulls": 2000,
              "value": "G D ROBBIA dona",
              "value_count": 6
             },
             {
              "distinct_value_count": 1258,
              "group_name": "memo",
              "total_non_null_rows": 2000,
              "total_rows_inc_nulls": 2000,
              "value": "R R BGC",
              "value_count": 6
             },
             {
              "distinct_value_count": 1258,
              "group_name": "memo",
              "total_non_null_rows": 2000,
              "total_rows_inc_nulls": 2000,
              "value": "J SIMMLER money",
              "value_count": 6
             },
             {
              "distinct_value_count": 1258,
              "group_name": "memo",
              "total_non_null_rows": 2000,
              "total_rows_inc_nulls": 2000,
              "value": "J SIMMLER payme",
              "value_count": 6
             },
             {
              "distinct_value_count": 1258,
              "group_name": "memo",
              "total_non_null_rows": 2000,
              "total_rows_inc_nulls": 2000,
              "value": "J T donation BG",
              "value_count": 6
             }
            ]
           },
           "encoding": {
            "tooltip": [
             {
              "field": "value",
              "type": "nominal"
             },
             {
              "field": "value_count",
              "type": "quantitative"
             },
             {
              "field": "total_non_null_rows",
              "type": "quantitative"
             },
             {
              "field": "total_rows_inc_nulls",
              "type": "quantitative"
             }
            ],
            "x": {
             "field": "value",
             "sort": "-y",
             "title": null,
             "type": "nominal"
            },
            "y": {
             "field": "value_count",
             "title": "Value count",
             "type": "quantitative"
            }
           },
           "mark": "bar",
           "title": "Top 10 values by value count"
          },
          {
           "data": {
            "values": [
             {
              "distinct_value_count": 1258,
              "group_name": "memo",
              "total_non_null_rows": 2000,
              "total_rows_inc_nulls": 2000,
              "value": "MATTHIAS C paym",
              "value_count": 1
             },
             {
              "distinct_value_count": 1258,
              "group_name": "memo",
              "total_non_null_rows": 2000,
              "total_rows_inc_nulls": 2000,
              "value": "M C donation BG",
              "value_count": 1
             },
             {
              "distinct_value_count": 1258,
              "group_name": "memo",
              "total_non_null_rows": 2000,
              "total_rows_inc_nulls": 2000,
              "value": "M CORVINUS  CSH",
              "value_count": 1
             },
             {
              "distinct_value_count": 1258,
              "group_name": "memo",
              "total_non_null_rows": 2000,
              "total_rows_inc_nulls": 2000,
              "value": "M CORVINUS CSH",
              "value_count": 1
             },
             {
              "distinct_value_count": 1258,
              "group_name": "memo",
              "total_non_null_rows": 2000,
              "total_rows_inc_nulls": 2000,
              "value": "M C 1b097ab5 CH",
              "value_count": 1
             },
             {
              "distinct_value_count": 1258,
              "group_name": "memo",
              "total_non_null_rows": 2000,
              "total_rows_inc_nulls": 2000,
              "value": "M CORVINUS  BGC",
              "value_count": 1
             },
             {
              "distinct_value_count": 1258,
              "group_name": "memo",
              "total_non_null_rows": 2000,
              "total_rows_inc_nulls": 2000,
              "value": "LORENZO D MEDICI donation CSH",
              "value_count": 1
             },
             {
              "distinct_value_count": 1258,
              "group_name": "memo",
              "total_non_null_rows": 2000,
              "total_rows_inc_nulls": 2000,
              "value": "LORENZO D M donation CHQ",
              "value_count": 1
             },
             {
              "distinct_value_count": 1258,
              "group_name": "memo",
              "total_non_null_rows": 2000,
              "total_rows_inc_nulls": 2000,
              "value": "L DE' M money B",
              "value_count": 1
             },
             {
              "distinct_value_count": 1258,
              "group_name": "memo",
              "total_non_null_rows": 2000,
              "total_rows_inc_nulls": 2000,
              "value": "L DE' MEDICI mo",
              "value_count": 1
             }
            ]
           },
           "encoding": {
            "tooltip": [
             {
              "field": "value",
              "type": "nominal"
             },
             {
              "field": "value_count",
              "type": "quantitative"
             },
             {
              "field": "total_non_null_rows",
              "type": "quantitative"
             },
             {
              "field": "total_rows_inc_nulls",
              "type": "quantitative"
             }
            ],
            "x": {
             "field": "value",
             "sort": "-y",
             "title": null,
             "type": "nominal"
            },
            "y": {
             "field": "value_count",
             "scale": {
              "domain": [
               0,
               14
              ]
             },
             "title": "Value count",
             "type": "quantitative"
            }
           },
           "mark": "bar",
           "title": "Bottom 10 values by value count"
          }
         ]
        },
        {
         "hconcat": [
          {
           "data": {
            "values": [
             {
              "distinct_value_count": 707,
              "group_name": "round_amount_5_0_5",
              "percentile_ex_nulls": 0.9779999852180481,
              "percentile_inc_nulls": 0.9779999852180481,
              "sum_tokens_in_value_count_group": 44,
              "total_non_null_rows": 2000,
              "total_rows_inc_nulls": 2000,
              "value_count": 44
             },
             {
              "distinct_value_count": 707,
              "group_name": "round_amount_5_0_5",
              "percentile_ex_nulls": 0.9589999914169312,
              "percentile_inc_nulls": 0.9589999914169312,
              "sum_tokens_in_value_count_group": 38,
              "total_non_null_rows": 2000,
              "total_rows_inc_nulls": 2000,
              "value_count": 38
             },
             {
              "distinct_value_count": 707,
              "group_name": "round_amount_5_0_5",
              "percentile_ex_nulls": 0.940500020980835,
              "percentile_inc_nulls": 0.940500020980835,
              "sum_tokens_in_value_count_group": 37,
              "total_non_null_rows": 2000,
              "total_rows_inc_nulls": 2000,
              "value_count": 37
             },
             {
              "distinct_value_count": 707,
              "group_name": "round_amount_5_0_5",
              "percentile_ex_nulls": 0.9225000143051147,
              "percentile_inc_nulls": 0.9225000143051147,
              "sum_tokens_in_value_count_group": 36,
              "total_non_null_rows": 2000,
              "total_rows_inc_nulls": 2000,
              "value_count": 36
             },
             {
              "distinct_value_count": 707,
              "group_name": "round_amount_5_0_5",
              "percentile_ex_nulls": 0.9049999713897705,
              "percentile_inc_nulls": 0.9049999713897705,
              "sum_tokens_in_value_count_group": 35,
              "total_non_null_rows": 2000,
              "total_rows_inc_nulls": 2000,
              "value_count": 35
             },
             {
              "distinct_value_count": 707,
              "group_name": "round_amount_5_0_5",
              "percentile_ex_nulls": 0.8880000114440918,
              "percentile_inc_nulls": 0.8880000114440918,
              "sum_tokens_in_value_count_group": 34,
              "total_non_null_rows": 2000,
              "total_rows_inc_nulls": 2000,
              "value_count": 34
             },
             {
              "distinct_value_count": 707,
              "group_name": "round_amount_5_0_5",
              "percentile_ex_nulls": 0.8725000023841858,
              "percentile_inc_nulls": 0.8725000023841858,
              "sum_tokens_in_value_count_group": 31,
              "total_non_null_rows": 2000,
              "total_rows_inc_nulls": 2000,
              "value_count": 31
             },
             {
              "distinct_value_count": 707,
              "group_name": "round_amount_5_0_5",
              "percentile_ex_nulls": 0.8575000166893005,
              "percentile_inc_nulls": 0.8575000166893005,
              "sum_tokens_in_value_count_group": 30,
              "total_non_null_rows": 2000,
              "total_rows_inc_nulls": 2000,
              "value_count": 30
             },
             {
              "distinct_value_count": 707,
              "group_name": "round_amount_5_0_5",
              "percentile_ex_nulls": 0.8285000324249268,
              "percentile_inc_nulls": 0.8285000324249268,
              "sum_tokens_in_value_count_group": 58,
              "total_non_null_rows": 2000,
              "total_rows_inc_nulls": 2000,
              "value_count": 29
             },
             {
              "distinct_value_count": 707,
              "group_name": "round_amount_5_0_5",
              "percentile_ex_nulls": 0.8149999976158142,
              "percentile_inc_nulls": 0.8149999976158142,
              "sum_tokens_in_value_count_group": 27,
              "total_non_null_rows": 2000,
              "total_rows_inc_nulls": 2000,
              "value_count": 27
             },
             {
              "distinct_value_count": 707,
              "group_name": "round_amount_5_0_5",
              "percentile_ex_nulls": 0.8025000095367432,
              "percentile_inc_nulls": 0.8025000095367432,
              "sum_tokens_in_value_count_group": 25,
              "total_non_null_rows": 2000,
              "total_rows_inc_nulls": 2000,
              "value_count": 25
             },
             {
              "distinct_value_count": 707,
              "group_name": "round_amount_5_0_5",
              "percentile_ex_nulls": 0.7664999961853027,
              "percentile_inc_nulls": 0.7664999961853027,
              "sum_tokens_in_value_count_group": 72,
              "total_non_null_rows": 2000,
              "total_rows_inc_nulls": 2000,
              "value_count": 24
             },
             {
              "distinct_value_count": 707,
              "group_name": "round_amount_5_0_5",
              "percentile_ex_nulls": 0.7319999933242798,
              "percentile_inc_nulls": 0.7319999933242798,
              "sum_tokens_in_value_count_group": 69,
              "total_non_null_rows": 2000,
              "total_rows_inc_nulls": 2000,
              "value_count": 23
             },
             {
              "distinct_value_count": 707,
              "group_name": "round_amount_5_0_5",
              "percentile_ex_nulls": 0.7100000381469727,
              "percentile_inc_nulls": 0.7100000381469727,
              "sum_tokens_in_value_count_group": 44,
              "total_non_null_rows": 2000,
              "total_rows_inc_nulls": 2000,
              "value_count": 22
             },
             {
              "distinct_value_count": 707,
              "group_name": "round_amount_5_0_5",
              "percentile_ex_nulls": 0.6890000104904175,
              "percentile_inc_nulls": 0.6890000104904175,
              "sum_tokens_in_value_count_group": 42,
              "total_non_null_rows": 2000,
              "total_rows_inc_nulls": 2000,
              "value_count": 21
             },
             {
              "distinct_value_count": 707,
              "group_name": "round_amount_5_0_5",
              "percentile_ex_nulls": 0.6790000200271606,
              "percentile_inc_nulls": 0.6790000200271606,
              "sum_tokens_in_value_count_group": 20,
              "total_non_null_rows": 2000,
              "total_rows_inc_nulls": 2000,
              "value_count": 20
             },
             {
              "distinct_value_count": 707,
              "group_name": "round_amount_5_0_5",
              "percentile_ex_nulls": 0.6504999995231628,
              "percentile_inc_nulls": 0.6504999995231628,
              "sum_tokens_in_value_count_group": 57,
              "total_non_null_rows": 2000,
              "total_rows_inc_nulls": 2000,
              "value_count": 19
             },
             {
              "distinct_value_count": 707,
              "group_name": "round_amount_5_0_5",
              "percentile_ex_nulls": 0.6234999895095825,
              "percentile_inc_nulls": 0.6234999895095825,
              "sum_tokens_in_value_count_group": 54,
              "total_non_null_rows": 2000,
              "total_rows_inc_nulls": 2000,
              "value_count": 18
             },
             {
              "distinct_value_count": 707,
              "group_name": "round_amount_5_0_5",
              "percentile_ex_nulls": 0.5979999899864197,
              "percentile_inc_nulls": 0.5979999899864197,
              "sum_tokens_in_value_count_group": 51,
              "total_non_null_rows": 2000,
              "total_rows_inc_nulls": 2000,
              "value_count": 17
             },
             {
              "distinct_value_count": 707,
              "group_name": "round_amount_5_0_5",
              "percentile_ex_nulls": 0.5820000171661377,
              "percentile_inc_nulls": 0.5820000171661377,
              "sum_tokens_in_value_count_group": 32,
              "total_non_null_rows": 2000,
              "total_rows_inc_nulls": 2000,
              "value_count": 16
             },
             {
              "distinct_value_count": 707,
              "group_name": "round_amount_5_0_5",
              "percentile_ex_nulls": 0.5370000004768372,
              "percentile_inc_nulls": 0.5370000004768372,
              "sum_tokens_in_value_count_group": 90,
              "total_non_null_rows": 2000,
              "total_rows_inc_nulls": 2000,
              "value_count": 15
             },
             {
              "distinct_value_count": 707,
              "group_name": "round_amount_5_0_5",
              "percentile_ex_nulls": 0.5090000033378601,
              "percentile_inc_nulls": 0.5090000033378601,
              "sum_tokens_in_value_count_group": 56,
              "total_non_null_rows": 2000,
              "total_rows_inc_nulls": 2000,
              "value_count": 14
             },
             {
              "distinct_value_count": 707,
              "group_name": "round_amount_5_0_5",
              "percentile_ex_nulls": 0.4959999918937683,
              "percentile_inc_nulls": 0.4959999918937683,
              "sum_tokens_in_value_count_group": 26,
              "total_non_null_rows": 2000,
              "total_rows_inc_nulls": 2000,
              "value_count": 13
             },
             {
              "distinct_value_count": 707,
              "group_name": "round_amount_5_0_5",
              "percentile_ex_nulls": 0.49000000953674316,
              "percentile_inc_nulls": 0.49000000953674316,
              "sum_tokens_in_value_count_group": 12,
              "total_non_null_rows": 2000,
              "total_rows_inc_nulls": 2000,
              "value_count": 12
             },
             {
              "distinct_value_count": 707,
              "group_name": "round_amount_5_0_5",
              "percentile_ex_nulls": 0.484499990940094,
              "percentile_inc_nulls": 0.484499990940094,
              "sum_tokens_in_value_count_group": 11,
              "total_non_null_rows": 2000,
              "total_rows_inc_nulls": 2000,
              "value_count": 11
             },
             {
              "distinct_value_count": 707,
              "group_name": "round_amount_5_0_5",
              "percentile_ex_nulls": 0.4595000147819519,
              "percentile_inc_nulls": 0.4595000147819519,
              "sum_tokens_in_value_count_group": 50,
              "total_non_null_rows": 2000,
              "total_rows_inc_nulls": 2000,
              "value_count": 10
             },
             {
              "distinct_value_count": 707,
              "group_name": "round_amount_5_0_5",
              "percentile_ex_nulls": 0.44599997997283936,
              "percentile_inc_nulls": 0.44599997997283936,
              "sum_tokens_in_value_count_group": 27,
              "total_non_null_rows": 2000,
              "total_rows_inc_nulls": 2000,
              "value_count": 9
             },
             {
              "distinct_value_count": 707,
              "group_name": "round_amount_5_0_5",
              "percentile_ex_nulls": 0.4259999990463257,
              "percentile_inc_nulls": 0.4259999990463257,
              "sum_tokens_in_value_count_group": 40,
              "total_non_null_rows": 2000,
              "total_rows_inc_nulls": 2000,
              "value_count": 8
             },
             {
              "distinct_value_count": 707,
              "group_name": "round_amount_5_0_5",
              "percentile_ex_nulls": 0.3945000171661377,
              "percentile_inc_nulls": 0.3945000171661377,
              "sum_tokens_in_value_count_group": 63,
              "total_non_null_rows": 2000,
              "total_rows_inc_nulls": 2000,
              "value_count": 7
             },
             {
              "distinct_value_count": 707,
              "group_name": "round_amount_5_0_5",
              "percentile_ex_nulls": 0.3734999895095825,
              "percentile_inc_nulls": 0.3734999895095825,
              "sum_tokens_in_value_count_group": 42,
              "total_non_null_rows": 2000,
              "total_rows_inc_nulls": 2000,
              "value_count": 6
             },
             {
              "distinct_value_count": 707,
              "group_name": "round_amount_5_0_5",
              "percentile_ex_nulls": 0.35850000381469727,
              "percentile_inc_nulls": 0.35850000381469727,
              "sum_tokens_in_value_count_group": 30,
              "total_non_null_rows": 2000,
              "total_rows_inc_nulls": 2000,
              "value_count": 5
             },
             {
              "distinct_value_count": 707,
              "group_name": "round_amount_5_0_5",
              "percentile_ex_nulls": 0.3464999794960022,
              "percentile_inc_nulls": 0.3464999794960022,
              "sum_tokens_in_value_count_group": 24,
              "total_non_null_rows": 2000,
              "total_rows_inc_nulls": 2000,
              "value_count": 4
             },
             {
              "distinct_value_count": 707,
              "group_name": "round_amount_5_0_5",
              "percentile_ex_nulls": 0.32099997997283936,
              "percentile_inc_nulls": 0.32099997997283936,
              "sum_tokens_in_value_count_group": 51,
              "total_non_null_rows": 2000,
              "total_rows_inc_nulls": 2000,
              "value_count": 3
             },
             {
              "distinct_value_count": 707,
              "group_name": "round_amount_5_0_5",
              "percentile_ex_nulls": 0.2799999713897705,
              "percentile_inc_nulls": 0.2799999713897705,
              "sum_tokens_in_value_count_group": 82,
              "total_non_null_rows": 2000,
              "total_rows_inc_nulls": 2000,
              "value_count": 2
             },
             {
              "distinct_value_count": 707,
              "group_name": "round_amount_5_0_5",
              "percentile_ex_nulls": 0,
              "percentile_inc_nulls": 0,
              "sum_tokens_in_value_count_group": 560,
              "total_non_null_rows": 2000,
              "total_rows_inc_nulls": 2000,
              "value_count": 1
             },
             {
              "distinct_value_count": 707,
              "group_name": "round_amount_5_0_5",
              "percentile_ex_nulls": 1,
              "percentile_inc_nulls": 1,
              "sum_tokens_in_value_count_group": 44,
              "total_non_null_rows": 2000,
              "total_rows_inc_nulls": 2000,
              "value_count": 44
             }
            ]
           },
           "encoding": {
            "tooltip": [
             {
              "field": "value_count",
              "type": "quantitative"
             },
             {
              "field": "percentile_ex_nulls",
              "type": "quantitative"
             },
             {
              "field": "percentile_inc_nulls",
              "type": "quantitative"
             },
             {
              "field": "total_non_null_rows",
              "type": "quantitative"
             },
             {
              "field": "total_rows_inc_nulls",
              "type": "quantitative"
             }
            ],
            "x": {
             "field": "percentile_ex_nulls",
             "sort": "descending",
             "title": "Percentile",
             "type": "quantitative"
            },
            "y": {
             "field": "value_count",
             "title": "Count of values",
             "type": "quantitative"
            }
           },
           "mark": {
            "interpolate": "step-after",
            "type": "line"
           },
           "title": {
            "subtitle": "In this col, 0 values (0.0%) are null and there are 707 distinct values",
            "text": "Distribution of counts of values in column round(amount/5, 0)*5"
           }
          },
          {
           "data": {
            "values": [
             {
              "distinct_value_count": 707,
              "group_name": "round_amount_5_0_5",
              "total_non_null_rows": 2000,
              "total_rows_inc_nulls": 2000,
              "value": "55.0",
              "value_count": 44
             },
             {
              "distinct_value_count": 707,
              "group_name": "round_amount_5_0_5",
              "total_non_null_rows": 2000,
              "total_rows_inc_nulls": 2000,
              "value": "40.0",
              "value_count": 38
             },
             {
              "distinct_value_count": 707,
              "group_name": "round_amount_5_0_5",
              "total_non_null_rows": 2000,
              "total_rows_inc_nulls": 2000,
              "value": "115.0",
              "value_count": 37
             },
             {
              "distinct_value_count": 707,
              "group_name": "round_amount_5_0_5",
              "total_non_null_rows": 2000,
              "total_rows_inc_nulls": 2000,
              "value": "35.0",
              "value_count": 36
             },
             {
              "distinct_value_count": 707,
              "group_name": "round_amount_5_0_5",
              "total_non_null_rows": 2000,
              "total_rows_inc_nulls": 2000,
              "value": "75.0",
              "value_count": 35
             },
             {
              "distinct_value_count": 707,
              "group_name": "round_amount_5_0_5",
              "total_non_null_rows": 2000,
              "total_rows_inc_nulls": 2000,
              "value": "95.0",
              "value_count": 34
             },
             {
              "distinct_value_count": 707,
              "group_name": "round_amount_5_0_5",
              "total_non_null_rows": 2000,
              "total_rows_inc_nulls": 2000,
              "value": "80.0",
              "value_count": 31
             },
             {
              "distinct_value_count": 707,
              "group_name": "round_amount_5_0_5",
              "total_non_null_rows": 2000,
              "total_rows_inc_nulls": 2000,
              "value": "60.0",
              "value_count": 30
             },
             {
              "distinct_value_count": 707,
              "group_name": "round_amount_5_0_5",
              "total_non_null_rows": 2000,
              "total_rows_inc_nulls": 2000,
              "value": "110.0",
              "value_count": 29
             },
             {
              "distinct_value_count": 707,
              "group_name": "round_amount_5_0_5",
              "total_non_null_rows": 2000,
              "total_rows_inc_nulls": 2000,
              "value": "140.0",
              "value_count": 29
             }
            ]
           },
           "encoding": {
            "tooltip": [
             {
              "field": "value",
              "type": "nominal"
             },
             {
              "field": "value_count",
              "type": "quantitative"
             },
             {
              "field": "total_non_null_rows",
              "type": "quantitative"
             },
             {
              "field": "total_rows_inc_nulls",
              "type": "quantitative"
             }
            ],
            "x": {
             "field": "value",
             "sort": "-y",
             "title": null,
             "type": "nominal"
            },
            "y": {
             "field": "value_count",
             "title": "Value count",
             "type": "quantitative"
            }
           },
           "mark": "bar",
           "title": "Top 10 values by value count"
          },
          {
           "data": {
            "values": [
             {
              "distinct_value_count": 707,
              "group_name": "round_amount_5_0_5",
              "total_non_null_rows": 2000,
              "total_rows_inc_nulls": 2000,
              "value": "26245.0",
              "value_count": 1
             },
             {
              "distinct_value_count": 707,
              "group_name": "round_amount_5_0_5",
              "total_non_null_rows": 2000,
              "total_rows_inc_nulls": 2000,
              "value": "17580.0",
              "value_count": 1
             },
             {
              "distinct_value_count": 707,
              "group_name": "round_amount_5_0_5",
              "total_non_null_rows": 2000,
              "total_rows_inc_nulls": 2000,
              "value": "5960.0",
              "value_count": 1
             },
             {
              "distinct_value_count": 707,
              "group_name": "round_amount_5_0_5",
              "total_non_null_rows": 2000,
              "total_rows_inc_nulls": 2000,
              "value": "14075.0",
              "value_count": 1
             },
             {
              "distinct_value_count": 707,
              "group_name": "round_amount_5_0_5",
              "total_non_null_rows": 2000,
              "total_rows_inc_nulls": 2000,
              "value": "1800.0",
              "value_count": 1
             },
             {
              "distinct_value_count": 707,
              "group_name": "round_amount_5_0_5",
              "total_non_null_rows": 2000,
              "total_rows_inc_nulls": 2000,
              "value": "77605.0",
              "value_count": 1
             },
             {
              "distinct_value_count": 707,
              "group_name": "round_amount_5_0_5",
              "total_non_null_rows": 2000,
              "total_rows_inc_nulls": 2000,
              "value": "1175.0",
              "value_count": 1
             },
             {
              "distinct_value_count": 707,
              "group_name": "round_amount_5_0_5",
              "total_non_null_rows": 2000,
              "total_rows_inc_nulls": 2000,
              "value": "44055.0",
              "value_count": 1
             },
             {
              "distinct_value_count": 707,
              "group_name": "round_amount_5_0_5",
              "total_non_null_rows": 2000,
              "total_rows_inc_nulls": 2000,
              "value": "565.0",
              "value_count": 1
             },
             {
              "distinct_value_count": 707,
              "group_name": "round_amount_5_0_5",
              "total_non_null_rows": 2000,
              "total_rows_inc_nulls": 2000,
              "value": "9515.0",
              "value_count": 1
             }
            ]
           },
           "encoding": {
            "tooltip": [
             {
              "field": "value",
              "type": "nominal"
             },
             {
              "field": "value_count",
              "type": "quantitative"
             },
             {
              "field": "total_non_null_rows",
              "type": "quantitative"
             },
             {
              "field": "total_rows_inc_nulls",
              "type": "quantitative"
             }
            ],
            "x": {
             "field": "value",
             "sort": "-y",
             "title": null,
             "type": "nominal"
            },
            "y": {
             "field": "value_count",
             "scale": {
              "domain": [
               0,
               44
              ]
             },
             "title": "Value count",
             "type": "quantitative"
            }
           },
           "mark": "bar",
           "title": "Bottom 10 values by value count"
          }
         ]
        }
       ]
      },
      "text/plain": [
       "<VegaLite 5 object>\n",
       "\n",
       "If you see this message, it means the renderer has not been properly enabled\n",
       "for the frontend that you are using. For more information, see\n",
       "https://altair-viz.github.io/user_guide/display_frontends.html#troubleshooting\n"
      ]
     },
     "execution_count": 3,
     "metadata": {},
     "output_type": "execute_result"
    }
   ],
   "source": [
    "# Simple settings just for exploratory analysis\n",
    "settings = {\"link_type\": \"link_only\"}\n",
    "linker = DuckDBLinker([df_origin, df_destination], settings,input_table_aliases=[\"__ori\", \"_dest\"])\n",
    "linker.profile_columns([\"transaction_date\", \"memo\", \"round(amount/5, 0)*5\"])"
   ]
  },
  {
   "cell_type": "code",
   "execution_count": 4,
   "metadata": {},
   "outputs": [
    {
     "data": {
      "application/vnd.vegalite.v5+json": {
       "$schema": "https://vega.github.io/schema/vega-lite/v5.9.3.json",
       "config": {
        "view": {
         "continuousHeight": 300,
         "continuousWidth": 300
        }
       },
       "data": {
        "name": "data-13f09b3cc134f9a6c7e97f4ce6d0d900"
       },
       "datasets": {
        "data-13f09b3cc134f9a6c7e97f4ce6d0d900": [
         {
          "cartesian": 1000000,
          "cumulative_rows": 1335,
          "reduction_ratio": "The rolling reduction ratio with your given blocking rule(s) is 0.998665. This represents the reduction in the total number of comparisons due to your rule(s).",
          "row_count": 1335,
          "rule": "\n    strftime(l.transaction_date, '%Y%m') = strftime(r.transaction_date, '%Y%m')\n    and substr(l.memo, 1,3) = substr(r.memo,1,3)\n    and l.amount/r.amount > 0.7   and l.amount/r.amount < 1.3\n",
          "start": 0
         },
         {
          "cartesian": 1000000,
          "cumulative_rows": 1617,
          "reduction_ratio": "The rolling reduction ratio with your given blocking rule(s) is 0.998383. This represents the reduction in the total number of comparisons due to your rule(s).",
          "row_count": 282,
          "rule": "\n    strftime(l.transaction_date+15, '%Y%m') = strftime(r.transaction_date, '%Y%m')\n    and substr(l.memo, 1,3) = substr(r.memo,1,3)\n    and l.amount/r.amount > 0.7   and l.amount/r.amount < 1.3\n",
          "start": 1335
         },
         {
          "cartesian": 1000000,
          "cumulative_rows": 4254,
          "reduction_ratio": "The rolling reduction ratio with your given blocking rule(s) is 0.995746. This represents the reduction in the total number of comparisons due to your rule(s).",
          "row_count": 2637,
          "rule": "\nsubstr(l.memo,1,9) = substr(r.memo,1,9)\n",
          "start": 1617
         },
         {
          "cartesian": 1000000,
          "cumulative_rows": 4421,
          "reduction_ratio": "The rolling reduction ratio with your given blocking rule(s) is 0.995579. This represents the reduction in the total number of comparisons due to your rule(s).",
          "row_count": 167,
          "rule": "\nround(l.amount/2,0)*2 = round(r.amount/2,0)*2 and yearweek(r.transaction_date) = yearweek(l.transaction_date)\n",
          "start": 4254
         },
         {
          "cartesian": 1000000,
          "cumulative_rows": 4551,
          "reduction_ratio": "The rolling reduction ratio with your given blocking rule(s) is 0.995449. This represents the reduction in the total number of comparisons due to your rule(s).",
          "row_count": 130,
          "rule": "\nround(l.amount/2,0)*2 = round((r.amount+1)/2,0)*2 and yearweek(r.transaction_date) = yearweek(l.transaction_date + 4)\n",
          "start": 4421
         },
         {
          "cartesian": 1000000,
          "cumulative_rows": 4551,
          "reduction_ratio": "The rolling reduction ratio with your given blocking rule(s) is 0.995449. This represents the reduction in the total number of comparisons due to your rule(s).",
          "row_count": 0,
          "rule": "\nl.unique_id = r.unique_id\n",
          "start": 4551
         }
        ]
       },
       "encoding": {
        "color": {
         "field": "rule",
         "legend": null,
         "scale": {
          "scheme": "category20c"
         }
        },
        "order": {
         "field": "cumulative_rows"
        },
        "tooltip": [
         {
          "field": "rule",
          "title": "SQL Condition",
          "type": "nominal"
         },
         {
          "field": "row_count",
          "format": ",",
          "title": "Comparisons Generated",
          "type": "quantitative"
         },
         {
          "field": "cumulative_rows",
          "format": ",",
          "title": "Cumulative Comparisons",
          "type": "quantitative"
         },
         {
          "field": "cartesian",
          "format": ",",
          "title": "Cartesian Product of Input Data",
          "type": "quantitative"
         },
         {
          "field": "reduction_ratio",
          "title": "Reduction Ratio (cumulative rows/cartesian product)",
          "type": "nominal"
         }
        ],
        "x": {
         "field": "start",
         "title": "Comparisons Generated by Rule(s)",
         "type": "quantitative"
        },
        "x2": {
         "field": "cumulative_rows"
        },
        "y": {
         "field": "rule",
         "sort": [
          "-x2"
         ],
         "title": "SQL Blocking Rule"
        }
       },
       "height": {
        "step": 20
       },
       "mark": "bar",
       "title": {
        "subtitle": "(Counts exclude comparisons already generated by previous rules)",
        "text": "Count of Additional Comparisons Generated by Each Blocking Rule"
       },
       "width": 450
      },
      "text/plain": [
       "<VegaLite 5 object>\n",
       "\n",
       "If you see this message, it means the renderer has not been properly enabled\n",
       "for the frontend that you are using. For more information, see\n",
       "https://altair-viz.github.io/user_guide/display_frontends.html#troubleshooting\n"
      ]
     },
     "execution_count": 4,
     "metadata": {},
     "output_type": "execute_result"
    }
   ],
   "source": [
    "# Design blocking rules that allow for differences in transaction date and amounts\n",
    "\n",
    "blocking_rule_date_1 = \"\"\"\n",
    "    strftime(l.transaction_date, '%Y%m') = strftime(r.transaction_date, '%Y%m')\n",
    "    and substr(l.memo, 1,3) = substr(r.memo,1,3)\n",
    "    and l.amount/r.amount > 0.7   and l.amount/r.amount < 1.3\n",
    "\"\"\"\n",
    "\n",
    "# Offset by half a month to ensure we capture case when the dates are e.g. 31st Jan and 1st Feb\n",
    "blocking_rule_date_2 = \"\"\"\n",
    "    strftime(l.transaction_date+15, '%Y%m') = strftime(r.transaction_date, '%Y%m')\n",
    "    and substr(l.memo, 1,3) = substr(r.memo,1,3)\n",
    "    and l.amount/r.amount > 0.7   and l.amount/r.amount < 1.3\n",
    "\"\"\"\n",
    "\n",
    "blocking_rule_memo = \"\"\"\n",
    "substr(l.memo,1,9) = substr(r.memo,1,9)\n",
    "\"\"\"\n",
    "\n",
    "blocking_rule_amount_1 = \"\"\"\n",
    "round(l.amount/2,0)*2 = round(r.amount/2,0)*2 and yearweek(r.transaction_date) = yearweek(l.transaction_date)\n",
    "\"\"\"\n",
    "\n",
    "blocking_rule_amount_2 = \"\"\"\n",
    "round(l.amount/2,0)*2 = round((r.amount+1)/2,0)*2 and yearweek(r.transaction_date) = yearweek(l.transaction_date + 4)\n",
    "\"\"\"\n",
    "\n",
    "blocking_rule_cheat = \"\"\"\n",
    "l.unique_id = r.unique_id\n",
    "\"\"\"\n",
    "\n",
    "\n",
    "linker.cumulative_num_comparisons_from_blocking_rules_chart(\n",
    "    [\n",
    "        blocking_rule_date_1,\n",
    "        blocking_rule_date_2,\n",
    "        blocking_rule_memo,\n",
    "        blocking_rule_amount_1,\n",
    "        blocking_rule_amount_2,\n",
    "        blocking_rule_cheat,\n",
    "    ]\n",
    ")"
   ]
  },
  {
   "cell_type": "code",
   "execution_count": 5,
   "metadata": {},
   "outputs": [],
   "source": [
    "# Full settings for linking model\n",
    "import splink.duckdb.comparison_library as cl\n",
    "import splink.duckdb.comparison_level_library as cll\n",
    "\n",
    "comparison_amount = {\n",
    "    \"output_column_name\": \"amount\",\n",
    "    \"comparison_levels\": [\n",
    "        cll.null_level(\"amount\"),\n",
    "        cll.exact_match_level(\"amount\"),\n",
    "        cll.percentage_difference_level(\"amount\",0.01),\n",
    "        cll.percentage_difference_level(\"amount\",0.03),\n",
    "        cll.percentage_difference_level(\"amount\",0.1),\n",
    "        cll.percentage_difference_level(\"amount\",0.3),\n",
    "        cll.else_level()\n",
    "    ],\n",
    "    \"comparison_description\": \"Amount percentage difference\",\n",
    "}\n",
    "\n",
    "settings = {\n",
    "    \"link_type\": \"link_only\",\n",
    "    \"probability_two_random_records_match\": 1 / len(df_origin),\n",
    "    \"blocking_rules_to_generate_predictions\": [\n",
    "        blocking_rule_date_1,\n",
    "        blocking_rule_date_2,\n",
    "        blocking_rule_memo,\n",
    "        blocking_rule_amount_1,\n",
    "        blocking_rule_amount_2,\n",
    "        blocking_rule_cheat\n",
    "    ],\n",
    "    \"comparisons\": [\n",
    "        comparison_amount,\n",
    "        cl.jaccard_at_thresholds(\n",
    "            \"memo\", [0.9, 0.7]\n",
    "        ),\n",
    "        cl.datediff_at_thresholds(\"transaction_date\", \n",
    "                                date_thresholds = [1, 4, 10, 30],\n",
    "                                date_metrics = [\"day\", \"day\", \"day\", \"day\"],\n",
    "                                include_exact_match_level=False\n",
    "                                )\n",
    "    ],\n",
    "    \"retain_intermediate_calculation_columns\": True,\n",
    "    \"retain_matching_columns\": True,\n",
    "}"
   ]
  },
  {
   "cell_type": "code",
   "execution_count": 6,
   "metadata": {},
   "outputs": [],
   "source": [
    "linker = DuckDBLinker([df_origin, df_destination], settings,input_table_aliases=[\"__ori\", \"_dest\"])"
   ]
  },
  {
   "cell_type": "code",
   "execution_count": 7,
   "metadata": {},
   "outputs": [
    {
     "name": "stderr",
     "output_type": "stream",
     "text": [
      "----- Estimating u probabilities using random sampling -----\n"
     ]
    },
    {
     "data": {
      "application/vnd.jupyter.widget-view+json": {
       "model_id": "2d9e9af245cb4727922196e90daca0f9",
       "version_major": 2,
       "version_minor": 0
      },
      "text/plain": [
       "FloatProgress(value=0.0, layout=Layout(width='auto'), style=ProgressStyle(bar_color='black'))"
      ]
     },
     "metadata": {},
     "output_type": "display_data"
    },
    {
     "name": "stderr",
     "output_type": "stream",
     "text": [
      "\n",
      "Estimated u probabilities using random sampling\n",
      "\n",
      "Your model is not yet fully trained. Missing estimates for:\n",
      "    - amount (no m values are trained).\n",
      "    - memo (no m values are trained).\n",
      "    - transaction_date (no m values are trained).\n"
     ]
    }
   ],
   "source": [
    "linker.estimate_u_using_random_sampling(max_pairs=1e6)"
   ]
  },
  {
   "cell_type": "code",
   "execution_count": 8,
   "metadata": {},
   "outputs": [
    {
     "name": "stderr",
     "output_type": "stream",
     "text": [
      "\n",
      "----- Starting EM training session -----\n",
      "\n",
      "Estimating the m probabilities of the model by blocking on:\n",
      "l.memo = r.memo\n",
      "\n",
      "Parameter estimates will be made for the following comparison(s):\n",
      "    - amount\n",
      "    - transaction_date\n",
      "\n",
      "Parameter estimates cannot be made for the following comparison(s) since they are used in the blocking rules: \n",
      "    - memo\n",
      "\n",
      "Iteration 1: Largest change in params was -0.558 in the m_probability of amount, level `Exact match`\n",
      "Iteration 2: Largest change in params was -0.213 in the m_probability of transaction_date, level `Within 1 day`\n",
      "Iteration 3: Largest change in params was 0.0138 in probability_two_random_records_match\n",
      "Iteration 4: Largest change in params was 0.00099 in the m_probability of transaction_date, level `Within 30 days`\n",
      "Iteration 5: Largest change in params was 0.000107 in the m_probability of transaction_date, level `Within 30 days`\n",
      "Iteration 6: Largest change in params was -8.04e-05 in the m_probability of amount, level `< 30.00% diff`\n",
      "\n",
      "EM converged after 6 iterations\n",
      "\n",
      "Your model is not yet fully trained. Missing estimates for:\n",
      "    - memo (no m values are trained).\n"
     ]
    },
    {
     "data": {
      "text/plain": [
       "<EMTrainingSession, blocking on l.memo = r.memo, deactivating comparisons memo>"
      ]
     },
     "execution_count": 8,
     "metadata": {},
     "output_type": "execute_result"
    }
   ],
   "source": [
    "linker.estimate_parameters_using_expectation_maximisation(\"l.memo = r.memo\")"
   ]
  },
  {
   "cell_type": "code",
   "execution_count": 9,
   "metadata": {},
   "outputs": [
    {
     "name": "stderr",
     "output_type": "stream",
     "text": [
      "\n",
      "----- Starting EM training session -----\n",
      "\n",
      "Estimating the m probabilities of the model by blocking on:\n",
      "l.amount = r.amount\n",
      "\n",
      "Parameter estimates will be made for the following comparison(s):\n",
      "    - memo\n",
      "    - transaction_date\n",
      "\n",
      "Parameter estimates cannot be made for the following comparison(s) since they are used in the blocking rules: \n",
      "    - amount\n",
      "\n",
      "Iteration 1: Largest change in params was -0.357 in the m_probability of memo, level `Exact match`\n",
      "Iteration 2: Largest change in params was 0.131 in the m_probability of memo, level `All other comparisons`\n",
      "Iteration 3: Largest change in params was 0.103 in probability_two_random_records_match\n",
      "Iteration 4: Largest change in params was 0.03 in probability_two_random_records_match\n",
      "Iteration 5: Largest change in params was 0.00814 in probability_two_random_records_match\n",
      "Iteration 6: Largest change in params was 0.00252 in probability_two_random_records_match\n",
      "Iteration 7: Largest change in params was 0.00082 in probability_two_random_records_match\n",
      "Iteration 8: Largest change in params was 0.000271 in probability_two_random_records_match\n",
      "Iteration 9: Largest change in params was 9.02e-05 in probability_two_random_records_match\n",
      "\n",
      "EM converged after 9 iterations\n",
      "\n",
      "Your model is fully trained. All comparisons have at least one estimate for their m and u values\n"
     ]
    }
   ],
   "source": [
    "session = linker.estimate_parameters_using_expectation_maximisation(\"l.amount = r.amount\")"
   ]
  },
  {
   "cell_type": "code",
   "execution_count": 10,
   "metadata": {},
   "outputs": [
    {
     "data": {
      "application/vnd.vegalite.v5+json": {
       "$schema": "https://vega.github.io/schema/vega-lite/v5.9.3.json",
       "config": {
        "header": {
         "title": null
        },
        "mark": {
         "tooltip": null
        },
        "title": {
         "anchor": "middle"
        },
        "view": {
         "continuousHeight": 300,
         "continuousWidth": 300,
         "discreteHeight": 60,
         "discreteWidth": 400
        }
       },
       "data": {
        "name": "data-f4baea2606cbef37430156f84ce195cd"
       },
       "datasets": {
        "data-f4baea2606cbef37430156f84ce195cd": [
         {
          "bayes_factor": 0.001001001001001001,
          "bayes_factor_description": "The probability that two random records drawn at random match is 0.001 or one in  1,000.0 records.This is equivalent to a starting match weight of -9.964.",
          "comparison_name": "probability_two_random_records_match",
          "comparison_sort_order": -1,
          "comparison_vector_value": 0,
          "has_tf_adjustments": false,
          "is_null_level": false,
          "label_for_charts": "",
          "log2_bayes_factor": -9.964340867792417,
          "m_probability": null,
          "m_probability_description": null,
          "max_comparison_vector_value": 0,
          "probability_two_random_records_match": 0.001,
          "sql_condition": null,
          "tf_adjustment_column": null,
          "tf_adjustment_weight": null,
          "u_probability": null,
          "u_probability_description": null
         },
         {
          "bayes_factor": 940.1413844668547,
          "bayes_factor_description": "If comparison level is `exact match` then comparison is 940.14 times more likely to be a match",
          "comparison_name": "amount",
          "comparison_sort_order": 0,
          "comparison_vector_value": 5,
          "has_tf_adjustments": false,
          "is_null_level": false,
          "label_for_charts": "Exact match",
          "log2_bayes_factor": 9.87673392457661,
          "m_probability": 0.2444367599613822,
          "m_probability_description": "Amongst matching record comparisons, 24.44% of records are in the exact match comparison level",
          "max_comparison_vector_value": 5,
          "probability_two_random_records_match": 0.001,
          "sql_condition": "\"amount_l\" = \"amount_r\"",
          "tf_adjustment_column": null,
          "tf_adjustment_weight": 1,
          "u_probability": 0.00026,
          "u_probability_description": "Amongst non-matching record comparisons, 0.03% of records are in the exact match comparison level"
         },
         {
          "bayes_factor": 58.63420259324002,
          "bayes_factor_description": "If comparison level is `< 1.00% diff` then comparison is 58.63 times more likely to be a match",
          "comparison_name": "amount",
          "comparison_sort_order": 0,
          "comparison_vector_value": 4,
          "has_tf_adjustments": false,
          "is_null_level": false,
          "label_for_charts": "< 1.00% diff",
          "log2_bayes_factor": 5.873670560169195,
          "m_probability": 0.22503806955285519,
          "m_probability_description": "Amongst matching record comparisons, 22.50% of records are in the < 1.00% diff comparison level",
          "max_comparison_vector_value": 5,
          "probability_two_random_records_match": 0.001,
          "sql_condition": "(abs(\"amount_l\" - \"amount_r\")/\n            (case\n                when \"amount_r\" > \"amount_l\"\n                then \"amount_r\"\n                else \"amount_l\"\n            end))\n            < 0.01",
          "tf_adjustment_column": null,
          "tf_adjustment_weight": 1,
          "u_probability": 0.003838,
          "u_probability_description": "Amongst non-matching record comparisons, 0.38% of records are in the < 1.00% diff comparison level"
         },
         {
          "bayes_factor": 42.034679212736926,
          "bayes_factor_description": "If comparison level is `< 3.00% diff` then comparison is 42.03 times more likely to be a match",
          "comparison_name": "amount",
          "comparison_sort_order": 0,
          "comparison_vector_value": 3,
          "has_tf_adjustments": false,
          "is_null_level": false,
          "label_for_charts": "< 3.00% diff",
          "log2_bayes_factor": 5.393508158116751,
          "m_probability": 0.31769810548986566,
          "m_probability_description": "Amongst matching record comparisons, 31.77% of records are in the < 3.00% diff comparison level",
          "max_comparison_vector_value": 5,
          "probability_two_random_records_match": 0.001,
          "sql_condition": "(abs(\"amount_l\" - \"amount_r\")/\n            (case\n                when \"amount_r\" > \"amount_l\"\n                then \"amount_r\"\n                else \"amount_l\"\n            end))\n            < 0.03",
          "tf_adjustment_column": null,
          "tf_adjustment_weight": 1,
          "u_probability": 0.007558,
          "u_probability_description": "Amongst non-matching record comparisons, 0.76% of records are in the < 3.00% diff comparison level"
         },
         {
          "bayes_factor": 7.6588936568519905,
          "bayes_factor_description": "If comparison level is `< 10.00% diff` then comparison is 7.66 times more likely to be a match",
          "comparison_name": "amount",
          "comparison_sort_order": 0,
          "comparison_vector_value": 2,
          "has_tf_adjustments": false,
          "is_null_level": false,
          "label_for_charts": "< 10.00% diff",
          "log2_bayes_factor": 2.937136006895829,
          "m_probability": 0.20446182506332075,
          "m_probability_description": "Amongst matching record comparisons, 20.45% of records are in the < 10.00% diff comparison level",
          "max_comparison_vector_value": 5,
          "probability_two_random_records_match": 0.001,
          "sql_condition": "(abs(\"amount_l\" - \"amount_r\")/\n            (case\n                when \"amount_r\" > \"amount_l\"\n                then \"amount_r\"\n                else \"amount_l\"\n            end))\n            < 0.1",
          "tf_adjustment_column": null,
          "tf_adjustment_weight": 1,
          "u_probability": 0.026696,
          "u_probability_description": "Amongst non-matching record comparisons, 2.67% of records are in the < 10.00% diff comparison level"
         },
         {
          "bayes_factor": 0.009846160170363934,
          "bayes_factor_description": "If comparison level is `< 30.00% diff` then comparison is  101.56 times less likely to be a match",
          "comparison_name": "amount",
          "comparison_sort_order": 0,
          "comparison_vector_value": 1,
          "has_tf_adjustments": false,
          "is_null_level": false,
          "label_for_charts": "< 30.00% diff",
          "log2_bayes_factor": -6.66622307615672,
          "m_probability": 0.0008616177841882072,
          "m_probability_description": "Amongst matching record comparisons, 0.09% of records are in the < 30.00% diff comparison level",
          "max_comparison_vector_value": 5,
          "probability_two_random_records_match": 0.001,
          "sql_condition": "(abs(\"amount_l\" - \"amount_r\")/\n            (case\n                when \"amount_r\" > \"amount_l\"\n                then \"amount_r\"\n                else \"amount_l\"\n            end))\n            < 0.3",
          "tf_adjustment_column": null,
          "tf_adjustment_weight": 1,
          "u_probability": 0.087508,
          "u_probability_description": "Amongst non-matching record comparisons, 8.75% of records are in the < 30.00% diff comparison level"
         },
         {
          "bayes_factor": 0.008584005020234861,
          "bayes_factor_description": "If comparison level is `all other comparisons` then comparison is  116.50 times less likely to be a match",
          "comparison_name": "amount",
          "comparison_sort_order": 0,
          "comparison_vector_value": 0,
          "has_tf_adjustments": false,
          "is_null_level": false,
          "label_for_charts": "All other comparisons",
          "log2_bayes_factor": -6.864133364827459,
          "m_probability": 0.007503622148388102,
          "m_probability_description": "Amongst matching record comparisons, 0.75% of records are in the all other comparisons comparison level",
          "max_comparison_vector_value": 5,
          "probability_two_random_records_match": 0.001,
          "sql_condition": "ELSE",
          "tf_adjustment_column": null,
          "tf_adjustment_weight": 1,
          "u_probability": 0.87414,
          "u_probability_description": "Amongst non-matching record comparisons, 87.41% of records are in the all other comparisons comparison level"
         },
         {
          "bayes_factor": 532.1921690035986,
          "bayes_factor_description": "If comparison level is `exact match` then comparison is 532.19 times more likely to be a match",
          "comparison_name": "memo",
          "comparison_sort_order": 1,
          "comparison_vector_value": 3,
          "has_tf_adjustments": false,
          "is_null_level": false,
          "label_for_charts": "Exact match",
          "log2_bayes_factor": 9.055803471606495,
          "m_probability": 0.42681811954088605,
          "m_probability_description": "Amongst matching record comparisons, 42.68% of records are in the exact match comparison level",
          "max_comparison_vector_value": 3,
          "probability_two_random_records_match": 0.001,
          "sql_condition": "\"memo_l\" = \"memo_r\"",
          "tf_adjustment_column": null,
          "tf_adjustment_weight": 1,
          "u_probability": 0.000802,
          "u_probability_description": "Amongst non-matching record comparisons, 0.08% of records are in the exact match comparison level"
         },
         {
          "bayes_factor": 142.9055570275039,
          "bayes_factor_description": "If comparison level is `jaccard >= 0.9` then comparison is 142.91 times more likely to be a match",
          "comparison_name": "memo",
          "comparison_sort_order": 1,
          "comparison_vector_value": 2,
          "has_tf_adjustments": false,
          "is_null_level": false,
          "label_for_charts": "Jaccard >= 0.9",
          "log2_bayes_factor": 7.1589182079589335,
          "m_probability": 0.07831224525107214,
          "m_probability_description": "Amongst matching record comparisons, 7.83% of records are in the jaccard >= 0.9 comparison level",
          "max_comparison_vector_value": 3,
          "probability_two_random_records_match": 0.001,
          "sql_condition": "jaccard(\"memo_l\", \"memo_r\") >= 0.9",
          "tf_adjustment_column": null,
          "tf_adjustment_weight": 1,
          "u_probability": 0.000548,
          "u_probability_description": "Amongst non-matching record comparisons, 0.05% of records are in the jaccard >= 0.9 comparison level"
         },
         {
          "bayes_factor": 38.8413365764104,
          "bayes_factor_description": "If comparison level is `jaccard >= 0.7` then comparison is 38.84 times more likely to be a match",
          "comparison_name": "memo",
          "comparison_sort_order": 1,
          "comparison_vector_value": 1,
          "has_tf_adjustments": false,
          "is_null_level": false,
          "label_for_charts": "Jaccard >= 0.7",
          "log2_bayes_factor": 5.279520941344303,
          "m_probability": 0.19183736135089094,
          "m_probability_description": "Amongst matching record comparisons, 19.18% of records are in the jaccard >= 0.7 comparison level",
          "max_comparison_vector_value": 3,
          "probability_two_random_records_match": 0.001,
          "sql_condition": "jaccard(\"memo_l\", \"memo_r\") >= 0.7",
          "tf_adjustment_column": null,
          "tf_adjustment_weight": 1,
          "u_probability": 0.004939,
          "u_probability_description": "Amongst non-matching record comparisons, 0.49% of records are in the jaccard >= 0.7 comparison level"
         },
         {
          "bayes_factor": 0.3049501050679229,
          "bayes_factor_description": "If comparison level is `all other comparisons` then comparison is  3.28 times less likely to be a match",
          "comparison_name": "memo",
          "comparison_sort_order": 1,
          "comparison_vector_value": 0,
          "has_tf_adjustments": false,
          "is_null_level": false,
          "label_for_charts": "All other comparisons",
          "log2_bayes_factor": -1.7133548819153686,
          "m_probability": 0.30303227385715076,
          "m_probability_description": "Amongst matching record comparisons, 30.30% of records are in the all other comparisons comparison level",
          "max_comparison_vector_value": 3,
          "probability_two_random_records_match": 0.001,
          "sql_condition": "ELSE",
          "tf_adjustment_column": null,
          "tf_adjustment_weight": 1,
          "u_probability": 0.993711,
          "u_probability_description": "Amongst non-matching record comparisons, 99.37% of records are in the all other comparisons comparison level"
         },
         {
          "bayes_factor": 12.741055049622716,
          "bayes_factor_description": "If comparison level is `within 1 day` then comparison is 12.74 times more likely to be a match",
          "comparison_name": "transaction_date",
          "comparison_sort_order": 2,
          "comparison_vector_value": 4,
          "has_tf_adjustments": false,
          "is_null_level": false,
          "label_for_charts": "Within 1 day",
          "log2_bayes_factor": 3.671412842798365,
          "m_probability": 0.4014324214484629,
          "m_probability_description": "Amongst matching record comparisons, 40.14% of records are in the within 1 day comparison level",
          "max_comparison_vector_value": 4,
          "probability_two_random_records_match": 0.001,
          "sql_condition": "\n            abs(date_diff('day', \"transaction_date_l\",\n              \"transaction_date_r\")) <= 1\n        ",
          "tf_adjustment_column": null,
          "tf_adjustment_weight": 1,
          "u_probability": 0.031507,
          "u_probability_description": "Amongst non-matching record comparisons, 3.15% of records are in the within 1 day comparison level"
         },
         {
          "bayes_factor": 7.263885913938044,
          "bayes_factor_description": "If comparison level is `within 4 days` then comparison is 7.26 times more likely to be a match",
          "comparison_name": "transaction_date",
          "comparison_sort_order": 2,
          "comparison_vector_value": 3,
          "has_tf_adjustments": false,
          "is_null_level": false,
          "label_for_charts": "Within 4 days",
          "log2_bayes_factor": 2.860741543943759,
          "m_probability": 0.4462568311227837,
          "m_probability_description": "Amongst matching record comparisons, 44.63% of records are in the within 4 days comparison level",
          "max_comparison_vector_value": 4,
          "probability_two_random_records_match": 0.001,
          "sql_condition": "\n            abs(date_diff('day', \"transaction_date_l\",\n              \"transaction_date_r\")) <= 4\n        ",
          "tf_adjustment_column": null,
          "tf_adjustment_weight": 1,
          "u_probability": 0.061435,
          "u_probability_description": "Amongst non-matching record comparisons, 6.14% of records are in the within 4 days comparison level"
         },
         {
          "bayes_factor": 0.9212209987125325,
          "bayes_factor_description": "If comparison level is `within 10 days` then comparison is  1.09 times less likely to be a match",
          "comparison_name": "transaction_date",
          "comparison_sort_order": 2,
          "comparison_vector_value": 2,
          "has_tf_adjustments": false,
          "is_null_level": false,
          "label_for_charts": "Within 10 days",
          "log2_bayes_factor": -0.11838079796290285,
          "m_probability": 0.10621770237255371,
          "m_probability_description": "Amongst matching record comparisons, 10.62% of records are in the within 10 days comparison level",
          "max_comparison_vector_value": 4,
          "probability_two_random_records_match": 0.001,
          "sql_condition": "\n            abs(date_diff('day', \"transaction_date_l\",\n              \"transaction_date_r\")) <= 10\n        ",
          "tf_adjustment_column": null,
          "tf_adjustment_weight": 1,
          "u_probability": 0.115301,
          "u_probability_description": "Amongst non-matching record comparisons, 11.53% of records are in the within 10 days comparison level"
         },
         {
          "bayes_factor": 0.14546451838231128,
          "bayes_factor_description": "If comparison level is `within 30 days` then comparison is  6.87 times less likely to be a match",
          "comparison_name": "transaction_date",
          "comparison_sort_order": 2,
          "comparison_vector_value": 1,
          "has_tf_adjustments": false,
          "is_null_level": false,
          "label_for_charts": "Within 30 days",
          "log2_bayes_factor": -2.781260800148226,
          "m_probability": 0.04609276008172944,
          "m_probability_description": "Amongst matching record comparisons, 4.61% of records are in the within 30 days comparison level",
          "max_comparison_vector_value": 4,
          "probability_two_random_records_match": 0.001,
          "sql_condition": "\n            abs(date_diff('day', \"transaction_date_l\",\n              \"transaction_date_r\")) <= 30\n        ",
          "tf_adjustment_column": null,
          "tf_adjustment_weight": 1,
          "u_probability": 0.316866,
          "u_probability_description": "Amongst non-matching record comparisons, 31.69% of records are in the within 30 days comparison level"
         },
         {
          "bayes_factor": 6.000839566448007e-7,
          "bayes_factor_description": "If comparison level is `all other comparisons` then comparison is  1,666,433.49 times less likely to be a match",
          "comparison_name": "transaction_date",
          "comparison_sort_order": 2,
          "comparison_vector_value": 0,
          "has_tf_adjustments": false,
          "is_null_level": false,
          "label_for_charts": "All other comparisons",
          "log2_bayes_factor": -20.668332304554376,
          "m_probability": 2.8497447025500605e-7,
          "m_probability_description": "Amongst matching record comparisons, 0.00% of records are in the all other comparisons comparison level",
          "max_comparison_vector_value": 4,
          "probability_two_random_records_match": 0.001,
          "sql_condition": "ELSE",
          "tf_adjustment_column": null,
          "tf_adjustment_weight": 1,
          "u_probability": 0.474891,
          "u_probability_description": "Amongst non-matching record comparisons, 47.49% of records are in the all other comparisons comparison level"
         }
        ]
       },
       "params": [
        {
         "bind": "scales",
         "name": "mouse_zoom",
         "select": {
          "encodings": [
           "x"
          ],
          "type": "interval"
         },
         "views": []
        }
       ],
       "resolve": {
        "axis": {
         "y": "independent"
        },
        "scale": {
         "y": "independent"
        }
       },
       "title": {
        "subtitle": "Use mousewheel to zoom",
        "text": "Model parameters (components of final match weight)"
       },
       "vconcat": [
        {
         "encoding": {
          "color": {
           "field": "log2_bayes_factor",
           "scale": {
            "domain": [
             -10,
             0,
             10
            ],
            "range": [
             "red",
             "orange",
             "green"
            ]
           },
           "title": "Match weight",
           "type": "quantitative"
          },
          "tooltip": [
           {
            "field": "comparison_name",
            "title": "Comparison name",
            "type": "nominal"
           },
           {
            "field": "probability_two_random_records_match",
            "format": ".4f",
            "title": "Probability two random records match",
            "type": "nominal"
           },
           {
            "field": "log2_bayes_factor",
            "format": ",.4f",
            "title": "Equivalent match weight",
            "type": "quantitative"
           },
           {
            "field": "bayes_factor_description",
            "title": "Match weight description",
            "type": "nominal"
           }
          ],
          "x": {
           "axis": {
            "domain": false,
            "labels": false,
            "ticks": false,
            "title": ""
           },
           "field": "log2_bayes_factor",
           "scale": {
            "domain": [
             -10,
             10
            ]
           },
           "type": "quantitative"
          },
          "y": {
           "axis": {
            "title": "Prior (starting) match weight",
            "titleAlign": "right",
            "titleAngle": 0,
            "titleFontWeight": "normal"
           },
           "field": "label_for_charts",
           "sort": {
            "field": "comparison_vector_value",
            "order": "descending"
           },
           "type": "nominal"
          }
         },
         "height": 20,
         "mark": {
          "clip": true,
          "height": 15,
          "type": "bar"
         },
         "transform": [
          {
           "filter": "(datum.comparison_name == 'probability_two_random_records_match')"
          }
         ]
        },
        {
         "encoding": {
          "color": {
           "field": "log2_bayes_factor",
           "scale": {
            "domain": [
             -10,
             0,
             10
            ],
            "range": [
             "red",
             "orange",
             "green"
            ]
           },
           "title": "Match weight",
           "type": "quantitative"
          },
          "row": {
           "field": "comparison_name",
           "header": {
            "labelAlign": "left",
            "labelAnchor": "middle",
            "labelAngle": 0
           },
           "sort": {
            "field": "comparison_sort_order"
           },
           "type": "nominal"
          },
          "tooltip": [
           {
            "field": "comparison_name",
            "title": "Comparison name",
            "type": "nominal"
           },
           {
            "field": "label_for_charts",
            "title": "Label",
            "type": "ordinal"
           },
           {
            "field": "sql_condition",
            "title": "SQL condition",
            "type": "nominal"
           },
           {
            "field": "m_probability",
            "format": ".4f",
            "title": "M probability",
            "type": "quantitative"
           },
           {
            "field": "u_probability",
            "format": ".4f",
            "title": "U probability",
            "type": "quantitative"
           },
           {
            "field": "bayes_factor",
            "format": ",.4f",
            "title": "Bayes factor = m/u",
            "type": "quantitative"
           },
           {
            "field": "log2_bayes_factor",
            "format": ",.4f",
            "title": "Match weight = log2(m/u)",
            "type": "quantitative"
           },
           {
            "field": "bayes_factor_description",
            "title": "Match weight description",
            "type": "nominal"
           }
          ],
          "x": {
           "axis": {
            "title": "Comparison level match weight = log2(m/u)"
           },
           "field": "log2_bayes_factor",
           "scale": {
            "domain": [
             -10,
             10
            ]
           },
           "type": "quantitative"
          },
          "y": {
           "axis": {
            "title": null
           },
           "field": "label_for_charts",
           "sort": {
            "field": "comparison_vector_value",
            "order": "descending"
           },
           "type": "nominal"
          }
         },
         "height": {
          "step": 12
         },
         "mark": {
          "clip": true,
          "type": "bar"
         },
         "resolve": {
          "axis": {
           "y": "independent"
          },
          "scale": {
           "y": "independent"
          }
         },
         "transform": [
          {
           "filter": "(datum.comparison_name != 'probability_two_random_records_match')"
          }
         ]
        }
       ]
      },
      "text/plain": [
       "<VegaLite 5 object>\n",
       "\n",
       "If you see this message, it means the renderer has not been properly enabled\n",
       "for the frontend that you are using. For more information, see\n",
       "https://altair-viz.github.io/user_guide/display_frontends.html#troubleshooting\n"
      ]
     },
     "execution_count": 10,
     "metadata": {},
     "output_type": "execute_result"
    }
   ],
   "source": [
    "linker.match_weights_chart()"
   ]
  },
  {
   "cell_type": "code",
   "execution_count": 11,
   "metadata": {},
   "outputs": [],
   "source": [
    "df_predict = linker.predict(threshold_match_probability=0.001)"
   ]
  },
  {
   "cell_type": "code",
   "execution_count": 12,
   "metadata": {},
   "outputs": [
    {
     "data": {
      "text/html": [
       "\n",
       "        <iframe\n",
       "            width=\"100%\"\n",
       "            height=\"1200\"\n",
       "            src=\"./comparison_viewer_transactions.html\"\n",
       "            frameborder=\"0\"\n",
       "            allowfullscreen\n",
       "            \n",
       "        ></iframe>\n",
       "        "
      ],
      "text/plain": [
       "<IPython.lib.display.IFrame at 0x7fb447d65f10>"
      ]
     },
     "execution_count": 12,
     "metadata": {},
     "output_type": "execute_result"
    }
   ],
   "source": [
    "linker.comparison_viewer_dashboard(df_predict,\"comparison_viewer_transactions.html\", overwrite=True)\n",
    "from IPython.display import IFrame\n",
    "IFrame(\n",
    "    src=\"./comparison_viewer_transactions.html\", width=\"100%\", height=1200\n",
    ")"
   ]
  },
  {
   "cell_type": "code",
   "execution_count": 13,
   "metadata": {},
   "outputs": [
    {
     "data": {
      "application/vnd.vegalite.v5+json": {
       "$schema": "https://vega.github.io/schema/vega-lite/v5.9.3.json",
       "config": {
        "view": {
         "continuousHeight": 300,
         "continuousWidth": 400
        }
       },
       "data": {
        "name": "data-b3b391494d69a1b39740c36020e6f1f9"
       },
       "datasets": {
        "data-b3b391494d69a1b39740c36020e6f1f9": [
         {
          "bar_sort_order": 0,
          "bayes_factor": 0.001001001001001001,
          "bayes_factor_description": null,
          "column_name": "Prior",
          "comparison_vector_value": null,
          "label_for_charts": "Starting match weight (prior)",
          "log2_bayes_factor": -9.964340867792417,
          "m_probability": null,
          "record_number": 0,
          "sql_condition": null,
          "term_frequency_adjustment": null,
          "u_probability": null,
          "value_l": "",
          "value_r": ""
         },
         {
          "bar_sort_order": 1,
          "bayes_factor": 7.6588936568519905,
          "bayes_factor_description": "If comparison level is `< 10.00% diff` then comparison is 7.66 times more likely to be a match",
          "column_name": "amount",
          "comparison_vector_value": 2,
          "label_for_charts": "< 10.00% diff",
          "log2_bayes_factor": 2.937136006895829,
          "m_probability": 0.20446182506332075,
          "record_number": 0,
          "sql_condition": "(abs(\"amount_l\" - \"amount_r\")/\n            (case\n                when \"amount_r\" > \"amount_l\"\n                then \"amount_r\"\n                else \"amount_l\"\n            end))\n            < 0.1",
          "term_frequency_adjustment": false,
          "u_probability": 0.026696,
          "value_l": "203.05",
          "value_r": "188.64"
         },
         {
          "bar_sort_order": 2,
          "bayes_factor": 142.9055570275039,
          "bayes_factor_description": "If comparison level is `jaccard >= 0.9` then comparison is 142.91 times more likely to be a match",
          "column_name": "memo",
          "comparison_vector_value": 2,
          "label_for_charts": "Jaccard >= 0.9",
          "log2_bayes_factor": 7.1589182079589335,
          "m_probability": 0.07831224525107214,
          "record_number": 0,
          "sql_condition": "jaccard(\"memo_l\", \"memo_r\") >= 0.9",
          "term_frequency_adjustment": false,
          "u_probability": 0.000548,
          "value_l": "LEONARDO DA V p",
          "value_r": "LEONARDO D V"
         },
         {
          "bar_sort_order": 3,
          "bayes_factor": 7.263885913938044,
          "bayes_factor_description": "If comparison level is `within 4 days` then comparison is 7.26 times more likely to be a match",
          "column_name": "transaction_date",
          "comparison_vector_value": 3,
          "label_for_charts": "Within 4 days",
          "log2_bayes_factor": 2.860741543943759,
          "m_probability": 0.4462568311227837,
          "record_number": 0,
          "sql_condition": "\n            abs(date_diff('day', \"transaction_date_l\",\n              \"transaction_date_r\")) <= 4\n        ",
          "term_frequency_adjustment": false,
          "u_probability": 0.061435,
          "value_l": "2022-03-25 00:00:00",
          "value_r": "2022-03-22 00:00:00"
         },
         {
          "bar_sort_order": 4,
          "bayes_factor": 7.958270247517031,
          "bayes_factor_description": null,
          "column_name": "Final score",
          "comparison_vector_value": null,
          "label_for_charts": "Final score",
          "log2_bayes_factor": 2.9924548910061026,
          "m_probability": null,
          "record_number": 0,
          "sql_condition": null,
          "term_frequency_adjustment": null,
          "u_probability": null,
          "value_l": "",
          "value_r": ""
         },
         {
          "bar_sort_order": 0,
          "bayes_factor": 0.001001001001001001,
          "bayes_factor_description": null,
          "column_name": "Prior",
          "comparison_vector_value": null,
          "label_for_charts": "Starting match weight (prior)",
          "log2_bayes_factor": -9.964340867792417,
          "m_probability": null,
          "record_number": 1,
          "sql_condition": null,
          "term_frequency_adjustment": null,
          "u_probability": null,
          "value_l": "",
          "value_r": ""
         },
         {
          "bar_sort_order": 1,
          "bayes_factor": 42.034679212736926,
          "bayes_factor_description": "If comparison level is `< 3.00% diff` then comparison is 42.03 times more likely to be a match",
          "column_name": "amount",
          "comparison_vector_value": 3,
          "label_for_charts": "< 3.00% diff",
          "log2_bayes_factor": 5.393508158116751,
          "m_probability": 0.31769810548986566,
          "record_number": 1,
          "sql_condition": "(abs(\"amount_l\" - \"amount_r\")/\n            (case\n                when \"amount_r\" > \"amount_l\"\n                then \"amount_r\"\n                else \"amount_l\"\n            end))\n            < 0.03",
          "term_frequency_adjustment": false,
          "u_probability": 0.007558,
          "value_l": "226.01",
          "value_r": "223.32"
         },
         {
          "bar_sort_order": 2,
          "bayes_factor": 38.8413365764104,
          "bayes_factor_description": "If comparison level is `jaccard >= 0.7` then comparison is 38.84 times more likely to be a match",
          "column_name": "memo",
          "comparison_vector_value": 1,
          "label_for_charts": "Jaccard >= 0.7",
          "log2_bayes_factor": 5.279520941344303,
          "m_probability": 0.19183736135089094,
          "record_number": 1,
          "sql_condition": "jaccard(\"memo_l\", \"memo_r\") >= 0.7",
          "term_frequency_adjustment": false,
          "u_probability": 0.004939,
          "value_l": "L DE S donation",
          "value_r": "L D V donation"
         },
         {
          "bar_sort_order": 3,
          "bayes_factor": 7.263885913938044,
          "bayes_factor_description": "If comparison level is `within 4 days` then comparison is 7.26 times more likely to be a match",
          "column_name": "transaction_date",
          "comparison_vector_value": 3,
          "label_for_charts": "Within 4 days",
          "log2_bayes_factor": 2.860741543943759,
          "m_probability": 0.4462568311227837,
          "record_number": 1,
          "sql_condition": "\n            abs(date_diff('day', \"transaction_date_l\",\n              \"transaction_date_r\")) <= 4\n        ",
          "term_frequency_adjustment": false,
          "u_probability": 0.061435,
          "value_l": "2022-02-26 00:00:00",
          "value_r": "2022-02-24 00:00:00"
         },
         {
          "bar_sort_order": 4,
          "bayes_factor": 11.871495435851806,
          "bayes_factor_description": null,
          "column_name": "Final score",
          "comparison_vector_value": null,
          "label_for_charts": "Final score",
          "log2_bayes_factor": 3.5694297756123943,
          "m_probability": null,
          "record_number": 1,
          "sql_condition": null,
          "term_frequency_adjustment": null,
          "u_probability": null,
          "value_l": "",
          "value_r": ""
         },
         {
          "bar_sort_order": 0,
          "bayes_factor": 0.001001001001001001,
          "bayes_factor_description": null,
          "column_name": "Prior",
          "comparison_vector_value": null,
          "label_for_charts": "Starting match weight (prior)",
          "log2_bayes_factor": -9.964340867792417,
          "m_probability": null,
          "record_number": 2,
          "sql_condition": null,
          "term_frequency_adjustment": null,
          "u_probability": null,
          "value_l": "",
          "value_r": ""
         },
         {
          "bar_sort_order": 1,
          "bayes_factor": 58.63420259324002,
          "bayes_factor_description": "If comparison level is `< 1.00% diff` then comparison is 58.63 times more likely to be a match",
          "column_name": "amount",
          "comparison_vector_value": 4,
          "label_for_charts": "< 1.00% diff",
          "log2_bayes_factor": 5.873670560169195,
          "m_probability": 0.22503806955285519,
          "record_number": 2,
          "sql_condition": "(abs(\"amount_l\" - \"amount_r\")/\n            (case\n                when \"amount_r\" > \"amount_l\"\n                then \"amount_r\"\n                else \"amount_l\"\n            end))\n            < 0.01",
          "term_frequency_adjustment": false,
          "u_probability": 0.003838,
          "value_l": "312.61",
          "value_r": "312.62"
         },
         {
          "bar_sort_order": 2,
          "bayes_factor": 38.8413365764104,
          "bayes_factor_description": "If comparison level is `jaccard >= 0.7` then comparison is 38.84 times more likely to be a match",
          "column_name": "memo",
          "comparison_vector_value": 1,
          "label_for_charts": "Jaccard >= 0.7",
          "log2_bayes_factor": 5.279520941344303,
          "m_probability": 0.19183736135089094,
          "record_number": 2,
          "sql_condition": "jaccard(\"memo_l\", \"memo_r\") >= 0.7",
          "term_frequency_adjustment": false,
          "u_probability": 0.004939,
          "value_l": "PIETRO T BGC",
          "value_r": "PIETRO T"
         },
         {
          "bar_sort_order": 3,
          "bayes_factor": 0.9212209987125325,
          "bayes_factor_description": "If comparison level is `within 10 days` then comparison is  1.09 times less likely to be a match",
          "column_name": "transaction_date",
          "comparison_vector_value": 2,
          "label_for_charts": "Within 10 days",
          "log2_bayes_factor": -0.11838079796290285,
          "m_probability": 0.10621770237255371,
          "record_number": 2,
          "sql_condition": "\n            abs(date_diff('day', \"transaction_date_l\",\n              \"transaction_date_r\")) <= 10\n        ",
          "term_frequency_adjustment": false,
          "u_probability": 0.115301,
          "value_l": "2022-03-09 00:00:00",
          "value_r": "2022-03-19 00:00:00"
         },
         {
          "bar_sort_order": 4,
          "bayes_factor": 2.1001171912516567,
          "bayes_factor_description": null,
          "column_name": "Final score",
          "comparison_vector_value": null,
          "label_for_charts": "Final score",
          "log2_bayes_factor": 1.070469835758177,
          "m_probability": null,
          "record_number": 2,
          "sql_condition": null,
          "term_frequency_adjustment": null,
          "u_probability": null,
          "value_l": "",
          "value_r": ""
         },
         {
          "bar_sort_order": 0,
          "bayes_factor": 0.001001001001001001,
          "bayes_factor_description": null,
          "column_name": "Prior",
          "comparison_vector_value": null,
          "label_for_charts": "Starting match weight (prior)",
          "log2_bayes_factor": -9.964340867792417,
          "m_probability": null,
          "record_number": 3,
          "sql_condition": null,
          "term_frequency_adjustment": null,
          "u_probability": null,
          "value_l": "",
          "value_r": ""
         },
         {
          "bar_sort_order": 1,
          "bayes_factor": 42.034679212736926,
          "bayes_factor_description": "If comparison level is `< 3.00% diff` then comparison is 42.03 times more likely to be a match",
          "column_name": "amount",
          "comparison_vector_value": 3,
          "label_for_charts": "< 3.00% diff",
          "log2_bayes_factor": 5.393508158116751,
          "m_probability": 0.31769810548986566,
          "record_number": 3,
          "sql_condition": "(abs(\"amount_l\" - \"amount_r\")/\n            (case\n                when \"amount_r\" > \"amount_l\"\n                then \"amount_r\"\n                else \"amount_l\"\n            end))\n            < 0.03",
          "term_frequency_adjustment": false,
          "u_probability": 0.007558,
          "value_l": "23123.98",
          "value_r": "23700.24"
         },
         {
          "bar_sort_order": 2,
          "bayes_factor": 532.1921690035986,
          "bayes_factor_description": "If comparison level is `exact match` then comparison is 532.19 times more likely to be a match",
          "column_name": "memo",
          "comparison_vector_value": 3,
          "label_for_charts": "Exact match",
          "log2_bayes_factor": 9.055803471606495,
          "m_probability": 0.42681811954088605,
          "record_number": 3,
          "sql_condition": "\"memo_l\" = \"memo_r\"",
          "term_frequency_adjustment": false,
          "u_probability": 0.000802,
          "value_l": "GIOVANNI DELLA ",
          "value_r": "GIOVANNI DELLA "
         },
         {
          "bar_sort_order": 3,
          "bayes_factor": 0.14546451838231128,
          "bayes_factor_description": "If comparison level is `within 30 days` then comparison is  6.87 times less likely to be a match",
          "column_name": "transaction_date",
          "comparison_vector_value": 1,
          "label_for_charts": "Within 30 days",
          "log2_bayes_factor": -2.781260800148226,
          "m_probability": 0.04609276008172944,
          "record_number": 3,
          "sql_condition": "\n            abs(date_diff('day', \"transaction_date_l\",\n              \"transaction_date_r\")) <= 30\n        ",
          "term_frequency_adjustment": false,
          "u_probability": 0.316866,
          "value_l": "2022-04-07 00:00:00",
          "value_r": "2022-03-24 00:00:00"
         },
         {
          "bar_sort_order": 4,
          "bayes_factor": 3.2573753264095795,
          "bayes_factor_description": null,
          "column_name": "Final score",
          "comparison_vector_value": null,
          "label_for_charts": "Final score",
          "log2_bayes_factor": 1.703709961782603,
          "m_probability": null,
          "record_number": 3,
          "sql_condition": null,
          "term_frequency_adjustment": null,
          "u_probability": null,
          "value_l": "",
          "value_r": ""
         },
         {
          "bar_sort_order": 0,
          "bayes_factor": 0.001001001001001001,
          "bayes_factor_description": null,
          "column_name": "Prior",
          "comparison_vector_value": null,
          "label_for_charts": "Starting match weight (prior)",
          "log2_bayes_factor": -9.964340867792417,
          "m_probability": null,
          "record_number": 4,
          "sql_condition": null,
          "term_frequency_adjustment": null,
          "u_probability": null,
          "value_l": "",
          "value_r": ""
         },
         {
          "bar_sort_order": 1,
          "bayes_factor": 58.63420259324002,
          "bayes_factor_description": "If comparison level is `< 1.00% diff` then comparison is 58.63 times more likely to be a match",
          "column_name": "amount",
          "comparison_vector_value": 4,
          "label_for_charts": "< 1.00% diff",
          "log2_bayes_factor": 5.873670560169195,
          "m_probability": 0.22503806955285519,
          "record_number": 4,
          "sql_condition": "(abs(\"amount_l\" - \"amount_r\")/\n            (case\n                when \"amount_r\" > \"amount_l\"\n                then \"amount_r\"\n                else \"amount_l\"\n            end))\n            < 0.01",
          "term_frequency_adjustment": false,
          "u_probability": 0.003838,
          "value_l": "243.2",
          "value_r": "243.87"
         },
         {
          "bar_sort_order": 2,
          "bayes_factor": 38.8413365764104,
          "bayes_factor_description": "If comparison level is `jaccard >= 0.7` then comparison is 38.84 times more likely to be a match",
          "column_name": "memo",
          "comparison_vector_value": 1,
          "label_for_charts": "Jaccard >= 0.7",
          "log2_bayes_factor": 5.279520941344303,
          "m_probability": 0.19183736135089094,
          "record_number": 4,
          "sql_condition": "jaccard(\"memo_l\", \"memo_r\") >= 0.7",
          "term_frequency_adjustment": false,
          "u_probability": 0.004939,
          "value_l": "N D R payment B",
          "value_r": "R R payment BGC"
         },
         {
          "bar_sort_order": 3,
          "bayes_factor": 7.263885913938044,
          "bayes_factor_description": "If comparison level is `within 4 days` then comparison is 7.26 times more likely to be a match",
          "column_name": "transaction_date",
          "comparison_vector_value": 3,
          "label_for_charts": "Within 4 days",
          "log2_bayes_factor": 2.860741543943759,
          "m_probability": 0.4462568311227837,
          "record_number": 4,
          "sql_condition": "\n            abs(date_diff('day', \"transaction_date_l\",\n              \"transaction_date_r\")) <= 4\n        ",
          "term_frequency_adjustment": false,
          "u_probability": 0.061435,
          "value_l": "2022-04-02 00:00:00",
          "value_r": "2022-03-30 00:00:00"
         },
         {
          "bar_sort_order": 4,
          "bayes_factor": 16.55955704925521,
          "bayes_factor_description": null,
          "column_name": "Final score",
          "comparison_vector_value": null,
          "label_for_charts": "Final score",
          "log2_bayes_factor": 4.049592177664839,
          "m_probability": null,
          "record_number": 4,
          "sql_condition": null,
          "term_frequency_adjustment": null,
          "u_probability": null,
          "value_l": "",
          "value_r": ""
         }
        ]
       },
       "height": 450,
       "layer": [
        {
         "layer": [
          {
           "encoding": {
            "color": {
             "value": "black"
            },
            "size": {
             "value": 0.5
            },
            "y": {
             "field": "zero",
             "type": "quantitative"
            }
           },
           "mark": "rule"
          },
          {
           "encoding": {
            "color": {
             "condition": {
              "test": "(datum.log2_bayes_factor < 0)",
              "value": "red"
             },
             "value": "green"
            },
            "opacity": {
             "condition": {
              "test": "datum.column_name == 'Prior match weight' || datum.column_name == 'Final score'",
              "value": 1
             },
             "value": 0.5
            },
            "tooltip": [
             {
              "field": "column_name",
              "title": "Comparison column",
              "type": "nominal"
             },
             {
              "field": "value_l",
              "title": "Value (L)",
              "type": "nominal"
             },
             {
              "field": "value_r",
              "title": "Value (R)",
              "type": "nominal"
             },
             {
              "field": "label_for_charts",
              "title": "Label",
              "type": "ordinal"
             },
             {
              "field": "sql_condition",
              "title": "SQL condition",
              "type": "nominal"
             },
             {
              "field": "comparison_vector_value",
              "title": "Comparison vector value",
              "type": "nominal"
             },
             {
              "field": "bayes_factor",
              "format": ",.4f",
              "title": "Bayes factor = m/u",
              "type": "quantitative"
             },
             {
              "field": "log2_bayes_factor",
              "format": ",.4f",
              "title": "Match weight = log2(m/u)",
              "type": "quantitative"
             },
             {
              "field": "prob",
              "format": ".4f",
              "title": "Adjusted match score",
              "type": "quantitative"
             },
             {
              "field": "bayes_factor_description",
              "title": "Match weight description",
              "type": "nominal"
             }
            ],
            "x": {
             "axis": {
              "grid": true,
              "labelAlign": "center",
              "labelAngle": -20,
              "labelExpr": "datum.value == 'Prior' || datum.value == 'Final score' ? '' : datum.value",
              "labelPadding": 10,
              "tickBand": "extent",
              "title": "Column"
             },
             "field": "column_name",
             "sort": {
              "field": "bar_sort_order",
              "order": "ascending"
             },
             "type": "nominal"
            },
            "y": {
             "axis": {
              "grid": false,
              "orient": "left",
              "title": "log2(Bayes factor)"
             },
             "field": "previous_sum",
             "type": "quantitative"
            },
            "y2": {
             "field": "sum"
            }
           },
           "mark": {
            "type": "bar",
            "width": 60
           }
          },
          {
           "encoding": {
            "color": {
             "value": "white"
            },
            "text": {
             "condition": {
              "field": "log2_bayes_factor",
              "format": ".2f",
              "test": "abs(datum.log2_bayes_factor) > 1",
              "type": "nominal"
             },
             "value": ""
            },
            "x": {
             "axis": {
              "labelAngle": -20,
              "title": "Column"
             },
             "field": "column_name",
             "sort": {
              "field": "bar_sort_order",
              "order": "ascending"
             },
             "type": "nominal"
            },
            "y": {
             "axis": {
              "orient": "left"
             },
             "field": "center",
             "type": "quantitative"
            }
           },
           "mark": {
            "fontWeight": "bold",
            "type": "text"
           }
          },
          {
           "encoding": {
            "color": {
             "value": "black"
            },
            "text": {
             "field": "column_name",
             "type": "nominal"
            },
            "x": {
             "axis": {
              "labelAngle": -20,
              "title": "Column"
             },
             "field": "column_name",
             "sort": {
              "field": "bar_sort_order",
              "order": "ascending"
             },
             "type": "nominal"
            },
            "y": {
             "field": "sum_top",
             "type": "quantitative"
            }
           },
           "mark": {
            "baseline": "bottom",
            "dy": -25,
            "fontWeight": "bold",
            "type": "text"
           }
          },
          {
           "encoding": {
            "color": {
             "value": "grey"
            },
            "text": {
             "field": "value_l",
             "type": "nominal"
            },
            "x": {
             "axis": {
              "labelAngle": -20,
              "title": "Column"
             },
             "field": "column_name",
             "sort": {
              "field": "bar_sort_order",
              "order": "ascending"
             },
             "type": "nominal"
            },
            "y": {
             "field": "sum_top",
             "type": "quantitative"
            }
           },
           "mark": {
            "baseline": "bottom",
            "dy": -13,
            "fontSize": 8,
            "type": "text"
           }
          },
          {
           "encoding": {
            "color": {
             "value": "grey"
            },
            "text": {
             "field": "value_r",
             "type": "nominal"
            },
            "x": {
             "axis": {
              "labelAngle": -20,
              "title": "Column"
             },
             "field": "column_name",
             "sort": {
              "field": "bar_sort_order",
              "order": "ascending"
             },
             "type": "nominal"
            },
            "y": {
             "field": "sum_top",
             "type": "quantitative"
            }
           },
           "mark": {
            "baseline": "bottom",
            "dy": -5,
            "fontSize": 8,
            "type": "text"
           }
          }
         ]
        },
        {
         "encoding": {
          "x": {
           "axis": {
            "labelAngle": -20,
            "title": "Column"
           },
           "field": "column_name",
           "sort": {
            "field": "bar_sort_order",
            "order": "ascending"
           },
           "type": "nominal"
          },
          "x2": {
           "field": "lead"
          },
          "y": {
           "axis": {
            "labelExpr": "format(1 / (1 + pow(2, -1*datum.value)), '.2r')",
            "orient": "right",
            "title": "Probability"
           },
           "field": "sum",
           "scale": {
            "zero": false
           },
           "type": "quantitative"
          }
         },
         "mark": {
          "color": "black",
          "strokeWidth": 2,
          "type": "rule",
          "x2Offset": 30,
          "xOffset": -30
         }
        }
       ],
       "params": [
        {
         "bind": {
          "input": "range",
          "max": 4,
          "min": 0,
          "step": 1
         },
         "name": "record_number",
         "value": 0
        }
       ],
       "resolve": {
        "axis": {
         "y": "independent"
        }
       },
       "title": {
        "subtitle": "How each comparison contributes to the final match score",
        "text": "Match weights waterfall chart"
       },
       "transform": [
        {
         "filter": "(datum.record_number == record_number)"
        },
        {
         "filter": "(datum.bayes_factor !== 1.0)"
        },
        {
         "frame": [
          null,
          0
         ],
         "window": [
          {
           "as": "sum",
           "field": "log2_bayes_factor",
           "op": "sum"
          },
          {
           "as": "lead",
           "field": "column_name",
           "op": "lead"
          }
         ]
        },
        {
         "as": "sum",
         "calculate": "datum.column_name === \"Final score\" ? datum.sum - datum.log2_bayes_factor : datum.sum"
        },
        {
         "as": "lead",
         "calculate": "datum.lead === null ? datum.column_name : datum.lead"
        },
        {
         "as": "previous_sum",
         "calculate": "datum.column_name === \"Final score\" || datum.column_name === \"Prior match weight\" ? 0 : datum.sum - datum.log2_bayes_factor"
        },
        {
         "as": "top_label",
         "calculate": "datum.sum > datum.previous_sum ? datum.column_name : \"\""
        },
        {
         "as": "bottom_label",
         "calculate": "datum.sum < datum.previous_sum ? datum.column_name : \"\""
        },
        {
         "as": "sum_top",
         "calculate": "datum.sum > datum.previous_sum ? datum.sum : datum.previous_sum"
        },
        {
         "as": "sum_bottom",
         "calculate": "datum.sum < datum.previous_sum ? datum.sum : datum.previous_sum"
        },
        {
         "as": "center",
         "calculate": "(datum.sum + datum.previous_sum) / 2"
        },
        {
         "as": "text_log2_bayes_factor",
         "calculate": "(datum.log2_bayes_factor > 0 ? \"+\" : \"\") + datum.log2_bayes_factor"
        },
        {
         "as": "dy",
         "calculate": "datum.sum < datum.previous_sum ? 4 : -4"
        },
        {
         "as": "baseline",
         "calculate": "datum.sum < datum.previous_sum ? \"top\" : \"bottom\""
        },
        {
         "as": "prob",
         "calculate": "1. / (1 + pow(2, -1.*datum.sum))"
        },
        {
         "as": "zero",
         "calculate": "0*datum.sum"
        }
       ],
       "width": {
        "step": 75
       }
      },
      "text/plain": [
       "<VegaLite 5 object>\n",
       "\n",
       "If you see this message, it means the renderer has not been properly enabled\n",
       "for the frontend that you are using. For more information, see\n",
       "https://altair-viz.github.io/user_guide/display_frontends.html#troubleshooting\n"
      ]
     },
     "execution_count": 13,
     "metadata": {},
     "output_type": "execute_result"
    }
   ],
   "source": [
    "pred_errors =  linker.prediction_errors_from_labels_column(\"ground_truth\", include_false_positives=True, include_false_negatives=False)\n",
    "linker.waterfall_chart(pred_errors.as_record_dict(limit=5))"
   ]
  },
  {
   "cell_type": "code",
   "execution_count": 14,
   "metadata": {},
   "outputs": [
    {
     "data": {
      "application/vnd.vegalite.v5+json": {
       "$schema": "https://vega.github.io/schema/vega-lite/v5.9.3.json",
       "config": {
        "view": {
         "continuousHeight": 300,
         "continuousWidth": 400
        }
       },
       "data": {
        "name": "data-20e84cb485d4b69620ee566b6cce31c6"
       },
       "datasets": {
        "data-20e84cb485d4b69620ee566b6cce31c6": [
         {
          "bar_sort_order": 0,
          "bayes_factor": 0.001001001001001001,
          "bayes_factor_description": null,
          "column_name": "Prior",
          "comparison_vector_value": null,
          "label_for_charts": "Starting match weight (prior)",
          "log2_bayes_factor": -9.964340867792417,
          "m_probability": null,
          "record_number": 0,
          "sql_condition": null,
          "term_frequency_adjustment": null,
          "u_probability": null,
          "value_l": "",
          "value_r": ""
         },
         {
          "bar_sort_order": 1,
          "bayes_factor": 42.034679212736926,
          "bayes_factor_description": "If comparison level is `< 3.00% diff` then comparison is 42.03 times more likely to be a match",
          "column_name": "amount",
          "comparison_vector_value": 3,
          "label_for_charts": "< 3.00% diff",
          "log2_bayes_factor": 5.393508158116751,
          "m_probability": 0.31769810548986566,
          "record_number": 0,
          "sql_condition": "(abs(\"amount_l\" - \"amount_r\")/\n            (case\n                when \"amount_r\" > \"amount_l\"\n                then \"amount_r\"\n                else \"amount_l\"\n            end))\n            < 0.03",
          "term_frequency_adjustment": false,
          "u_probability": 0.007558,
          "value_l": "42.58",
          "value_r": "43.62"
         },
         {
          "bar_sort_order": 2,
          "bayes_factor": 0.3049501050679229,
          "bayes_factor_description": "If comparison level is `all other comparisons` then comparison is  3.28 times less likely to be a match",
          "column_name": "memo",
          "comparison_vector_value": 0,
          "label_for_charts": "All other comparisons",
          "log2_bayes_factor": -1.7133548819153686,
          "m_probability": 0.30303227385715076,
          "record_number": 0,
          "sql_condition": "ELSE",
          "term_frequency_adjustment": false,
          "u_probability": 0.993711,
          "value_l": "M C payment",
          "value_r": "M C BGC"
         },
         {
          "bar_sort_order": 3,
          "bayes_factor": 12.741055049622716,
          "bayes_factor_description": "If comparison level is `within 1 day` then comparison is 12.74 times more likely to be a match",
          "column_name": "transaction_date",
          "comparison_vector_value": 4,
          "label_for_charts": "Within 1 day",
          "log2_bayes_factor": 3.671412842798365,
          "m_probability": 0.4014324214484629,
          "record_number": 0,
          "sql_condition": "\n            abs(date_diff('day', \"transaction_date_l\",\n              \"transaction_date_r\")) <= 1\n        ",
          "term_frequency_adjustment": false,
          "u_probability": 0.031507,
          "value_l": "2022-02-23 00:00:00",
          "value_r": "2022-02-24 00:00:00"
         },
         {
          "bar_sort_order": 4,
          "bayes_factor": 0.16348444176652596,
          "bayes_factor_description": null,
          "column_name": "Final score",
          "comparison_vector_value": null,
          "label_for_charts": "Final score",
          "log2_bayes_factor": -2.612774748792671,
          "m_probability": null,
          "record_number": 0,
          "sql_condition": null,
          "term_frequency_adjustment": null,
          "u_probability": null,
          "value_l": "",
          "value_r": ""
         },
         {
          "bar_sort_order": 0,
          "bayes_factor": 0.001001001001001001,
          "bayes_factor_description": null,
          "column_name": "Prior",
          "comparison_vector_value": null,
          "label_for_charts": "Starting match weight (prior)",
          "log2_bayes_factor": -9.964340867792417,
          "m_probability": null,
          "record_number": 1,
          "sql_condition": null,
          "term_frequency_adjustment": null,
          "u_probability": null,
          "value_l": "",
          "value_r": ""
         },
         {
          "bar_sort_order": 1,
          "bayes_factor": 7.6588936568519905,
          "bayes_factor_description": "If comparison level is `< 10.00% diff` then comparison is 7.66 times more likely to be a match",
          "column_name": "amount",
          "comparison_vector_value": 2,
          "label_for_charts": "< 10.00% diff",
          "log2_bayes_factor": 2.937136006895829,
          "m_probability": 0.20446182506332075,
          "record_number": 1,
          "sql_condition": "(abs(\"amount_l\" - \"amount_r\")/\n            (case\n                when \"amount_r\" > \"amount_l\"\n                then \"amount_r\"\n                else \"amount_l\"\n            end))\n            < 0.1",
          "term_frequency_adjustment": false,
          "u_probability": 0.026696,
          "value_l": "81.34",
          "value_r": "77.57"
         },
         {
          "bar_sort_order": 2,
          "bayes_factor": 0.3049501050679229,
          "bayes_factor_description": "If comparison level is `all other comparisons` then comparison is  3.28 times less likely to be a match",
          "column_name": "memo",
          "comparison_vector_value": 0,
          "label_for_charts": "All other comparisons",
          "log2_bayes_factor": -1.7133548819153686,
          "m_probability": 0.30303227385715076,
          "record_number": 1,
          "sql_condition": "ELSE",
          "term_frequency_adjustment": false,
          "u_probability": 0.993711,
          "value_l": "A F bcc9dd57 BG",
          "value_r": "A F BGC"
         },
         {
          "bar_sort_order": 3,
          "bayes_factor": 7.263885913938044,
          "bayes_factor_description": "If comparison level is `within 4 days` then comparison is 7.26 times more likely to be a match",
          "column_name": "transaction_date",
          "comparison_vector_value": 3,
          "label_for_charts": "Within 4 days",
          "log2_bayes_factor": 2.860741543943759,
          "m_probability": 0.4462568311227837,
          "record_number": 1,
          "sql_condition": "\n            abs(date_diff('day', \"transaction_date_l\",\n              \"transaction_date_r\")) <= 4\n        ",
          "term_frequency_adjustment": false,
          "u_probability": 0.061435,
          "value_l": "2022-04-20 00:00:00",
          "value_r": "2022-04-23 00:00:00"
         },
         {
          "bar_sort_order": 4,
          "bayes_factor": 0.016982372124774426,
          "bayes_factor_description": null,
          "column_name": "Final score",
          "comparison_vector_value": null,
          "label_for_charts": "Final score",
          "log2_bayes_factor": -5.879818198868199,
          "m_probability": null,
          "record_number": 1,
          "sql_condition": null,
          "term_frequency_adjustment": null,
          "u_probability": null,
          "value_l": "",
          "value_r": ""
         },
         {
          "bar_sort_order": 0,
          "bayes_factor": 0.001001001001001001,
          "bayes_factor_description": null,
          "column_name": "Prior",
          "comparison_vector_value": null,
          "label_for_charts": "Starting match weight (prior)",
          "log2_bayes_factor": -9.964340867792417,
          "m_probability": null,
          "record_number": 2,
          "sql_condition": null,
          "term_frequency_adjustment": null,
          "u_probability": null,
          "value_l": "",
          "value_r": ""
         },
         {
          "bar_sort_order": 1,
          "bayes_factor": 58.63420259324002,
          "bayes_factor_description": "If comparison level is `< 1.00% diff` then comparison is 58.63 times more likely to be a match",
          "column_name": "amount",
          "comparison_vector_value": 4,
          "label_for_charts": "< 1.00% diff",
          "log2_bayes_factor": 5.873670560169195,
          "m_probability": 0.22503806955285519,
          "record_number": 2,
          "sql_condition": "(abs(\"amount_l\" - \"amount_r\")/\n            (case\n                when \"amount_r\" > \"amount_l\"\n                then \"amount_r\"\n                else \"amount_l\"\n            end))\n            < 0.01",
          "term_frequency_adjustment": false,
          "u_probability": 0.003838,
          "value_l": "470.54",
          "value_r": "466.01"
         },
         {
          "bar_sort_order": 2,
          "bayes_factor": 0.3049501050679229,
          "bayes_factor_description": "If comparison level is `all other comparisons` then comparison is  3.28 times less likely to be a match",
          "column_name": "memo",
          "comparison_vector_value": 0,
          "label_for_charts": "All other comparisons",
          "log2_bayes_factor": -1.7133548819153686,
          "m_probability": 0.30303227385715076,
          "record_number": 2,
          "sql_condition": "ELSE",
          "term_frequency_adjustment": false,
          "u_probability": 0.993711,
          "value_l": "A MANTEGNA f5c6",
          "value_r": "A MANTEGNA"
         },
         {
          "bar_sort_order": 3,
          "bayes_factor": 7.263885913938044,
          "bayes_factor_description": "If comparison level is `within 4 days` then comparison is 7.26 times more likely to be a match",
          "column_name": "transaction_date",
          "comparison_vector_value": 3,
          "label_for_charts": "Within 4 days",
          "log2_bayes_factor": 2.860741543943759,
          "m_probability": 0.4462568311227837,
          "record_number": 2,
          "sql_condition": "\n            abs(date_diff('day', \"transaction_date_l\",\n              \"transaction_date_r\")) <= 4\n        ",
          "term_frequency_adjustment": false,
          "u_probability": 0.061435,
          "value_l": "2022-04-25 00:00:00",
          "value_r": "2022-04-27 00:00:00"
         },
         {
          "bar_sort_order": 4,
          "bayes_factor": 0.13001196939024928,
          "bayes_factor_description": null,
          "column_name": "Final score",
          "comparison_vector_value": null,
          "label_for_charts": "Final score",
          "log2_bayes_factor": -2.943283645594833,
          "m_probability": null,
          "record_number": 2,
          "sql_condition": null,
          "term_frequency_adjustment": null,
          "u_probability": null,
          "value_l": "",
          "value_r": ""
         },
         {
          "bar_sort_order": 0,
          "bayes_factor": 0.001001001001001001,
          "bayes_factor_description": null,
          "column_name": "Prior",
          "comparison_vector_value": null,
          "label_for_charts": "Starting match weight (prior)",
          "log2_bayes_factor": -9.964340867792417,
          "m_probability": null,
          "record_number": 3,
          "sql_condition": null,
          "term_frequency_adjustment": null,
          "u_probability": null,
          "value_l": "",
          "value_r": ""
         },
         {
          "bar_sort_order": 1,
          "bayes_factor": 7.6588936568519905,
          "bayes_factor_description": "If comparison level is `< 10.00% diff` then comparison is 7.66 times more likely to be a match",
          "column_name": "amount",
          "comparison_vector_value": 2,
          "label_for_charts": "< 10.00% diff",
          "log2_bayes_factor": 2.937136006895829,
          "m_probability": 0.20446182506332075,
          "record_number": 3,
          "sql_condition": "(abs(\"amount_l\" - \"amount_r\")/\n            (case\n                when \"amount_r\" > \"amount_l\"\n                then \"amount_r\"\n                else \"amount_l\"\n            end))\n            < 0.1",
          "term_frequency_adjustment": false,
          "u_probability": 0.026696,
          "value_l": "377.89",
          "value_r": "394.84"
         },
         {
          "bar_sort_order": 2,
          "bayes_factor": 0.3049501050679229,
          "bayes_factor_description": "If comparison level is `all other comparisons` then comparison is  3.28 times less likely to be a match",
          "column_name": "memo",
          "comparison_vector_value": 0,
          "label_for_charts": "All other comparisons",
          "log2_bayes_factor": -1.7133548819153686,
          "m_probability": 0.30303227385715076,
          "record_number": 3,
          "sql_condition": "ELSE",
          "term_frequency_adjustment": false,
          "u_probability": 0.993711,
          "value_l": "ANDREA M paymen",
          "value_r": "ANDREA M"
         },
         {
          "bar_sort_order": 3,
          "bayes_factor": 7.263885913938044,
          "bayes_factor_description": "If comparison level is `within 4 days` then comparison is 7.26 times more likely to be a match",
          "column_name": "transaction_date",
          "comparison_vector_value": 3,
          "label_for_charts": "Within 4 days",
          "log2_bayes_factor": 2.860741543943759,
          "m_probability": 0.4462568311227837,
          "record_number": 3,
          "sql_condition": "\n            abs(date_diff('day', \"transaction_date_l\",\n              \"transaction_date_r\")) <= 4\n        ",
          "term_frequency_adjustment": false,
          "u_probability": 0.061435,
          "value_l": "2022-04-27 00:00:00",
          "value_r": "2022-04-29 00:00:00"
         },
         {
          "bar_sort_order": 4,
          "bayes_factor": 0.016982372124774426,
          "bayes_factor_description": null,
          "column_name": "Final score",
          "comparison_vector_value": null,
          "label_for_charts": "Final score",
          "log2_bayes_factor": -5.879818198868199,
          "m_probability": null,
          "record_number": 3,
          "sql_condition": null,
          "term_frequency_adjustment": null,
          "u_probability": null,
          "value_l": "",
          "value_r": ""
         },
         {
          "bar_sort_order": 0,
          "bayes_factor": 0.001001001001001001,
          "bayes_factor_description": null,
          "column_name": "Prior",
          "comparison_vector_value": null,
          "label_for_charts": "Starting match weight (prior)",
          "log2_bayes_factor": -9.964340867792417,
          "m_probability": null,
          "record_number": 4,
          "sql_condition": null,
          "term_frequency_adjustment": null,
          "u_probability": null,
          "value_l": "",
          "value_r": ""
         },
         {
          "bar_sort_order": 1,
          "bayes_factor": 42.034679212736926,
          "bayes_factor_description": "If comparison level is `< 3.00% diff` then comparison is 42.03 times more likely to be a match",
          "column_name": "amount",
          "comparison_vector_value": 3,
          "label_for_charts": "< 3.00% diff",
          "log2_bayes_factor": 5.393508158116751,
          "m_probability": 0.31769810548986566,
          "record_number": 4,
          "sql_condition": "(abs(\"amount_l\" - \"amount_r\")/\n            (case\n                when \"amount_r\" > \"amount_l\"\n                then \"amount_r\"\n                else \"amount_l\"\n            end))\n            < 0.03",
          "term_frequency_adjustment": false,
          "u_probability": 0.007558,
          "value_l": "23.23",
          "value_r": "23.64"
         },
         {
          "bar_sort_order": 2,
          "bayes_factor": 0.3049501050679229,
          "bayes_factor_description": "If comparison level is `all other comparisons` then comparison is  3.28 times less likely to be a match",
          "column_name": "memo",
          "comparison_vector_value": 0,
          "label_for_charts": "All other comparisons",
          "log2_bayes_factor": -1.7133548819153686,
          "m_probability": 0.30303227385715076,
          "record_number": 4,
          "sql_condition": "ELSE",
          "term_frequency_adjustment": false,
          "u_probability": 0.993711,
          "value_l": "R C payment BGC",
          "value_r": "R C BGC"
         },
         {
          "bar_sort_order": 3,
          "bayes_factor": 12.741055049622716,
          "bayes_factor_description": "If comparison level is `within 1 day` then comparison is 12.74 times more likely to be a match",
          "column_name": "transaction_date",
          "comparison_vector_value": 4,
          "label_for_charts": "Within 1 day",
          "log2_bayes_factor": 3.671412842798365,
          "m_probability": 0.4014324214484629,
          "record_number": 4,
          "sql_condition": "\n            abs(date_diff('day', \"transaction_date_l\",\n              \"transaction_date_r\")) <= 1\n        ",
          "term_frequency_adjustment": false,
          "u_probability": 0.031507,
          "value_l": "2022-02-25 00:00:00",
          "value_r": "2022-02-26 00:00:00"
         },
         {
          "bar_sort_order": 4,
          "bayes_factor": 0.16348444176652596,
          "bayes_factor_description": null,
          "column_name": "Final score",
          "comparison_vector_value": null,
          "label_for_charts": "Final score",
          "log2_bayes_factor": -2.612774748792671,
          "m_probability": null,
          "record_number": 4,
          "sql_condition": null,
          "term_frequency_adjustment": null,
          "u_probability": null,
          "value_l": "",
          "value_r": ""
         }
        ]
       },
       "height": 450,
       "layer": [
        {
         "layer": [
          {
           "encoding": {
            "color": {
             "value": "black"
            },
            "size": {
             "value": 0.5
            },
            "y": {
             "field": "zero",
             "type": "quantitative"
            }
           },
           "mark": "rule"
          },
          {
           "encoding": {
            "color": {
             "condition": {
              "test": "(datum.log2_bayes_factor < 0)",
              "value": "red"
             },
             "value": "green"
            },
            "opacity": {
             "condition": {
              "test": "datum.column_name == 'Prior match weight' || datum.column_name == 'Final score'",
              "value": 1
             },
             "value": 0.5
            },
            "tooltip": [
             {
              "field": "column_name",
              "title": "Comparison column",
              "type": "nominal"
             },
             {
              "field": "value_l",
              "title": "Value (L)",
              "type": "nominal"
             },
             {
              "field": "value_r",
              "title": "Value (R)",
              "type": "nominal"
             },
             {
              "field": "label_for_charts",
              "title": "Label",
              "type": "ordinal"
             },
             {
              "field": "sql_condition",
              "title": "SQL condition",
              "type": "nominal"
             },
             {
              "field": "comparison_vector_value",
              "title": "Comparison vector value",
              "type": "nominal"
             },
             {
              "field": "bayes_factor",
              "format": ",.4f",
              "title": "Bayes factor = m/u",
              "type": "quantitative"
             },
             {
              "field": "log2_bayes_factor",
              "format": ",.4f",
              "title": "Match weight = log2(m/u)",
              "type": "quantitative"
             },
             {
              "field": "prob",
              "format": ".4f",
              "title": "Adjusted match score",
              "type": "quantitative"
             },
             {
              "field": "bayes_factor_description",
              "title": "Match weight description",
              "type": "nominal"
             }
            ],
            "x": {
             "axis": {
              "grid": true,
              "labelAlign": "center",
              "labelAngle": -20,
              "labelExpr": "datum.value == 'Prior' || datum.value == 'Final score' ? '' : datum.value",
              "labelPadding": 10,
              "tickBand": "extent",
              "title": "Column"
             },
             "field": "column_name",
             "sort": {
              "field": "bar_sort_order",
              "order": "ascending"
             },
             "type": "nominal"
            },
            "y": {
             "axis": {
              "grid": false,
              "orient": "left",
              "title": "log2(Bayes factor)"
             },
             "field": "previous_sum",
             "type": "quantitative"
            },
            "y2": {
             "field": "sum"
            }
           },
           "mark": {
            "type": "bar",
            "width": 60
           }
          },
          {
           "encoding": {
            "color": {
             "value": "white"
            },
            "text": {
             "condition": {
              "field": "log2_bayes_factor",
              "format": ".2f",
              "test": "abs(datum.log2_bayes_factor) > 1",
              "type": "nominal"
             },
             "value": ""
            },
            "x": {
             "axis": {
              "labelAngle": -20,
              "title": "Column"
             },
             "field": "column_name",
             "sort": {
              "field": "bar_sort_order",
              "order": "ascending"
             },
             "type": "nominal"
            },
            "y": {
             "axis": {
              "orient": "left"
             },
             "field": "center",
             "type": "quantitative"
            }
           },
           "mark": {
            "fontWeight": "bold",
            "type": "text"
           }
          },
          {
           "encoding": {
            "color": {
             "value": "black"
            },
            "text": {
             "field": "column_name",
             "type": "nominal"
            },
            "x": {
             "axis": {
              "labelAngle": -20,
              "title": "Column"
             },
             "field": "column_name",
             "sort": {
              "field": "bar_sort_order",
              "order": "ascending"
             },
             "type": "nominal"
            },
            "y": {
             "field": "sum_top",
             "type": "quantitative"
            }
           },
           "mark": {
            "baseline": "bottom",
            "dy": -25,
            "fontWeight": "bold",
            "type": "text"
           }
          },
          {
           "encoding": {
            "color": {
             "value": "grey"
            },
            "text": {
             "field": "value_l",
             "type": "nominal"
            },
            "x": {
             "axis": {
              "labelAngle": -20,
              "title": "Column"
             },
             "field": "column_name",
             "sort": {
              "field": "bar_sort_order",
              "order": "ascending"
             },
             "type": "nominal"
            },
            "y": {
             "field": "sum_top",
             "type": "quantitative"
            }
           },
           "mark": {
            "baseline": "bottom",
            "dy": -13,
            "fontSize": 8,
            "type": "text"
           }
          },
          {
           "encoding": {
            "color": {
             "value": "grey"
            },
            "text": {
             "field": "value_r",
             "type": "nominal"
            },
            "x": {
             "axis": {
              "labelAngle": -20,
              "title": "Column"
             },
             "field": "column_name",
             "sort": {
              "field": "bar_sort_order",
              "order": "ascending"
             },
             "type": "nominal"
            },
            "y": {
             "field": "sum_top",
             "type": "quantitative"
            }
           },
           "mark": {
            "baseline": "bottom",
            "dy": -5,
            "fontSize": 8,
            "type": "text"
           }
          }
         ]
        },
        {
         "encoding": {
          "x": {
           "axis": {
            "labelAngle": -20,
            "title": "Column"
           },
           "field": "column_name",
           "sort": {
            "field": "bar_sort_order",
            "order": "ascending"
           },
           "type": "nominal"
          },
          "x2": {
           "field": "lead"
          },
          "y": {
           "axis": {
            "labelExpr": "format(1 / (1 + pow(2, -1*datum.value)), '.2r')",
            "orient": "right",
            "title": "Probability"
           },
           "field": "sum",
           "scale": {
            "zero": false
           },
           "type": "quantitative"
          }
         },
         "mark": {
          "color": "black",
          "strokeWidth": 2,
          "type": "rule",
          "x2Offset": 30,
          "xOffset": -30
         }
        }
       ],
       "params": [
        {
         "bind": {
          "input": "range",
          "max": 4,
          "min": 0,
          "step": 1
         },
         "name": "record_number",
         "value": 0
        }
       ],
       "resolve": {
        "axis": {
         "y": "independent"
        }
       },
       "title": {
        "subtitle": "How each comparison contributes to the final match score",
        "text": "Match weights waterfall chart"
       },
       "transform": [
        {
         "filter": "(datum.record_number == record_number)"
        },
        {
         "filter": "(datum.bayes_factor !== 1.0)"
        },
        {
         "frame": [
          null,
          0
         ],
         "window": [
          {
           "as": "sum",
           "field": "log2_bayes_factor",
           "op": "sum"
          },
          {
           "as": "lead",
           "field": "column_name",
           "op": "lead"
          }
         ]
        },
        {
         "as": "sum",
         "calculate": "datum.column_name === \"Final score\" ? datum.sum - datum.log2_bayes_factor : datum.sum"
        },
        {
         "as": "lead",
         "calculate": "datum.lead === null ? datum.column_name : datum.lead"
        },
        {
         "as": "previous_sum",
         "calculate": "datum.column_name === \"Final score\" || datum.column_name === \"Prior match weight\" ? 0 : datum.sum - datum.log2_bayes_factor"
        },
        {
         "as": "top_label",
         "calculate": "datum.sum > datum.previous_sum ? datum.column_name : \"\""
        },
        {
         "as": "bottom_label",
         "calculate": "datum.sum < datum.previous_sum ? datum.column_name : \"\""
        },
        {
         "as": "sum_top",
         "calculate": "datum.sum > datum.previous_sum ? datum.sum : datum.previous_sum"
        },
        {
         "as": "sum_bottom",
         "calculate": "datum.sum < datum.previous_sum ? datum.sum : datum.previous_sum"
        },
        {
         "as": "center",
         "calculate": "(datum.sum + datum.previous_sum) / 2"
        },
        {
         "as": "text_log2_bayes_factor",
         "calculate": "(datum.log2_bayes_factor > 0 ? \"+\" : \"\") + datum.log2_bayes_factor"
        },
        {
         "as": "dy",
         "calculate": "datum.sum < datum.previous_sum ? 4 : -4"
        },
        {
         "as": "baseline",
         "calculate": "datum.sum < datum.previous_sum ? \"top\" : \"bottom\""
        },
        {
         "as": "prob",
         "calculate": "1. / (1 + pow(2, -1.*datum.sum))"
        },
        {
         "as": "zero",
         "calculate": "0*datum.sum"
        }
       ],
       "width": {
        "step": 75
       }
      },
      "text/plain": [
       "<VegaLite 5 object>\n",
       "\n",
       "If you see this message, it means the renderer has not been properly enabled\n",
       "for the frontend that you are using. For more information, see\n",
       "https://altair-viz.github.io/user_guide/display_frontends.html#troubleshooting\n"
      ]
     },
     "execution_count": 14,
     "metadata": {},
     "output_type": "execute_result"
    }
   ],
   "source": [
    "pred_errors =  linker.prediction_errors_from_labels_column(\"ground_truth\", include_false_positives=False, include_false_negatives=True)\n",
    "linker.waterfall_chart(pred_errors.as_record_dict(limit=5))"
   ]
  }
 ],
 "metadata": {
  "kernelspec": {
   "display_name": "base",
   "language": "python",
   "name": "python3"
  },
  "language_info": {
   "codemirror_mode": {
    "name": "ipython",
    "version": 3
   },
   "file_extension": ".py",
   "mimetype": "text/x-python",
   "name": "python",
   "nbconvert_exporter": "python",
   "pygments_lexer": "ipython3",
   "version": "3.9.12"
  }
 },
 "nbformat": 4,
 "nbformat_minor": 4
}

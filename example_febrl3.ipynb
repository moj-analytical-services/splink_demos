{
 "cells": [
  {
   "cell_type": "markdown",
   "metadata": {},
   "source": [
    "## Deduplicating the febrl3 dataset\n",
    "\n",
    "See A.2  [here](https://arxiv.org/pdf/2008.04443.pdf) and [here](https://recordlinkage.readthedocs.io/en/latest/ref-datasets.html) for the source of this data"
   ]
  },
  {
   "cell_type": "code",
   "execution_count": null,
   "metadata": {},
   "outputs": [
    {
     "data": {
      "text/html": [
       "<div>\n",
       "<style scoped>\n",
       "    .dataframe tbody tr th:only-of-type {\n",
       "        vertical-align: middle;\n",
       "    }\n",
       "\n",
       "    .dataframe tbody tr th {\n",
       "        vertical-align: top;\n",
       "    }\n",
       "\n",
       "    .dataframe thead th {\n",
       "        text-align: right;\n",
       "    }\n",
       "</style>\n",
       "<table border=\"1\" class=\"dataframe\">\n",
       "  <thead>\n",
       "    <tr style=\"text-align: right;\">\n",
       "      <th></th>\n",
       "      <th>rec_id</th>\n",
       "      <th>given_name</th>\n",
       "      <th>surname</th>\n",
       "      <th>street_number</th>\n",
       "      <th>address_1</th>\n",
       "      <th>address_2</th>\n",
       "      <th>suburb</th>\n",
       "      <th>postcode</th>\n",
       "      <th>state</th>\n",
       "      <th>date_of_birth</th>\n",
       "      <th>soc_sec_id</th>\n",
       "      <th>cluster</th>\n",
       "    </tr>\n",
       "  </thead>\n",
       "  <tbody>\n",
       "    <tr>\n",
       "      <th>0</th>\n",
       "      <td>rec-1496-org</td>\n",
       "      <td>mitchell</td>\n",
       "      <td>green</td>\n",
       "      <td>7.0</td>\n",
       "      <td>wallaby place</td>\n",
       "      <td>delmar</td>\n",
       "      <td>cleveland</td>\n",
       "      <td>2119</td>\n",
       "      <td>sa</td>\n",
       "      <td>19560409</td>\n",
       "      <td>1804974</td>\n",
       "      <td>rec-1496</td>\n",
       "    </tr>\n",
       "    <tr>\n",
       "      <th>1</th>\n",
       "      <td>rec-552-dup-3</td>\n",
       "      <td>harley</td>\n",
       "      <td>mccarthy</td>\n",
       "      <td>177.0</td>\n",
       "      <td>pridhamstreet</td>\n",
       "      <td>milton</td>\n",
       "      <td>marsden</td>\n",
       "      <td>3165</td>\n",
       "      <td>nsw</td>\n",
       "      <td>19080419</td>\n",
       "      <td>6089216</td>\n",
       "      <td>rec-552</td>\n",
       "    </tr>\n",
       "  </tbody>\n",
       "</table>\n",
       "</div>"
      ],
      "text/plain": [
       "          rec_id given_name   surname  street_number      address_1 address_2   \n",
       "0   rec-1496-org   mitchell     green            7.0  wallaby place    delmar  \\\n",
       "1  rec-552-dup-3     harley  mccarthy          177.0  pridhamstreet    milton   \n",
       "\n",
       "      suburb  postcode state date_of_birth  soc_sec_id   cluster  \n",
       "0  cleveland      2119    sa      19560409     1804974  rec-1496  \n",
       "1    marsden      3165   nsw      19080419     6089216   rec-552  "
      ]
     },
     "execution_count": 14,
     "metadata": {},
     "output_type": "execute_result"
    }
   ],
   "source": [
    "import pandas as pd \n",
    "import altair as alt\n",
    "alt.renderers.enable('mimetype')\n",
    "\n",
    "df = pd.read_csv(\"./data/febrl/dataset3.csv\", delimiter=\", \", dtype={\"date_of_birth\":str}, engine=\"python\")\n",
    "df[\"cluster\"] = df[\"rec_id\"].apply(lambda x: \"-\".join(x.split('-')[:2]))\n",
    "df.head(2)"
   ]
  },
  {
   "cell_type": "code",
   "execution_count": null,
   "metadata": {},
   "outputs": [],
   "source": [
    "from splink.duckdb.duckdb_linker import DuckDBLinker\n",
    "\n",
    "settings = {\n",
    "    \"unique_id_column_name\": \"rec_id\",\n",
    "    \"link_type\": \"dedupe_only\",\n",
    "}\n",
    "\n",
    "linker = DuckDBLinker(df, settings)"
   ]
  },
  {
   "cell_type": "code",
   "execution_count": null,
   "metadata": {},
   "outputs": [
    {
     "data": {
      "application/vnd.vegalite.v4+json": {
       "$schema": "https://vega.github.io/schema/vega-lite/v4.8.1.json",
       "config": {
        "axis": {
         "labelFontSize": 11
        },
        "view": {
         "continuousHeight": 300,
         "continuousWidth": 400,
         "width": 400
        }
       },
       "data": {
        "name": "data-0e7bce5a1d2f132e282789d6ef7780fe",
        "values": [
         {
          "column_name": "rec_id",
          "null_count": 0,
          "null_proportion": 0,
          "total_record_count": 5000
         },
         {
          "column_name": "given_name",
          "null_count": 156,
          "null_proportion": 0.031199991703033447,
          "total_record_count": 5000
         },
         {
          "column_name": "surname",
          "null_count": 79,
          "null_proportion": 0.015799999237060547,
          "total_record_count": 5000
         },
         {
          "column_name": "street_number",
          "null_count": 245,
          "null_proportion": 0.04900002479553223,
          "total_record_count": 5000
         },
         {
          "column_name": "address_1",
          "null_count": 154,
          "null_proportion": 0.0307999849319458,
          "total_record_count": 5000
         },
         {
          "column_name": "address_2",
          "null_count": 693,
          "null_proportion": 0.13859999179840088,
          "total_record_count": 5000
         },
         {
          "column_name": "suburb",
          "null_count": 85,
          "null_proportion": 0.017000019550323486,
          "total_record_count": 5000
         },
         {
          "column_name": "postcode",
          "null_count": 0,
          "null_proportion": 0,
          "total_record_count": 5000
         },
         {
          "column_name": "state",
          "null_count": 85,
          "null_proportion": 0.017000019550323486,
          "total_record_count": 5000
         },
         {
          "column_name": "date_of_birth",
          "null_count": 155,
          "null_proportion": 0.03100001811981201,
          "total_record_count": 5000
         },
         {
          "column_name": "soc_sec_id",
          "null_count": 0,
          "null_proportion": 0,
          "total_record_count": 5000
         },
         {
          "column_name": "cluster",
          "null_count": 0,
          "null_proportion": 0,
          "total_record_count": 5000
         }
        ]
       },
       "layer": [
        {
         "encoding": {
          "color": {
           "field": "null_proportion",
           "legend": {
            "format": ".0%"
           },
           "scale": {
            "range": "heatmap"
           },
           "title": "Missingness",
           "type": "quantitative"
          },
          "tooltip": [
           {
            "field": "column_name",
            "title": "Column",
            "type": "nominal"
           },
           {
            "field": "null_count",
            "format": ",.0f",
            "title": "Count of nulls",
            "type": "quantitative"
           },
           {
            "field": "null_proportion",
            "format": ".2%",
            "title": "Percentage of nulls",
            "type": "quantitative"
           },
           {
            "field": "total_record_count",
            "format": ",.0f",
            "title": "Total record count",
            "type": "quantitative"
           }
          ],
          "x": {
           "axis": {
            "format": "%",
            "title": "Percentage of nulls"
           },
           "field": "null_proportion",
           "type": "quantitative"
          },
          "y": {
           "axis": {
            "title": ""
           },
           "field": "column_name",
           "sort": "-x",
           "type": "nominal"
          }
         },
         "mark": "bar",
         "title": "Missingness per column out of 5,000 records"
        }
       ],
       "title": ""
      },
      "text/plain": [
       "<VegaLite 4 object>\n",
       "\n",
       "If you see this message, it means the renderer has not been properly enabled\n",
       "for the frontend that you are using. For more information, see\n",
       "https://altair-viz.github.io/user_guide/troubleshooting.html\n"
      ]
     },
     "execution_count": 16,
     "metadata": {},
     "output_type": "execute_result"
    }
   ],
   "source": [
    "linker.missingness_chart()"
   ]
  },
  {
   "cell_type": "code",
   "execution_count": 1,
   "metadata": {},
   "outputs": [
    {
     "ename": "NameError",
     "evalue": "name 'linker' is not defined",
     "output_type": "error",
     "traceback": [
      "\u001b[0;31m---------------------------------------------------------------------------\u001b[0m",
      "\u001b[0;31mNameError\u001b[0m                                 Traceback (most recent call last)",
      "Cell \u001b[0;32mIn[1], line 1\u001b[0m\n\u001b[0;32m----> 1\u001b[0m linker\u001b[39m.\u001b[39mprofile_columns(\u001b[39mlist\u001b[39m(df\u001b[39m.\u001b[39mcolumns))\n",
      "\u001b[0;31mNameError\u001b[0m: name 'linker' is not defined"
     ]
    }
   ],
   "source": [
    "linker.profile_columns(list(df.columns))"
   ]
  },
  {
   "cell_type": "code",
   "execution_count": null,
   "metadata": {},
   "outputs": [
    {
     "data": {
      "application/vnd.vegalite.v4+json": {
       "$schema": "https://vega.github.io/schema/vega-lite/v5.json",
       "data": {
        "values": [
         {
          "cartesian": 12497500,
          "cumulative_rows": 5601,
          "reduction_ratio": "The rolling reduction ratio with your given blocking rule(s) is 0.999552. This represents the reduction in the total number of comparisons due to your rule(s).",
          "row_count": 5601,
          "rule": "l.soc_sec_id = r.soc_sec_id",
          "start": 0
         },
         {
          "cartesian": 12497500,
          "cumulative_rows": 42265,
          "reduction_ratio": "The rolling reduction ratio with your given blocking rule(s) is 0.996618. This represents the reduction in the total number of comparisons due to your rule(s).",
          "row_count": 36664,
          "rule": "l.given_name = r.given_name",
          "start": 5601
         },
         {
          "cartesian": 12497500,
          "cumulative_rows": 75984,
          "reduction_ratio": "The rolling reduction ratio with your given blocking rule(s) is 0.99392. This represents the reduction in the total number of comparisons due to your rule(s).",
          "row_count": 33719,
          "rule": "l.surname = r.surname",
          "start": 42265
         },
         {
          "cartesian": 12497500,
          "cumulative_rows": 76509,
          "reduction_ratio": "The rolling reduction ratio with your given blocking rule(s) is 0.993878. This represents the reduction in the total number of comparisons due to your rule(s).",
          "row_count": 525,
          "rule": "l.date_of_birth = r.date_of_birth",
          "start": 75984
         },
         {
          "cartesian": 12497500,
          "cumulative_rows": 87583,
          "reduction_ratio": "The rolling reduction ratio with your given blocking rule(s) is 0.992992. This represents the reduction in the total number of comparisons due to your rule(s).",
          "row_count": 11074,
          "rule": "l.postcode = r.postcode",
          "start": 76509
         }
        ]
       },
       "encoding": {
        "color": {
         "field": "rule",
         "legend": null,
         "scale": {
          "scheme": "category20c"
         }
        },
        "order": {
         "field": "cumulative_rows"
        },
        "tooltip": [
         {
          "field": "rule",
          "title": "SQL Condition",
          "type": "nominal"
         },
         {
          "field": "row_count",
          "format": ",",
          "title": "Comparisons Generated",
          "type": "quantitative"
         },
         {
          "field": "cumulative_rows",
          "format": ",",
          "title": "Cumulative Comparisons",
          "type": "quantitative"
         },
         {
          "field": "cartesian",
          "format": ",",
          "title": "Cartesian Product of Input Data",
          "type": "quantitative"
         },
         {
          "field": "reduction_ratio",
          "title": "Reduction Ratio (cumulative rows/cartesian product)",
          "type": "nominal"
         }
        ],
        "x": {
         "field": "start",
         "title": "Comparisons Generated by Rule(s)",
         "type": "quantitative"
        },
        "x2": {
         "field": "cumulative_rows"
        },
        "y": {
         "field": "rule",
         "sort": [
          "-x2"
         ],
         "title": "SQL Blocking Rule"
        }
       },
       "height": {
        "step": 20
       },
       "mark": "bar",
       "title": {
        "subtitle": "(Counts exclude comparisons already generated by previous rules)",
        "text": "Count of Additional Comparisons Generated by Each Blocking Rule"
       },
       "width": 450
      },
      "text/plain": [
       "<VegaLite 4 object>\n",
       "\n",
       "If you see this message, it means the renderer has not been properly enabled\n",
       "for the frontend that you are using. For more information, see\n",
       "https://altair-viz.github.io/user_guide/troubleshooting.html\n"
      ]
     },
     "execution_count": 18,
     "metadata": {},
     "output_type": "execute_result"
    }
   ],
   "source": [
    "blocking_rules = [\n",
    "        \"l.soc_sec_id = r.soc_sec_id\",\n",
    "        \"l.given_name = r.given_name\",\n",
    "        \"l.surname = r.surname\",\n",
    "        \"l.date_of_birth = r.date_of_birth\",\n",
    "        \"l.postcode = r.postcode\"\n",
    "]\n",
    "linker.cumulative_num_comparisons_from_blocking_rules_chart(blocking_rules)"
   ]
  },
  {
   "cell_type": "code",
   "execution_count": null,
   "metadata": {},
   "outputs": [],
   "source": [
    "from splink.duckdb.duckdb_linker import DuckDBLinker\n",
    "import splink.duckdb.duckdb_comparison_level_library as cll\n",
    "import splink.duckdb.duckdb_comparison_library as cl\n",
    "import splink.duckdb.duckdb_comparison_template_library as ctl\n",
    "\n",
    "\n",
    "settings = {\n",
    "    \"unique_id_column_name\": \"rec_id\",\n",
    "    \"link_type\": \"dedupe_only\",\n",
    "    \"blocking_rules_to_generate_predictions\": blocking_rules,\n",
    "    \"comparisons\": [\n",
    "        ctl.name_comparison(\"given_name\", term_frequency_adjustments_name=True),\n",
    "        ctl.name_comparison(\"surname\", term_frequency_adjustments_name=True),\n",
    "        cl.levenshtein_at_thresholds(\"date_of_birth\", [1, 2]),\n",
    "        cl.levenshtein_at_thresholds(\"soc_sec_id\", [2]),\n",
    "        cl.exact_match(\"street_number\", term_frequency_adjustments=True),\n",
    "        cl.exact_match(\"postcode\", term_frequency_adjustments=True),\n",
    "    ],\n",
    "    \"retain_intermediate_calculation_columns\": True,\n",
    "}\n",
    "\n",
    "linker = DuckDBLinker(df, settings)"
   ]
  },
  {
   "cell_type": "code",
   "execution_count": null,
   "metadata": {},
   "outputs": [
    {
     "name": "stderr",
     "output_type": "stream",
     "text": [
      "Probability two random records match is estimated to be  0.000527.\n",
      "This means that amongst all possible pairwise record comparisons, one in 1,899.32 are expected to match.  With 12,497,500 total possible comparisons, we expect a total of around 6,580.00 matching pairs\n"
     ]
    }
   ],
   "source": [
    "deterministic_rules = [\n",
    "    \"l.soc_sec_id = r.soc_sec_id\",\n",
    "    \"l.given_name = r.given_name and l.surname = r.surname and l.date_of_birth = r.date_of_birth\",\n",
    "    \"l.given_name = r.surname and l.surname = r.given_name and l.date_of_birth = r.date_of_birth\"\n",
    "]\n",
    "\n",
    "linker.estimate_probability_two_random_records_match(deterministic_rules, recall=0.9)"
   ]
  },
  {
   "cell_type": "code",
   "execution_count": null,
   "metadata": {},
   "outputs": [
    {
     "name": "stderr",
     "output_type": "stream",
     "text": [
      "----- Estimating u probabilities using random sampling -----\n",
      "\n",
      "Estimated u probabilities using random sampling\n",
      "\n",
      "Your model is not yet fully trained. Missing estimates for:\n",
      "    - given_name (no m values are trained).\n",
      "    - surname (no m values are trained).\n",
      "    - date_of_birth (no m values are trained).\n",
      "    - soc_sec_id (no m values are trained).\n",
      "    - street_number (no m values are trained).\n",
      "    - postcode (no m values are trained).\n"
     ]
    }
   ],
   "source": [
    "linker.estimate_u_using_random_sampling(max_pairs=1e6)"
   ]
  },
  {
   "cell_type": "code",
   "execution_count": null,
   "metadata": {},
   "outputs": [],
   "source": [
    "comparison = linker._settings_obj.comparisons[2].as_dict()"
   ]
  },
  {
   "cell_type": "code",
   "execution_count": null,
   "metadata": {},
   "outputs": [
    {
     "name": "stderr",
     "output_type": "stream",
     "text": [
      "\n",
      "----- Starting EM training session -----\n",
      "\n",
      "Estimating the m probabilities of the model by blocking on:\n",
      "substr(l.date_of_birth,1,3) = substr(r.date_of_birth,1,3)\n",
      "\n",
      "Parameter estimates will be made for the following comparison(s):\n",
      "    - given_name\n",
      "    - surname\n",
      "    - soc_sec_id\n",
      "    - street_number\n",
      "    - postcode\n",
      "\n",
      "Parameter estimates cannot be made for the following comparison(s) since they are used in the blocking rules: \n",
      "    - date_of_birth\n",
      "\n",
      "Iteration 1: Largest change in params was -0.491 in probability_two_random_records_match\n",
      "Iteration 2: Largest change in params was -0.00718 in the m_probability of soc_sec_id, level `All other comparisons`\n",
      "Iteration 3: Largest change in params was -0.000652 in the m_probability of soc_sec_id, level `All other comparisons`\n",
      "Iteration 4: Largest change in params was -7.48e-05 in the m_probability of soc_sec_id, level `All other comparisons`\n",
      "\n",
      "EM converged after 4 iterations\n",
      "\n",
      "Your model is not yet fully trained. Missing estimates for:\n",
      "    - date_of_birth (no m values are trained).\n",
      "\n",
      "----- Starting EM training session -----\n",
      "\n",
      "Estimating the m probabilities of the model by blocking on:\n",
      "substr(l.postcode,1,2) = substr(r.postcode,1,2)\n",
      "\n",
      "Parameter estimates will be made for the following comparison(s):\n",
      "    - given_name\n",
      "    - surname\n",
      "    - date_of_birth\n",
      "    - soc_sec_id\n",
      "    - street_number\n",
      "\n",
      "Parameter estimates cannot be made for the following comparison(s) since they are used in the blocking rules: \n",
      "    - postcode\n",
      "\n",
      "Iteration 1: Largest change in params was -0.247 in probability_two_random_records_match\n",
      "Iteration 2: Largest change in params was 0.0192 in the m_probability of soc_sec_id, level `Exact match`\n",
      "Iteration 3: Largest change in params was -0.00144 in the m_probability of soc_sec_id, level `All other comparisons`\n",
      "Iteration 4: Largest change in params was -0.000117 in the m_probability of soc_sec_id, level `All other comparisons`\n",
      "Iteration 5: Largest change in params was -9.7e-06 in the m_probability of soc_sec_id, level `All other comparisons`\n",
      "\n",
      "EM converged after 5 iterations\n",
      "\n",
      "Your model is fully trained. All comparisons have at least one estimate for their m and u values\n"
     ]
    }
   ],
   "source": [
    "session_dob = linker.estimate_parameters_using_expectation_maximisation(\"substr(l.date_of_birth,1,3) = substr(r.date_of_birth,1,3)\")\n",
    "session_postcode = linker.estimate_parameters_using_expectation_maximisation(\"substr(l.postcode,1,2) = substr(r.postcode,1,2)\")"
   ]
  },
  {
   "cell_type": "code",
   "execution_count": null,
   "metadata": {},
   "outputs": [
    {
     "data": {
      "application/vnd.vegalite.v4+json": {
       "$schema": "https://vega.github.io/schema/vega-lite/v5.2.json",
       "config": {
        "header": {
         "title": null
        },
        "mark": {
         "tooltip": null
        },
        "title": {
         "anchor": "middle"
        },
        "view": {
         "height": 60,
         "width": 400
        }
       },
       "data": {
        "values": [
         {
          "bayes_factor": 0.0005267826549205343,
          "bayes_factor_description": "The probability that two random records drawn at random match is 0.001 or one in  1,899.3 records.This is equivalent to a starting match weight of -10.891.",
          "comparison_name": "probability_two_random_records_match",
          "comparison_sort_order": -1,
          "comparison_vector_value": 0,
          "has_tf_adjustments": false,
          "is_null_level": false,
          "label_for_charts": "",
          "log2_bayes_factor": -10.890504535990129,
          "m_probability": null,
          "m_probability_description": null,
          "max_comparison_vector_value": 0,
          "probability_two_random_records_match": 0.000526505301060212,
          "sql_condition": null,
          "tf_adjustment_column": null,
          "tf_adjustment_weight": null,
          "u_probability": null,
          "u_probability_description": null
         },
         {
          "bayes_factor": 169.4710080946348,
          "bayes_factor_description": "If comparison level is `exact match given_name` then comparison is 169.47 times more likely to be a match",
          "comparison_name": "given_name",
          "comparison_sort_order": 0,
          "comparison_vector_value": 3,
          "has_tf_adjustments": true,
          "is_null_level": false,
          "label_for_charts": "Exact match given_name",
          "log2_bayes_factor": 7.40489467814766,
          "m_probability": 0.5926103152910924,
          "m_probability_description": "Amongst matching record comparisons, 59.26% of records are in the exact match given_name comparison level",
          "max_comparison_vector_value": 3,
          "probability_two_random_records_match": 0.000526505301060212,
          "sql_condition": "\"given_name_l\" = \"given_name_r\"",
          "tf_adjustment_column": "given_name",
          "tf_adjustment_weight": 1,
          "u_probability": 0.0034968241586205186,
          "u_probability_description": "Amongst non-matching record comparisons, 0.35% of records are in the exact match given_name comparison level"
         },
         {
          "bayes_factor": 157.62853544359376,
          "bayes_factor_description": "If comparison level is `jaro_winkler_similarity >= 0.95` then comparison is 157.63 times more likely to be a match",
          "comparison_name": "given_name",
          "comparison_sort_order": 0,
          "comparison_vector_value": 2,
          "has_tf_adjustments": false,
          "is_null_level": false,
          "label_for_charts": "Jaro_winkler_similarity >= 0.95",
          "log2_bayes_factor": 7.300384918835687,
          "m_probability": 0.10204244446043739,
          "m_probability_description": "Amongst matching record comparisons, 10.20% of records are in the jaro_winkler_similarity >= 0.95 comparison level",
          "max_comparison_vector_value": 3,
          "probability_two_random_records_match": 0.000526505301060212,
          "sql_condition": "jaro_winkler_similarity(\"given_name_l\", \"given_name_r\") >= 0.95",
          "tf_adjustment_column": null,
          "tf_adjustment_weight": 1,
          "u_probability": 0.0006473602268350235,
          "u_probability_description": "Amongst non-matching record comparisons, 0.06% of records are in the jaro_winkler_similarity >= 0.95 comparison level"
         },
         {
          "bayes_factor": 47.43528134024417,
          "bayes_factor_description": "If comparison level is `jaro_winkler_similarity >= 0.88` then comparison is 47.44 times more likely to be a match",
          "comparison_name": "given_name",
          "comparison_sort_order": 0,
          "comparison_vector_value": 1,
          "has_tf_adjustments": false,
          "is_null_level": false,
          "label_for_charts": "Jaro_winkler_similarity >= 0.88",
          "log2_bayes_factor": 5.567888598750768,
          "m_probability": 0.07748579955907181,
          "m_probability_description": "Amongst matching record comparisons, 7.75% of records are in the jaro_winkler_similarity >= 0.88 comparison level",
          "max_comparison_vector_value": 3,
          "probability_two_random_records_match": 0.000526505301060212,
          "sql_condition": "jaro_winkler_similarity(\"given_name_l\", \"given_name_r\") >= 0.88",
          "tf_adjustment_column": null,
          "tf_adjustment_weight": 1,
          "u_probability": 0.0016335056390470427,
          "u_probability_description": "Amongst non-matching record comparisons, 0.16% of records are in the jaro_winkler_similarity >= 0.88 comparison level"
         },
         {
          "bayes_factor": 0.22918560406778035,
          "bayes_factor_description": "If comparison level is `all other comparisons` then comparison is  4.36 times less likely to be a match",
          "comparison_name": "given_name",
          "comparison_sort_order": 0,
          "comparison_vector_value": 0,
          "has_tf_adjustments": false,
          "is_null_level": false,
          "label_for_charts": "All other comparisons",
          "log2_bayes_factor": -2.125411668559965,
          "m_probability": 0.22786144068939834,
          "m_probability_description": "Amongst matching record comparisons, 22.79% of records are in the all other comparisons comparison level",
          "max_comparison_vector_value": 3,
          "probability_two_random_records_match": 0.000526505301060212,
          "sql_condition": "ELSE",
          "tf_adjustment_column": null,
          "tf_adjustment_weight": 1,
          "u_probability": 0.9942223099754974,
          "u_probability_description": "Amongst non-matching record comparisons, 99.42% of records are in the all other comparisons comparison level"
         },
         {
          "bayes_factor": 203.7704224684896,
          "bayes_factor_description": "If comparison level is `exact match surname` then comparison is 203.77 times more likely to be a match",
          "comparison_name": "surname",
          "comparison_sort_order": 1,
          "comparison_vector_value": 3,
          "has_tf_adjustments": true,
          "is_null_level": false,
          "label_for_charts": "Exact match surname",
          "log2_bayes_factor": 7.670800847486585,
          "m_probability": 0.574494572543103,
          "m_probability_description": "Amongst matching record comparisons, 57.45% of records are in the exact match surname comparison level",
          "max_comparison_vector_value": 3,
          "probability_two_random_records_match": 0.000526505301060212,
          "sql_condition": "\"surname_l\" = \"surname_r\"",
          "tf_adjustment_column": "surname",
          "tf_adjustment_weight": 1,
          "u_probability": 0.002819322674918343,
          "u_probability_description": "Amongst non-matching record comparisons, 0.28% of records are in the exact match surname comparison level"
         },
         {
          "bayes_factor": 241.88969959155412,
          "bayes_factor_description": "If comparison level is `jaro_winkler_similarity >= 0.95` then comparison is 241.89 times more likely to be a match",
          "comparison_name": "surname",
          "comparison_sort_order": 1,
          "comparison_vector_value": 2,
          "has_tf_adjustments": false,
          "is_null_level": false,
          "label_for_charts": "Jaro_winkler_similarity >= 0.95",
          "log2_bayes_factor": 7.918205526002115,
          "m_probability": 0.15549611082249926,
          "m_probability_description": "Amongst matching record comparisons, 15.55% of records are in the jaro_winkler_similarity >= 0.95 comparison level",
          "max_comparison_vector_value": 3,
          "probability_two_random_records_match": 0.000526505301060212,
          "sql_condition": "jaro_winkler_similarity(\"surname_l\", \"surname_r\") >= 0.95",
          "tf_adjustment_column": null,
          "tf_adjustment_weight": 1,
          "u_probability": 0.0006428389099869244,
          "u_probability_description": "Amongst non-matching record comparisons, 0.06% of records are in the jaro_winkler_similarity >= 0.95 comparison level"
         },
         {
          "bayes_factor": 108.78254876791837,
          "bayes_factor_description": "If comparison level is `jaro_winkler_similarity >= 0.88` then comparison is 108.78 times more likely to be a match",
          "comparison_name": "surname",
          "comparison_sort_order": 1,
          "comparison_vector_value": 1,
          "has_tf_adjustments": false,
          "is_null_level": false,
          "label_for_charts": "Jaro_winkler_similarity >= 0.88",
          "log2_bayes_factor": 6.765303323335918,
          "m_probability": 0.08568366164850806,
          "m_probability_description": "Amongst matching record comparisons, 8.57% of records are in the jaro_winkler_similarity >= 0.88 comparison level",
          "max_comparison_vector_value": 3,
          "probability_two_random_records_match": 0.000526505301060212,
          "sql_condition": "jaro_winkler_similarity(\"surname_l\", \"surname_r\") >= 0.88",
          "tf_adjustment_column": null,
          "tf_adjustment_weight": 1,
          "u_probability": 0.0007876599934361667,
          "u_probability_description": "Amongst non-matching record comparisons, 0.08% of records are in the jaro_winkler_similarity >= 0.88 comparison level"
         },
         {
          "bayes_factor": 0.18511234944296995,
          "bayes_factor_description": "If comparison level is `all other comparisons` then comparison is  5.40 times less likely to be a match",
          "comparison_name": "surname",
          "comparison_sort_order": 1,
          "comparison_vector_value": 0,
          "has_tf_adjustments": false,
          "is_null_level": false,
          "label_for_charts": "All other comparisons",
          "log2_bayes_factor": -2.4335269496204215,
          "m_probability": 0.18432565498588974,
          "m_probability_description": "Amongst matching record comparisons, 18.43% of records are in the all other comparisons comparison level",
          "max_comparison_vector_value": 3,
          "probability_two_random_records_match": 0.000526505301060212,
          "sql_condition": "ELSE",
          "tf_adjustment_column": null,
          "tf_adjustment_weight": 1,
          "u_probability": 0.9957501784216586,
          "u_probability_description": "Amongst non-matching record comparisons, 99.58% of records are in the all other comparisons comparison level"
         },
         {
          "bayes_factor": 1787.2863149897705,
          "bayes_factor_description": "If comparison level is `exact match` then comparison is 1,787.29 times more likely to be a match",
          "comparison_name": "date_of_birth",
          "comparison_sort_order": 2,
          "comparison_vector_value": 3,
          "has_tf_adjustments": false,
          "is_null_level": false,
          "label_for_charts": "Exact match",
          "log2_bayes_factor": 10.803555050618737,
          "m_probability": 0.90974012644869,
          "m_probability_description": "Amongst matching record comparisons, 90.97% of records are in the exact match comparison level",
          "max_comparison_vector_value": 3,
          "probability_two_random_records_match": 0.000526505301060212,
          "sql_condition": "\"date_of_birth_l\" = \"date_of_birth_r\"",
          "tf_adjustment_column": null,
          "tf_adjustment_weight": 1,
          "u_probability": 0.0005090063739753397,
          "u_probability_description": "Amongst non-matching record comparisons, 0.05% of records are in the exact match comparison level"
         },
         {
          "bayes_factor": 16.108321997144326,
          "bayes_factor_description": "If comparison level is `levenshtein <= 1` then comparison is 16.11 times more likely to be a match",
          "comparison_name": "date_of_birth",
          "comparison_sort_order": 2,
          "comparison_vector_value": 2,
          "has_tf_adjustments": false,
          "is_null_level": false,
          "label_for_charts": "Levenshtein <= 1",
          "log2_bayes_factor": 4.009734311310255,
          "m_probability": 0.016905466306533147,
          "m_probability_description": "Amongst matching record comparisons, 1.69% of records are in the levenshtein <= 1 comparison level",
          "max_comparison_vector_value": 3,
          "probability_two_random_records_match": 0.000526505301060212,
          "sql_condition": "levenshtein(\"date_of_birth_l\", \"date_of_birth_r\") <= 1",
          "tf_adjustment_column": null,
          "tf_adjustment_weight": 1,
          "u_probability": 0.0010494864896250608,
          "u_probability_description": "Amongst non-matching record comparisons, 0.10% of records are in the levenshtein <= 1 comparison level"
         },
         {
          "bayes_factor": 0.8933466416672624,
          "bayes_factor_description": "If comparison level is `levenshtein <= 2` then comparison is  1.12 times less likely to be a match",
          "comparison_name": "date_of_birth",
          "comparison_sort_order": 2,
          "comparison_vector_value": 1,
          "has_tf_adjustments": false,
          "is_null_level": false,
          "label_for_charts": "Levenshtein <= 2",
          "log2_bayes_factor": -0.16270800780935907,
          "m_probability": 0.011512441378156001,
          "m_probability_description": "Amongst matching record comparisons, 1.15% of records are in the levenshtein <= 2 comparison level",
          "max_comparison_vector_value": 3,
          "probability_two_random_records_match": 0.000526505301060212,
          "sql_condition": "levenshtein(\"date_of_birth_l\", \"date_of_birth_r\") <= 2",
          "tf_adjustment_column": null,
          "tf_adjustment_weight": 1,
          "u_probability": 0.012886869263503593,
          "u_probability_description": "Amongst non-matching record comparisons, 1.29% of records are in the levenshtein <= 2 comparison level"
         },
         {
          "bayes_factor": 0.06274838906962399,
          "bayes_factor_description": "If comparison level is `all other comparisons` then comparison is  15.94 times less likely to be a match",
          "comparison_name": "date_of_birth",
          "comparison_sort_order": 2,
          "comparison_vector_value": 0,
          "has_tf_adjustments": false,
          "is_null_level": false,
          "label_for_charts": "All other comparisons",
          "log2_bayes_factor": -3.9942777683383643,
          "m_probability": 0.06184196586662085,
          "m_probability_description": "Amongst matching record comparisons, 6.18% of records are in the all other comparisons comparison level",
          "max_comparison_vector_value": 3,
          "probability_two_random_records_match": 0.000526505301060212,
          "sql_condition": "ELSE",
          "tf_adjustment_column": null,
          "tf_adjustment_weight": 1,
          "u_probability": 0.985554637872896,
          "u_probability_description": "Amongst non-matching record comparisons, 98.56% of records are in the all other comparisons comparison level"
         },
         {
          "bayes_factor": 1836.9109047122122,
          "bayes_factor_description": "If comparison level is `exact match` then comparison is 1,836.91 times more likely to be a match",
          "comparison_name": "soc_sec_id",
          "comparison_sort_order": 3,
          "comparison_vector_value": 2,
          "has_tf_adjustments": false,
          "is_null_level": false,
          "label_for_charts": "Exact match",
          "log2_bayes_factor": 10.8430659380863,
          "m_probability": 0.8598439916671006,
          "m_probability_description": "Amongst matching record comparisons, 85.98% of records are in the exact match comparison level",
          "max_comparison_vector_value": 2,
          "probability_two_random_records_match": 0.000526505301060212,
          "sql_condition": "\"soc_sec_id_l\" = \"soc_sec_id_r\"",
          "tf_adjustment_column": null,
          "tf_adjustment_weight": 1,
          "u_probability": 0.00046809237696904623,
          "u_probability_description": "Amongst non-matching record comparisons, 0.05% of records are in the exact match comparison level"
         },
         {
          "bayes_factor": 277.7608086761101,
          "bayes_factor_description": "If comparison level is `levenshtein <= 2` then comparison is 277.76 times more likely to be a match",
          "comparison_name": "soc_sec_id",
          "comparison_sort_order": 3,
          "comparison_vector_value": 1,
          "has_tf_adjustments": false,
          "is_null_level": false,
          "label_for_charts": "Levenshtein <= 2",
          "log2_bayes_factor": 8.11769924295531,
          "m_probability": 0.07919005667321093,
          "m_probability_description": "Amongst matching record comparisons, 7.92% of records are in the levenshtein <= 2 comparison level",
          "max_comparison_vector_value": 2,
          "probability_two_random_records_match": 0.000526505301060212,
          "sql_condition": "levenshtein(\"soc_sec_id_l\", \"soc_sec_id_r\") <= 2",
          "tf_adjustment_column": null,
          "tf_adjustment_weight": 1,
          "u_probability": 0.0002851016205297431,
          "u_probability_description": "Amongst non-matching record comparisons, 0.03% of records are in the levenshtein <= 2 comparison level"
         },
         {
          "bayes_factor": 0.06101190546065747,
          "bayes_factor_description": "If comparison level is `all other comparisons` then comparison is  16.39 times less likely to be a match",
          "comparison_name": "soc_sec_id",
          "comparison_sort_order": 3,
          "comparison_vector_value": 0,
          "has_tf_adjustments": false,
          "is_null_level": false,
          "label_for_charts": "All other comparisons",
          "log2_bayes_factor": -4.034765401637884,
          "m_probability": 0.060965951659688544,
          "m_probability_description": "Amongst matching record comparisons, 6.10% of records are in the all other comparisons comparison level",
          "max_comparison_vector_value": 2,
          "probability_two_random_records_match": 0.000526505301060212,
          "sql_condition": "ELSE",
          "tf_adjustment_column": null,
          "tf_adjustment_weight": 1,
          "u_probability": 0.9992468060025013,
          "u_probability_description": "Amongst non-matching record comparisons, 99.92% of records are in the all other comparisons comparison level"
         },
         {
          "bayes_factor": 58.11176814104444,
          "bayes_factor_description": "If comparison level is `exact match` then comparison is 58.11 times more likely to be a match",
          "comparison_name": "street_number",
          "comparison_sort_order": 4,
          "comparison_vector_value": 1,
          "has_tf_adjustments": true,
          "is_null_level": false,
          "label_for_charts": "Exact match",
          "log2_bayes_factor": 5.860758446460864,
          "m_probability": 0.8104387569261375,
          "m_probability_description": "Amongst matching record comparisons, 81.04% of records are in the exact match comparison level",
          "max_comparison_vector_value": 1,
          "probability_two_random_records_match": 0.000526505301060212,
          "sql_condition": "\"street_number_l\" = \"street_number_r\"",
          "tf_adjustment_column": "street_number",
          "tf_adjustment_weight": 1,
          "u_probability": 0.013946207159952567,
          "u_probability_description": "Amongst non-matching record comparisons, 1.39% of records are in the exact match comparison level"
         },
         {
          "bayes_factor": 0.19224229392991357,
          "bayes_factor_description": "If comparison level is `all other comparisons` then comparison is  5.20 times less likely to be a match",
          "comparison_name": "street_number",
          "comparison_sort_order": 4,
          "comparison_vector_value": 0,
          "has_tf_adjustments": false,
          "is_null_level": false,
          "label_for_charts": "All other comparisons",
          "log2_bayes_factor": -2.3790023262551068,
          "m_probability": 0.18956124307386252,
          "m_probability_description": "Amongst matching record comparisons, 18.96% of records are in the all other comparisons comparison level",
          "max_comparison_vector_value": 1,
          "probability_two_random_records_match": 0.000526505301060212,
          "sql_condition": "ELSE",
          "tf_adjustment_column": null,
          "tf_adjustment_weight": 1,
          "u_probability": 0.9860537928400475,
          "u_probability_description": "Amongst non-matching record comparisons, 98.61% of records are in the all other comparisons comparison level"
         },
         {
          "bayes_factor": 665.9690559369336,
          "bayes_factor_description": "If comparison level is `exact match` then comparison is 665.97 times more likely to be a match",
          "comparison_name": "postcode",
          "comparison_sort_order": 5,
          "comparison_vector_value": 1,
          "has_tf_adjustments": true,
          "is_null_level": false,
          "label_for_charts": "Exact match",
          "log2_bayes_factor": 9.379311334213194,
          "m_probability": 0.7830407119600673,
          "m_probability_description": "Amongst matching record comparisons, 78.30% of records are in the exact match comparison level",
          "max_comparison_vector_value": 1,
          "probability_two_random_records_match": 0.000526505301060212,
          "sql_condition": "\"postcode_l\" = \"postcode_r\"",
          "tf_adjustment_column": "postcode",
          "tf_adjustment_weight": 1,
          "u_probability": 0.0011757914350216,
          "u_probability_description": "Amongst non-matching record comparisons, 0.12% of records are in the exact match comparison level"
         },
         {
          "bayes_factor": 0.21721468720871356,
          "bayes_factor_description": "If comparison level is `all other comparisons` then comparison is  4.60 times less likely to be a match",
          "comparison_name": "postcode",
          "comparison_sort_order": 5,
          "comparison_vector_value": 0,
          "has_tf_adjustments": false,
          "is_null_level": false,
          "label_for_charts": "All other comparisons",
          "log2_bayes_factor": -2.2028064390434525,
          "m_probability": 0.21695928803993267,
          "m_probability_description": "Amongst matching record comparisons, 21.70% of records are in the all other comparisons comparison level",
          "max_comparison_vector_value": 1,
          "probability_two_random_records_match": 0.000526505301060212,
          "sql_condition": "ELSE",
          "tf_adjustment_column": null,
          "tf_adjustment_weight": 1,
          "u_probability": 0.9988242085649784,
          "u_probability_description": "Amongst non-matching record comparisons, 99.88% of records are in the all other comparisons comparison level"
         }
        ]
       },
       "resolve": {
        "axis": {
         "y": "independent"
        },
        "scale": {
         "y": "independent"
        }
       },
       "selection": {
        "zoom_selector": {
         "bind": "scales",
         "encodings": [
          "x"
         ],
         "type": "interval"
        }
       },
       "title": {
        "subtitle": "Use mousewheel to zoom",
        "text": "Model parameters (components of final match weight)"
       },
       "vconcat": [
        {
         "encoding": {
          "color": {
           "field": "log2_bayes_factor",
           "scale": {
            "domain": [
             -10,
             0,
             10
            ],
            "range": [
             "red",
             "orange",
             "green"
            ]
           },
           "title": "Match weight",
           "type": "quantitative"
          },
          "tooltip": [
           {
            "field": "comparison_name",
            "title": "Comparison name",
            "type": "nominal"
           },
           {
            "field": "probability_two_random_records_match",
            "format": ".4f",
            "title": "Probability two random records match",
            "type": "nominal"
           },
           {
            "field": "log2_bayes_factor",
            "format": ",.4f",
            "title": "Equivalent match weight",
            "type": "quantitative"
           },
           {
            "field": "bayes_factor_description",
            "title": "Match weight description",
            "type": "nominal"
           }
          ],
          "x": {
           "axis": {
            "domain": false,
            "labels": false,
            "ticks": false,
            "title": ""
           },
           "field": "log2_bayes_factor",
           "scale": {
            "domain": [
             -10,
             10
            ]
           },
           "type": "quantitative"
          },
          "y": {
           "axis": {
            "title": "Prior (starting) match weight",
            "titleAlign": "right",
            "titleAngle": 0,
            "titleFontWeight": "normal"
           },
           "field": "label_for_charts",
           "sort": {
            "field": "comparison_vector_value",
            "order": "descending"
           },
           "type": "nominal"
          }
         },
         "height": 20,
         "mark": {
          "clip": true,
          "height": 15,
          "type": "bar"
         },
         "selection": {
          "zoom_selector": {
           "bind": "scales",
           "encodings": [
            "x"
           ],
           "type": "interval"
          }
         },
         "transform": [
          {
           "filter": "(datum.comparison_name == 'probability_two_random_records_match')"
          }
         ]
        },
        {
         "encoding": {
          "color": {
           "field": "log2_bayes_factor",
           "scale": {
            "domain": [
             -10,
             0,
             10
            ],
            "range": [
             "red",
             "orange",
             "green"
            ]
           },
           "title": "Match weight",
           "type": "quantitative"
          },
          "row": {
           "field": "comparison_name",
           "header": {
            "labelAlign": "left",
            "labelAnchor": "middle",
            "labelAngle": 0
           },
           "sort": {
            "field": "comparison_sort_order"
           },
           "type": "nominal"
          },
          "tooltip": [
           {
            "field": "comparison_name",
            "title": "Comparison name",
            "type": "nominal"
           },
           {
            "field": "label_for_charts",
            "title": "Label",
            "type": "ordinal"
           },
           {
            "field": "sql_condition",
            "title": "SQL condition",
            "type": "nominal"
           },
           {
            "field": "m_probability",
            "format": ".4f",
            "title": "M probability",
            "type": "quantitative"
           },
           {
            "field": "u_probability",
            "format": ".4f",
            "title": "U probability",
            "type": "quantitative"
           },
           {
            "field": "bayes_factor",
            "format": ",.4f",
            "title": "Bayes factor = m/u",
            "type": "quantitative"
           },
           {
            "field": "log2_bayes_factor",
            "format": ",.4f",
            "title": "Match weight = log2(m/u)",
            "type": "quantitative"
           },
           {
            "field": "bayes_factor_description",
            "title": "Match weight description",
            "type": "nominal"
           }
          ],
          "x": {
           "axis": {
            "title": "Comparison level match weight = log2(m/u)"
           },
           "field": "log2_bayes_factor",
           "scale": {
            "domain": [
             -10,
             10
            ]
           },
           "type": "quantitative"
          },
          "y": {
           "axis": {
            "title": null
           },
           "field": "label_for_charts",
           "sort": {
            "field": "comparison_vector_value",
            "order": "descending"
           },
           "type": "nominal"
          }
         },
         "height": {
          "step": 12
         },
         "mark": {
          "clip": true,
          "type": "bar"
         },
         "resolve": {
          "axis": {
           "y": "independent"
          },
          "scale": {
           "y": "independent"
          }
         },
         "selection": {
          "zoom_selector": {
           "bind": "scales",
           "encodings": [
            "x"
           ],
           "type": "interval"
          }
         },
         "transform": [
          {
           "filter": "(datum.comparison_name != 'probability_two_random_records_match')"
          }
         ]
        }
       ]
      },
      "text/plain": [
       "<VegaLite 4 object>\n",
       "\n",
       "If you see this message, it means the renderer has not been properly enabled\n",
       "for the frontend that you are using. For more information, see\n",
       "https://altair-viz.github.io/user_guide/troubleshooting.html\n"
      ]
     },
     "execution_count": 24,
     "metadata": {},
     "output_type": "execute_result"
    }
   ],
   "source": [
    "linker.match_weights_chart()"
   ]
  },
  {
   "cell_type": "code",
   "execution_count": null,
   "metadata": {},
   "outputs": [
    {
     "name": "stderr",
     "output_type": "stream",
     "text": [
      "/Users/rosskennedy/splink_demos/venv/lib/python3.9/site-packages/ipykernel/comm/comm.py:79: DeprecationWarning: The `ipykernel.comm.Comm` class has been deprecated. Please use the `comm` module instead.For creating comms, use the function `from comm import create_comm`.\n",
      "  warn(\n",
      "/Users/rosskennedy/splink_demos/venv/lib/python3.9/site-packages/ipykernel/comm/comm.py:79: DeprecationWarning: The `ipykernel.comm.Comm` class has been deprecated. Please use the `comm` module instead.For creating comms, use the function `from comm import create_comm`.\n",
      "  warn(\n",
      "/Users/rosskennedy/splink_demos/venv/lib/python3.9/site-packages/ipykernel/comm/comm.py:79: DeprecationWarning: The `ipykernel.comm.Comm` class has been deprecated. Please use the `comm` module instead.For creating comms, use the function `from comm import create_comm`.\n",
      "  warn(\n"
     ]
    },
    {
     "data": {
      "application/vnd.jupyter.widget-view+json": {
       "model_id": "4e10026324a44cda8a009019a1a488ea",
       "version_major": 2,
       "version_minor": 0
      },
      "text/plain": [
       "FloatProgress(value=0.0, layout=Layout(width='100%'), style=ProgressStyle(bar_color='black'))"
      ]
     },
     "metadata": {},
     "output_type": "display_data"
    }
   ],
   "source": [
    "results = linker.predict(threshold_match_probability=0.2)"
   ]
  },
  {
   "cell_type": "code",
   "execution_count": null,
   "metadata": {},
   "outputs": [],
   "source": [
    "linker.roc_chart_from_labels_column(\"cluster\")"
   ]
  },
  {
   "cell_type": "code",
   "execution_count": null,
   "metadata": {},
   "outputs": [],
   "source": [
    "pred_errors_df = linker.prediction_errors_from_labels_column(\"cluster\").as_pandas_dataframe()\n",
    "len(pred_errors_df)\n",
    "pred_errors_df.head()"
   ]
  },
  {
   "cell_type": "code",
   "execution_count": null,
   "metadata": {},
   "outputs": [],
   "source": [
    "records = linker.prediction_errors_from_labels_column(\"cluster\").as_record_dict(limit=10)\n",
    "linker.waterfall_chart(records)"
   ]
  }
 ],
 "metadata": {
  "kernelspec": {
   "display_name": "splink_demos",
   "language": "python",
   "name": "splink_demos"
  },
  "language_info": {
   "codemirror_mode": {
    "name": "ipython",
    "version": 3
   },
   "file_extension": ".py",
   "mimetype": "text/x-python",
   "name": "python",
   "nbconvert_exporter": "python",
   "pygments_lexer": "ipython3",
   "version": "3.9.2"
  }
 },
 "nbformat": 4,
 "nbformat_minor": 4
}

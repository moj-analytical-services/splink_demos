{
 "cells": [
  {
   "cell_type": "markdown",
   "id": "26e50a28",
   "metadata": {},
   "source": [
    "# Introductory tutorial\n",
    "\n",
    "This is the introduction to a five part tutorial which demonstrates how to de-duplicate a small dataset using simple settings.\n",
    "\n",
    "The aim of the tutorial is to demonstrate core Splink functionality succinctly, rather that comprehensively document all configuration options.\n",
    "\n",
    "The seven parts are:\n",
    "\n",
    "- [1. Data prep pre-requisites](https://moj-analytical-services.github.io/splink/demos/01_Prerequisites.html)\n",
    "\n",
    "- [2. Exploratory analysis](https://moj-analytical-services.github.io/splink/demos/02_Exploratory_analysis.html)\n",
    "\n",
    "- [3. Choosing blocking rules to optimise runtimes](https://moj-analytical-services.github.io/splink/demos/03_Blocking.html)\n",
    "\n",
    "- [4. Estimating model parameters](https://moj-analytical-services.github.io/splink/demos/04_Estimating_model_parameters.html)\n",
    "\n",
    "- [5. Predicting results](https://moj-analytical-services.github.io/splink/demos/05_Predicting_results.html)\n",
    "\n",
    "- [6. Visualising predictions](https://moj-analytical-services.github.io/splink/demos/06_Visualising_predictions.html)\n",
    "\n",
    "- [7. Quality assurance](https://moj-analytical-services.github.io/splink/demos/07_Quality_assurance.html)\n",
    "\n",
    "\n",
    "Throughout the tutorial, we use the duckdb backend, which is the recommended option for smaller datasets of up to around 1 million records on a normal laptop.\n",
    "\n",
    "You can find these tutorial notebooks in the `splink_demos` repo, and you can run them live in your web browser by clicking the following link:\n",
    "\n",
    "[![Binder](https://mybinder.org/badge.svg)](https://mybinder.org/v2/gh/moj-analytical-services/splink_demos/splink3_demos?urlpath=lab)\n",
    "\n",
    "\n",
    "\n",
    "\n",
    "\n",
    "\n"
   ]
  },
  {
   "cell_type": "markdown",
   "id": "33c575ca",
   "metadata": {},
   "source": [
    "## End-to-end demos\n",
    "\n",
    "After following the steps of the tutorial, it might prove useful to have a look at some of the [example notebooks](https://moj-analytical-services.github.io/splink/examples_index.html) that show various use-case scenarios of Splink from start to finish."
   ]
  }
 ],
 "metadata": {
  "kernelspec": {
   "display_name": "Python 3 (ipykernel)",
   "language": "python",
   "name": "python3"
  },
  "language_info": {
   "codemirror_mode": {
    "name": "ipython",
    "version": 3
   },
   "file_extension": ".py",
   "mimetype": "text/x-python",
   "name": "python",
   "nbconvert_exporter": "python",
   "pygments_lexer": "ipython3",
   "version": "3.8.3"
  },
  "vscode": {
   "interpreter": {
    "hash": "3b53fa520a31e303a9636a08ff10a3bbc14893ee50cb37445791fa59628fc75b"
   }
  }
 },
 "nbformat": 4,
 "nbformat_minor": 5
}

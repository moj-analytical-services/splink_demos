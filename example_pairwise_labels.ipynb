{
 "cells": [
  {
   "cell_type": "markdown",
   "metadata": {},
   "source": [
    "## Estimating m from a sample of pairwise labels\n",
    "\n",
    "In this example, we estimate the m probabilities of the model from a table containing pairwise record comparisons which we know are 'true' matches.  For example, these may be the result of work by a clerical team who have manually labelled a sample of matches.\n",
    "\n",
    "The table must be in the following format:\n",
    "\n",
    "|source_dataset_l|unique_id_l|source_dataset_r|unique_id_r|\n",
    "|----------------|-----------|----------------|-----------|\n",
    "|df_1            |1          |df_2            |2          |\n",
    "|df_1            |1          |df_2            |3          |\n",
    "\n",
    "It is assumed that every record in the table represents a certain match.\n",
    "\n",
    "Note that the column names above are the defaults.  They should correspond to the values you've set for [`unique_id_column_name`](https://moj-analytical-services.github.io/splink/settings_dict_guide.html#unique_id_column_name) and  [`source_dataset_column_name`](https://moj-analytical-services.github.io/splink/settings_dict_guide.html#source_dataset_column_name), if you've chosen custom values.\n",
    "\n"
   ]
  },
  {
   "cell_type": "code",
   "execution_count": 1,
   "metadata": {},
   "outputs": [
    {
     "data": {
      "text/plain": [
       "RendererRegistry.enable('mimetype')"
      ]
     },
     "execution_count": 1,
     "metadata": {},
     "output_type": "execute_result"
    }
   ],
   "source": [
    "import pandas as pd \n",
    "import altair as alt\n",
    "alt.renderers.enable(\"mimetype\")"
   ]
  },
  {
   "cell_type": "code",
   "execution_count": 2,
   "metadata": {},
   "outputs": [
    {
     "data": {
      "text/html": [
       "<div>\n",
       "<style scoped>\n",
       "    .dataframe tbody tr th:only-of-type {\n",
       "        vertical-align: middle;\n",
       "    }\n",
       "\n",
       "    .dataframe tbody tr th {\n",
       "        vertical-align: top;\n",
       "    }\n",
       "\n",
       "    .dataframe thead th {\n",
       "        text-align: right;\n",
       "    }\n",
       "</style>\n",
       "<table border=\"1\" class=\"dataframe\">\n",
       "  <thead>\n",
       "    <tr style=\"text-align: right;\">\n",
       "      <th></th>\n",
       "      <th>unique_id_l</th>\n",
       "      <th>source_dataset_l</th>\n",
       "      <th>unique_id_r</th>\n",
       "      <th>source_dataset_r</th>\n",
       "    </tr>\n",
       "  </thead>\n",
       "  <tbody>\n",
       "    <tr>\n",
       "      <th>0</th>\n",
       "      <td>0</td>\n",
       "      <td>fake_1000</td>\n",
       "      <td>3</td>\n",
       "      <td>fake_1000</td>\n",
       "    </tr>\n",
       "    <tr>\n",
       "      <th>1</th>\n",
       "      <td>1</td>\n",
       "      <td>fake_1000</td>\n",
       "      <td>3</td>\n",
       "      <td>fake_1000</td>\n",
       "    </tr>\n",
       "    <tr>\n",
       "      <th>2</th>\n",
       "      <td>2</td>\n",
       "      <td>fake_1000</td>\n",
       "      <td>3</td>\n",
       "      <td>fake_1000</td>\n",
       "    </tr>\n",
       "    <tr>\n",
       "      <th>3</th>\n",
       "      <td>4</td>\n",
       "      <td>fake_1000</td>\n",
       "      <td>5</td>\n",
       "      <td>fake_1000</td>\n",
       "    </tr>\n",
       "    <tr>\n",
       "      <th>4</th>\n",
       "      <td>7</td>\n",
       "      <td>fake_1000</td>\n",
       "      <td>10</td>\n",
       "      <td>fake_1000</td>\n",
       "    </tr>\n",
       "    <tr>\n",
       "      <th>...</th>\n",
       "      <td>...</td>\n",
       "      <td>...</td>\n",
       "      <td>...</td>\n",
       "      <td>...</td>\n",
       "    </tr>\n",
       "    <tr>\n",
       "      <th>2026</th>\n",
       "      <td>978</td>\n",
       "      <td>fake_1000</td>\n",
       "      <td>979</td>\n",
       "      <td>fake_1000</td>\n",
       "    </tr>\n",
       "    <tr>\n",
       "      <th>2027</th>\n",
       "      <td>985</td>\n",
       "      <td>fake_1000</td>\n",
       "      <td>986</td>\n",
       "      <td>fake_1000</td>\n",
       "    </tr>\n",
       "    <tr>\n",
       "      <th>2028</th>\n",
       "      <td>624</td>\n",
       "      <td>fake_1000</td>\n",
       "      <td>626</td>\n",
       "      <td>fake_1000</td>\n",
       "    </tr>\n",
       "    <tr>\n",
       "      <th>2029</th>\n",
       "      <td>625</td>\n",
       "      <td>fake_1000</td>\n",
       "      <td>626</td>\n",
       "      <td>fake_1000</td>\n",
       "    </tr>\n",
       "    <tr>\n",
       "      <th>2030</th>\n",
       "      <td>624</td>\n",
       "      <td>fake_1000</td>\n",
       "      <td>625</td>\n",
       "      <td>fake_1000</td>\n",
       "    </tr>\n",
       "  </tbody>\n",
       "</table>\n",
       "<p>2031 rows × 4 columns</p>\n",
       "</div>"
      ],
      "text/plain": [
       "      unique_id_l source_dataset_l  unique_id_r source_dataset_r\n",
       "0               0        fake_1000            3        fake_1000\n",
       "1               1        fake_1000            3        fake_1000\n",
       "2               2        fake_1000            3        fake_1000\n",
       "3               4        fake_1000            5        fake_1000\n",
       "4               7        fake_1000           10        fake_1000\n",
       "...           ...              ...          ...              ...\n",
       "2026          978        fake_1000          979        fake_1000\n",
       "2027          985        fake_1000          986        fake_1000\n",
       "2028          624        fake_1000          626        fake_1000\n",
       "2029          625        fake_1000          626        fake_1000\n",
       "2030          624        fake_1000          625        fake_1000\n",
       "\n",
       "[2031 rows x 4 columns]"
      ]
     },
     "execution_count": 2,
     "metadata": {},
     "output_type": "execute_result"
    }
   ],
   "source": [
    "pairwise_labels = pd.read_csv(\"./data/pairwise_labels_to_estimate_m.csv\")\n",
    "pairwise_labels"
   ]
  },
  {
   "cell_type": "markdown",
   "metadata": {},
   "source": [
    "We now proceed to estimate the Fellegi Sunter model:"
   ]
  },
  {
   "cell_type": "code",
   "execution_count": 3,
   "metadata": {},
   "outputs": [
    {
     "data": {
      "text/html": [
       "<div>\n",
       "<style scoped>\n",
       "    .dataframe tbody tr th:only-of-type {\n",
       "        vertical-align: middle;\n",
       "    }\n",
       "\n",
       "    .dataframe tbody tr th {\n",
       "        vertical-align: top;\n",
       "    }\n",
       "\n",
       "    .dataframe thead th {\n",
       "        text-align: right;\n",
       "    }\n",
       "</style>\n",
       "<table border=\"1\" class=\"dataframe\">\n",
       "  <thead>\n",
       "    <tr style=\"text-align: right;\">\n",
       "      <th></th>\n",
       "      <th>unique_id</th>\n",
       "      <th>first_name</th>\n",
       "      <th>surname</th>\n",
       "      <th>dob</th>\n",
       "      <th>city</th>\n",
       "      <th>email</th>\n",
       "      <th>cluster</th>\n",
       "    </tr>\n",
       "  </thead>\n",
       "  <tbody>\n",
       "    <tr>\n",
       "      <th>0</th>\n",
       "      <td>0</td>\n",
       "      <td>Robert</td>\n",
       "      <td>Alan</td>\n",
       "      <td>1971-06-24</td>\n",
       "      <td>NaN</td>\n",
       "      <td>robert255@smith.net</td>\n",
       "      <td>0</td>\n",
       "    </tr>\n",
       "    <tr>\n",
       "      <th>1</th>\n",
       "      <td>1</td>\n",
       "      <td>Robert</td>\n",
       "      <td>Allen</td>\n",
       "      <td>1971-05-24</td>\n",
       "      <td>NaN</td>\n",
       "      <td>roberta25@smith.net</td>\n",
       "      <td>0</td>\n",
       "    </tr>\n",
       "  </tbody>\n",
       "</table>\n",
       "</div>"
      ],
      "text/plain": [
       "   unique_id first_name surname         dob city                email  cluster\n",
       "0          0     Robert    Alan  1971-06-24  NaN  robert255@smith.net        0\n",
       "1          1     Robert   Allen  1971-05-24  NaN  roberta25@smith.net        0"
      ]
     },
     "execution_count": 3,
     "metadata": {},
     "output_type": "execute_result"
    }
   ],
   "source": [
    "df = pd.read_csv(\"./data/fake_1000.csv\")\n",
    "df.head(2)"
   ]
  },
  {
   "cell_type": "code",
   "execution_count": 4,
   "metadata": {},
   "outputs": [],
   "source": [
    "from splink.duckdb.duckdb_linker import DuckDBLinker\n",
    "import splink.duckdb.duckdb_comparison_library as cl\n",
    "import splink.duckdb.duckdb_comparison_template_library as ctl\n",
    "\n",
    "settings = {\n",
    "    \"link_type\": \"dedupe_only\",\n",
    "    \"blocking_rules_to_generate_predictions\": [\n",
    "        \"l.first_name = r.first_name\",\n",
    "        \"l.surname = r.surname\",\n",
    "    ],\n",
    "    \"comparisons\": [\n",
    "        ctl.name_comparison(\"first_name\"),\n",
    "        ctl.name_comparison(\"surname\"),\n",
    "        ctl.date_comparison(\"dob\", cast_strings_to_date=True),\n",
    "        cl.exact_match(\"city\", term_frequency_adjustments=True),\n",
    "        cl.jaro_at_thresholds(\"email\", [0.9, 0.7]),\n",
    "    ],\n",
    "    \"retain_matching_columns\": True,\n",
    "    \"retain_intermediate_calculation_columns\": True,\n",
    "}"
   ]
  },
  {
   "cell_type": "code",
   "execution_count": 5,
   "metadata": {},
   "outputs": [],
   "source": [
    "linker = DuckDBLinker(df, settings, set_up_basic_logging=False)\n",
    "deterministic_rules = [\n",
    "    \"l.first_name = r.first_name and levenshtein(r.dob, l.dob) <= 1\",\n",
    "    \"l.surname = r.surname and levenshtein(r.dob, l.dob) <= 1\",\n",
    "    \"l.first_name = r.first_name and levenshtein(r.surname, l.surname) <= 2\",\n",
    "    \"l.email = r.email\"\n",
    "]\n",
    "\n",
    "linker.estimate_probability_two_random_records_match(deterministic_rules, recall=0.7)\n"
   ]
  },
  {
   "cell_type": "code",
   "execution_count": 6,
   "metadata": {},
   "outputs": [],
   "source": [
    "linker.estimate_u_using_random_sampling(max_pairs=1e6)"
   ]
  },
  {
   "cell_type": "code",
   "execution_count": 7,
   "metadata": {},
   "outputs": [],
   "source": [
    "# Register the pairwise labels table with the database, and then use it to estimate the m values\n",
    "labels_df = linker.register_labels_table(pairwise_labels, overwrite=True)\n",
    "linker.estimate_m_from_pairwise_labels(labels_df)\n",
    "\n",
    "\n",
    "# Not if the labels table already existing in the dataset you could run\n",
    "# linker.estimate_m_from_pairwise_labels(\"labels_tablename_here\")\n"
   ]
  },
  {
   "cell_type": "code",
   "execution_count": 8,
   "metadata": {},
   "outputs": [
    {
     "data": {
      "text/plain": [
       "<EMTrainingSession, blocking on l.first_name = r.first_name, deactivating comparisons first_name>"
      ]
     },
     "execution_count": 8,
     "metadata": {},
     "output_type": "execute_result"
    }
   ],
   "source": [
    "training_blocking_rule = \"l.first_name = r.first_name\"\n",
    "linker.estimate_parameters_using_expectation_maximisation(training_blocking_rule)"
   ]
  },
  {
   "cell_type": "code",
   "execution_count": 9,
   "metadata": {},
   "outputs": [
    {
     "data": {
      "application/vnd.vegalite.v4+json": {
       "$schema": "https://vega.github.io/schema/vega-lite/v5.2.0.json",
       "config": {
        "title": {
         "anchor": "middle"
        },
        "view": {
         "continuousHeight": 300,
         "continuousWidth": 400
        }
       },
       "data": {
        "values": [
         {
          "comparison_level_label": "Exact match first_name",
          "comparison_name": "first_name",
          "comparison_sort_order": 0,
          "comparison_vector_value": 3,
          "estimate_description": "estimate u by random sampling",
          "estimated_probability": 0.0057935713975033705,
          "estimated_probability_as_log_odds": -7.422948662194144,
          "m_or_u": "u",
          "sql_condition": "\"first_name_l\" = \"first_name_r\""
         },
         {
          "comparison_level_label": "Exact match first_name",
          "comparison_name": "first_name",
          "comparison_sort_order": 0,
          "comparison_vector_value": 3,
          "estimate_description": "estimate m from pairwise labels",
          "estimated_probability": 0.4953998584571833,
          "estimated_probability_as_log_odds": -0.026547154611559317,
          "m_or_u": "m",
          "sql_condition": "\"first_name_l\" = \"first_name_r\""
         },
         {
          "comparison_level_label": "Jaro_winkler_similarity >= 0.95",
          "comparison_name": "first_name",
          "comparison_sort_order": 0,
          "comparison_vector_value": 2,
          "estimate_description": "estimate u by random sampling",
          "estimated_probability": 0.0013251562205500703,
          "estimated_probability_as_log_odds": -9.55770877380421,
          "m_or_u": "u",
          "sql_condition": "jaro_winkler_similarity(\"first_name_l\", \"first_name_r\") >= 0.95"
         },
         {
          "comparison_level_label": "Jaro_winkler_similarity >= 0.95",
          "comparison_name": "first_name",
          "comparison_sort_order": 0,
          "comparison_vector_value": 2,
          "estimate_description": "estimate m from pairwise labels",
          "estimated_probability": 0.09058740268931352,
          "estimated_probability_as_log_odds": -3.32755264408124,
          "m_or_u": "m",
          "sql_condition": "jaro_winkler_similarity(\"first_name_l\", \"first_name_r\") >= 0.95"
         },
         {
          "comparison_level_label": "Jaro_winkler_similarity >= 0.88",
          "comparison_name": "first_name",
          "comparison_sort_order": 0,
          "comparison_vector_value": 1,
          "estimate_description": "estimate u by random sampling",
          "estimated_probability": 0.002566221564960202,
          "estimated_probability_as_log_odds": -8.602431514336772,
          "m_or_u": "u",
          "sql_condition": "jaro_winkler_similarity(\"first_name_l\", \"first_name_r\") >= 0.88"
         },
         {
          "comparison_level_label": "Jaro_winkler_similarity >= 0.88",
          "comparison_name": "first_name",
          "comparison_sort_order": 0,
          "comparison_vector_value": 1,
          "estimate_description": "estimate m from pairwise labels",
          "estimated_probability": 0.12809624911535739,
          "estimated_probability_as_log_odds": -2.766940653611696,
          "m_or_u": "m",
          "sql_condition": "jaro_winkler_similarity(\"first_name_l\", \"first_name_r\") >= 0.88"
         },
         {
          "comparison_level_label": "All other comparisons",
          "comparison_name": "first_name",
          "comparison_sort_order": 0,
          "comparison_vector_value": 0,
          "estimate_description": "estimate u by random sampling",
          "estimated_probability": 0.9903150508169863,
          "estimated_probability_as_log_odds": 6.675999276296191,
          "m_or_u": "u",
          "sql_condition": "ELSE"
         },
         {
          "comparison_level_label": "All other comparisons",
          "comparison_name": "first_name",
          "comparison_sort_order": 0,
          "comparison_vector_value": 0,
          "estimate_description": "estimate m from pairwise labels",
          "estimated_probability": 0.28591648973814576,
          "estimated_probability_as_log_odds": -1.3204989763545627,
          "m_or_u": "m",
          "sql_condition": "ELSE"
         },
         {
          "comparison_level_label": "Exact match surname",
          "comparison_name": "surname",
          "comparison_sort_order": 1,
          "comparison_vector_value": 3,
          "estimate_description": "estimate u by random sampling",
          "estimated_probability": 0.004889975550122249,
          "estimated_probability_as_log_odds": -7.668884984266247,
          "m_or_u": "u",
          "sql_condition": "\"surname_l\" = \"surname_r\""
         },
         {
          "comparison_level_label": "Exact match surname",
          "comparison_name": "surname",
          "comparison_sort_order": 1,
          "comparison_vector_value": 3,
          "estimate_description": "estimate m from pairwise labels",
          "estimated_probability": 0.4485294117647059,
          "estimated_probability_as_log_odds": -0.2980813529329946,
          "m_or_u": "m",
          "sql_condition": "\"surname_l\" = \"surname_r\""
         },
         {
          "comparison_level_label": "Exact match surname",
          "comparison_name": "surname",
          "comparison_sort_order": 1,
          "comparison_vector_value": 3,
          "estimate_description": "EM, blocked on: l.first_name = r.first_name",
          "estimated_probability": 0.6096916843992778,
          "estimated_probability_as_log_odds": 0.6434656691479709,
          "m_or_u": "m",
          "sql_condition": "\"surname_l\" = \"surname_r\""
         },
         {
          "comparison_level_label": "Jaro_winkler_similarity >= 0.95",
          "comparison_name": "surname",
          "comparison_sort_order": 1,
          "comparison_vector_value": 2,
          "estimate_description": "estimate u by random sampling",
          "estimated_probability": 0.0017673171707401536,
          "estimated_probability_as_log_odds": -9.141671353513747,
          "m_or_u": "u",
          "sql_condition": "jaro_winkler_similarity(\"surname_l\", \"surname_r\") >= 0.95"
         },
         {
          "comparison_level_label": "Jaro_winkler_similarity >= 0.95",
          "comparison_name": "surname",
          "comparison_sort_order": 1,
          "comparison_vector_value": 2,
          "estimate_description": "estimate m from pairwise labels",
          "estimated_probability": 0.14779411764705883,
          "estimated_probability_as_log_odds": -2.527613159827543,
          "m_or_u": "m",
          "sql_condition": "jaro_winkler_similarity(\"surname_l\", \"surname_r\") >= 0.95"
         },
         {
          "comparison_level_label": "Jaro_winkler_similarity >= 0.95",
          "comparison_name": "surname",
          "comparison_sort_order": 1,
          "comparison_vector_value": 2,
          "estimate_description": "EM, blocked on: l.first_name = r.first_name",
          "estimated_probability": 0.1531173652724589,
          "estimated_probability_as_log_odds": -2.4675241370979557,
          "m_or_u": "m",
          "sql_condition": "jaro_winkler_similarity(\"surname_l\", \"surname_r\") >= 0.95"
         },
         {
          "comparison_level_label": "Jaro_winkler_similarity >= 0.88",
          "comparison_name": "surname",
          "comparison_sort_order": 1,
          "comparison_vector_value": 1,
          "estimate_description": "estimate u by random sampling",
          "estimated_probability": 0.0022031757973078265,
          "estimated_probability_as_log_odds": -8.823017651165022,
          "m_or_u": "u",
          "sql_condition": "jaro_winkler_similarity(\"surname_l\", \"surname_r\") >= 0.88"
         },
         {
          "comparison_level_label": "Jaro_winkler_similarity >= 0.88",
          "comparison_name": "surname",
          "comparison_sort_order": 1,
          "comparison_vector_value": 1,
          "estimate_description": "estimate m from pairwise labels",
          "estimated_probability": 0.10808823529411765,
          "estimated_probability_as_log_odds": -3.0446914902841455,
          "m_or_u": "m",
          "sql_condition": "jaro_winkler_similarity(\"surname_l\", \"surname_r\") >= 0.88"
         },
         {
          "comparison_level_label": "Jaro_winkler_similarity >= 0.88",
          "comparison_name": "surname",
          "comparison_sort_order": 1,
          "comparison_vector_value": 1,
          "estimate_description": "EM, blocked on: l.first_name = r.first_name",
          "estimated_probability": 0.11101414808648118,
          "estimated_probability_as_log_odds": -3.001416907834977,
          "m_or_u": "m",
          "sql_condition": "jaro_winkler_similarity(\"surname_l\", \"surname_r\") >= 0.88"
         },
         {
          "comparison_level_label": "All other comparisons",
          "comparison_name": "surname",
          "comparison_sort_order": 1,
          "comparison_vector_value": 0,
          "estimate_description": "estimate u by random sampling",
          "estimated_probability": 0.9911395314818298,
          "estimated_probability_as_log_odds": 6.80556137573028,
          "m_or_u": "u",
          "sql_condition": "ELSE"
         },
         {
          "comparison_level_label": "All other comparisons",
          "comparison_name": "surname",
          "comparison_sort_order": 1,
          "comparison_vector_value": 0,
          "estimate_description": "estimate m from pairwise labels",
          "estimated_probability": 0.29558823529411765,
          "estimated_probability_as_log_odds": -1.2528301545572516,
          "m_or_u": "m",
          "sql_condition": "ELSE"
         },
         {
          "comparison_level_label": "All other comparisons",
          "comparison_name": "surname",
          "comparison_sort_order": 1,
          "comparison_vector_value": 0,
          "estimate_description": "EM, blocked on: l.first_name = r.first_name",
          "estimated_probability": 0.12617680224178218,
          "estimated_probability_as_log_odds": -2.791894712667057,
          "m_or_u": "m",
          "sql_condition": "ELSE"
         },
         {
          "comparison_level_label": "Exact match",
          "comparison_name": "dob",
          "comparison_sort_order": 2,
          "comparison_vector_value": 5,
          "estimate_description": "estimate u by random sampling",
          "estimated_probability": 0.0017477477477477479,
          "estimated_probability_as_log_odds": -9.157763635801777,
          "m_or_u": "u",
          "sql_condition": "\"dob_l\" = \"dob_r\""
         },
         {
          "comparison_level_label": "Exact match",
          "comparison_name": "dob",
          "comparison_sort_order": 2,
          "comparison_vector_value": 5,
          "estimate_description": "estimate m from pairwise labels",
          "estimated_probability": 0.42146725750861647,
          "estimated_probability_as_log_odds": -0.4569780550512149,
          "m_or_u": "m",
          "sql_condition": "\"dob_l\" = \"dob_r\""
         },
         {
          "comparison_level_label": "Exact match",
          "comparison_name": "dob",
          "comparison_sort_order": 2,
          "comparison_vector_value": 5,
          "estimate_description": "EM, blocked on: l.first_name = r.first_name",
          "estimated_probability": 0.375593304305706,
          "estimated_probability_as_log_odds": -0.7333146635111734,
          "m_or_u": "m",
          "sql_condition": "\"dob_l\" = \"dob_r\""
         },
         {
          "comparison_level_label": "Levenshtein <= 1",
          "comparison_name": "dob",
          "comparison_sort_order": 2,
          "comparison_vector_value": 4,
          "estimate_description": "estimate u by random sampling",
          "estimated_probability": 0.0016016016016016017,
          "estimated_probability_as_log_odds": -9.283956487665113,
          "m_or_u": "u",
          "sql_condition": "levenshtein(\"dob_l\", \"dob_r\") <= 1"
         },
         {
          "comparison_level_label": "Levenshtein <= 1",
          "comparison_name": "dob",
          "comparison_sort_order": 2,
          "comparison_vector_value": 4,
          "estimate_description": "estimate m from pairwise labels",
          "estimated_probability": 0.08862629246676514,
          "estimated_probability_as_log_odds": -3.3622360835408993,
          "m_or_u": "m",
          "sql_condition": "levenshtein(\"dob_l\", \"dob_r\") <= 1"
         },
         {
          "comparison_level_label": "Levenshtein <= 1",
          "comparison_name": "dob",
          "comparison_sort_order": 2,
          "comparison_vector_value": 4,
          "estimate_description": "EM, blocked on: l.first_name = r.first_name",
          "estimated_probability": 0.12235293698130785,
          "estimated_probability_as_log_odds": -2.842592158476489,
          "m_or_u": "m",
          "sql_condition": "levenshtein(\"dob_l\", \"dob_r\") <= 1"
         },
         {
          "comparison_level_label": "Levenshtein <= 2",
          "comparison_name": "dob",
          "comparison_sort_order": 2,
          "comparison_vector_value": 3,
          "estimate_description": "estimate u by random sampling",
          "estimated_probability": 0.015517517517517518,
          "estimated_probability_as_log_odds": -5.987395855901018,
          "m_or_u": "u",
          "sql_condition": "levenshtein(\"dob_l\", \"dob_r\") <= 2"
         },
         {
          "comparison_level_label": "Levenshtein <= 2",
          "comparison_name": "dob",
          "comparison_sort_order": 2,
          "comparison_vector_value": 3,
          "estimate_description": "estimate m from pairwise labels",
          "estimated_probability": 0.19940915805022155,
          "estimated_probability_as_log_odds": -2.005333444303041,
          "m_or_u": "m",
          "sql_condition": "levenshtein(\"dob_l\", \"dob_r\") <= 2"
         },
         {
          "comparison_level_label": "Levenshtein <= 2",
          "comparison_name": "dob",
          "comparison_sort_order": 2,
          "comparison_vector_value": 3,
          "estimate_description": "EM, blocked on: l.first_name = r.first_name",
          "estimated_probability": 0.18477996093391832,
          "estimated_probability_as_log_odds": -2.141381207614502,
          "m_or_u": "m",
          "sql_condition": "levenshtein(\"dob_l\", \"dob_r\") <= 2"
         },
         {
          "comparison_level_label": "Within 1 year",
          "comparison_name": "dob",
          "comparison_sort_order": 2,
          "comparison_vector_value": 2,
          "estimate_description": "estimate u by random sampling",
          "estimated_probability": 0.047965965965965966,
          "estimated_probability_as_log_odds": -4.310930132805938,
          "m_or_u": "u",
          "sql_condition": "\n            abs(date_diff('year',strptime(\"dob_l\",\n              '%Y-%m-%d'),strptime(\"dob_r\",\n              '%Y-%m-%d'))) <= 1\n        "
         },
         {
          "comparison_level_label": "Within 1 year",
          "comparison_name": "dob",
          "comparison_sort_order": 2,
          "comparison_vector_value": 2,
          "estimate_description": "estimate m from pairwise labels",
          "estimated_probability": 0.1358936484490399,
          "estimated_probability_as_log_odds": -2.668730858413754,
          "m_or_u": "m",
          "sql_condition": "\n            abs(date_diff('year',strptime(\"dob_l\",\n              '%Y-%m-%d'),strptime(\"dob_r\",\n              '%Y-%m-%d'))) <= 1\n        "
         },
         {
          "comparison_level_label": "Within 1 year",
          "comparison_name": "dob",
          "comparison_sort_order": 2,
          "comparison_vector_value": 2,
          "estimate_description": "EM, blocked on: l.first_name = r.first_name",
          "estimated_probability": 0.1252365261637197,
          "estimated_probability_as_log_odds": -2.8042375848527823,
          "m_or_u": "m",
          "sql_condition": "\n            abs(date_diff('year',strptime(\"dob_l\",\n              '%Y-%m-%d'),strptime(\"dob_r\",\n              '%Y-%m-%d'))) <= 1\n        "
         },
         {
          "comparison_level_label": "Within 10 years",
          "comparison_name": "dob",
          "comparison_sort_order": 2,
          "comparison_vector_value": 1,
          "estimate_description": "estimate u by random sampling",
          "estimated_probability": 0.2956236236236236,
          "estimated_probability_as_log_odds": -1.2525849628548211,
          "m_or_u": "u",
          "sql_condition": "\n            abs(date_diff('year',strptime(\"dob_l\",\n              '%Y-%m-%d'),strptime(\"dob_r\",\n              '%Y-%m-%d'))) <= 10\n        "
         },
         {
          "comparison_level_label": "Within 10 years",
          "comparison_name": "dob",
          "comparison_sort_order": 2,
          "comparison_vector_value": 1,
          "estimate_description": "estimate m from pairwise labels",
          "estimated_probability": 0.15115706548498276,
          "estimated_probability_as_log_odds": -2.489449213718919,
          "m_or_u": "m",
          "sql_condition": "\n            abs(date_diff('year',strptime(\"dob_l\",\n              '%Y-%m-%d'),strptime(\"dob_r\",\n              '%Y-%m-%d'))) <= 10\n        "
         },
         {
          "comparison_level_label": "Within 10 years",
          "comparison_name": "dob",
          "comparison_sort_order": 2,
          "comparison_vector_value": 1,
          "estimate_description": "EM, blocked on: l.first_name = r.first_name",
          "estimated_probability": 0.17442071733457126,
          "estimated_probability_as_log_odds": -2.2428353571461432,
          "m_or_u": "m",
          "sql_condition": "\n            abs(date_diff('year',strptime(\"dob_l\",\n              '%Y-%m-%d'),strptime(\"dob_r\",\n              '%Y-%m-%d'))) <= 10\n        "
         },
         {
          "comparison_level_label": "All other comparisons",
          "comparison_name": "dob",
          "comparison_sort_order": 2,
          "comparison_vector_value": 0,
          "estimate_description": "estimate u by random sampling",
          "estimated_probability": 0.6375435435435436,
          "estimated_probability_as_log_odds": 0.8147161918510666,
          "m_or_u": "u",
          "sql_condition": "ELSE"
         },
         {
          "comparison_level_label": "All other comparisons",
          "comparison_name": "dob",
          "comparison_sort_order": 2,
          "comparison_vector_value": 0,
          "estimate_description": "estimate m from pairwise labels",
          "estimated_probability": 0.0034465780403741997,
          "estimated_probability_as_log_odds": -8.175638652636707,
          "m_or_u": "m",
          "sql_condition": "ELSE"
         },
         {
          "comparison_level_label": "All other comparisons",
          "comparison_name": "dob",
          "comparison_sort_order": 2,
          "comparison_vector_value": 0,
          "estimate_description": "EM, blocked on: l.first_name = r.first_name",
          "estimated_probability": 0.017616554280776894,
          "estimated_probability_as_log_odds": -5.8012825775899115,
          "m_or_u": "m",
          "sql_condition": "ELSE"
         },
         {
          "comparison_level_label": "Exact match",
          "comparison_name": "city",
          "comparison_sort_order": 3,
          "comparison_vector_value": 1,
          "estimate_description": "estimate u by random sampling",
          "estimated_probability": 0.0551475711801453,
          "estimated_probability_as_log_odds": -4.098719767635731,
          "m_or_u": "u",
          "sql_condition": "\"city_l\" = \"city_r\""
         },
         {
          "comparison_level_label": "Exact match",
          "comparison_name": "city",
          "comparison_sort_order": 3,
          "comparison_vector_value": 1,
          "estimate_description": "estimate m from pairwise labels",
          "estimated_probability": 0.5661492978566149,
          "estimated_probability_as_log_odds": 0.38398388881490503,
          "m_or_u": "m",
          "sql_condition": "\"city_l\" = \"city_r\""
         },
         {
          "comparison_level_label": "Exact match",
          "comparison_name": "city",
          "comparison_sort_order": 3,
          "comparison_vector_value": 1,
          "estimate_description": "EM, blocked on: l.first_name = r.first_name",
          "estimated_probability": 0.5453060399134321,
          "estimated_probability_as_log_odds": 0.2621702948964991,
          "m_or_u": "m",
          "sql_condition": "\"city_l\" = \"city_r\""
         },
         {
          "comparison_level_label": "All other comparisons",
          "comparison_name": "city",
          "comparison_sort_order": 3,
          "comparison_vector_value": 0,
          "estimate_description": "estimate u by random sampling",
          "estimated_probability": 0.9448524288198547,
          "estimated_probability_as_log_odds": 4.09871976763573,
          "m_or_u": "u",
          "sql_condition": "ELSE"
         },
         {
          "comparison_level_label": "All other comparisons",
          "comparison_name": "city",
          "comparison_sort_order": 3,
          "comparison_vector_value": 0,
          "estimate_description": "estimate m from pairwise labels",
          "estimated_probability": 0.43385070214338506,
          "estimated_probability_as_log_odds": -0.3839838888149049,
          "m_or_u": "m",
          "sql_condition": "ELSE"
         },
         {
          "comparison_level_label": "All other comparisons",
          "comparison_name": "city",
          "comparison_sort_order": 3,
          "comparison_vector_value": 0,
          "estimate_description": "EM, blocked on: l.first_name = r.first_name",
          "estimated_probability": 0.4546939600865679,
          "estimated_probability_as_log_odds": -0.2621702948964992,
          "m_or_u": "m",
          "sql_condition": "ELSE"
         },
         {
          "comparison_level_label": "Exact match",
          "comparison_name": "email",
          "comparison_sort_order": 4,
          "comparison_vector_value": 3,
          "estimate_description": "estimate u by random sampling",
          "estimated_probability": 0.0021938713143283602,
          "estimated_probability_as_log_odds": -8.829136816196753,
          "m_or_u": "u",
          "sql_condition": "\"email_l\" = \"email_r\""
         },
         {
          "comparison_level_label": "Exact match",
          "comparison_name": "email",
          "comparison_sort_order": 4,
          "comparison_vector_value": 3,
          "estimate_description": "estimate m from pairwise labels",
          "estimated_probability": 0.5340642129992169,
          "estimated_probability_as_log_odds": 0.1968820708288665,
          "m_or_u": "m",
          "sql_condition": "\"email_l\" = \"email_r\""
         },
         {
          "comparison_level_label": "Exact match",
          "comparison_name": "email",
          "comparison_sort_order": 4,
          "comparison_vector_value": 3,
          "estimate_description": "EM, blocked on: l.first_name = r.first_name",
          "estimated_probability": 0.5358043426788854,
          "estimated_probability_as_log_odds": 0.206973248295741,
          "m_or_u": "m",
          "sql_condition": "\"email_l\" = \"email_r\""
         },
         {
          "comparison_level_label": "Jaro_similarity >= 0.9",
          "comparison_name": "email",
          "comparison_sort_order": 4,
          "comparison_vector_value": 2,
          "estimate_description": "estimate u by random sampling",
          "estimated_probability": 0.0016598791762367064,
          "estimated_probability_as_log_odds": -9.232309364932636,
          "m_or_u": "u",
          "sql_condition": "jaro_similarity(\"email_l\", \"email_r\") >= 0.9"
         },
         {
          "comparison_level_label": "Jaro_similarity >= 0.9",
          "comparison_name": "email",
          "comparison_sort_order": 4,
          "comparison_vector_value": 2,
          "estimate_description": "estimate m from pairwise labels",
          "estimated_probability": 0.40407204385277995,
          "estimated_probability_as_log_odds": -0.5605253880802914,
          "m_or_u": "m",
          "sql_condition": "jaro_similarity(\"email_l\", \"email_r\") >= 0.9"
         },
         {
          "comparison_level_label": "Jaro_similarity >= 0.9",
          "comparison_name": "email",
          "comparison_sort_order": 4,
          "comparison_vector_value": 2,
          "estimate_description": "EM, blocked on: l.first_name = r.first_name",
          "estimated_probability": 0.34503539661166926,
          "estimated_probability_as_log_odds": -0.9246725672113055,
          "m_or_u": "m",
          "sql_condition": "jaro_similarity(\"email_l\", \"email_r\") >= 0.9"
         },
         {
          "comparison_level_label": "Jaro_similarity >= 0.7",
          "comparison_name": "email",
          "comparison_sort_order": 4,
          "comparison_vector_value": 1,
          "estimate_description": "estimate u by random sampling",
          "estimated_probability": 0.009602208025322807,
          "estimated_probability_as_log_odds": -6.688498096594423,
          "m_or_u": "u",
          "sql_condition": "jaro_similarity(\"email_l\", \"email_r\") >= 0.7"
         },
         {
          "comparison_level_label": "Jaro_similarity >= 0.7",
          "comparison_name": "email",
          "comparison_sort_order": 4,
          "comparison_vector_value": 1,
          "estimate_description": "estimate m from pairwise labels",
          "estimated_probability": 0.06186374314800313,
          "estimated_probability_as_log_odds": -3.9226314446116826,
          "m_or_u": "m",
          "sql_condition": "jaro_similarity(\"email_l\", \"email_r\") >= 0.7"
         },
         {
          "comparison_level_label": "Jaro_similarity >= 0.7",
          "comparison_name": "email",
          "comparison_sort_order": 4,
          "comparison_vector_value": 1,
          "estimate_description": "EM, blocked on: l.first_name = r.first_name",
          "estimated_probability": 0.11916026070912862,
          "estimated_probability_as_log_odds": -2.8859763727381975,
          "m_or_u": "m",
          "sql_condition": "jaro_similarity(\"email_l\", \"email_r\") >= 0.7"
         },
         {
          "comparison_level_label": "All other comparisons",
          "comparison_name": "email",
          "comparison_sort_order": 4,
          "comparison_vector_value": 0,
          "estimate_description": "estimate u by random sampling",
          "estimated_probability": 0.9865440414841121,
          "estimated_probability_as_log_odds": 6.196066389387477,
          "m_or_u": "u",
          "sql_condition": "ELSE"
         },
         {
          "comparison_level_label": "All other comparisons",
          "comparison_name": "email",
          "comparison_sort_order": 4,
          "comparison_vector_value": 0,
          "estimate_description": "estimate m from pairwise labels",
          "estimated_probability": "level not observed in training dataset",
          "estimated_probability_as_log_odds": null,
          "m_or_u": "m",
          "sql_condition": "ELSE"
         },
         {
          "comparison_level_label": "All other comparisons",
          "comparison_name": "email",
          "comparison_sort_order": 4,
          "comparison_vector_value": 0,
          "estimate_description": "EM, blocked on: l.first_name = r.first_name",
          "estimated_probability": 3.1672783034957227e-13,
          "estimated_probability_as_log_odds": -41.521821593377,
          "m_or_u": "m",
          "sql_condition": "ELSE"
         }
        ]
       },
       "encoding": {
        "color": {
         "field": "estimate_description",
         "type": "nominal"
        },
        "column": {
         "field": "m_or_u",
         "title": null,
         "type": "nominal"
        },
        "row": {
         "field": "comparison_name",
         "header": {
          "labelAlign": "left",
          "labelAnchor": "middle",
          "labelAngle": 0
         },
         "sort": {
          "field": "comparison_sort_order"
         },
         "title": null,
         "type": "nominal"
        },
        "shape": {
         "field": "estimate_description",
         "scale": {
          "range": [
           "circle",
           "square",
           "triangle",
           "diamond"
          ]
         },
         "type": "nominal"
        },
        "tooltip": [
         {
          "field": "comparison_name",
          "type": "nominal"
         },
         {
          "field": "estimate_description",
          "type": "nominal"
         },
         {
          "field": "estimated_probability",
          "type": "quantitative"
         }
        ],
        "x": {
         "field": "estimated_probability_as_log_odds",
         "type": "quantitative"
        },
        "y": {
         "axis": {
          "grid": true,
          "title": null
         },
         "field": "comparison_level_label",
         "sort": {
          "field": "comparison_vector_value",
          "order": "descending"
         },
         "type": "nominal"
        }
       },
       "mark": {
        "filled": false,
        "opacity": 0.7,
        "size": 100,
        "type": "point"
       },
       "resolve": {
        "scale": {
         "y": "independent"
        }
       },
       "selection": {
        "selection_zoom": {
         "bind": "scales",
         "encodings": [
          "x"
         ],
         "type": "interval"
        }
       },
       "title": {
        "subtitle": "Use mousewheeel to zoom",
        "text": "Comparison of parameter estimates across training sessions"
       }
      },
      "text/plain": [
       "<VegaLite 4 object>\n",
       "\n",
       "If you see this message, it means the renderer has not been properly enabled\n",
       "for the frontend that you are using. For more information, see\n",
       "https://altair-viz.github.io/user_guide/troubleshooting.html\n"
      ]
     },
     "execution_count": 9,
     "metadata": {},
     "output_type": "execute_result"
    }
   ],
   "source": [
    "linker.parameter_estimate_comparisons_chart()"
   ]
  },
  {
   "cell_type": "code",
   "execution_count": 10,
   "metadata": {},
   "outputs": [
    {
     "data": {
      "application/vnd.vegalite.v4+json": {
       "$schema": "https://vega.github.io/schema/vega-lite/v5.2.json",
       "config": {
        "header": {
         "title": null
        },
        "mark": {
         "tooltip": null
        },
        "title": {
         "anchor": "middle"
        },
        "view": {
         "height": 60,
         "width": 400
        }
       },
       "data": {
        "values": [
         {
          "bayes_factor": 0.0033430420247643373,
          "bayes_factor_description": "The probability that two random records drawn at random match is 0.003 or one in  300.1 records.This is equivalent to a starting match weight of -8.225.",
          "comparison_name": "probability_two_random_records_match",
          "comparison_sort_order": -1,
          "comparison_vector_value": 0,
          "has_tf_adjustments": false,
          "is_null_level": false,
          "label_for_charts": "",
          "log2_bayes_factor": -8.224622793739668,
          "m_probability": null,
          "m_probability_description": null,
          "max_comparison_vector_value": 0,
          "probability_two_random_records_match": 0.0033319033319033323,
          "sql_condition": null,
          "tf_adjustment_column": null,
          "tf_adjustment_weight": null,
          "u_probability": null,
          "u_probability_description": null
         },
         {
          "bayes_factor": 85.50854463805632,
          "bayes_factor_description": "If comparison level is `exact match first_name` then comparison is 85.51 times more likely to be a match",
          "comparison_name": "first_name",
          "comparison_sort_order": 0,
          "comparison_vector_value": 3,
          "has_tf_adjustments": false,
          "is_null_level": false,
          "label_for_charts": "Exact match first_name",
          "log2_bayes_factor": 6.417996686710603,
          "m_probability": 0.4953998584571833,
          "m_probability_description": "Amongst matching record comparisons, 49.54% of records are in the exact match first_name comparison level",
          "max_comparison_vector_value": 3,
          "probability_two_random_records_match": 0.0033319033319033323,
          "sql_condition": "\"first_name_l\" = \"first_name_r\"",
          "tf_adjustment_column": null,
          "tf_adjustment_weight": 1,
          "u_probability": 0.0057935713975033705,
          "u_probability_description": "Amongst non-matching record comparisons, 0.58% of records are in the exact match first_name comparison level"
         },
         {
          "bayes_factor": 68.35979130951884,
          "bayes_factor_description": "If comparison level is `jaro_winkler_similarity >= 0.95` then comparison is 68.36 times more likely to be a match",
          "comparison_name": "first_name",
          "comparison_sort_order": 0,
          "comparison_vector_value": 2,
          "has_tf_adjustments": false,
          "is_null_level": false,
          "label_for_charts": "Jaro_winkler_similarity >= 0.95",
          "log2_bayes_factor": 6.095076087612623,
          "m_probability": 0.09058740268931352,
          "m_probability_description": "Amongst matching record comparisons, 9.06% of records are in the jaro_winkler_similarity >= 0.95 comparison level",
          "max_comparison_vector_value": 3,
          "probability_two_random_records_match": 0.0033319033319033323,
          "sql_condition": "jaro_winkler_similarity(\"first_name_l\", \"first_name_r\") >= 0.95",
          "tf_adjustment_column": null,
          "tf_adjustment_weight": 1,
          "u_probability": 0.0013251562205500703,
          "u_probability_description": "Amongst non-matching record comparisons, 0.13% of records are in the jaro_winkler_similarity >= 0.95 comparison level"
         },
         {
          "bayes_factor": 49.9162858205285,
          "bayes_factor_description": "If comparison level is `jaro_winkler_similarity >= 0.88` then comparison is 49.92 times more likely to be a match",
          "comparison_name": "first_name",
          "comparison_sort_order": 0,
          "comparison_vector_value": 1,
          "has_tf_adjustments": false,
          "is_null_level": false,
          "label_for_charts": "Jaro_winkler_similarity >= 0.88",
          "log2_bayes_factor": 5.641438684783537,
          "m_probability": 0.12809624911535739,
          "m_probability_description": "Amongst matching record comparisons, 12.81% of records are in the jaro_winkler_similarity >= 0.88 comparison level",
          "max_comparison_vector_value": 3,
          "probability_two_random_records_match": 0.0033319033319033323,
          "sql_condition": "jaro_winkler_similarity(\"first_name_l\", \"first_name_r\") >= 0.88",
          "tf_adjustment_column": null,
          "tf_adjustment_weight": 1,
          "u_probability": 0.002566221564960202,
          "u_probability_description": "Amongst non-matching record comparisons, 0.26% of records are in the jaro_winkler_similarity >= 0.88 comparison level"
         },
         {
          "bayes_factor": 0.28871265715114747,
          "bayes_factor_description": "If comparison level is `all other comparisons` then comparison is  3.46 times less likely to be a match",
          "comparison_name": "first_name",
          "comparison_sort_order": 0,
          "comparison_vector_value": 0,
          "has_tf_adjustments": false,
          "is_null_level": false,
          "label_for_charts": "All other comparisons",
          "log2_bayes_factor": -1.7922937382351212,
          "m_probability": 0.28591648973814576,
          "m_probability_description": "Amongst matching record comparisons, 28.59% of records are in the all other comparisons comparison level",
          "max_comparison_vector_value": 3,
          "probability_two_random_records_match": 0.0033319033319033323,
          "sql_condition": "ELSE",
          "tf_adjustment_column": null,
          "tf_adjustment_weight": 1,
          "u_probability": 0.9903150508169863,
          "u_probability_description": "Amongst non-matching record comparisons, 99.03% of records are in the all other comparisons comparison level"
         },
         {
          "bayes_factor": 108.20310708276733,
          "bayes_factor_description": "If comparison level is `exact match surname` then comparison is 108.20 times more likely to be a match",
          "comparison_name": "surname",
          "comparison_sort_order": 1,
          "comparison_vector_value": 3,
          "has_tf_adjustments": false,
          "is_null_level": false,
          "label_for_charts": "Exact match surname",
          "log2_bayes_factor": 6.757598116929659,
          "m_probability": 0.5291105480819919,
          "m_probability_description": "Amongst matching record comparisons, 52.91% of records are in the exact match surname comparison level",
          "max_comparison_vector_value": 3,
          "probability_two_random_records_match": 0.0033319033319033323,
          "sql_condition": "\"surname_l\" = \"surname_r\"",
          "tf_adjustment_column": null,
          "tf_adjustment_weight": 1,
          "u_probability": 0.004889975550122249,
          "u_probability_description": "Amongst non-matching record comparisons, 0.49% of records are in the exact match surname comparison level"
         },
         {
          "bayes_factor": 85.13228069681907,
          "bayes_factor_description": "If comparison level is `jaro_winkler_similarity >= 0.95` then comparison is 85.13 times more likely to be a match",
          "comparison_name": "surname",
          "comparison_sort_order": 1,
          "comparison_vector_value": 2,
          "has_tf_adjustments": false,
          "is_null_level": false,
          "label_for_charts": "Jaro_winkler_similarity >= 0.95",
          "log2_bayes_factor": 6.411634375689338,
          "m_probability": 0.15045574145975887,
          "m_probability_description": "Amongst matching record comparisons, 15.05% of records are in the jaro_winkler_similarity >= 0.95 comparison level",
          "max_comparison_vector_value": 3,
          "probability_two_random_records_match": 0.0033319033319033323,
          "sql_condition": "jaro_winkler_similarity(\"surname_l\", \"surname_r\") >= 0.95",
          "tf_adjustment_column": null,
          "tf_adjustment_weight": 1,
          "u_probability": 0.0017673171707401536,
          "u_probability_description": "Amongst non-matching record comparisons, 0.18% of records are in the jaro_winkler_similarity >= 0.95 comparison level"
         },
         {
          "bayes_factor": 49.72421711611286,
          "bayes_factor_description": "If comparison level is `jaro_winkler_similarity >= 0.88` then comparison is 49.72 times more likely to be a match",
          "comparison_name": "surname",
          "comparison_sort_order": 1,
          "comparison_vector_value": 1,
          "has_tf_adjustments": false,
          "is_null_level": false,
          "label_for_charts": "Jaro_winkler_similarity >= 0.88",
          "log2_bayes_factor": 5.635876751585538,
          "m_probability": 0.10955119169029942,
          "m_probability_description": "Amongst matching record comparisons, 10.96% of records are in the jaro_winkler_similarity >= 0.88 comparison level",
          "max_comparison_vector_value": 3,
          "probability_two_random_records_match": 0.0033319033319033323,
          "sql_condition": "jaro_winkler_similarity(\"surname_l\", \"surname_r\") >= 0.88",
          "tf_adjustment_column": null,
          "tf_adjustment_weight": 1,
          "u_probability": 0.0022031757973078265,
          "u_probability_description": "Amongst non-matching record comparisons, 0.22% of records are in the jaro_winkler_similarity >= 0.88 comparison level"
         },
         {
          "bayes_factor": 0.21276774063553328,
          "bayes_factor_description": "If comparison level is `all other comparisons` then comparison is  4.70 times less likely to be a match",
          "comparison_name": "surname",
          "comparison_sort_order": 1,
          "comparison_vector_value": 0,
          "has_tf_adjustments": false,
          "is_null_level": false,
          "label_for_charts": "All other comparisons",
          "log2_bayes_factor": -2.232648665632551,
          "m_probability": 0.21088251876794992,
          "m_probability_description": "Amongst matching record comparisons, 21.09% of records are in the all other comparisons comparison level",
          "max_comparison_vector_value": 3,
          "probability_two_random_records_match": 0.0033319033319033323,
          "sql_condition": "ELSE",
          "tf_adjustment_column": null,
          "tf_adjustment_weight": 1,
          "u_probability": 0.9911395314818298,
          "u_probability_description": "Amongst non-matching record comparisons, 99.11% of records are in the all other comparisons comparison level"
         },
         {
          "bayes_factor": 228.02505763244793,
          "bayes_factor_description": "If comparison level is `exact match` then comparison is 228.03 times more likely to be a match",
          "comparison_name": "dob",
          "comparison_sort_order": 2,
          "comparison_vector_value": 5,
          "has_tf_adjustments": false,
          "is_null_level": false,
          "label_for_charts": "Exact match",
          "log2_bayes_factor": 7.833048560373992,
          "m_probability": 0.39853028090716125,
          "m_probability_description": "Amongst matching record comparisons, 39.85% of records are in the exact match comparison level",
          "max_comparison_vector_value": 5,
          "probability_two_random_records_match": 0.0033319033319033323,
          "sql_condition": "\"dob_l\" = \"dob_r\"",
          "tf_adjustment_column": null,
          "tf_adjustment_weight": 1,
          "u_probability": 0.0017477477477477479,
          "u_probability_description": "Amongst non-matching record comparisons, 0.17% of records are in the exact match comparison level"
         },
         {
          "bayes_factor": 65.86507819332029,
          "bayes_factor_description": "If comparison level is `levenshtein <= 1` then comparison is 65.87 times more likely to be a match",
          "comparison_name": "dob",
          "comparison_sort_order": 2,
          "comparison_vector_value": 4,
          "has_tf_adjustments": false,
          "is_null_level": false,
          "label_for_charts": "Levenshtein <= 1",
          "log2_bayes_factor": 6.041441842804294,
          "m_probability": 0.10548961472403649,
          "m_probability_description": "Amongst matching record comparisons, 10.55% of records are in the levenshtein <= 1 comparison level",
          "max_comparison_vector_value": 5,
          "probability_two_random_records_match": 0.0033319033319033323,
          "sql_condition": "levenshtein(\"dob_l\", \"dob_r\") <= 1",
          "tf_adjustment_column": null,
          "tf_adjustment_weight": 1,
          "u_probability": 0.0016016016016016017,
          "u_probability_description": "Amongst non-matching record comparisons, 0.16% of records are in the levenshtein <= 1 comparison level"
         },
         {
          "bayes_factor": 12.379206872182806,
          "bayes_factor_description": "If comparison level is `levenshtein <= 2` then comparison is 12.38 times more likely to be a match",
          "comparison_name": "dob",
          "comparison_sort_order": 2,
          "comparison_vector_value": 3,
          "has_tf_adjustments": false,
          "is_null_level": false,
          "label_for_charts": "Levenshtein <= 2",
          "log2_bayes_factor": 3.6298469798576916,
          "m_probability": 0.19209455949206994,
          "m_probability_description": "Amongst matching record comparisons, 19.21% of records are in the levenshtein <= 2 comparison level",
          "max_comparison_vector_value": 5,
          "probability_two_random_records_match": 0.0033319033319033323,
          "sql_condition": "levenshtein(\"dob_l\", \"dob_r\") <= 2",
          "tf_adjustment_column": null,
          "tf_adjustment_weight": 1,
          "u_probability": 0.015517517517517518,
          "u_probability_description": "Amongst non-matching record comparisons, 1.55% of records are in the levenshtein <= 2 comparison level"
         },
         {
          "bayes_factor": 2.7220360244391126,
          "bayes_factor_description": "If comparison level is `within 1 year` then comparison is 2.72 times more likely to be a match",
          "comparison_name": "dob",
          "comparison_sort_order": 2,
          "comparison_vector_value": 2,
          "has_tf_adjustments": false,
          "is_null_level": false,
          "label_for_charts": "Within 1 year",
          "log2_bayes_factor": 1.4446861601320424,
          "m_probability": 0.13056508730637978,
          "m_probability_description": "Amongst matching record comparisons, 13.06% of records are in the within 1 year comparison level",
          "max_comparison_vector_value": 5,
          "probability_two_random_records_match": 0.0033319033319033323,
          "sql_condition": "\n            abs(date_diff('year',strptime(\"dob_l\",\n              '%Y-%m-%d'),strptime(\"dob_r\",\n              '%Y-%m-%d'))) <= 1\n        ",
          "tf_adjustment_column": null,
          "tf_adjustment_weight": 1,
          "u_probability": 0.047965965965965966,
          "u_probability_description": "Amongst non-matching record comparisons, 4.80% of records are in the within 1 year comparison level"
         },
         {
          "bayes_factor": 0.5506626615775249,
          "bayes_factor_description": "If comparison level is `within 10 years` then comparison is  1.82 times less likely to be a match",
          "comparison_name": "dob",
          "comparison_sort_order": 2,
          "comparison_vector_value": 1,
          "has_tf_adjustments": false,
          "is_null_level": false,
          "label_for_charts": "Within 10 years",
          "log2_bayes_factor": -0.8607593069600253,
          "m_probability": 0.162788891409777,
          "m_probability_description": "Amongst matching record comparisons, 16.28% of records are in the within 10 years comparison level",
          "max_comparison_vector_value": 5,
          "probability_two_random_records_match": 0.0033319033319033323,
          "sql_condition": "\n            abs(date_diff('year',strptime(\"dob_l\",\n              '%Y-%m-%d'),strptime(\"dob_r\",\n              '%Y-%m-%d'))) <= 10\n        ",
          "tf_adjustment_column": null,
          "tf_adjustment_weight": 1,
          "u_probability": 0.2956236236236236,
          "u_probability_description": "Amongst non-matching record comparisons, 29.56% of records are in the within 10 years comparison level"
         },
         {
          "bayes_factor": 0.0165189754758394,
          "bayes_factor_description": "If comparison level is `all other comparisons` then comparison is  60.54 times less likely to be a match",
          "comparison_name": "dob",
          "comparison_sort_order": 2,
          "comparison_vector_value": 0,
          "has_tf_adjustments": false,
          "is_null_level": false,
          "label_for_charts": "All other comparisons",
          "log2_bayes_factor": -5.919731977700219,
          "m_probability": 0.010531566160575547,
          "m_probability_description": "Amongst matching record comparisons, 1.05% of records are in the all other comparisons comparison level",
          "max_comparison_vector_value": 5,
          "probability_two_random_records_match": 0.0033319033319033323,
          "sql_condition": "ELSE",
          "tf_adjustment_column": null,
          "tf_adjustment_weight": 1,
          "u_probability": 0.6375435435435436,
          "u_probability_description": "Amongst non-matching record comparisons, 63.75% of records are in the all other comparisons comparison level"
         },
         {
          "bayes_factor": 10.077101438786507,
          "bayes_factor_description": "If comparison level is `exact match` then comparison is 10.08 times more likely to be a match",
          "comparison_name": "city",
          "comparison_sort_order": 3,
          "comparison_vector_value": 1,
          "has_tf_adjustments": true,
          "is_null_level": false,
          "label_for_charts": "Exact match",
          "log2_bayes_factor": 3.333008818919118,
          "m_probability": 0.5557276688850235,
          "m_probability_description": "Amongst matching record comparisons, 55.57% of records are in the exact match comparison level",
          "max_comparison_vector_value": 1,
          "probability_two_random_records_match": 0.0033319033319033323,
          "sql_condition": "\"city_l\" = \"city_r\"",
          "tf_adjustment_column": "city",
          "tf_adjustment_weight": 1,
          "u_probability": 0.0551475711801453,
          "u_probability_description": "Amongst non-matching record comparisons, 5.51% of records are in the exact match comparison level"
         },
         {
          "bayes_factor": 0.47020287778683517,
          "bayes_factor_description": "If comparison level is `all other comparisons` then comparison is  2.13 times less likely to be a match",
          "comparison_name": "city",
          "comparison_sort_order": 3,
          "comparison_vector_value": 0,
          "has_tf_adjustments": false,
          "is_null_level": false,
          "label_for_charts": "All other comparisons",
          "log2_bayes_factor": -1.088644726130178,
          "m_probability": 0.4442723311149765,
          "m_probability_description": "Amongst matching record comparisons, 44.43% of records are in the all other comparisons comparison level",
          "max_comparison_vector_value": 1,
          "probability_two_random_records_match": 0.0033319033319033323,
          "sql_condition": "ELSE",
          "tf_adjustment_column": null,
          "tf_adjustment_weight": 1,
          "u_probability": 0.9448524288198547,
          "u_probability_description": "Amongst non-matching record comparisons, 94.49% of records are in the all other comparisons comparison level"
         },
         {
          "bayes_factor": 243.831201194596,
          "bayes_factor_description": "If comparison level is `exact match` then comparison is 243.83 times more likely to be a match",
          "comparison_name": "email",
          "comparison_sort_order": 4,
          "comparison_vector_value": 3,
          "has_tf_adjustments": false,
          "is_null_level": false,
          "label_for_charts": "Exact match",
          "log2_bayes_factor": 7.929738938081315,
          "m_probability": 0.5349342778390511,
          "m_probability_description": "Amongst matching record comparisons, 53.49% of records are in the exact match comparison level",
          "max_comparison_vector_value": 3,
          "probability_two_random_records_match": 0.0033319033319033323,
          "sql_condition": "\"email_l\" = \"email_r\"",
          "tf_adjustment_column": null,
          "tf_adjustment_weight": 1,
          "u_probability": 0.0021938713143283602,
          "u_probability_description": "Amongst non-matching record comparisons, 0.22% of records are in the exact match comparison level"
         },
         {
          "bayes_factor": 225.65119533664873,
          "bayes_factor_description": "If comparison level is `jaro_similarity >= 0.9` then comparison is 225.65 times more likely to be a match",
          "comparison_name": "email",
          "comparison_sort_order": 4,
          "comparison_vector_value": 2,
          "has_tf_adjustments": false,
          "is_null_level": false,
          "label_for_charts": "Jaro_similarity >= 0.9",
          "log2_bayes_factor": 7.817950610699101,
          "m_probability": 0.3745537202322246,
          "m_probability_description": "Amongst matching record comparisons, 37.46% of records are in the jaro_similarity >= 0.9 comparison level",
          "max_comparison_vector_value": 3,
          "probability_two_random_records_match": 0.0033319033319033323,
          "sql_condition": "jaro_similarity(\"email_l\", \"email_r\") >= 0.9",
          "tf_adjustment_column": null,
          "tf_adjustment_weight": 1,
          "u_probability": 0.0016598791762367064,
          "u_probability_description": "Amongst non-matching record comparisons, 0.17% of records are in the jaro_similarity >= 0.9 comparison level"
         },
         {
          "bayes_factor": 9.426165491298345,
          "bayes_factor_description": "If comparison level is `jaro_similarity >= 0.7` then comparison is 9.43 times more likely to be a match",
          "comparison_name": "email",
          "comparison_sort_order": 4,
          "comparison_vector_value": 1,
          "has_tf_adjustments": false,
          "is_null_level": false,
          "label_for_charts": "Jaro_similarity >= 0.7",
          "log2_bayes_factor": 3.2366710103771963,
          "m_probability": 0.09051200192856587,
          "m_probability_description": "Amongst matching record comparisons, 9.05% of records are in the jaro_similarity >= 0.7 comparison level",
          "max_comparison_vector_value": 3,
          "probability_two_random_records_match": 0.0033319033319033323,
          "sql_condition": "jaro_similarity(\"email_l\", \"email_r\") >= 0.7",
          "tf_adjustment_column": null,
          "tf_adjustment_weight": 1,
          "u_probability": 0.009602208025322807,
          "u_probability_description": "Amongst non-matching record comparisons, 0.96% of records are in the jaro_similarity >= 0.7 comparison level"
         },
         {
          "bayes_factor": 3.210478367221207e-13,
          "bayes_factor_description": "If comparison level is `all other comparisons` then comparison is  3,114,800,617,284.77 times less likely to be a match",
          "comparison_name": "email",
          "comparison_sort_order": 4,
          "comparison_vector_value": 0,
          "has_tf_adjustments": false,
          "is_null_level": false,
          "label_for_charts": "All other comparisons",
          "log2_bayes_factor": -41.50227695593913,
          "m_probability": 3.1672783034957227e-13,
          "m_probability_description": "Amongst matching record comparisons, 0.00% of records are in the all other comparisons comparison level",
          "max_comparison_vector_value": 3,
          "probability_two_random_records_match": 0.0033319033319033323,
          "sql_condition": "ELSE",
          "tf_adjustment_column": null,
          "tf_adjustment_weight": 1,
          "u_probability": 0.9865440414841121,
          "u_probability_description": "Amongst non-matching record comparisons, 98.65% of records are in the all other comparisons comparison level"
         }
        ]
       },
       "resolve": {
        "axis": {
         "y": "independent"
        },
        "scale": {
         "y": "independent"
        }
       },
       "selection": {
        "zoom_selector": {
         "bind": "scales",
         "encodings": [
          "x"
         ],
         "type": "interval"
        }
       },
       "title": {
        "subtitle": "Use mousewheel to zoom",
        "text": "Model parameters (components of final match weight)"
       },
       "vconcat": [
        {
         "encoding": {
          "color": {
           "field": "log2_bayes_factor",
           "scale": {
            "domain": [
             -10,
             0,
             10
            ],
            "range": [
             "red",
             "orange",
             "green"
            ]
           },
           "title": "Match weight",
           "type": "quantitative"
          },
          "tooltip": [
           {
            "field": "comparison_name",
            "title": "Comparison name",
            "type": "nominal"
           },
           {
            "field": "probability_two_random_records_match",
            "format": ".4f",
            "title": "Probability two random records match",
            "type": "nominal"
           },
           {
            "field": "log2_bayes_factor",
            "format": ",.4f",
            "title": "Equivalent match weight",
            "type": "quantitative"
           },
           {
            "field": "bayes_factor_description",
            "title": "Match weight description",
            "type": "nominal"
           }
          ],
          "x": {
           "axis": {
            "domain": false,
            "labels": false,
            "ticks": false,
            "title": ""
           },
           "field": "log2_bayes_factor",
           "scale": {
            "domain": [
             -10,
             10
            ]
           },
           "type": "quantitative"
          },
          "y": {
           "axis": {
            "title": "Prior (starting) match weight",
            "titleAlign": "right",
            "titleAngle": 0,
            "titleFontWeight": "normal"
           },
           "field": "label_for_charts",
           "sort": {
            "field": "comparison_vector_value",
            "order": "descending"
           },
           "type": "nominal"
          }
         },
         "height": 20,
         "mark": {
          "clip": true,
          "height": 15,
          "type": "bar"
         },
         "selection": {
          "zoom_selector": {
           "bind": "scales",
           "encodings": [
            "x"
           ],
           "type": "interval"
          }
         },
         "transform": [
          {
           "filter": "(datum.comparison_name == 'probability_two_random_records_match')"
          }
         ]
        },
        {
         "encoding": {
          "color": {
           "field": "log2_bayes_factor",
           "scale": {
            "domain": [
             -10,
             0,
             10
            ],
            "range": [
             "red",
             "orange",
             "green"
            ]
           },
           "title": "Match weight",
           "type": "quantitative"
          },
          "row": {
           "field": "comparison_name",
           "header": {
            "labelAlign": "left",
            "labelAnchor": "middle",
            "labelAngle": 0
           },
           "sort": {
            "field": "comparison_sort_order"
           },
           "type": "nominal"
          },
          "tooltip": [
           {
            "field": "comparison_name",
            "title": "Comparison name",
            "type": "nominal"
           },
           {
            "field": "label_for_charts",
            "title": "Label",
            "type": "ordinal"
           },
           {
            "field": "sql_condition",
            "title": "SQL condition",
            "type": "nominal"
           },
           {
            "field": "m_probability",
            "format": ".4f",
            "title": "M probability",
            "type": "quantitative"
           },
           {
            "field": "u_probability",
            "format": ".4f",
            "title": "U probability",
            "type": "quantitative"
           },
           {
            "field": "bayes_factor",
            "format": ",.4f",
            "title": "Bayes factor = m/u",
            "type": "quantitative"
           },
           {
            "field": "log2_bayes_factor",
            "format": ",.4f",
            "title": "Match weight = log2(m/u)",
            "type": "quantitative"
           },
           {
            "field": "bayes_factor_description",
            "title": "Match weight description",
            "type": "nominal"
           }
          ],
          "x": {
           "axis": {
            "title": "Comparison level match weight = log2(m/u)"
           },
           "field": "log2_bayes_factor",
           "scale": {
            "domain": [
             -10,
             10
            ]
           },
           "type": "quantitative"
          },
          "y": {
           "axis": {
            "title": null
           },
           "field": "label_for_charts",
           "sort": {
            "field": "comparison_vector_value",
            "order": "descending"
           },
           "type": "nominal"
          }
         },
         "height": {
          "step": 12
         },
         "mark": {
          "clip": true,
          "type": "bar"
         },
         "resolve": {
          "axis": {
           "y": "independent"
          },
          "scale": {
           "y": "independent"
          }
         },
         "selection": {
          "zoom_selector": {
           "bind": "scales",
           "encodings": [
            "x"
           ],
           "type": "interval"
          }
         },
         "transform": [
          {
           "filter": "(datum.comparison_name != 'probability_two_random_records_match')"
          }
         ]
        }
       ]
      },
      "text/plain": [
       "<VegaLite 4 object>\n",
       "\n",
       "If you see this message, it means the renderer has not been properly enabled\n",
       "for the frontend that you are using. For more information, see\n",
       "https://altair-viz.github.io/user_guide/troubleshooting.html\n"
      ]
     },
     "execution_count": 10,
     "metadata": {},
     "output_type": "execute_result"
    }
   ],
   "source": [
    "linker.match_weights_chart()"
   ]
  }
 ],
 "metadata": {
  "kernelspec": {
   "display_name": "splink_demos",
   "language": "python",
   "name": "splink_demos"
  },
  "language_info": {
   "codemirror_mode": {
    "name": "ipython",
    "version": 3
   },
   "file_extension": ".py",
   "mimetype": "text/x-python",
   "name": "python",
   "nbconvert_exporter": "python",
   "pygments_lexer": "ipython3",
   "version": "3.9.2"
  },
  "vscode": {
   "interpreter": {
    "hash": "3b53fa520a31e303a9636a08ff10a3bbc14893ee50cb37445791fa59628fc75b"
   }
  }
 },
 "nbformat": 4,
 "nbformat_minor": 4
}
